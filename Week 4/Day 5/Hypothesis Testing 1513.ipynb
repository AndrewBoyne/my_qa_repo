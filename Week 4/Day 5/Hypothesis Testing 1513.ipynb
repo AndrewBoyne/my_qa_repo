{
 "cells": [
  {
   "cell_type": "markdown",
   "id": "88d1b009",
   "metadata": {},
   "source": [
    "## Hypothesis Testing"
   ]
  },
  {
   "cell_type": "code",
   "execution_count": 1,
   "id": "809f0243",
   "metadata": {},
   "outputs": [],
   "source": [
    "import pandas as pd\n",
    "import numpy as np\n",
    "import seaborn as sns\n",
    "import matplotlib.pyplot as plt\n",
    "import scipy.stats as stats"
   ]
  },
  {
   "cell_type": "code",
   "execution_count": 6,
   "id": "714b0cf2",
   "metadata": {},
   "outputs": [],
   "source": [
    "df=pd.read_csv('investment_performance.csv')"
   ]
  },
  {
   "cell_type": "code",
   "execution_count": 8,
   "id": "db90060c",
   "metadata": {},
   "outputs": [
    {
     "data": {
      "text/html": [
       "<div>\n",
       "<style scoped>\n",
       "    .dataframe tbody tr th:only-of-type {\n",
       "        vertical-align: middle;\n",
       "    }\n",
       "\n",
       "    .dataframe tbody tr th {\n",
       "        vertical-align: top;\n",
       "    }\n",
       "\n",
       "    .dataframe thead th {\n",
       "        text-align: right;\n",
       "    }\n",
       "</style>\n",
       "<table border=\"1\" class=\"dataframe\">\n",
       "  <thead>\n",
       "    <tr style=\"text-align: right;\">\n",
       "      <th></th>\n",
       "      <th>Control Scores</th>\n",
       "      <th>Experimental Scores</th>\n",
       "    </tr>\n",
       "  </thead>\n",
       "  <tbody>\n",
       "    <tr>\n",
       "      <th>count</th>\n",
       "      <td>50.000000</td>\n",
       "      <td>50.000000</td>\n",
       "    </tr>\n",
       "    <tr>\n",
       "      <th>mean</th>\n",
       "      <td>78.087517</td>\n",
       "      <td>85.319055</td>\n",
       "    </tr>\n",
       "    <tr>\n",
       "      <th>std</th>\n",
       "      <td>9.571455</td>\n",
       "      <td>11.057700</td>\n",
       "    </tr>\n",
       "    <tr>\n",
       "      <th>min</th>\n",
       "      <td>61.135907</td>\n",
       "      <td>66.153945</td>\n",
       "    </tr>\n",
       "    <tr>\n",
       "      <th>25%</th>\n",
       "      <td>70.463365</td>\n",
       "      <td>76.292904</td>\n",
       "    </tr>\n",
       "    <tr>\n",
       "      <th>50%</th>\n",
       "      <td>77.386154</td>\n",
       "      <td>84.371715</td>\n",
       "    </tr>\n",
       "    <tr>\n",
       "      <th>75%</th>\n",
       "      <td>86.041261</td>\n",
       "      <td>93.784759</td>\n",
       "    </tr>\n",
       "    <tr>\n",
       "      <th>max</th>\n",
       "      <td>95.359162</td>\n",
       "      <td>110.625783</td>\n",
       "    </tr>\n",
       "  </tbody>\n",
       "</table>\n",
       "</div>"
      ],
      "text/plain": [
       "       Control Scores  Experimental Scores\n",
       "count       50.000000            50.000000\n",
       "mean        78.087517            85.319055\n",
       "std          9.571455            11.057700\n",
       "min         61.135907            66.153945\n",
       "25%         70.463365            76.292904\n",
       "50%         77.386154            84.371715\n",
       "75%         86.041261            93.784759\n",
       "max         95.359162           110.625783"
      ]
     },
     "execution_count": 8,
     "metadata": {},
     "output_type": "execute_result"
    }
   ],
   "source": [
    "df.describe()"
   ]
  },
  {
   "cell_type": "code",
   "execution_count": 12,
   "id": "5a0c0563",
   "metadata": {},
   "outputs": [
    {
     "data": {
      "text/plain": [
       "Ttest_indResult(statistic=-3.496431755693144, pvalue=0.0007101500664096605)"
      ]
     },
     "execution_count": 12,
     "metadata": {},
     "output_type": "execute_result"
    }
   ],
   "source": [
    "stats.ttest_ind(df['Control Scores'], df['Experimental Scores']) # 0.0007 is the prob that\n",
    "# the ttest is as it is.  Hence the prob is very low that the Null hypothesis is correct so there\n",
    "# is enough evidence to suggest the alternative that the new strategy has made a difference"
   ]
  },
  {
   "cell_type": "code",
   "execution_count": 13,
   "id": "00f7f800",
   "metadata": {},
   "outputs": [],
   "source": [
    "# the p value (0.0007) is less than half the significance level (0.025)"
   ]
  },
  {
   "cell_type": "code",
   "execution_count": null,
   "id": "aa8b413b",
   "metadata": {},
   "outputs": [],
   "source": []
  }
 ],
 "metadata": {
  "kernelspec": {
   "display_name": "Python 3 (ipykernel)",
   "language": "python",
   "name": "python3"
  },
  "language_info": {
   "codemirror_mode": {
    "name": "ipython",
    "version": 3
   },
   "file_extension": ".py",
   "mimetype": "text/x-python",
   "name": "python",
   "nbconvert_exporter": "python",
   "pygments_lexer": "ipython3",
   "version": "3.10.9"
  }
 },
 "nbformat": 4,
 "nbformat_minor": 5
}
