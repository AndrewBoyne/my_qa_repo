{
 "cells": [
  {
   "cell_type": "code",
   "execution_count": 1,
   "id": "280b488a",
   "metadata": {},
   "outputs": [],
   "source": [
    "import pandas as pd\n",
    "import numpy as np\n",
    "import seaborn as sns\n",
    "import matplotlib.pyplot as plt"
   ]
  },
  {
   "cell_type": "code",
   "execution_count": 2,
   "id": "fffcc797",
   "metadata": {},
   "outputs": [],
   "source": [
    "import math"
   ]
  },
  {
   "cell_type": "code",
   "execution_count": 4,
   "id": "c38f5754",
   "metadata": {},
   "outputs": [
    {
     "data": {
      "text/plain": [
       "1"
      ]
     },
     "execution_count": 4,
     "metadata": {},
     "output_type": "execute_result"
    }
   ],
   "source": [
    "math.comb(3,3)"
   ]
  },
  {
   "cell_type": "code",
   "execution_count": 5,
   "id": "37422b1f",
   "metadata": {},
   "outputs": [
    {
     "data": {
      "text/plain": [
       "15504"
      ]
     },
     "execution_count": 5,
     "metadata": {},
     "output_type": "execute_result"
    }
   ],
   "source": [
    "math.comb(20,5)  #How many ways are there to get 5/20?"
   ]
  },
  {
   "cell_type": "code",
   "execution_count": 6,
   "id": "1e272654",
   "metadata": {},
   "outputs": [
    {
     "data": {
      "text/plain": [
       "184756"
      ]
     },
     "execution_count": 6,
     "metadata": {},
     "output_type": "execute_result"
    }
   ],
   "source": [
    "math.comb(20,10)"
   ]
  },
  {
   "cell_type": "code",
   "execution_count": 8,
   "id": "427f9158",
   "metadata": {},
   "outputs": [],
   "source": [
    "from scipy.stats import binom # useful for calculating probability"
   ]
  },
  {
   "cell_type": "code",
   "execution_count": 10,
   "id": "61058dbb",
   "metadata": {},
   "outputs": [],
   "source": [
    "n=20 # No of questions\n",
    "p=0.25 #Prob of getting a question correct"
   ]
  },
  {
   "cell_type": "code",
   "execution_count": 11,
   "id": "bd5d934a",
   "metadata": {},
   "outputs": [],
   "source": [
    "binomial_dist=binom(n,p)"
   ]
  },
  {
   "cell_type": "code",
   "execution_count": 12,
   "id": "b7b5da6d",
   "metadata": {},
   "outputs": [
    {
     "data": {
      "text/plain": [
       "<scipy.stats._distn_infrastructure.rv_discrete_frozen at 0x1afcef4b9a0>"
      ]
     },
     "execution_count": 12,
     "metadata": {},
     "output_type": "execute_result"
    }
   ],
   "source": [
    "binomial_dist"
   ]
  },
  {
   "cell_type": "code",
   "execution_count": 19,
   "id": "795566fe",
   "metadata": {},
   "outputs": [
    {
     "data": {
      "text/plain": [
       "0.0099222752796777"
      ]
     },
     "execution_count": 19,
     "metadata": {},
     "output_type": "execute_result"
    }
   ],
   "source": [
    "#Prob of exact number of successes\n",
    "binomial_dist.pmf(10)"
   ]
  },
  {
   "cell_type": "code",
   "execution_count": 21,
   "id": "eb24f0ca",
   "metadata": {},
   "outputs": [
    {
     "data": {
      "text/plain": [
       "0.9960578583359165"
      ]
     },
     "execution_count": 21,
     "metadata": {},
     "output_type": "execute_result"
    }
   ],
   "source": [
    "#Prob of a number of successes or more extreme (smaller)\n",
    "binomial_dist.cdf(10)"
   ]
  },
  {
   "cell_type": "code",
   "execution_count": 24,
   "id": "dddc6314",
   "metadata": {},
   "outputs": [
    {
     "data": {
      "text/plain": [
       "0.01386441694376117"
      ]
     },
     "execution_count": 24,
     "metadata": {},
     "output_type": "execute_result"
    }
   ],
   "source": [
    "#so the prob of getting 10 or more is\n",
    "1-binomial_dist.cdf(9)"
   ]
  },
  {
   "cell_type": "code",
   "execution_count": null,
   "id": "ae771a86",
   "metadata": {},
   "outputs": [],
   "source": []
  }
 ],
 "metadata": {
  "kernelspec": {
   "display_name": "Python 3 (ipykernel)",
   "language": "python",
   "name": "python3"
  },
  "language_info": {
   "codemirror_mode": {
    "name": "ipython",
    "version": 3
   },
   "file_extension": ".py",
   "mimetype": "text/x-python",
   "name": "python",
   "nbconvert_exporter": "python",
   "pygments_lexer": "ipython3",
   "version": "3.10.9"
  }
 },
 "nbformat": 4,
 "nbformat_minor": 5
}
