{
 "cells": [
  {
   "cell_type": "code",
   "execution_count": 2,
   "id": "761cc5ce",
   "metadata": {},
   "outputs": [],
   "source": [
    "import numpy as np"
   ]
  },
  {
   "cell_type": "code",
   "execution_count": 3,
   "id": "ff0e23d7",
   "metadata": {},
   "outputs": [],
   "source": [
    "payments = np.array([6.99, 12.40, 75, 1.55, 1, 2, 3, 2, 1, 5])"
   ]
  },
  {
   "cell_type": "markdown",
   "id": "4e2194be",
   "metadata": {},
   "source": [
    "effectively the above is a list"
   ]
  },
  {
   "cell_type": "code",
   "execution_count": 6,
   "id": "40279816",
   "metadata": {},
   "outputs": [
    {
     "name": "stdout",
     "output_type": "stream",
     "text": [
      "[ 6.99 12.4  75.    1.55]\n"
     ]
    }
   ],
   "source": [
    "print(payments)"
   ]
  },
  {
   "cell_type": "code",
   "execution_count": 7,
   "id": "4d2dc8c1",
   "metadata": {},
   "outputs": [],
   "source": [
    "payments = np.array([6.99, 12.40, 75, 1.55, 1, 2, 3, 2, 1, 5])\n"
   ]
  },
  {
   "cell_type": "code",
   "execution_count": 8,
   "id": "2176a433",
   "metadata": {},
   "outputs": [
    {
     "name": "stdout",
     "output_type": "stream",
     "text": [
      "[ 6.99 12.4  75.    1.55  1.    2.    3.    2.    1.    5.  ]\n"
     ]
    }
   ],
   "source": [
    "print (payments)"
   ]
  },
  {
   "cell_type": "code",
   "execution_count": 9,
   "id": "6e6580ce",
   "metadata": {},
   "outputs": [],
   "source": [
    "arr = np.array([1,3,5,7,9])"
   ]
  },
  {
   "cell_type": "code",
   "execution_count": 10,
   "id": "53e56075",
   "metadata": {},
   "outputs": [
    {
     "name": "stdout",
     "output_type": "stream",
     "text": [
      "[1 3 5 7 9]\n"
     ]
    }
   ],
   "source": [
    "print(arr)"
   ]
  },
  {
   "cell_type": "code",
   "execution_count": 13,
   "id": "53fc5dfd",
   "metadata": {},
   "outputs": [],
   "source": [
    "arr2 = np.array([[1,3,5,7,], [2,4,6,8]])"
   ]
  },
  {
   "cell_type": "code",
   "execution_count": 14,
   "id": "eb101c9b",
   "metadata": {},
   "outputs": [
    {
     "name": "stdout",
     "output_type": "stream",
     "text": [
      "[[1 3 5 7]\n",
      " [2 4 6 8]]\n"
     ]
    }
   ],
   "source": [
    "print(arr2)"
   ]
  },
  {
   "cell_type": "code",
   "execution_count": 15,
   "id": "a1d36bdf",
   "metadata": {},
   "outputs": [
    {
     "data": {
      "text/plain": [
       "2"
      ]
     },
     "execution_count": 15,
     "metadata": {},
     "output_type": "execute_result"
    }
   ],
   "source": [
    "arr2.ndim"
   ]
  },
  {
   "cell_type": "code",
   "execution_count": 16,
   "id": "d75de851",
   "metadata": {},
   "outputs": [
    {
     "data": {
      "text/plain": [
       "(2, 4)"
      ]
     },
     "execution_count": 16,
     "metadata": {},
     "output_type": "execute_result"
    }
   ],
   "source": [
    "arr2.shape"
   ]
  },
  {
   "cell_type": "markdown",
   "id": "cf8a96d7",
   "metadata": {},
   "source": [
    "shows number of rows and number of columns\n"
   ]
  },
  {
   "cell_type": "code",
   "execution_count": 17,
   "id": "1bb59d56",
   "metadata": {},
   "outputs": [
    {
     "data": {
      "text/plain": [
       "dtype('int32')"
      ]
     },
     "execution_count": 17,
     "metadata": {},
     "output_type": "execute_result"
    }
   ],
   "source": [
    "arr2.dtype\n"
   ]
  },
  {
   "cell_type": "markdown",
   "id": "144d4e2a",
   "metadata": {},
   "source": [
    "32 bitinteger"
   ]
  },
  {
   "cell_type": "code",
   "execution_count": 18,
   "id": "d35f3697",
   "metadata": {},
   "outputs": [
    {
     "data": {
      "text/plain": [
       "array([1, 3, 5, 7, 9])"
      ]
     },
     "execution_count": 18,
     "metadata": {},
     "output_type": "execute_result"
    }
   ],
   "source": [
    "np.arange(1,10,2)"
   ]
  },
  {
   "cell_type": "markdown",
   "id": "083046f2",
   "metadata": {},
   "source": [
    "the rnage of intergers between 1 and 10 in increments of 2"
   ]
  },
  {
   "cell_type": "code",
   "execution_count": 19,
   "id": "8540d9d5",
   "metadata": {},
   "outputs": [
    {
     "data": {
      "text/plain": [
       "array([1. , 1.5, 2. , 2.5, 3. , 3.5, 4. , 4.5, 5. , 5.5, 6. , 6.5, 7. ,\n",
       "       7.5, 8. , 8.5, 9. , 9.5])"
      ]
     },
     "execution_count": 19,
     "metadata": {},
     "output_type": "execute_result"
    }
   ],
   "source": [
    "np.arange(1,10,0.5)"
   ]
  },
  {
   "cell_type": "code",
   "execution_count": 23,
   "id": "9d572901",
   "metadata": {},
   "outputs": [],
   "source": [
    "arr2 = np.array([[1,3,5,7,], [2,4,6,8], [7,8,9,10]])"
   ]
  },
  {
   "cell_type": "code",
   "execution_count": 25,
   "id": "a1d8b990",
   "metadata": {},
   "outputs": [
    {
     "name": "stdout",
     "output_type": "stream",
     "text": [
      "[[ 1  3  5  7]\n",
      " [ 2  4  6  8]\n",
      " [ 7  8  9 10]]\n"
     ]
    }
   ],
   "source": [
    "print(arr2)"
   ]
  },
  {
   "cell_type": "code",
   "execution_count": 26,
   "id": "c0c8f426",
   "metadata": {},
   "outputs": [],
   "source": [
    "arr3=arr2.reshape(4,3)"
   ]
  },
  {
   "cell_type": "code",
   "execution_count": 28,
   "id": "cffeb733",
   "metadata": {},
   "outputs": [
    {
     "name": "stdout",
     "output_type": "stream",
     "text": [
      "[[ 1  3  5]\n",
      " [ 7  2  4]\n",
      " [ 6  8  7]\n",
      " [ 8  9 10]]\n"
     ]
    }
   ],
   "source": [
    "print(arr3)"
   ]
  },
  {
   "cell_type": "markdown",
   "id": "bf4cea86",
   "metadata": {},
   "source": [
    "changes the shape of the matrices"
   ]
  },
  {
   "cell_type": "code",
   "execution_count": 29,
   "id": "608e2813",
   "metadata": {},
   "outputs": [
    {
     "data": {
      "text/plain": [
       "array([ 6.99, 12.4 , 75.  ,  1.55,  1.  ,  2.  ,  3.  ,  2.  ,  1.  ,\n",
       "        5.  ])"
      ]
     },
     "execution_count": 29,
     "metadata": {},
     "output_type": "execute_result"
    }
   ],
   "source": [
    "payments"
   ]
  },
  {
   "cell_type": "code",
   "execution_count": 30,
   "id": "660b2293",
   "metadata": {},
   "outputs": [],
   "source": [
    "transaction_fee = 1.00"
   ]
  },
  {
   "cell_type": "code",
   "execution_count": 31,
   "id": "03fd4686",
   "metadata": {},
   "outputs": [
    {
     "data": {
      "text/plain": [
       "array([ 5.99, 11.4 , 74.  ,  0.55,  0.  ,  1.  ,  2.  ,  1.  ,  0.  ,\n",
       "        4.  ])"
      ]
     },
     "execution_count": 31,
     "metadata": {},
     "output_type": "execute_result"
    }
   ],
   "source": [
    "payments-transaction_fee "
   ]
  },
  {
   "cell_type": "markdown",
   "id": "9f6d84de",
   "metadata": {},
   "source": [
    "doesn't update the original array.  for that we's need to tell it - "
   ]
  },
  {
   "cell_type": "code",
   "execution_count": 34,
   "id": "05a7e305",
   "metadata": {},
   "outputs": [],
   "source": [
    "updated_payments=payments-transaction_fee"
   ]
  },
  {
   "cell_type": "code",
   "execution_count": 35,
   "id": "d2d66ab8",
   "metadata": {},
   "outputs": [
    {
     "data": {
      "text/plain": [
       "array([ 5.99, 11.4 , 74.  ,  0.55,  0.  ,  1.  ,  2.  ,  1.  ,  0.  ,\n",
       "        4.  ])"
      ]
     },
     "execution_count": 35,
     "metadata": {},
     "output_type": "execute_result"
    }
   ],
   "source": [
    "updated_payments"
   ]
  },
  {
   "cell_type": "code",
   "execution_count": 36,
   "id": "b30af47a",
   "metadata": {},
   "outputs": [
    {
     "data": {
      "text/plain": [
       "array([ 5.99, 11.4 , 74.  ,  0.55,  0.  ,  1.  ,  2.  ,  1.  ,  0.  ,\n",
       "        4.  ])"
      ]
     },
     "execution_count": 36,
     "metadata": {},
     "output_type": "execute_result"
    }
   ],
   "source": [
    "updated_payments"
   ]
  },
  {
   "cell_type": "markdown",
   "id": "af911c16",
   "metadata": {},
   "source": [
    "typing up then hitting tab brings up all existing arrays"
   ]
  },
  {
   "cell_type": "code",
   "execution_count": 37,
   "id": "d4a28346",
   "metadata": {},
   "outputs": [
    {
     "data": {
      "text/plain": [
       "array([ True,  True,  True, False, False, False, False, False, False,\n",
       "       False])"
      ]
     },
     "execution_count": 37,
     "metadata": {},
     "output_type": "execute_result"
    }
   ],
   "source": [
    "updated_payments>5"
   ]
  },
  {
   "cell_type": "code",
   "execution_count": 38,
   "id": "35fdb7f3",
   "metadata": {},
   "outputs": [
    {
     "data": {
      "text/plain": [
       "array([ True,  True, False,  True,  True,  True,  True,  True,  True,\n",
       "        True])"
      ]
     },
     "execution_count": 38,
     "metadata": {},
     "output_type": "execute_result"
    }
   ],
   "source": [
    "updated_payments<50"
   ]
  },
  {
   "cell_type": "code",
   "execution_count": 39,
   "id": "518cdff8",
   "metadata": {},
   "outputs": [
    {
     "data": {
      "text/plain": [
       "array([ True,  True,  True,  True,  True,  True,  True,  True,  True,\n",
       "        True])"
      ]
     },
     "execution_count": 39,
     "metadata": {},
     "output_type": "execute_result"
    }
   ],
   "source": [
    "(updated_payments>5)| (updated_payments<50)"
   ]
  },
  {
   "cell_type": "markdown",
   "id": "63323b33",
   "metadata": {},
   "source": [
    "The | is or.  & is and"
   ]
  },
  {
   "cell_type": "code",
   "execution_count": null,
   "id": "b322f8a4",
   "metadata": {},
   "outputs": [],
   "source": []
  }
 ],
 "metadata": {
  "kernelspec": {
   "display_name": "Python 3 (ipykernel)",
   "language": "python",
   "name": "python3"
  },
  "language_info": {
   "codemirror_mode": {
    "name": "ipython",
    "version": 3
   },
   "file_extension": ".py",
   "mimetype": "text/x-python",
   "name": "python",
   "nbconvert_exporter": "python",
   "pygments_lexer": "ipython3",
   "version": "3.10.9"
  }
 },
 "nbformat": 4,
 "nbformat_minor": 5
}
