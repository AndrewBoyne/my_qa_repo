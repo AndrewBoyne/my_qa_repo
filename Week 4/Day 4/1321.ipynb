{
 "cells": [
  {
   "cell_type": "markdown",
   "id": "ad559882",
   "metadata": {},
   "source": [
    "## Measures of central tendency, variation and outliers"
   ]
  },
  {
   "cell_type": "code",
   "execution_count": 1,
   "id": "22d67894",
   "metadata": {},
   "outputs": [],
   "source": [
    "import seaborn as sns\n",
    "import pandas as pd\n",
    "import numpy as np\n",
    "import matplotlib.pyplot as plt"
   ]
  },
  {
   "cell_type": "code",
   "execution_count": 2,
   "id": "624612ad",
   "metadata": {},
   "outputs": [],
   "source": [
    "data=pd.Series([2,5,4,5,3])"
   ]
  },
  {
   "cell_type": "code",
   "execution_count": 3,
   "id": "466d8fc7",
   "metadata": {},
   "outputs": [
    {
     "data": {
      "text/plain": [
       "0    2\n",
       "1    5\n",
       "2    4\n",
       "3    5\n",
       "4    3\n",
       "dtype: int64"
      ]
     },
     "execution_count": 3,
     "metadata": {},
     "output_type": "execute_result"
    }
   ],
   "source": [
    "data"
   ]
  },
  {
   "cell_type": "code",
   "execution_count": 4,
   "id": "669b5518",
   "metadata": {},
   "outputs": [
    {
     "data": {
      "text/plain": [
       "3.8"
      ]
     },
     "execution_count": 4,
     "metadata": {},
     "output_type": "execute_result"
    }
   ],
   "source": [
    "data.mean()"
   ]
  },
  {
   "cell_type": "code",
   "execution_count": 6,
   "id": "c452cbf4",
   "metadata": {},
   "outputs": [
    {
     "data": {
      "text/plain": [
       "0    5\n",
       "dtype: int64"
      ]
     },
     "execution_count": 6,
     "metadata": {},
     "output_type": "execute_result"
    }
   ],
   "source": [
    "data.mode() # the most common answer"
   ]
  },
  {
   "cell_type": "code",
   "execution_count": 7,
   "id": "4e0659ad",
   "metadata": {},
   "outputs": [
    {
     "data": {
      "text/plain": [
       "4.0"
      ]
     },
     "execution_count": 7,
     "metadata": {},
     "output_type": "execute_result"
    }
   ],
   "source": [
    "data.median() # the entry which appears in the middle of the series."
   ]
  },
  {
   "cell_type": "code",
   "execution_count": 8,
   "id": "a339da6b",
   "metadata": {},
   "outputs": [
    {
     "data": {
      "text/plain": [
       "2"
      ]
     },
     "execution_count": 8,
     "metadata": {},
     "output_type": "execute_result"
    }
   ],
   "source": [
    "data.min()"
   ]
  },
  {
   "cell_type": "code",
   "execution_count": 9,
   "id": "0e66a61a",
   "metadata": {},
   "outputs": [
    {
     "data": {
      "text/plain": [
       "5"
      ]
     },
     "execution_count": 9,
     "metadata": {},
     "output_type": "execute_result"
    }
   ],
   "source": [
    "data.max()"
   ]
  },
  {
   "cell_type": "code",
   "execution_count": 10,
   "id": "dbce7a11",
   "metadata": {},
   "outputs": [
    {
     "data": {
      "text/plain": [
       "3.5"
      ]
     },
     "execution_count": 10,
     "metadata": {},
     "output_type": "execute_result"
    }
   ],
   "source": [
    "(data.min()+data.max())/2 # known as mid range (affected by outliers)"
   ]
  },
  {
   "cell_type": "code",
   "execution_count": 11,
   "id": "6a8ad51e",
   "metadata": {},
   "outputs": [],
   "source": [
    "data=pd.Series([2,3,4,6,7,7,8,19])"
   ]
  },
  {
   "cell_type": "code",
   "execution_count": 12,
   "id": "732b276a",
   "metadata": {},
   "outputs": [
    {
     "data": {
      "text/plain": [
       "17"
      ]
     },
     "execution_count": 12,
     "metadata": {},
     "output_type": "execute_result"
    }
   ],
   "source": [
    "data.max()-data.min() # range (between lowest and highest values)"
   ]
  },
  {
   "cell_type": "code",
   "execution_count": 14,
   "id": "e85574b2",
   "metadata": {},
   "outputs": [
    {
     "data": {
      "text/plain": [
       "3.5"
      ]
     },
     "execution_count": 14,
     "metadata": {},
     "output_type": "execute_result"
    }
   ],
   "source": [
    "data.quantile(0.75)-data.quantile(0.25) # Inter quartile range (IQR)"
   ]
  },
  {
   "cell_type": "code",
   "execution_count": 15,
   "id": "0ed4dcc4",
   "metadata": {},
   "outputs": [
    {
     "data": {
      "text/plain": [
       "5.291502622129181"
      ]
     },
     "execution_count": 15,
     "metadata": {},
     "output_type": "execute_result"
    }
   ],
   "source": [
    "data.std() # average distance of the data from the mean"
   ]
  },
  {
   "cell_type": "code",
   "execution_count": 16,
   "id": "e88a385b",
   "metadata": {},
   "outputs": [
    {
     "data": {
      "text/plain": [
       "4.949747468305833"
      ]
     },
     "execution_count": 16,
     "metadata": {},
     "output_type": "execute_result"
    }
   ],
   "source": [
    "data.std(ddof=0) # not sure what this means - check"
   ]
  },
  {
   "cell_type": "markdown",
   "id": "e85a8b26",
   "metadata": {},
   "source": [
    "## Practical Lab"
   ]
  },
  {
   "cell_type": "code",
   "execution_count": 17,
   "id": "875e23fc",
   "metadata": {},
   "outputs": [],
   "source": [
    "import pandas as pd"
   ]
  },
  {
   "cell_type": "code",
   "execution_count": 18,
   "id": "381ee474",
   "metadata": {},
   "outputs": [],
   "source": [
    "data=[2,3,4,6,7,7,8,19]\n",
    "df=pd.Series(data)"
   ]
  },
  {
   "cell_type": "code",
   "execution_count": 19,
   "id": "31c2fc3c",
   "metadata": {},
   "outputs": [
    {
     "data": {
      "text/plain": [
       "0     2\n",
       "1     3\n",
       "2     4\n",
       "3     6\n",
       "4     7\n",
       "5     7\n",
       "6     8\n",
       "7    19\n",
       "dtype: int64"
      ]
     },
     "execution_count": 19,
     "metadata": {},
     "output_type": "execute_result"
    }
   ],
   "source": [
    "df\n"
   ]
  },
  {
   "cell_type": "code",
   "execution_count": 38,
   "id": "529815f5",
   "metadata": {},
   "outputs": [],
   "source": [
    "mean = df.mean()"
   ]
  },
  {
   "cell_type": "code",
   "execution_count": 23,
   "id": "34eef583",
   "metadata": {},
   "outputs": [
    {
     "data": {
      "text/plain": [
       "28.0"
      ]
     },
     "execution_count": 23,
     "metadata": {},
     "output_type": "execute_result"
    }
   ],
   "source": [
    "df.var() # variance"
   ]
  },
  {
   "cell_type": "code",
   "execution_count": 35,
   "id": "f27629d6",
   "metadata": {},
   "outputs": [],
   "source": [
    "variation=df.var(ddof=0)"
   ]
  },
  {
   "cell_type": "code",
   "execution_count": 32,
   "id": "80f204e1",
   "metadata": {},
   "outputs": [
    {
     "data": {
      "text/plain": [
       "5.291502622129181"
      ]
     },
     "execution_count": 32,
     "metadata": {},
     "output_type": "execute_result"
    }
   ],
   "source": [
    "df.std()"
   ]
  },
  {
   "cell_type": "code",
   "execution_count": 33,
   "id": "83f932fc",
   "metadata": {},
   "outputs": [],
   "source": [
    "stddev=df.std(ddof=0)"
   ]
  },
  {
   "cell_type": "code",
   "execution_count": 30,
   "id": "2e52e77a",
   "metadata": {},
   "outputs": [],
   "source": [
    "stddev = df.std()"
   ]
  },
  {
   "cell_type": "code",
   "execution_count": 34,
   "id": "c7c214b3",
   "metadata": {},
   "outputs": [
    {
     "data": {
      "text/plain": [
       "4.949747468305833"
      ]
     },
     "execution_count": 34,
     "metadata": {},
     "output_type": "execute_result"
    }
   ],
   "source": [
    "stddev"
   ]
  },
  {
   "cell_type": "code",
   "execution_count": 36,
   "id": "b413af43",
   "metadata": {},
   "outputs": [
    {
     "data": {
      "text/plain": [
       "24.5"
      ]
     },
     "execution_count": 36,
     "metadata": {},
     "output_type": "execute_result"
    }
   ],
   "source": [
    "variation"
   ]
  },
  {
   "cell_type": "code",
   "execution_count": 39,
   "id": "3ba52dbd",
   "metadata": {},
   "outputs": [
    {
     "data": {
      "text/plain": [
       "7.0"
      ]
     },
     "execution_count": 39,
     "metadata": {},
     "output_type": "execute_result"
    }
   ],
   "source": [
    "mean"
   ]
  },
  {
   "cell_type": "code",
   "execution_count": 40,
   "id": "f365df1e",
   "metadata": {},
   "outputs": [],
   "source": [
    "mean1=mean-2*stddev"
   ]
  },
  {
   "cell_type": "code",
   "execution_count": 41,
   "id": "4ac6205c",
   "metadata": {},
   "outputs": [
    {
     "data": {
      "text/plain": [
       "-2.8994949366116654"
      ]
     },
     "execution_count": 41,
     "metadata": {},
     "output_type": "execute_result"
    }
   ],
   "source": [
    "mean1"
   ]
  },
  {
   "cell_type": "code",
   "execution_count": 42,
   "id": "5e450fe5",
   "metadata": {},
   "outputs": [],
   "source": [
    "mean2=mean+2*stddev"
   ]
  },
  {
   "cell_type": "code",
   "execution_count": 43,
   "id": "9dc5e3f7",
   "metadata": {},
   "outputs": [
    {
     "data": {
      "text/plain": [
       "16.899494936611667"
      ]
     },
     "execution_count": 43,
     "metadata": {},
     "output_type": "execute_result"
    }
   ],
   "source": [
    "mean2"
   ]
  },
  {
   "cell_type": "code",
   "execution_count": 45,
   "id": "a18bfc9b",
   "metadata": {},
   "outputs": [
    {
     "ename": "SyntaxError",
     "evalue": "invalid syntax (2696286343.py, line 1)",
     "output_type": "error",
     "traceback": [
      "\u001b[1;36m  Cell \u001b[1;32mIn[45], line 1\u001b[1;36m\u001b[0m\n\u001b[1;33m    outliers=[x for x in data if x < lower than mean1 or x > mean2]\u001b[0m\n\u001b[1;37m                                           ^\u001b[0m\n\u001b[1;31mSyntaxError\u001b[0m\u001b[1;31m:\u001b[0m invalid syntax\n"
     ]
    }
   ],
   "source": [
    "outliers=[x for x in data if x < lower than mean1 or x > mean2]"
   ]
  },
  {
   "cell_type": "markdown",
   "id": "23e10cf8",
   "metadata": {},
   "source": [
    "## Practical Lab 2"
   ]
  },
  {
   "cell_type": "code",
   "execution_count": 46,
   "id": "492c8da0",
   "metadata": {},
   "outputs": [],
   "source": [
    "invt = pd.read_csv(\"investment_performance.csv\")"
   ]
  },
  {
   "cell_type": "code",
   "execution_count": 49,
   "id": "8f44c09f",
   "metadata": {},
   "outputs": [
    {
     "data": {
      "text/html": [
       "<div>\n",
       "<style scoped>\n",
       "    .dataframe tbody tr th:only-of-type {\n",
       "        vertical-align: middle;\n",
       "    }\n",
       "\n",
       "    .dataframe tbody tr th {\n",
       "        vertical-align: top;\n",
       "    }\n",
       "\n",
       "    .dataframe thead th {\n",
       "        text-align: right;\n",
       "    }\n",
       "</style>\n",
       "<table border=\"1\" class=\"dataframe\">\n",
       "  <thead>\n",
       "    <tr style=\"text-align: right;\">\n",
       "      <th></th>\n",
       "      <th>Control Scores</th>\n",
       "      <th>Experimental Scores</th>\n",
       "    </tr>\n",
       "  </thead>\n",
       "  <tbody>\n",
       "    <tr>\n",
       "      <th>count</th>\n",
       "      <td>50.000000</td>\n",
       "      <td>50.000000</td>\n",
       "    </tr>\n",
       "    <tr>\n",
       "      <th>mean</th>\n",
       "      <td>78.087517</td>\n",
       "      <td>85.319055</td>\n",
       "    </tr>\n",
       "    <tr>\n",
       "      <th>std</th>\n",
       "      <td>9.571455</td>\n",
       "      <td>11.057700</td>\n",
       "    </tr>\n",
       "    <tr>\n",
       "      <th>min</th>\n",
       "      <td>61.135907</td>\n",
       "      <td>66.153945</td>\n",
       "    </tr>\n",
       "    <tr>\n",
       "      <th>25%</th>\n",
       "      <td>70.463365</td>\n",
       "      <td>76.292904</td>\n",
       "    </tr>\n",
       "    <tr>\n",
       "      <th>50%</th>\n",
       "      <td>77.386154</td>\n",
       "      <td>84.371715</td>\n",
       "    </tr>\n",
       "    <tr>\n",
       "      <th>75%</th>\n",
       "      <td>86.041261</td>\n",
       "      <td>93.784759</td>\n",
       "    </tr>\n",
       "    <tr>\n",
       "      <th>max</th>\n",
       "      <td>95.359162</td>\n",
       "      <td>110.625783</td>\n",
       "    </tr>\n",
       "  </tbody>\n",
       "</table>\n",
       "</div>"
      ],
      "text/plain": [
       "       Control Scores  Experimental Scores\n",
       "count       50.000000            50.000000\n",
       "mean        78.087517            85.319055\n",
       "std          9.571455            11.057700\n",
       "min         61.135907            66.153945\n",
       "25%         70.463365            76.292904\n",
       "50%         77.386154            84.371715\n",
       "75%         86.041261            93.784759\n",
       "max         95.359162           110.625783"
      ]
     },
     "execution_count": 49,
     "metadata": {},
     "output_type": "execute_result"
    }
   ],
   "source": [
    "invt.describe()"
   ]
  },
  {
   "cell_type": "code",
   "execution_count": null,
   "id": "3601ab14",
   "metadata": {},
   "outputs": [],
   "source": []
  }
 ],
 "metadata": {
  "kernelspec": {
   "display_name": "Python 3 (ipykernel)",
   "language": "python",
   "name": "python3"
  },
  "language_info": {
   "codemirror_mode": {
    "name": "ipython",
    "version": 3
   },
   "file_extension": ".py",
   "mimetype": "text/x-python",
   "name": "python",
   "nbconvert_exporter": "python",
   "pygments_lexer": "ipython3",
   "version": "3.10.9"
  }
 },
 "nbformat": 4,
 "nbformat_minor": 5
}
