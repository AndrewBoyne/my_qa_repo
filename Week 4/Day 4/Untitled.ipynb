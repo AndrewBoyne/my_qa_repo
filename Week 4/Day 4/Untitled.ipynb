{
 "cells": [
  {
   "cell_type": "markdown",
   "id": "6bae7c2b",
   "metadata": {},
   "source": [
    "## Measures of central tendency, variation and outliers"
   ]
  },
  {
   "cell_type": "code",
   "execution_count": 1,
   "id": "3ef44255",
   "metadata": {},
   "outputs": [],
   "source": [
    "import seaborn as sns\n",
    "import pandas as pd\n",
    "import numpy as np\n",
    "import matplotlib.pyplot as plt"
   ]
  },
  {
   "cell_type": "code",
   "execution_count": 2,
   "id": "516d179c",
   "metadata": {},
   "outputs": [],
   "source": [
    "data=pd.Series([2,5,4,5,3])"
   ]
  },
  {
   "cell_type": "code",
   "execution_count": 3,
   "id": "b5fdbd2b",
   "metadata": {},
   "outputs": [
    {
     "data": {
      "text/plain": [
       "0    2\n",
       "1    5\n",
       "2    4\n",
       "3    5\n",
       "4    3\n",
       "dtype: int64"
      ]
     },
     "execution_count": 3,
     "metadata": {},
     "output_type": "execute_result"
    }
   ],
   "source": [
    "data"
   ]
  },
  {
   "cell_type": "code",
   "execution_count": 4,
   "id": "8d3bac52",
   "metadata": {},
   "outputs": [
    {
     "data": {
      "text/plain": [
       "3.8"
      ]
     },
     "execution_count": 4,
     "metadata": {},
     "output_type": "execute_result"
    }
   ],
   "source": [
    "data.mean()"
   ]
  },
  {
   "cell_type": "code",
   "execution_count": 6,
   "id": "7c6e33ae",
   "metadata": {},
   "outputs": [
    {
     "data": {
      "text/plain": [
       "0    5\n",
       "dtype: int64"
      ]
     },
     "execution_count": 6,
     "metadata": {},
     "output_type": "execute_result"
    }
   ],
   "source": [
    "data.mode() # the most common answer"
   ]
  },
  {
   "cell_type": "code",
   "execution_count": 7,
   "id": "e1da5543",
   "metadata": {},
   "outputs": [
    {
     "data": {
      "text/plain": [
       "4.0"
      ]
     },
     "execution_count": 7,
     "metadata": {},
     "output_type": "execute_result"
    }
   ],
   "source": [
    "data.median() # the entry which appears in the middle of the series."
   ]
  },
  {
   "cell_type": "code",
   "execution_count": 8,
   "id": "210ae3f6",
   "metadata": {},
   "outputs": [
    {
     "data": {
      "text/plain": [
       "2"
      ]
     },
     "execution_count": 8,
     "metadata": {},
     "output_type": "execute_result"
    }
   ],
   "source": [
    "data.min()"
   ]
  },
  {
   "cell_type": "code",
   "execution_count": 9,
   "id": "d8d9fa21",
   "metadata": {},
   "outputs": [
    {
     "data": {
      "text/plain": [
       "5"
      ]
     },
     "execution_count": 9,
     "metadata": {},
     "output_type": "execute_result"
    }
   ],
   "source": [
    "data.max()"
   ]
  },
  {
   "cell_type": "code",
   "execution_count": 10,
   "id": "d4b8f9fe",
   "metadata": {},
   "outputs": [
    {
     "data": {
      "text/plain": [
       "3.5"
      ]
     },
     "execution_count": 10,
     "metadata": {},
     "output_type": "execute_result"
    }
   ],
   "source": [
    "(data.min()+data.max())/2 # known as mid range (affected by outliers)"
   ]
  },
  {
   "cell_type": "code",
   "execution_count": 11,
   "id": "723c94cf",
   "metadata": {},
   "outputs": [],
   "source": [
    "data=pd.Series([2,3,4,6,7,7,8,19])"
   ]
  },
  {
   "cell_type": "code",
   "execution_count": 12,
   "id": "de5b60fe",
   "metadata": {},
   "outputs": [
    {
     "data": {
      "text/plain": [
       "17"
      ]
     },
     "execution_count": 12,
     "metadata": {},
     "output_type": "execute_result"
    }
   ],
   "source": [
    "data.max()-data.min() # range (between lowest and highest values)"
   ]
  },
  {
   "cell_type": "code",
   "execution_count": 14,
   "id": "5026217e",
   "metadata": {},
   "outputs": [
    {
     "data": {
      "text/plain": [
       "3.5"
      ]
     },
     "execution_count": 14,
     "metadata": {},
     "output_type": "execute_result"
    }
   ],
   "source": [
    "data.quantile(0.75)-data.quantile(0.25) # Inter quartile range (IQR)"
   ]
  },
  {
   "cell_type": "code",
   "execution_count": 15,
   "id": "c24fe93b",
   "metadata": {},
   "outputs": [
    {
     "data": {
      "text/plain": [
       "5.291502622129181"
      ]
     },
     "execution_count": 15,
     "metadata": {},
     "output_type": "execute_result"
    }
   ],
   "source": [
    "data.std() # average distance of the data from the mean"
   ]
  },
  {
   "cell_type": "code",
   "execution_count": 16,
   "id": "efead054",
   "metadata": {},
   "outputs": [
    {
     "data": {
      "text/plain": [
       "4.949747468305833"
      ]
     },
     "execution_count": 16,
     "metadata": {},
     "output_type": "execute_result"
    }
   ],
   "source": [
    "data.std(ddof=0) # not sure what this means - check"
   ]
  },
  {
   "cell_type": "code",
   "execution_count": null,
   "id": "d5385dbb",
   "metadata": {},
   "outputs": [],
   "source": []
  }
 ],
 "metadata": {
  "kernelspec": {
   "display_name": "Python 3 (ipykernel)",
   "language": "python",
   "name": "python3"
  },
  "language_info": {
   "codemirror_mode": {
    "name": "ipython",
    "version": 3
   },
   "file_extension": ".py",
   "mimetype": "text/x-python",
   "name": "python",
   "nbconvert_exporter": "python",
   "pygments_lexer": "ipython3",
   "version": "3.10.9"
  }
 },
 "nbformat": 4,
 "nbformat_minor": 5
}
