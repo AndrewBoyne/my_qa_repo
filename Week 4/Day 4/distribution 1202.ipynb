{
 "cells": [
  {
   "cell_type": "markdown",
   "id": "df472793",
   "metadata": {},
   "source": [
    "## Measures of central tendency, variation and outliers"
   ]
  },
  {
   "cell_type": "code",
   "execution_count": 1,
   "id": "71b5f0f1",
   "metadata": {},
   "outputs": [],
   "source": [
    "import seaborn as sns\n",
    "import pandas as pd\n",
    "import numpy as np\n",
    "import matplotlib.pyplot as plt"
   ]
  },
  {
   "cell_type": "code",
   "execution_count": 2,
   "id": "1601c539",
   "metadata": {},
   "outputs": [],
   "source": [
    "data=pd.Series([2,5,4,5,3])"
   ]
  },
  {
   "cell_type": "code",
   "execution_count": 3,
   "id": "2dfa31dc",
   "metadata": {},
   "outputs": [
    {
     "data": {
      "text/plain": [
       "0    2\n",
       "1    5\n",
       "2    4\n",
       "3    5\n",
       "4    3\n",
       "dtype: int64"
      ]
     },
     "execution_count": 3,
     "metadata": {},
     "output_type": "execute_result"
    }
   ],
   "source": [
    "data"
   ]
  },
  {
   "cell_type": "code",
   "execution_count": 4,
   "id": "08a1e0d7",
   "metadata": {},
   "outputs": [
    {
     "data": {
      "text/plain": [
       "3.8"
      ]
     },
     "execution_count": 4,
     "metadata": {},
     "output_type": "execute_result"
    }
   ],
   "source": [
    "data.mean()"
   ]
  },
  {
   "cell_type": "code",
   "execution_count": 6,
   "id": "515c2bca",
   "metadata": {},
   "outputs": [
    {
     "data": {
      "text/plain": [
       "0    5\n",
       "dtype: int64"
      ]
     },
     "execution_count": 6,
     "metadata": {},
     "output_type": "execute_result"
    }
   ],
   "source": [
    "data.mode() # the most common answer"
   ]
  },
  {
   "cell_type": "code",
   "execution_count": 7,
   "id": "8d64b584",
   "metadata": {},
   "outputs": [
    {
     "data": {
      "text/plain": [
       "4.0"
      ]
     },
     "execution_count": 7,
     "metadata": {},
     "output_type": "execute_result"
    }
   ],
   "source": [
    "data.median() # the entry which appears in the middle of the series."
   ]
  },
  {
   "cell_type": "code",
   "execution_count": 8,
   "id": "36a4fa34",
   "metadata": {},
   "outputs": [
    {
     "data": {
      "text/plain": [
       "2"
      ]
     },
     "execution_count": 8,
     "metadata": {},
     "output_type": "execute_result"
    }
   ],
   "source": [
    "data.min()"
   ]
  },
  {
   "cell_type": "code",
   "execution_count": 9,
   "id": "49d793eb",
   "metadata": {},
   "outputs": [
    {
     "data": {
      "text/plain": [
       "5"
      ]
     },
     "execution_count": 9,
     "metadata": {},
     "output_type": "execute_result"
    }
   ],
   "source": [
    "data.max()"
   ]
  },
  {
   "cell_type": "code",
   "execution_count": 10,
   "id": "ba1ea72b",
   "metadata": {},
   "outputs": [
    {
     "data": {
      "text/plain": [
       "3.5"
      ]
     },
     "execution_count": 10,
     "metadata": {},
     "output_type": "execute_result"
    }
   ],
   "source": [
    "(data.min()+data.max())/2 # known as mid range (affected by outliers)"
   ]
  },
  {
   "cell_type": "code",
   "execution_count": 11,
   "id": "febd02d1",
   "metadata": {},
   "outputs": [],
   "source": [
    "data=pd.Series([2,3,4,6,7,7,8,19])"
   ]
  },
  {
   "cell_type": "code",
   "execution_count": 12,
   "id": "32af8194",
   "metadata": {},
   "outputs": [
    {
     "data": {
      "text/plain": [
       "17"
      ]
     },
     "execution_count": 12,
     "metadata": {},
     "output_type": "execute_result"
    }
   ],
   "source": [
    "data.max()-data.min() # range (between lowest and highest values)"
   ]
  },
  {
   "cell_type": "code",
   "execution_count": 14,
   "id": "60ab9a23",
   "metadata": {},
   "outputs": [
    {
     "data": {
      "text/plain": [
       "3.5"
      ]
     },
     "execution_count": 14,
     "metadata": {},
     "output_type": "execute_result"
    }
   ],
   "source": [
    "data.quantile(0.75)-data.quantile(0.25) # Inter quartile range (IQR)"
   ]
  },
  {
   "cell_type": "code",
   "execution_count": 15,
   "id": "fe9b8f03",
   "metadata": {},
   "outputs": [
    {
     "data": {
      "text/plain": [
       "5.291502622129181"
      ]
     },
     "execution_count": 15,
     "metadata": {},
     "output_type": "execute_result"
    }
   ],
   "source": [
    "data.std() # average distance of the data from the mean"
   ]
  },
  {
   "cell_type": "code",
   "execution_count": 16,
   "id": "da53d334",
   "metadata": {},
   "outputs": [
    {
     "data": {
      "text/plain": [
       "4.949747468305833"
      ]
     },
     "execution_count": 16,
     "metadata": {},
     "output_type": "execute_result"
    }
   ],
   "source": [
    "data.std(ddof=0) # not sure what this means - check"
   ]
  },
  {
   "cell_type": "code",
   "execution_count": null,
   "id": "2327ca8b",
   "metadata": {},
   "outputs": [],
   "source": []
  }
 ],
 "metadata": {
  "kernelspec": {
   "display_name": "Python 3 (ipykernel)",
   "language": "python",
   "name": "python3"
  },
  "language_info": {
   "codemirror_mode": {
    "name": "ipython",
    "version": 3
   },
   "file_extension": ".py",
   "mimetype": "text/x-python",
   "name": "python",
   "nbconvert_exporter": "python",
   "pygments_lexer": "ipython3",
   "version": "3.10.9"
  }
 },
 "nbformat": 4,
 "nbformat_minor": 5
}
