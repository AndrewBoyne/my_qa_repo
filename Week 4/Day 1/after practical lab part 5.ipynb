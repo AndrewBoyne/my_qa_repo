{
 "cells": [
  {
   "cell_type": "code",
   "execution_count": 4,
   "id": "849a4e3a",
   "metadata": {},
   "outputs": [],
   "source": [
    "import pandas as pd"
   ]
  },
  {
   "cell_type": "code",
   "execution_count": null,
   "id": "1ba7b1de",
   "metadata": {},
   "outputs": [],
   "source": []
  },
  {
   "cell_type": "code",
   "execution_count": 5,
   "id": "7d05724a",
   "metadata": {},
   "outputs": [],
   "source": [
    "data = pd.read_csv(\"iris_dataset.csv\")"
   ]
  },
  {
   "cell_type": "code",
   "execution_count": 6,
   "id": "cefe6211",
   "metadata": {},
   "outputs": [],
   "source": [
    "df = data"
   ]
  },
  {
   "cell_type": "code",
   "execution_count": 8,
   "id": "04be1724",
   "metadata": {},
   "outputs": [
    {
     "data": {
      "text/html": [
       "<div>\n",
       "<style scoped>\n",
       "    .dataframe tbody tr th:only-of-type {\n",
       "        vertical-align: middle;\n",
       "    }\n",
       "\n",
       "    .dataframe tbody tr th {\n",
       "        vertical-align: top;\n",
       "    }\n",
       "\n",
       "    .dataframe thead th {\n",
       "        text-align: right;\n",
       "    }\n",
       "</style>\n",
       "<table border=\"1\" class=\"dataframe\">\n",
       "  <thead>\n",
       "    <tr style=\"text-align: right;\">\n",
       "      <th></th>\n",
       "      <th>sepal length (cm)</th>\n",
       "      <th>sepal width (cm)</th>\n",
       "      <th>petal length (cm)</th>\n",
       "      <th>petal width (cm)</th>\n",
       "      <th>target</th>\n",
       "    </tr>\n",
       "  </thead>\n",
       "  <tbody>\n",
       "    <tr>\n",
       "      <th>count</th>\n",
       "      <td>150.000000</td>\n",
       "      <td>150.000000</td>\n",
       "      <td>150.000000</td>\n",
       "      <td>150.000000</td>\n",
       "      <td>150.000000</td>\n",
       "    </tr>\n",
       "    <tr>\n",
       "      <th>mean</th>\n",
       "      <td>5.843333</td>\n",
       "      <td>3.057333</td>\n",
       "      <td>3.758000</td>\n",
       "      <td>1.199333</td>\n",
       "      <td>1.000000</td>\n",
       "    </tr>\n",
       "    <tr>\n",
       "      <th>std</th>\n",
       "      <td>0.828066</td>\n",
       "      <td>0.435866</td>\n",
       "      <td>1.765298</td>\n",
       "      <td>0.762238</td>\n",
       "      <td>0.819232</td>\n",
       "    </tr>\n",
       "    <tr>\n",
       "      <th>min</th>\n",
       "      <td>4.300000</td>\n",
       "      <td>2.000000</td>\n",
       "      <td>1.000000</td>\n",
       "      <td>0.100000</td>\n",
       "      <td>0.000000</td>\n",
       "    </tr>\n",
       "    <tr>\n",
       "      <th>25%</th>\n",
       "      <td>5.100000</td>\n",
       "      <td>2.800000</td>\n",
       "      <td>1.600000</td>\n",
       "      <td>0.300000</td>\n",
       "      <td>0.000000</td>\n",
       "    </tr>\n",
       "    <tr>\n",
       "      <th>50%</th>\n",
       "      <td>5.800000</td>\n",
       "      <td>3.000000</td>\n",
       "      <td>4.350000</td>\n",
       "      <td>1.300000</td>\n",
       "      <td>1.000000</td>\n",
       "    </tr>\n",
       "    <tr>\n",
       "      <th>75%</th>\n",
       "      <td>6.400000</td>\n",
       "      <td>3.300000</td>\n",
       "      <td>5.100000</td>\n",
       "      <td>1.800000</td>\n",
       "      <td>2.000000</td>\n",
       "    </tr>\n",
       "    <tr>\n",
       "      <th>max</th>\n",
       "      <td>7.900000</td>\n",
       "      <td>4.400000</td>\n",
       "      <td>6.900000</td>\n",
       "      <td>2.500000</td>\n",
       "      <td>2.000000</td>\n",
       "    </tr>\n",
       "  </tbody>\n",
       "</table>\n",
       "</div>"
      ],
      "text/plain": [
       "       sepal length (cm)  sepal width (cm)  petal length (cm)  \\\n",
       "count         150.000000        150.000000         150.000000   \n",
       "mean            5.843333          3.057333           3.758000   \n",
       "std             0.828066          0.435866           1.765298   \n",
       "min             4.300000          2.000000           1.000000   \n",
       "25%             5.100000          2.800000           1.600000   \n",
       "50%             5.800000          3.000000           4.350000   \n",
       "75%             6.400000          3.300000           5.100000   \n",
       "max             7.900000          4.400000           6.900000   \n",
       "\n",
       "       petal width (cm)      target  \n",
       "count        150.000000  150.000000  \n",
       "mean           1.199333    1.000000  \n",
       "std            0.762238    0.819232  \n",
       "min            0.100000    0.000000  \n",
       "25%            0.300000    0.000000  \n",
       "50%            1.300000    1.000000  \n",
       "75%            1.800000    2.000000  \n",
       "max            2.500000    2.000000  "
      ]
     },
     "execution_count": 8,
     "metadata": {},
     "output_type": "execute_result"
    }
   ],
   "source": [
    "df.describe()"
   ]
  },
  {
   "cell_type": "code",
   "execution_count": 9,
   "id": "b3afc7b8",
   "metadata": {},
   "outputs": [
    {
     "name": "stdout",
     "output_type": "stream",
     "text": [
      "Hello World\n"
     ]
    }
   ],
   "source": [
    "print('Hello World')"
   ]
  },
  {
   "cell_type": "code",
   "execution_count": 11,
   "id": "e7c71dbe",
   "metadata": {},
   "outputs": [
    {
     "data": {
      "text/plain": [
       "'Hello World'"
      ]
     },
     "execution_count": 11,
     "metadata": {},
     "output_type": "execute_result"
    }
   ],
   "source": [
    "'Hello World'"
   ]
  },
  {
   "cell_type": "code",
   "execution_count": 12,
   "id": "320c4bb5",
   "metadata": {},
   "outputs": [],
   "source": [
    "username='Bob'"
   ]
  },
  {
   "cell_type": "code",
   "execution_count": 13,
   "id": "992f6404",
   "metadata": {},
   "outputs": [],
   "source": [
    "age='32'"
   ]
  },
  {
   "cell_type": "code",
   "execution_count": 18,
   "id": "52d05f4c",
   "metadata": {},
   "outputs": [
    {
     "name": "stdout",
     "output_type": "stream",
     "text": [
      "Bob is 32 years old\n"
     ]
    }
   ],
   "source": [
    "print(username,'is',age,'years old')"
   ]
  },
  {
   "cell_type": "code",
   "execution_count": 17,
   "id": "3bee3c02",
   "metadata": {},
   "outputs": [
    {
     "ename": "TypeError",
     "evalue": "can only concatenate str (not \"int\") to str",
     "output_type": "error",
     "traceback": [
      "\u001b[1;31m---------------------------------------------------------------------------\u001b[0m",
      "\u001b[1;31mTypeError\u001b[0m                                 Traceback (most recent call last)",
      "Cell \u001b[1;32mIn[17], line 1\u001b[0m\n\u001b[1;32m----> 1\u001b[0m \u001b[38;5;28mprint\u001b[39m(username,\u001b[38;5;124;43m'\u001b[39;49m\u001b[38;5;124;43mis\u001b[39;49m\u001b[38;5;124;43m'\u001b[39;49m\u001b[38;5;241;43m+\u001b[39;49m\u001b[43mage\u001b[49m\u001b[38;5;241m+\u001b[39m\u001b[38;5;124m'\u001b[39m\u001b[38;5;124myears old\u001b[39m\u001b[38;5;124m'\u001b[39m)\n",
      "\u001b[1;31mTypeError\u001b[0m: can only concatenate str (not \"int\") to str"
     ]
    }
   ],
   "source": [
    "print(username,'is'+age+'years old')"
   ]
  },
  {
   "cell_type": "code",
   "execution_count": 19,
   "id": "fba89b66",
   "metadata": {},
   "outputs": [],
   "source": [
    "username='Bob'"
   ]
  },
  {
   "cell_type": "code",
   "execution_count": 20,
   "id": "c684e31f",
   "metadata": {},
   "outputs": [],
   "source": [
    "age='32'"
   ]
  },
  {
   "cell_type": "code",
   "execution_count": 21,
   "id": "7a39f641",
   "metadata": {},
   "outputs": [
    {
     "name": "stdout",
     "output_type": "stream",
     "text": [
      "Bobis32years old\n"
     ]
    }
   ],
   "source": [
    "print(username+'is'+age+'years old')"
   ]
  },
  {
   "cell_type": "code",
   "execution_count": 23,
   "id": "0758b236",
   "metadata": {},
   "outputs": [
    {
     "name": "stdout",
     "output_type": "stream",
     "text": [
      "Please enter your nameAndy\n"
     ]
    }
   ],
   "source": [
    "username=input('Please enter your name')"
   ]
  },
  {
   "cell_type": "code",
   "execution_count": 24,
   "id": "312bdbee",
   "metadata": {},
   "outputs": [
    {
     "name": "stdout",
     "output_type": "stream",
     "text": [
      "Please enter your name21\n"
     ]
    }
   ],
   "source": [
    "age =input('Please enter your name')"
   ]
  },
  {
   "cell_type": "code",
   "execution_count": 25,
   "id": "2026f2fb",
   "metadata": {},
   "outputs": [
    {
     "name": "stdout",
     "output_type": "stream",
     "text": [
      "Andy is 21 years old.)\n"
     ]
    }
   ],
   "source": [
    "print(username,'is',age,'years old.)')"
   ]
  },
  {
   "cell_type": "code",
   "execution_count": 32,
   "id": "07b29972",
   "metadata": {},
   "outputs": [],
   "source": [
    "Number_of_crayons = 50\n",
    "number_of_children = 6\n",
    "crayons_each_child_will_get = Number_of_crayons / number_of_children"
   ]
  },
  {
   "cell_type": "code",
   "execution_count": 41,
   "id": "c3856cb6",
   "metadata": {},
   "outputs": [
    {
     "name": "stdout",
     "output_type": "stream",
     "text": [
      "Each child will get 8 crayons\n"
     ]
    }
   ],
   "source": [
    "print(f\"Each child will get {crayons_each_child_will_get} crayons\")"
   ]
  },
  {
   "cell_type": "code",
   "execution_count": 42,
   "id": "fbd10d13",
   "metadata": {},
   "outputs": [
    {
     "name": "stdout",
     "output_type": "stream",
     "text": [
      "Each child will get 8 crayons\n"
     ]
    }
   ],
   "source": [
    "print(f\"Each child will get {crayons_each_child_will_get} crayons\")"
   ]
  },
  {
   "cell_type": "markdown",
   "id": "db89899a",
   "metadata": {},
   "source": [
    "Easier without all the language"
   ]
  },
  {
   "cell_type": "code",
   "execution_count": 43,
   "id": "3047e639",
   "metadata": {},
   "outputs": [
    {
     "data": {
      "text/plain": [
       "8.333333333333334"
      ]
     },
     "execution_count": 43,
     "metadata": {},
     "output_type": "execute_result"
    }
   ],
   "source": [
    "50/6"
   ]
  },
  {
   "cell_type": "markdown",
   "id": "8a3d1005",
   "metadata": {},
   "source": [
    "gives the precise number"
   ]
  },
  {
   "cell_type": "code",
   "execution_count": 45,
   "id": "b2745808",
   "metadata": {},
   "outputs": [
    {
     "data": {
      "text/plain": [
       "6"
      ]
     },
     "execution_count": 45,
     "metadata": {},
     "output_type": "execute_result"
    }
   ],
   "source": [
    "50//8"
   ]
  },
  {
   "cell_type": "markdown",
   "id": "1157b7e5",
   "metadata": {},
   "source": [
    "Gives the whole number with a remainder (but doesn't note the remainder)"
   ]
  },
  {
   "cell_type": "code",
   "execution_count": 51,
   "id": "0df4b788",
   "metadata": {},
   "outputs": [
    {
     "name": "stdout",
     "output_type": "stream",
     "text": [
      "Please enter the length of the rectangle:15\n"
     ]
    }
   ],
   "source": [
    "length = int(input('Please enter the length of the rectangle:'))"
   ]
  },
  {
   "cell_type": "code",
   "execution_count": 56,
   "id": "0545c9ab",
   "metadata": {},
   "outputs": [
    {
     "name": "stdout",
     "output_type": "stream",
     "text": [
      "Please enter the width of the rectantgle:10\n"
     ]
    }
   ],
   "source": [
    "width = int(input('Please enter the width of the rectantgle:'))"
   ]
  },
  {
   "cell_type": "code",
   "execution_count": 53,
   "id": "7d674716",
   "metadata": {},
   "outputs": [
    {
     "data": {
      "text/plain": [
       "50"
      ]
     },
     "execution_count": 53,
     "metadata": {},
     "output_type": "execute_result"
    }
   ],
   "source": [
    "perimeter = 2*length + 2*width\n",
    "perimeter"
   ]
  },
  {
   "cell_type": "code",
   "execution_count": 57,
   "id": "2481eb05",
   "metadata": {},
   "outputs": [
    {
     "data": {
      "text/plain": [
       "150"
      ]
     },
     "execution_count": 57,
     "metadata": {},
     "output_type": "execute_result"
    }
   ],
   "source": [
    "area = length * width\n",
    "area"
   ]
  },
  {
   "cell_type": "code",
   "execution_count": 58,
   "id": "0c166219",
   "metadata": {},
   "outputs": [
    {
     "name": "stdout",
     "output_type": "stream",
     "text": [
      "Please enter the length of the rectangle:15\n"
     ]
    }
   ],
   "source": [
    "length = int(input('Please enter the length of the rectangle:'))"
   ]
  },
  {
   "cell_type": "code",
   "execution_count": 59,
   "id": "1098952f",
   "metadata": {},
   "outputs": [
    {
     "name": "stdout",
     "output_type": "stream",
     "text": [
      "Please enter the width of the rectantgle:10\n"
     ]
    }
   ],
   "source": [
    "width = int(input('Please enter the width of the rectantgle:'))"
   ]
  },
  {
   "cell_type": "code",
   "execution_count": 60,
   "id": "d367563a",
   "metadata": {},
   "outputs": [
    {
     "name": "stdout",
     "output_type": "stream",
     "text": [
      "Please enter the height of the rectantgle:2\n"
     ]
    }
   ],
   "source": [
    "height = int(input('Please enter the height of the rectantgle:'))"
   ]
  },
  {
   "cell_type": "code",
   "execution_count": 61,
   "id": "6f8aa6b8",
   "metadata": {},
   "outputs": [],
   "source": [
    "volume = length*width*height"
   ]
  },
  {
   "cell_type": "code",
   "execution_count": 62,
   "id": "29d6e172",
   "metadata": {},
   "outputs": [
    {
     "data": {
      "text/plain": [
       "300"
      ]
     },
     "execution_count": 62,
     "metadata": {},
     "output_type": "execute_result"
    }
   ],
   "source": [
    "volume\n"
   ]
  }
 ],
 "metadata": {
  "kernelspec": {
   "display_name": "Python 3 (ipykernel)",
   "language": "python",
   "name": "python3"
  },
  "language_info": {
   "codemirror_mode": {
    "name": "ipython",
    "version": 3
   },
   "file_extension": ".py",
   "mimetype": "text/x-python",
   "name": "python",
   "nbconvert_exporter": "python",
   "pygments_lexer": "ipython3",
   "version": "3.10.9"
  }
 },
 "nbformat": 4,
 "nbformat_minor": 5
}
