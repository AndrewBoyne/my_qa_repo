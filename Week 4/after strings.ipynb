{
 "cells": [
  {
   "cell_type": "code",
   "execution_count": 4,
   "id": "b5a3f93d",
   "metadata": {},
   "outputs": [],
   "source": [
    "import pandas as pd"
   ]
  },
  {
   "cell_type": "code",
   "execution_count": null,
   "id": "54920589",
   "metadata": {},
   "outputs": [],
   "source": []
  },
  {
   "cell_type": "code",
   "execution_count": 5,
   "id": "74e1c6c8",
   "metadata": {},
   "outputs": [],
   "source": [
    "data = pd.read_csv(\"iris_dataset.csv\")"
   ]
  },
  {
   "cell_type": "code",
   "execution_count": 6,
   "id": "9a67c324",
   "metadata": {},
   "outputs": [],
   "source": [
    "df = data"
   ]
  },
  {
   "cell_type": "code",
   "execution_count": 8,
   "id": "b1053188",
   "metadata": {},
   "outputs": [
    {
     "data": {
      "text/html": [
       "<div>\n",
       "<style scoped>\n",
       "    .dataframe tbody tr th:only-of-type {\n",
       "        vertical-align: middle;\n",
       "    }\n",
       "\n",
       "    .dataframe tbody tr th {\n",
       "        vertical-align: top;\n",
       "    }\n",
       "\n",
       "    .dataframe thead th {\n",
       "        text-align: right;\n",
       "    }\n",
       "</style>\n",
       "<table border=\"1\" class=\"dataframe\">\n",
       "  <thead>\n",
       "    <tr style=\"text-align: right;\">\n",
       "      <th></th>\n",
       "      <th>sepal length (cm)</th>\n",
       "      <th>sepal width (cm)</th>\n",
       "      <th>petal length (cm)</th>\n",
       "      <th>petal width (cm)</th>\n",
       "      <th>target</th>\n",
       "    </tr>\n",
       "  </thead>\n",
       "  <tbody>\n",
       "    <tr>\n",
       "      <th>count</th>\n",
       "      <td>150.000000</td>\n",
       "      <td>150.000000</td>\n",
       "      <td>150.000000</td>\n",
       "      <td>150.000000</td>\n",
       "      <td>150.000000</td>\n",
       "    </tr>\n",
       "    <tr>\n",
       "      <th>mean</th>\n",
       "      <td>5.843333</td>\n",
       "      <td>3.057333</td>\n",
       "      <td>3.758000</td>\n",
       "      <td>1.199333</td>\n",
       "      <td>1.000000</td>\n",
       "    </tr>\n",
       "    <tr>\n",
       "      <th>std</th>\n",
       "      <td>0.828066</td>\n",
       "      <td>0.435866</td>\n",
       "      <td>1.765298</td>\n",
       "      <td>0.762238</td>\n",
       "      <td>0.819232</td>\n",
       "    </tr>\n",
       "    <tr>\n",
       "      <th>min</th>\n",
       "      <td>4.300000</td>\n",
       "      <td>2.000000</td>\n",
       "      <td>1.000000</td>\n",
       "      <td>0.100000</td>\n",
       "      <td>0.000000</td>\n",
       "    </tr>\n",
       "    <tr>\n",
       "      <th>25%</th>\n",
       "      <td>5.100000</td>\n",
       "      <td>2.800000</td>\n",
       "      <td>1.600000</td>\n",
       "      <td>0.300000</td>\n",
       "      <td>0.000000</td>\n",
       "    </tr>\n",
       "    <tr>\n",
       "      <th>50%</th>\n",
       "      <td>5.800000</td>\n",
       "      <td>3.000000</td>\n",
       "      <td>4.350000</td>\n",
       "      <td>1.300000</td>\n",
       "      <td>1.000000</td>\n",
       "    </tr>\n",
       "    <tr>\n",
       "      <th>75%</th>\n",
       "      <td>6.400000</td>\n",
       "      <td>3.300000</td>\n",
       "      <td>5.100000</td>\n",
       "      <td>1.800000</td>\n",
       "      <td>2.000000</td>\n",
       "    </tr>\n",
       "    <tr>\n",
       "      <th>max</th>\n",
       "      <td>7.900000</td>\n",
       "      <td>4.400000</td>\n",
       "      <td>6.900000</td>\n",
       "      <td>2.500000</td>\n",
       "      <td>2.000000</td>\n",
       "    </tr>\n",
       "  </tbody>\n",
       "</table>\n",
       "</div>"
      ],
      "text/plain": [
       "       sepal length (cm)  sepal width (cm)  petal length (cm)  \\\n",
       "count         150.000000        150.000000         150.000000   \n",
       "mean            5.843333          3.057333           3.758000   \n",
       "std             0.828066          0.435866           1.765298   \n",
       "min             4.300000          2.000000           1.000000   \n",
       "25%             5.100000          2.800000           1.600000   \n",
       "50%             5.800000          3.000000           4.350000   \n",
       "75%             6.400000          3.300000           5.100000   \n",
       "max             7.900000          4.400000           6.900000   \n",
       "\n",
       "       petal width (cm)      target  \n",
       "count        150.000000  150.000000  \n",
       "mean           1.199333    1.000000  \n",
       "std            0.762238    0.819232  \n",
       "min            0.100000    0.000000  \n",
       "25%            0.300000    0.000000  \n",
       "50%            1.300000    1.000000  \n",
       "75%            1.800000    2.000000  \n",
       "max            2.500000    2.000000  "
      ]
     },
     "execution_count": 8,
     "metadata": {},
     "output_type": "execute_result"
    }
   ],
   "source": [
    "df.describe()"
   ]
  },
  {
   "cell_type": "code",
   "execution_count": 9,
   "id": "0bd944fa",
   "metadata": {},
   "outputs": [
    {
     "name": "stdout",
     "output_type": "stream",
     "text": [
      "Hello World\n"
     ]
    }
   ],
   "source": [
    "print('Hello World')"
   ]
  },
  {
   "cell_type": "code",
   "execution_count": 11,
   "id": "c06a0166",
   "metadata": {},
   "outputs": [
    {
     "data": {
      "text/plain": [
       "'Hello World'"
      ]
     },
     "execution_count": 11,
     "metadata": {},
     "output_type": "execute_result"
    }
   ],
   "source": [
    "'Hello World'"
   ]
  },
  {
   "cell_type": "code",
   "execution_count": 12,
   "id": "15d9a4a5",
   "metadata": {},
   "outputs": [],
   "source": [
    "username='Bob'"
   ]
  },
  {
   "cell_type": "code",
   "execution_count": 13,
   "id": "53ed1129",
   "metadata": {},
   "outputs": [],
   "source": [
    "age='32'"
   ]
  },
  {
   "cell_type": "code",
   "execution_count": 18,
   "id": "0a43ce89",
   "metadata": {},
   "outputs": [
    {
     "name": "stdout",
     "output_type": "stream",
     "text": [
      "Bob is 32 years old\n"
     ]
    }
   ],
   "source": [
    "print(username,'is',age,'years old')"
   ]
  },
  {
   "cell_type": "code",
   "execution_count": 17,
   "id": "094c46ea",
   "metadata": {},
   "outputs": [
    {
     "ename": "TypeError",
     "evalue": "can only concatenate str (not \"int\") to str",
     "output_type": "error",
     "traceback": [
      "\u001b[1;31m---------------------------------------------------------------------------\u001b[0m",
      "\u001b[1;31mTypeError\u001b[0m                                 Traceback (most recent call last)",
      "Cell \u001b[1;32mIn[17], line 1\u001b[0m\n\u001b[1;32m----> 1\u001b[0m \u001b[38;5;28mprint\u001b[39m(username,\u001b[38;5;124;43m'\u001b[39;49m\u001b[38;5;124;43mis\u001b[39;49m\u001b[38;5;124;43m'\u001b[39;49m\u001b[38;5;241;43m+\u001b[39;49m\u001b[43mage\u001b[49m\u001b[38;5;241m+\u001b[39m\u001b[38;5;124m'\u001b[39m\u001b[38;5;124myears old\u001b[39m\u001b[38;5;124m'\u001b[39m)\n",
      "\u001b[1;31mTypeError\u001b[0m: can only concatenate str (not \"int\") to str"
     ]
    }
   ],
   "source": [
    "print(username,'is'+age+'years old')"
   ]
  },
  {
   "cell_type": "code",
   "execution_count": 19,
   "id": "2914cdb8",
   "metadata": {},
   "outputs": [],
   "source": [
    "username='Bob'"
   ]
  },
  {
   "cell_type": "code",
   "execution_count": 20,
   "id": "254d4e7d",
   "metadata": {},
   "outputs": [],
   "source": [
    "age='32'"
   ]
  },
  {
   "cell_type": "code",
   "execution_count": 21,
   "id": "cae37bb9",
   "metadata": {},
   "outputs": [
    {
     "name": "stdout",
     "output_type": "stream",
     "text": [
      "Bobis32years old\n"
     ]
    }
   ],
   "source": [
    "print(username+'is'+age+'years old')"
   ]
  },
  {
   "cell_type": "code",
   "execution_count": 23,
   "id": "c6e295f8",
   "metadata": {},
   "outputs": [
    {
     "name": "stdout",
     "output_type": "stream",
     "text": [
      "Please enter your nameAndy\n"
     ]
    }
   ],
   "source": [
    "username=input('Please enter your name')"
   ]
  },
  {
   "cell_type": "code",
   "execution_count": 24,
   "id": "da5c18bd",
   "metadata": {},
   "outputs": [
    {
     "name": "stdout",
     "output_type": "stream",
     "text": [
      "Please enter your name21\n"
     ]
    }
   ],
   "source": [
    "age =input('Please enter your name')"
   ]
  },
  {
   "cell_type": "code",
   "execution_count": 25,
   "id": "287d42c3",
   "metadata": {},
   "outputs": [
    {
     "name": "stdout",
     "output_type": "stream",
     "text": [
      "Andy is 21 years old.)\n"
     ]
    }
   ],
   "source": [
    "print(username,'is',age,'years old.)')"
   ]
  },
  {
   "cell_type": "code",
   "execution_count": 32,
   "id": "1e37e4e6",
   "metadata": {},
   "outputs": [],
   "source": [
    "Number_of_crayons = 50\n",
    "number_of_children = 6\n",
    "crayons_each_child_will_get = Number_of_crayons / number_of_children"
   ]
  },
  {
   "cell_type": "code",
   "execution_count": 41,
   "id": "21110d69",
   "metadata": {},
   "outputs": [
    {
     "name": "stdout",
     "output_type": "stream",
     "text": [
      "Each child will get 8 crayons\n"
     ]
    }
   ],
   "source": [
    "print(f\"Each child will get {crayons_each_child_will_get} crayons\")"
   ]
  },
  {
   "cell_type": "code",
   "execution_count": 42,
   "id": "4d7f02e8",
   "metadata": {},
   "outputs": [
    {
     "name": "stdout",
     "output_type": "stream",
     "text": [
      "Each child will get 8 crayons\n"
     ]
    }
   ],
   "source": [
    "print(f\"Each child will get {crayons_each_child_will_get} crayons\")"
   ]
  },
  {
   "cell_type": "markdown",
   "id": "985e386b",
   "metadata": {},
   "source": [
    "Easier without all the language"
   ]
  },
  {
   "cell_type": "code",
   "execution_count": 43,
   "id": "d7fe3081",
   "metadata": {},
   "outputs": [
    {
     "data": {
      "text/plain": [
       "8.333333333333334"
      ]
     },
     "execution_count": 43,
     "metadata": {},
     "output_type": "execute_result"
    }
   ],
   "source": [
    "50/6"
   ]
  },
  {
   "cell_type": "markdown",
   "id": "66233564",
   "metadata": {},
   "source": [
    "gives the precise number"
   ]
  },
  {
   "cell_type": "code",
   "execution_count": 45,
   "id": "10da2800",
   "metadata": {},
   "outputs": [
    {
     "data": {
      "text/plain": [
       "6"
      ]
     },
     "execution_count": 45,
     "metadata": {},
     "output_type": "execute_result"
    }
   ],
   "source": [
    "50//8"
   ]
  },
  {
   "cell_type": "markdown",
   "id": "80eca0d9",
   "metadata": {},
   "source": [
    "Gives the whole number with a remainder (but doesn't note the remainder)"
   ]
  },
  {
   "cell_type": "code",
   "execution_count": 51,
   "id": "f83008f4",
   "metadata": {},
   "outputs": [
    {
     "name": "stdout",
     "output_type": "stream",
     "text": [
      "Please enter the length of the rectangle:15\n"
     ]
    }
   ],
   "source": [
    "length = int(input('Please enter the length of the rectangle:'))"
   ]
  },
  {
   "cell_type": "code",
   "execution_count": 56,
   "id": "ee33465c",
   "metadata": {},
   "outputs": [
    {
     "name": "stdout",
     "output_type": "stream",
     "text": [
      "Please enter the width of the rectantgle:10\n"
     ]
    }
   ],
   "source": [
    "width = int(input('Please enter the width of the rectantgle:'))"
   ]
  },
  {
   "cell_type": "code",
   "execution_count": 53,
   "id": "430c819a",
   "metadata": {},
   "outputs": [
    {
     "data": {
      "text/plain": [
       "50"
      ]
     },
     "execution_count": 53,
     "metadata": {},
     "output_type": "execute_result"
    }
   ],
   "source": [
    "perimeter = 2*length + 2*width\n",
    "perimeter"
   ]
  },
  {
   "cell_type": "code",
   "execution_count": 57,
   "id": "6c7cf671",
   "metadata": {},
   "outputs": [
    {
     "data": {
      "text/plain": [
       "150"
      ]
     },
     "execution_count": 57,
     "metadata": {},
     "output_type": "execute_result"
    }
   ],
   "source": [
    "area = length * width\n",
    "area"
   ]
  },
  {
   "cell_type": "code",
   "execution_count": 58,
   "id": "92e23dd9",
   "metadata": {},
   "outputs": [
    {
     "name": "stdout",
     "output_type": "stream",
     "text": [
      "Please enter the length of the rectangle:15\n"
     ]
    }
   ],
   "source": [
    "length = int(input('Please enter the length of the rectangle:'))"
   ]
  },
  {
   "cell_type": "code",
   "execution_count": 59,
   "id": "bbd4ecd4",
   "metadata": {},
   "outputs": [
    {
     "name": "stdout",
     "output_type": "stream",
     "text": [
      "Please enter the width of the rectantgle:10\n"
     ]
    }
   ],
   "source": [
    "width = int(input('Please enter the width of the rectantgle:'))"
   ]
  },
  {
   "cell_type": "code",
   "execution_count": 60,
   "id": "c45bb6d1",
   "metadata": {},
   "outputs": [
    {
     "name": "stdout",
     "output_type": "stream",
     "text": [
      "Please enter the height of the rectantgle:2\n"
     ]
    }
   ],
   "source": [
    "height = int(input('Please enter the height of the rectantgle:'))"
   ]
  },
  {
   "cell_type": "code",
   "execution_count": 61,
   "id": "cdab9d6d",
   "metadata": {},
   "outputs": [],
   "source": [
    "volume = length*width*height"
   ]
  },
  {
   "cell_type": "code",
   "execution_count": 63,
   "id": "f8ce117f",
   "metadata": {},
   "outputs": [
    {
     "data": {
      "text/plain": [
       "300"
      ]
     },
     "execution_count": 63,
     "metadata": {},
     "output_type": "execute_result"
    }
   ],
   "source": [
    "volume\n"
   ]
  },
  {
   "cell_type": "code",
   "execution_count": 71,
   "id": "468cd3c5",
   "metadata": {},
   "outputs": [],
   "source": [
    "\n"
   ]
  },
  {
   "cell_type": "code",
   "execution_count": 78,
   "id": "b734de20",
   "metadata": {},
   "outputs": [
    {
     "data": {
      "text/plain": [
       "1.6666666666666667"
      ]
     },
     "execution_count": 78,
     "metadata": {},
     "output_type": "execute_result"
    }
   ],
   "source": []
  },
  {
   "cell_type": "code",
   "execution_count": 75,
   "id": "43abe726",
   "metadata": {},
   "outputs": [
    {
     "data": {
      "text/plain": [
       "1"
      ]
     },
     "execution_count": 75,
     "metadata": {},
     "output_type": "execute_result"
    }
   ],
   "source": []
  },
  {
   "cell_type": "code",
   "execution_count": 68,
   "id": "1a832820",
   "metadata": {},
   "outputs": [],
   "source": [
    "numbers = [1,3,5,7]"
   ]
  },
  {
   "cell_type": "code",
   "execution_count": 79,
   "id": "b9f2cfe1",
   "metadata": {},
   "outputs": [],
   "source": [
    "Names = ['Bob', 'Steve', 'Helen']"
   ]
  },
  {
   "cell_type": "code",
   "execution_count": 80,
   "id": "6a363c94",
   "metadata": {},
   "outputs": [],
   "source": [
    "Mix = [1, 3.14, \"fruit\", True]"
   ]
  },
  {
   "cell_type": "code",
   "execution_count": 82,
   "id": "d982657f",
   "metadata": {},
   "outputs": [
    {
     "name": "stdout",
     "output_type": "stream",
     "text": [
      "['Bob', 'Steve', 'Helen']\n"
     ]
    }
   ],
   "source": [
    "print (Names)"
   ]
  },
  {
   "cell_type": "code",
   "execution_count": 85,
   "id": "d5a89627",
   "metadata": {},
   "outputs": [
    {
     "name": "stdout",
     "output_type": "stream",
     "text": [
      "[1, 3.14, 'fruit', True]\n"
     ]
    }
   ],
   "source": [
    "print (Mix)"
   ]
  },
  {
   "cell_type": "code",
   "execution_count": 86,
   "id": "20feb57f",
   "metadata": {},
   "outputs": [
    {
     "name": "stdout",
     "output_type": "stream",
     "text": [
      "[1, 3.14, 'fruit', True]\n"
     ]
    }
   ],
   "source": [
    "print (Mix)"
   ]
  },
  {
   "cell_type": "code",
   "execution_count": 94,
   "id": "fceb60e8",
   "metadata": {},
   "outputs": [
    {
     "name": "stdout",
     "output_type": "stream",
     "text": [
      "Bob\n"
     ]
    }
   ],
   "source": [
    "print (Names[0])"
   ]
  },
  {
   "cell_type": "code",
   "execution_count": 96,
   "id": "af35eeca",
   "metadata": {},
   "outputs": [
    {
     "name": "stdout",
     "output_type": "stream",
     "text": [
      "Helen\n"
     ]
    }
   ],
   "source": [
    "print (Names[-1])"
   ]
  },
  {
   "cell_type": "code",
   "execution_count": 130,
   "id": "94e77a1d",
   "metadata": {},
   "outputs": [
    {
     "name": "stdout",
     "output_type": "stream",
     "text": [
      "W\n"
     ]
    }
   ],
   "source": [
    "s = 'Hello World'\n",
    "print (s[6])"
   ]
  },
  {
   "cell_type": "code",
   "execution_count": 106,
   "id": "b721aa70",
   "metadata": {},
   "outputs": [
    {
     "name": "stdout",
     "output_type": "stream",
     "text": [
      "[7, 9, 11, 13, 15, 17, 19]\n"
     ]
    }
   ],
   "source": [
    "numbers = [1,3,5,7,9,11,13,15,17,19,21]\n",
    "print (numbers[3:10])"
   ]
  },
  {
   "cell_type": "markdown",
   "id": "724956c7",
   "metadata": {},
   "source": [
    "Question - why does it stop at 19? zero is 1 so 3 is 7 OK.  Why is 10 not 21?"
   ]
  },
  {
   "cell_type": "markdown",
   "id": "d203d2c0",
   "metadata": {},
   "source": [
    "print (numbers [2:]) "
   ]
  },
  {
   "cell_type": "code",
   "execution_count": 108,
   "id": "d7cd9835",
   "metadata": {},
   "outputs": [
    {
     "name": "stdout",
     "output_type": "stream",
     "text": [
      "[5, 7, 9, 11, 13, 15, 17, 19, 21]\n"
     ]
    }
   ],
   "source": [
    "print (numbers[2:])"
   ]
  },
  {
   "cell_type": "code",
   "execution_count": 109,
   "id": "25564b7b",
   "metadata": {},
   "outputs": [
    {
     "name": "stdout",
     "output_type": "stream",
     "text": [
      "[1, 3, 5, 7, 9, 11]\n"
     ]
    }
   ],
   "source": [
    "print (numbers[:6])"
   ]
  },
  {
   "cell_type": "code",
   "execution_count": 137,
   "id": "404069c4",
   "metadata": {},
   "outputs": [
    {
     "name": "stdout",
     "output_type": "stream",
     "text": [
      "[1, 88]\n"
     ]
    }
   ],
   "source": [
    "print (numbers[::3])"
   ]
  },
  {
   "cell_type": "code",
   "execution_count": 111,
   "id": "b5f97bbc",
   "metadata": {},
   "outputs": [],
   "source": [
    "numbers = [1,3,5]"
   ]
  },
  {
   "cell_type": "code",
   "execution_count": 112,
   "id": "12d47754",
   "metadata": {},
   "outputs": [
    {
     "name": "stdout",
     "output_type": "stream",
     "text": [
      "[1, 3, 5]\n"
     ]
    }
   ],
   "source": [
    "print (numbers)"
   ]
  },
  {
   "cell_type": "code",
   "execution_count": 113,
   "id": "fea37053",
   "metadata": {},
   "outputs": [],
   "source": [
    "numbers.append (88)"
   ]
  },
  {
   "cell_type": "code",
   "execution_count": 114,
   "id": "710cd4ca",
   "metadata": {},
   "outputs": [
    {
     "name": "stdout",
     "output_type": "stream",
     "text": [
      "[1, 3, 5, 88]\n"
     ]
    }
   ],
   "source": [
    "print (numbers)"
   ]
  },
  {
   "cell_type": "code",
   "execution_count": 118,
   "id": "1480c797",
   "metadata": {},
   "outputs": [
    {
     "data": {
      "text/plain": [
       "'great britain'"
      ]
     },
     "execution_count": 118,
     "metadata": {},
     "output_type": "execute_result"
    }
   ],
   "source": [
    "test = 'great britain'\n",
    "test"
   ]
  },
  {
   "cell_type": "code",
   "execution_count": 121,
   "id": "8c0479e3",
   "metadata": {},
   "outputs": [],
   "source": [
    "testGB = test.capitalize()"
   ]
  },
  {
   "cell_type": "code",
   "execution_count": 123,
   "id": "9ca4cacf",
   "metadata": {},
   "outputs": [
    {
     "data": {
      "text/plain": [
       "'Great britain'"
      ]
     },
     "execution_count": 123,
     "metadata": {},
     "output_type": "execute_result"
    }
   ],
   "source": [
    "testGB"
   ]
  },
  {
   "cell_type": "code",
   "execution_count": 124,
   "id": "e0913f3f",
   "metadata": {},
   "outputs": [],
   "source": [
    "testGB1 = testGB.title()"
   ]
  },
  {
   "cell_type": "code",
   "execution_count": 125,
   "id": "1260e082",
   "metadata": {},
   "outputs": [
    {
     "data": {
      "text/plain": [
       "'Great Britain'"
      ]
     },
     "execution_count": 125,
     "metadata": {},
     "output_type": "execute_result"
    }
   ],
   "source": [
    "testGB1"
   ]
  },
  {
   "cell_type": "code",
   "execution_count": 126,
   "id": "2f4bbe41",
   "metadata": {},
   "outputs": [
    {
     "ename": "SyntaxError",
     "evalue": "invalid syntax (4039359141.py, line 1)",
     "output_type": "error",
     "traceback": [
      "\u001b[1;36m  Cell \u001b[1;32mIn[126], line 1\u001b[1;36m\u001b[0m\n\u001b[1;33m    testGB1.\u001b[0m\n\u001b[1;37m            ^\u001b[0m\n\u001b[1;31mSyntaxError\u001b[0m\u001b[1;31m:\u001b[0m invalid syntax\n"
     ]
    }
   ],
   "source": [
    "numbers."
   ]
  },
  {
   "cell_type": "code",
   "execution_count": 131,
   "id": "4a2cb939",
   "metadata": {},
   "outputs": [],
   "source": [
    "s = 'Hello World'"
   ]
  },
  {
   "cell_type": "code",
   "execution_count": 133,
   "id": "757ee287",
   "metadata": {},
   "outputs": [
    {
     "data": {
      "text/plain": [
       "<function str.title()>"
      ]
     },
     "execution_count": 133,
     "metadata": {},
     "output_type": "execute_result"
    }
   ],
   "source": [
    "s.title"
   ]
  },
  {
   "cell_type": "code",
   "execution_count": 135,
   "id": "0dad192d",
   "metadata": {},
   "outputs": [
    {
     "data": {
      "text/plain": [
       "'Hello World'"
      ]
     },
     "execution_count": 135,
     "metadata": {},
     "output_type": "execute_result"
    }
   ],
   "source": [
    "s\n"
   ]
  },
  {
   "cell_type": "code",
   "execution_count": null,
   "id": "150e49f9",
   "metadata": {},
   "outputs": [],
   "source": []
  }
 ],
 "metadata": {
  "kernelspec": {
   "display_name": "Python 3 (ipykernel)",
   "language": "python",
   "name": "python3"
  },
  "language_info": {
   "codemirror_mode": {
    "name": "ipython",
    "version": 3
   },
   "file_extension": ".py",
   "mimetype": "text/x-python",
   "name": "python",
   "nbconvert_exporter": "python",
   "pygments_lexer": "ipython3",
   "version": "3.10.9"
  }
 },
 "nbformat": 4,
 "nbformat_minor": 5
}
