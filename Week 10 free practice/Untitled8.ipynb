{
 "cells": [
  {
   "cell_type": "code",
   "execution_count": 1,
   "id": "63a86c6b",
   "metadata": {},
   "outputs": [],
   "source": [
    "import numpy as np\n",
    "import pandas as pd\n",
    "import seaborn as sns\n",
    "import matplotlib.pyplot as plt\n",
    "\n",
    "from sklearn import preprocessing\n",
    "from sklearn import metrics \n",
    "from sklearn import tree\n",
    "from sklearn.model_selection import train_test_split\n",
    "from sklearn.metrics import classification_report\n",
    "from sklearn.metrics import confusion_matrix, ConfusionMatrixDisplay\n"
   ]
  },
  {
   "cell_type": "code",
   "execution_count": 13,
   "id": "74381d83",
   "metadata": {},
   "outputs": [],
   "source": [
    "NewUFOs_cleaned=pd.read_csv(\"NewUFOs_cleaned.csv\")\n",
    "Cities=pd.read_csv(\"Cities.csv\")\n",
    "Hours=pd.read_csv(\"Hours.csv\")\n",
    "Months=pd.read_csv(\"Months.csv\")\n",
    "ufo_sightings=pd.read_csv(\"ufo_sightings.csv\")\n",
    "shapes=pd.read_csv(\"shapes.csv\")\n",
    "Years=pd.read_csv(\"Years.csv\")\n",
    "UFOs=pd.read_csv(\"UFOs.csv\")\n",
    "onehot=pd.read_csv(\"onehot.csv\")"
   ]
  },
  {
   "cell_type": "code",
   "execution_count": 24,
   "id": "a65feda2",
   "metadata": {},
   "outputs": [
    {
     "name": "stdout",
     "output_type": "stream",
     "text": [
      "<class 'pandas.core.frame.DataFrame'>\n",
      "RangeIndex: 60632 entries, 0 to 60631\n",
      "Data columns (total 95 columns):\n",
      " #   Column           Non-Null Count  Dtype  \n",
      "---  ------           --------------  -----  \n",
      " 0   Unnamed: 0.1     60632 non-null  int64  \n",
      " 1   Unnamed: 0       60632 non-null  int64  \n",
      " 2   Country          60632 non-null  object \n",
      " 3   Duration         60632 non-null  float64\n",
      " 4   Comments         60632 non-null  object \n",
      " 5   Latitude         60632 non-null  float64\n",
      " 6   Longitude        60632 non-null  float64\n",
      " 7   Year             60632 non-null  int64  \n",
      " 8   Month            60632 non-null  int64  \n",
      " 9   Day              60632 non-null  int64  \n",
      " 10  Hour             60632 non-null  int64  \n",
      " 11  Minute           60632 non-null  int64  \n",
      " 12  Shape_count      60632 non-null  int64  \n",
      " 13  City_count       60632 non-null  int64  \n",
      " 14  Country_count    60632 non-null  int64  \n",
      " 15  Year_count       60632 non-null  int64  \n",
      " 16  State_AK         60632 non-null  int64  \n",
      " 17  State_AL         60632 non-null  int64  \n",
      " 18  State_AR         60632 non-null  int64  \n",
      " 19  State_AZ         60632 non-null  int64  \n",
      " 20  State_CA         60632 non-null  int64  \n",
      " 21  State_CO         60632 non-null  int64  \n",
      " 22  State_CT         60632 non-null  int64  \n",
      " 23  State_DC         60632 non-null  int64  \n",
      " 24  State_DE         60632 non-null  int64  \n",
      " 25  State_FL         60632 non-null  int64  \n",
      " 26  State_GA         60632 non-null  int64  \n",
      " 27  State_HI         60632 non-null  int64  \n",
      " 28  State_IA         60632 non-null  int64  \n",
      " 29  State_ID         60632 non-null  int64  \n",
      " 30  State_IL         60632 non-null  int64  \n",
      " 31  State_IN         60632 non-null  int64  \n",
      " 32  State_KS         60632 non-null  int64  \n",
      " 33  State_KY         60632 non-null  int64  \n",
      " 34  State_LA         60632 non-null  int64  \n",
      " 35  State_MA         60632 non-null  int64  \n",
      " 36  State_MD         60632 non-null  int64  \n",
      " 37  State_ME         60632 non-null  int64  \n",
      " 38  State_MI         60632 non-null  int64  \n",
      " 39  State_MN         60632 non-null  int64  \n",
      " 40  State_MO         60632 non-null  int64  \n",
      " 41  State_MS         60632 non-null  int64  \n",
      " 42  State_MT         60632 non-null  int64  \n",
      " 43  State_NC         60632 non-null  int64  \n",
      " 44  State_ND         60632 non-null  int64  \n",
      " 45  State_NE         60632 non-null  int64  \n",
      " 46  State_NH         60632 non-null  int64  \n",
      " 47  State_NJ         60632 non-null  int64  \n",
      " 48  State_NM         60632 non-null  int64  \n",
      " 49  State_NV         60632 non-null  int64  \n",
      " 50  State_NY         60632 non-null  int64  \n",
      " 51  State_OH         60632 non-null  int64  \n",
      " 52  State_OK         60632 non-null  int64  \n",
      " 53  State_OR         60632 non-null  int64  \n",
      " 54  State_PA         60632 non-null  int64  \n",
      " 55  State_RI         60632 non-null  int64  \n",
      " 56  State_SC         60632 non-null  int64  \n",
      " 57  State_SD         60632 non-null  int64  \n",
      " 58  State_TN         60632 non-null  int64  \n",
      " 59  State_TX         60632 non-null  int64  \n",
      " 60  State_UT         60632 non-null  int64  \n",
      " 61  State_VA         60632 non-null  int64  \n",
      " 62  State_VT         60632 non-null  int64  \n",
      " 63  State_WA         60632 non-null  int64  \n",
      " 64  State_WI         60632 non-null  int64  \n",
      " 65  State_WV         60632 non-null  int64  \n",
      " 66  State_WY         60632 non-null  int64  \n",
      " 67  Shape_changed    60632 non-null  int64  \n",
      " 68  Shape_changing   60632 non-null  int64  \n",
      " 69  Shape_chevron    60632 non-null  int64  \n",
      " 70  Shape_cigar      60632 non-null  int64  \n",
      " 71  Shape_circle     60632 non-null  int64  \n",
      " 72  Shape_cone       60632 non-null  int64  \n",
      " 73  Shape_crescent   60632 non-null  int64  \n",
      " 74  Shape_cross      60632 non-null  int64  \n",
      " 75  Shape_cylinder   60632 non-null  int64  \n",
      " 76  Shape_delta      60632 non-null  int64  \n",
      " 77  Shape_diamond    60632 non-null  int64  \n",
      " 78  Shape_disk       60632 non-null  int64  \n",
      " 79  Shape_egg        60632 non-null  int64  \n",
      " 80  Shape_fireball   60632 non-null  int64  \n",
      " 81  Shape_flare      60632 non-null  int64  \n",
      " 82  Shape_flash      60632 non-null  int64  \n",
      " 83  Shape_formation  60632 non-null  int64  \n",
      " 84  Shape_hexagon    60632 non-null  int64  \n",
      " 85  Shape_light      60632 non-null  int64  \n",
      " 86  Shape_other      60632 non-null  int64  \n",
      " 87  Shape_oval       60632 non-null  int64  \n",
      " 88  Shape_pyramid    60632 non-null  int64  \n",
      " 89  Shape_rectangle  60632 non-null  int64  \n",
      " 90  Shape_round      60632 non-null  int64  \n",
      " 91  Shape_sphere     60632 non-null  int64  \n",
      " 92  Shape_teardrop   60632 non-null  int64  \n",
      " 93  Shape_triangle   60632 non-null  int64  \n",
      " 94  Shape_unknown    60632 non-null  int64  \n",
      "dtypes: float64(3), int64(90), object(2)\n",
      "memory usage: 43.9+ MB\n"
     ]
    }
   ],
   "source": [
    "onehot.info()"
   ]
  },
  {
   "cell_type": "code",
   "execution_count": 28,
   "id": "48dbe76c",
   "metadata": {},
   "outputs": [
    {
     "data": {
      "text/plain": [
       "<Axes: >"
      ]
     },
     "execution_count": 28,
     "metadata": {},
     "output_type": "execute_result"
    },
    {
     "data": {
      "image/png": "[encoded data removed]",
      "text/plain": [
       "<Figure size 640x480 with 1 Axes>"
      ]
     },
     "metadata": {},
     "output_type": "display_data"
    }
   ],
   "source": [
    "onehot['State_NV'].value_counts().plot(kind='bar')"
   ]
  },
  {
   "cell_type": "code",
   "execution_count": 29,
   "id": "47e50290",
   "metadata": {},
   "outputs": [
    {
     "data": {
      "text/plain": [
       "Index(['Unnamed: 0.1', 'Unnamed: 0', 'Country', 'Duration', 'Comments',\n",
       "       'Latitude ', 'Longitude ', 'Year', 'Month', 'Day', 'Hour', 'Minute',\n",
       "       'Shape_count', 'City_count', 'Country_count', 'Year_count', 'State_AK',\n",
       "       'State_AL', 'State_AR', 'State_AZ', 'State_CA', 'State_CO', 'State_CT',\n",
       "       'State_DC', 'State_DE', 'State_FL', 'State_GA', 'State_HI', 'State_IA',\n",
       "       'State_ID', 'State_IL', 'State_IN', 'State_KS', 'State_KY', 'State_LA',\n",
       "       'State_MA', 'State_MD', 'State_ME', 'State_MI', 'State_MN', 'State_MO',\n",
       "       'State_MS', 'State_MT', 'State_NC', 'State_ND', 'State_NE', 'State_NH',\n",
       "       'State_NJ', 'State_NM', 'State_NV', 'State_NY', 'State_OH', 'State_OK',\n",
       "       'State_OR', 'State_PA', 'State_RI', 'State_SC', 'State_SD', 'State_TN',\n",
       "       'State_TX', 'State_UT', 'State_VA', 'State_VT', 'State_WA', 'State_WI',\n",
       "       'State_WV', 'State_WY', 'Shape_changed', 'Shape_changing',\n",
       "       'Shape_chevron', 'Shape_cigar', 'Shape_circle', 'Shape_cone',\n",
       "       'Shape_crescent', 'Shape_cross', 'Shape_cylinder', 'Shape_delta',\n",
       "       'Shape_diamond', 'Shape_disk', 'Shape_egg', 'Shape_fireball',\n",
       "       'Shape_flare', 'Shape_flash', 'Shape_formation', 'Shape_hexagon',\n",
       "       'Shape_light', 'Shape_other', 'Shape_oval', 'Shape_pyramid',\n",
       "       'Shape_rectangle', 'Shape_round', 'Shape_sphere', 'Shape_teardrop',\n",
       "       'Shape_triangle', 'Shape_unknown'],\n",
       "      dtype='object')"
      ]
     },
     "execution_count": 29,
     "metadata": {},
     "output_type": "execute_result"
    }
   ],
   "source": [
    "onehot.columns"
   ]
  },
  {
   "cell_type": "code",
   "execution_count": 43,
   "id": "92b8258b",
   "metadata": {},
   "outputs": [],
   "source": [
    "cols=[ 'Duration', 'Latitude ', 'Longitude ', 'Year', 'Month', 'Day', 'Hour', 'Minute',\n",
    "       'Shape_count', 'City_count', 'Country_count', 'Year_count', 'State_AK',\n",
    "       'State_AL', 'State_AR', 'State_AZ', 'State_CA', 'State_CO', 'State_CT',\n",
    "       'State_DC', 'State_DE', 'State_FL', 'State_GA', 'State_HI', 'State_IA',\n",
    "       'State_ID', 'State_IL', 'State_IN', 'State_KS', 'State_KY', 'State_LA',\n",
    "       'State_MA', 'State_MD', 'State_ME', 'State_MI', 'State_MN', 'State_MO',\n",
    "       'State_MS', 'State_MT', 'State_NC', 'State_ND', 'State_NE', 'State_NH',\n",
    "       'State_NJ', 'State_NM', 'State_NV', 'State_NY', 'State_OH', 'State_OK',\n",
    "       'State_OR', 'State_PA', 'State_RI', 'State_SC', 'State_SD', 'State_TN',\n",
    "       'State_TX', 'State_UT', 'State_VA', 'State_VT', 'State_WA', 'State_WI',\n",
    "       'State_WV', 'State_WY', 'Shape_changed', 'Shape_changing',\n",
    "       'Shape_chevron', 'Shape_cigar', 'Shape_circle', 'Shape_cone',\n",
    "       'Shape_crescent', 'Shape_cross', 'Shape_cylinder', 'Shape_delta',\n",
    "       'Shape_diamond', 'Shape_disk', 'Shape_egg', 'Shape_fireball',\n",
    "       'Shape_flare', 'Shape_flash', 'Shape_formation', 'Shape_hexagon',\n",
    "       'Shape_light', 'Shape_other', 'Shape_oval', 'Shape_pyramid',\n",
    "       'Shape_rectangle', 'Shape_round', 'Shape_sphere', 'Shape_teardrop',\n",
    "       'Shape_triangle', 'Shape_unknown']"
   ]
  },
  {
   "cell_type": "code",
   "execution_count": 44,
   "id": "24dd9c4c",
   "metadata": {},
   "outputs": [],
   "source": [
    "X_train, X_test, y_train, y_test = train_test_split(onehot[cols], \n",
    "                                                    onehot['Hour'], \n",
    "                                                    test_size=0.3, \n",
    "                                                    random_state=1)"
   ]
  },
  {
   "cell_type": "code",
   "execution_count": 48,
   "id": "87678075",
   "metadata": {},
   "outputs": [
    {
     "name": "stdout",
     "output_type": "stream",
     "text": [
      "Accuracy of the model:0.0866    Number of trees = 1\n",
      "Accuracy of the model:0.5153    Number of trees = 11\n",
      "Accuracy of the model:0.6148    Number of trees = 21\n",
      "Accuracy of the model:0.7501    Number of trees = 31\n",
      "Accuracy of the model:0.7626    Number of trees = 41\n",
      "Accuracy of the model:0.7589    Number of trees = 51\n",
      "Accuracy of the model:0.7599    Number of trees = 61\n",
      "Accuracy of the model:0.7684    Number of trees = 71\n",
      "Accuracy of the model:0.7741    Number of trees = 81\n",
      "Accuracy of the model:0.7711    Number of trees = 91\n"
     ]
    },
    {
     "ename": "NameError",
     "evalue": "name 'predictions' is not defined",
     "output_type": "error",
     "traceback": [
      "\u001b[1;31m---------------------------------------------------------------------------\u001b[0m",
      "\u001b[1;31mNameError\u001b[0m                                 Traceback (most recent call last)",
      "Cell \u001b[1;32mIn[48], line 38\u001b[0m\n\u001b[0;32m     33\u001b[0m     \u001b[38;5;28mprint\u001b[39m(\u001b[38;5;124mf\u001b[39m\u001b[38;5;124m\"\u001b[39m\u001b[38;5;124mAccuracy of the model:\u001b[39m\u001b[38;5;132;01m{\u001b[39;00mmetrics\u001b[38;5;241m.\u001b[39maccuracy_score(y_test, y_pred)\u001b[38;5;241m.\u001b[39mround(\u001b[38;5;241m4\u001b[39m)\u001b[38;5;132;01m}\u001b[39;00m\u001b[38;5;124m    Number of trees = \u001b[39m\u001b[38;5;132;01m{\u001b[39;00mtrees\u001b[38;5;132;01m}\u001b[39;00m\u001b[38;5;124m\"\u001b[39m)\n\u001b[0;32m     36\u001b[0m \u001b[38;5;66;03m# Displaying precision and recall figures\u001b[39;00m\n\u001b[0;32m     37\u001b[0m \u001b[38;5;28mprint\u001b[39m(classification_report(y_test, \n\u001b[1;32m---> 38\u001b[0m                         \u001b[43mpredictions\u001b[49m,\n\u001b[0;32m     39\u001b[0m                         target_names\u001b[38;5;241m=\u001b[39m[\u001b[38;5;124m\"\u001b[39m\u001b[38;5;124mHour\u001b[39m\u001b[38;5;124m\"\u001b[39m]))\n\u001b[0;32m     42\u001b[0m \u001b[38;5;66;03m# PLotting the confusion matrix\u001b[39;00m\n\u001b[0;32m     43\u001b[0m predictions \u001b[38;5;241m=\u001b[39m rf\u001b[38;5;241m.\u001b[39mpredict(X_test)\n",
      "\u001b[1;31mNameError\u001b[0m: name 'predictions' is not defined"
     ]
    }
   ],
   "source": [
    "from sklearn.ensemble import RandomForestClassifier\n",
    "\n",
    "\n",
    "\n",
    "for trees in range(1,100,10):\n",
    "\n",
    "    rf = RandomForestClassifier(\n",
    "                                # setting the amount of trees in the forest\n",
    "                                n_estimators = trees,\n",
    "\n",
    "                                # the max depth of any tree\n",
    "                                max_depth = 10,\n",
    "\n",
    "                                # the minimum number of sample that must be in a leaf\n",
    "                                min_samples_leaf=5,\n",
    "\n",
    "                                # wether or not to use botstrapping, or all of the dataset on each tree\n",
    "                                bootstrap=True,\n",
    "\n",
    "                                # adding weights to each class, can be user defined\n",
    "                                # or automatically calculated due to the distribution of classes\n",
    "                                # balanced_subsample calculates wieghts for each sub sample of data each tree receives\n",
    "                                class_weight = 'balanced_subsample',\n",
    "\n",
    "                                random_state = 42\n",
    "                                       ) \n",
    "\n",
    "    rf.fit(X_train, y_train)\n",
    "\n",
    "    y_pred = rf.predict(X_test)\n",
    "\n",
    "\n",
    "    print(f\"Accuracy of the model:{metrics.accuracy_score(y_test, y_pred).round(4)}    Number of trees = {trees}\")\n",
    "\n",
    "\n",
    "# Displaying precision and recall figures\n",
    "print(classification_report(y_test, \n",
    "                        predictions,\n",
    "                        target_names=[\"Hour\"]))\n",
    "\n",
    "\n",
    "# PLotting the confusion matrix\n",
    "predictions = rf.predict(X_test)\n",
    "\n",
    "cm = confusion_matrix(y_test, \n",
    "                      predictions, \n",
    "                      labels=rf.classes_\n",
    "                     )\n",
    "\n",
    "disp = ConfusionMatrixDisplay(confusion_matrix=cm,\n",
    "                              display_labels=('Hour')\n",
    "                             )\n",
    "\n",
    "disp.plot();"
   ]
  },
  {
   "cell_type": "code",
   "execution_count": 49,
   "id": "fd5be694",
   "metadata": {},
   "outputs": [
    {
     "data": {
      "text/plain": [
       "array(['Duration', 'Latitude ', 'Longitude ', 'Year', 'Month', 'Day',\n",
       "       'Hour', 'Minute', 'Shape_count', 'City_count', 'Country_count',\n",
       "       'Year_count', 'State_AK', 'State_AL', 'State_AR', 'State_AZ',\n",
       "       'State_CA', 'State_CO', 'State_CT', 'State_DC', 'State_DE',\n",
       "       'State_FL', 'State_GA', 'State_HI', 'State_IA', 'State_ID',\n",
       "       'State_IL', 'State_IN', 'State_KS', 'State_KY', 'State_LA',\n",
       "       'State_MA', 'State_MD', 'State_ME', 'State_MI', 'State_MN',\n",
       "       'State_MO', 'State_MS', 'State_MT', 'State_NC', 'State_ND',\n",
       "       'State_NE', 'State_NH', 'State_NJ', 'State_NM', 'State_NV',\n",
       "       'State_NY', 'State_OH', 'State_OK', 'State_OR', 'State_PA',\n",
       "       'State_RI', 'State_SC', 'State_SD', 'State_TN', 'State_TX',\n",
       "       'State_UT', 'State_VA', 'State_VT', 'State_WA', 'State_WI',\n",
       "       'State_WV', 'State_WY', 'Shape_changed', 'Shape_changing',\n",
       "       'Shape_chevron', 'Shape_cigar', 'Shape_circle', 'Shape_cone',\n",
       "       'Shape_crescent', 'Shape_cross', 'Shape_cylinder', 'Shape_delta',\n",
       "       'Shape_diamond', 'Shape_disk', 'Shape_egg', 'Shape_fireball',\n",
       "       'Shape_flare', 'Shape_flash', 'Shape_formation', 'Shape_hexagon',\n",
       "       'Shape_light', 'Shape_other', 'Shape_oval', 'Shape_pyramid',\n",
       "       'Shape_rectangle', 'Shape_round', 'Shape_sphere', 'Shape_teardrop',\n",
       "       'Shape_triangle', 'Shape_unknown'], dtype=object)"
      ]
     },
     "execution_count": 49,
     "metadata": {},
     "output_type": "execute_result"
    }
   ],
   "source": [
    "rf.feature_names_in_"
   ]
  },
  {
   "cell_type": "code",
   "execution_count": 50,
   "id": "6dfdbbe3",
   "metadata": {},
   "outputs": [
    {
     "data": {
      "text/plain": [
       "array([2.43026214e-02, 2.41899747e-02, 2.37433374e-02, 2.58669136e-02,\n",
       "       3.72685571e-02, 2.09656686e-02, 6.59177373e-01, 2.56459332e-02,\n",
       "       2.26240870e-02, 2.21861871e-02, 0.00000000e+00, 2.17644691e-02,\n",
       "       5.02455318e-04, 1.45709329e-03, 3.13108287e-04, 2.01400506e-03,\n",
       "       3.54184607e-03, 1.72646940e-03, 6.78795349e-04, 0.00000000e+00,\n",
       "       2.10199851e-04, 2.20283419e-03, 1.11901887e-03, 4.64366513e-04,\n",
       "       5.24509732e-04, 6.48230852e-04, 1.32874159e-03, 1.59221473e-03,\n",
       "       6.94339272e-04, 9.86892513e-04, 8.89046564e-04, 1.00401090e-03,\n",
       "       7.50311851e-04, 6.67807307e-04, 1.68450504e-03, 7.59212309e-04,\n",
       "       9.13239756e-04, 3.45368441e-04, 4.60642226e-04, 1.43676192e-03,\n",
       "       3.14521130e-04, 3.86507463e-04, 4.76135482e-04, 9.85897443e-04,\n",
       "       9.66759382e-04, 1.55462524e-03, 1.45123646e-03, 1.69640579e-03,\n",
       "       7.85954296e-04, 9.47017192e-04, 1.25404048e-03, 1.82090274e-04,\n",
       "       8.84166354e-04, 4.54878403e-04, 1.03522471e-03, 2.13724418e-03,\n",
       "       9.31801095e-04, 9.84208996e-04, 2.40831647e-04, 1.78752707e-03,\n",
       "       1.03871406e-03, 4.27233189e-04, 1.38173875e-04, 0.00000000e+00,\n",
       "       9.29788881e-04, 3.70841523e-04, 3.60958731e-03, 2.14311974e-03,\n",
       "       1.65183993e-04, 0.00000000e+00, 2.82018834e-04, 1.98873660e-03,\n",
       "       0.00000000e+00, 6.64273496e-04, 3.85577724e-03, 1.34357357e-03,\n",
       "       3.40604787e-03, 0.00000000e+00, 1.02873079e-03, 1.56783764e-03,\n",
       "       0.00000000e+00, 9.23223667e-03, 1.54816598e-03, 1.62723569e-03,\n",
       "       0.00000000e+00, 1.12178189e-03, 0.00000000e+00, 3.08378761e-03,\n",
       "       8.58102891e-04, 1.90972405e-03, 1.55110450e-03])"
      ]
     },
     "execution_count": 50,
     "metadata": {},
     "output_type": "execute_result"
    }
   ],
   "source": [
    "rf.feature_importances_"
   ]
  },
  {
   "cell_type": "code",
   "execution_count": 51,
   "id": "9f3bf78a",
   "metadata": {},
   "outputs": [
    {
     "data": {
      "image/png": "[encoded data removed]",
      "text/plain": [
       "<Figure size 640x480 with 1 Axes>"
      ]
     },
     "metadata": {},
     "output_type": "display_data"
    }
   ],
   "source": [
    "f_i = list(zip(rf.feature_names_in_,rf.feature_importances_))\n",
    "f_i.sort(key = lambda x : x[1],reverse=True)\n",
    "plt.bar([x[0] for x in f_i],[x[1] for x in f_i])\n",
    "\n",
    "plt.show()"
   ]
  },
  {
   "cell_type": "code",
   "execution_count": 52,
   "id": "6b5f171b",
   "metadata": {},
   "outputs": [],
   "source": [
    "from sklearn.ensemble import GradientBoostingClassifier"
   ]
  },
  {
   "cell_type": "code",
   "execution_count": 53,
   "id": "5bf93daf",
   "metadata": {},
   "outputs": [],
   "source": [
    "# Takes a long time.  Is it necessary?\n",
    "gb = GradientBoostingClassifier()\n",
    "\n",
    "gb.fit(X_train, y_train)\n",
    "\n",
    "y_pred = gb.predict(X_test)"
   ]
  },
  {
   "cell_type": "code",
   "execution_count": 55,
   "id": "ac908848",
   "metadata": {},
   "outputs": [
    {
     "name": "stdout",
     "output_type": "stream",
     "text": [
      "Accuracy of the model:1.0    Number of trees = 100\n"
     ]
    },
    {
     "ename": "ValueError",
     "evalue": "Number of classes, 24, does not match size of target_names, 1. Try specifying the labels parameter",
     "output_type": "error",
     "traceback": [
      "\u001b[1;31m---------------------------------------------------------------------------\u001b[0m",
      "\u001b[1;31mValueError\u001b[0m                                Traceback (most recent call last)",
      "Cell \u001b[1;32mIn[55], line 7\u001b[0m\n\u001b[0;32m      3\u001b[0m \u001b[38;5;28mprint\u001b[39m(\u001b[38;5;124mf\u001b[39m\u001b[38;5;124m\"\u001b[39m\u001b[38;5;124mAccuracy of the model:\u001b[39m\u001b[38;5;132;01m{\u001b[39;00mmetrics\u001b[38;5;241m.\u001b[39maccuracy_score(y_test, y_pred)\u001b[38;5;241m.\u001b[39mround(\u001b[38;5;241m4\u001b[39m)\u001b[38;5;132;01m}\u001b[39;00m\u001b[38;5;124m    Number of trees = \u001b[39m\u001b[38;5;132;01m{\u001b[39;00mtrees\u001b[38;5;132;01m}\u001b[39;00m\u001b[38;5;124m\"\u001b[39m)\n\u001b[0;32m      6\u001b[0m \u001b[38;5;66;03m# Displaying precision and recall figures\u001b[39;00m\n\u001b[1;32m----> 7\u001b[0m \u001b[38;5;28mprint\u001b[39m(\u001b[43mclassification_report\u001b[49m\u001b[43m(\u001b[49m\u001b[43my_test\u001b[49m\u001b[43m,\u001b[49m\u001b[43m \u001b[49m\n\u001b[0;32m      8\u001b[0m \u001b[43m                        \u001b[49m\u001b[43my_pred\u001b[49m\u001b[43m,\u001b[49m\n\u001b[0;32m      9\u001b[0m \u001b[43m                        \u001b[49m\u001b[43mtarget_names\u001b[49m\u001b[38;5;241;43m=\u001b[39;49m\u001b[43m[\u001b[49m\u001b[38;5;124;43m\"\u001b[39;49m\u001b[38;5;124;43mShape_disk\u001b[39;49m\u001b[38;5;124;43m\"\u001b[39;49m\u001b[43m]\u001b[49m\u001b[43m)\u001b[49m)\n\u001b[0;32m     12\u001b[0m \u001b[38;5;66;03m# PLotting the confusion matrix\u001b[39;00m\n\u001b[0;32m     14\u001b[0m cm \u001b[38;5;241m=\u001b[39m confusion_matrix(y_test, \n\u001b[0;32m     15\u001b[0m                       y_pred, \n\u001b[0;32m     16\u001b[0m                       labels\u001b[38;5;241m=\u001b[39mgb\u001b[38;5;241m.\u001b[39mclasses_\n\u001b[0;32m     17\u001b[0m                      )\n",
      "File \u001b[1;32mC:\\ProgramData\\anaconda3\\lib\\site-packages\\sklearn\\metrics\\_classification.py:2332\u001b[0m, in \u001b[0;36mclassification_report\u001b[1;34m(y_true, y_pred, labels, target_names, sample_weight, digits, output_dict, zero_division)\u001b[0m\n\u001b[0;32m   2326\u001b[0m         warnings\u001b[38;5;241m.\u001b[39mwarn(\n\u001b[0;32m   2327\u001b[0m             \u001b[38;5;124m\"\u001b[39m\u001b[38;5;124mlabels size, \u001b[39m\u001b[38;5;132;01m{0}\u001b[39;00m\u001b[38;5;124m, does not match size of target_names, \u001b[39m\u001b[38;5;132;01m{1}\u001b[39;00m\u001b[38;5;124m\"\u001b[39m\u001b[38;5;241m.\u001b[39mformat(\n\u001b[0;32m   2328\u001b[0m                 \u001b[38;5;28mlen\u001b[39m(labels), \u001b[38;5;28mlen\u001b[39m(target_names)\n\u001b[0;32m   2329\u001b[0m             )\n\u001b[0;32m   2330\u001b[0m         )\n\u001b[0;32m   2331\u001b[0m     \u001b[38;5;28;01melse\u001b[39;00m:\n\u001b[1;32m-> 2332\u001b[0m         \u001b[38;5;28;01mraise\u001b[39;00m \u001b[38;5;167;01mValueError\u001b[39;00m(\n\u001b[0;32m   2333\u001b[0m             \u001b[38;5;124m\"\u001b[39m\u001b[38;5;124mNumber of classes, \u001b[39m\u001b[38;5;132;01m{0}\u001b[39;00m\u001b[38;5;124m, does not match size of \u001b[39m\u001b[38;5;124m\"\u001b[39m\n\u001b[0;32m   2334\u001b[0m             \u001b[38;5;124m\"\u001b[39m\u001b[38;5;124mtarget_names, \u001b[39m\u001b[38;5;132;01m{1}\u001b[39;00m\u001b[38;5;124m. Try specifying the labels \u001b[39m\u001b[38;5;124m\"\u001b[39m\n\u001b[0;32m   2335\u001b[0m             \u001b[38;5;124m\"\u001b[39m\u001b[38;5;124mparameter\u001b[39m\u001b[38;5;124m\"\u001b[39m\u001b[38;5;241m.\u001b[39mformat(\u001b[38;5;28mlen\u001b[39m(labels), \u001b[38;5;28mlen\u001b[39m(target_names))\n\u001b[0;32m   2336\u001b[0m         )\n\u001b[0;32m   2337\u001b[0m \u001b[38;5;28;01mif\u001b[39;00m target_names \u001b[38;5;129;01mis\u001b[39;00m \u001b[38;5;28;01mNone\u001b[39;00m:\n\u001b[0;32m   2338\u001b[0m     target_names \u001b[38;5;241m=\u001b[39m [\u001b[38;5;124m\"\u001b[39m\u001b[38;5;132;01m%s\u001b[39;00m\u001b[38;5;124m\"\u001b[39m \u001b[38;5;241m%\u001b[39m l \u001b[38;5;28;01mfor\u001b[39;00m l \u001b[38;5;129;01min\u001b[39;00m labels]\n",
      "\u001b[1;31mValueError\u001b[0m: Number of classes, 24, does not match size of target_names, 1. Try specifying the labels parameter"
     ]
    }
   ],
   "source": [
    "trees  = gb.n_estimators\n",
    "\n",
    "print(f\"Accuracy of the model:{metrics.accuracy_score(y_test, y_pred).round(4)}    Number of trees = {trees}\")\n",
    "\n",
    "\n",
    "# Displaying precision and recall figures\n",
    "print(classification_report(y_test, \n",
    "                        y_pred,\n",
    "                        target_names=[\"Shape_disk\"]))\n",
    "\n",
    "\n",
    "# PLotting the confusion matrix\n",
    "\n",
    "cm = confusion_matrix(y_test, \n",
    "                      y_pred, \n",
    "                      labels=gb.classes_\n",
    "                     )\n",
    "\n",
    "disp = ConfusionMatrixDisplay(confusion_matrix=cm,\n",
    "                              display_labels=('Shape_disk')\n",
    "                             )\n",
    "\n",
    "disp.plot();"
   ]
  },
  {
   "cell_type": "code",
   "execution_count": null,
   "id": "66d4f889",
   "metadata": {},
   "outputs": [],
   "source": []
  }
 ],
 "metadata": {
  "kernelspec": {
   "display_name": "Python 3 (ipykernel)",
   "language": "python",
   "name": "python3"
  },
  "language_info": {
   "codemirror_mode": {
    "name": "ipython",
    "version": 3
   },
   "file_extension": ".py",
   "mimetype": "text/x-python",
   "name": "python",
   "nbconvert_exporter": "python",
   "pygments_lexer": "ipython3",
   "version": "3.10.9"
  }
 },
 "nbformat": 4,
 "nbformat_minor": 5
}
