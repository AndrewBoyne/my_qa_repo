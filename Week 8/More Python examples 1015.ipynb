{
 "cells": [
  {
   "cell_type": "code",
   "execution_count": 12,
   "id": "feff875d",
   "metadata": {},
   "outputs": [],
   "source": [
    "teams = {'Chelsea' : 24,\n",
    "         'Arsenal' : 16,\n",
    "         'Everton' : 25,\n",
    "         'Burnley' : 43,\n",
    "        'Manchester United': 44}"
   ]
  },
  {
   "cell_type": "code",
   "execution_count": 2,
   "id": "b2fbc5cb",
   "metadata": {},
   "outputs": [
    {
     "data": {
      "text/plain": [
       "{'Chelsea': 24, 'Arsenal': 16, 'Everton': 25, 'Burnley': 43}"
      ]
     },
     "execution_count": 2,
     "metadata": {},
     "output_type": "execute_result"
    }
   ],
   "source": [
    "teams"
   ]
  },
  {
   "cell_type": "code",
   "execution_count": 13,
   "id": "f749c205",
   "metadata": {},
   "outputs": [
    {
     "name": "stdout",
     "output_type": "stream",
     "text": [
      "Chelsea :  24\n",
      "Arsenal :  16\n",
      "Everton :  25\n",
      "Burnley :  43\n",
      "Manchester United :  44\n"
     ]
    }
   ],
   "source": [
    "for team in teams:\n",
    "    print(team + ' :  ' + str(teams[team]))"
   ]
  },
  {
   "cell_type": "code",
   "execution_count": 14,
   "id": "6fc6369a",
   "metadata": {},
   "outputs": [
    {
     "name": "stdout",
     "output_type": "stream",
     "text": [
      "Chelsea:  24.0 points\n",
      "Arsenal:  16.0 points\n",
      "Everton:  25.0 points\n",
      "Burnley:  43.0 points\n",
      "Manchester United:  44.0 points\n"
     ]
    }
   ],
   "source": [
    "for team in teams:\n",
    "    print(f\"{team:7s}:{teams[team]:6.1f} points\")\n",
    "\n",
    "#7s - spaces for the team characters\n",
    "#6.1 - 6 spaces for the points characters with 1 decimal place"
   ]
  },
  {
   "cell_type": "code",
   "execution_count": 16,
   "id": "43cffd56",
   "metadata": {},
   "outputs": [
    {
     "name": "stdout",
     "output_type": "stream",
     "text": [
      "Chelsea             :  24.0 points\n",
      "Arsenal             :  16.0 points\n",
      "Everton             :  25.0 points\n",
      "Burnley             :  43.0 points\n",
      "Manchester United   :  44.0 points\n"
     ]
    }
   ],
   "source": [
    "for team in teams:\n",
    "    print(f\"{team:20s}:{teams[team]:6.1f} points\")\n",
    "\n",
    "#7s - spaces for the team characters\n",
    "#6.1 - 6 spaces for the points characters with 1 decimal place\n",
    "#20 gives more space for Man Utd"
   ]
  },
  {
   "cell_type": "code",
   "execution_count": null,
   "id": "124c7846",
   "metadata": {},
   "outputs": [],
   "source": []
  }
 ],
 "metadata": {
  "kernelspec": {
   "display_name": "Python 3 (ipykernel)",
   "language": "python",
   "name": "python3"
  },
  "language_info": {
   "codemirror_mode": {
    "name": "ipython",
    "version": 3
   },
   "file_extension": ".py",
   "mimetype": "text/x-python",
   "name": "python",
   "nbconvert_exporter": "python",
   "pygments_lexer": "ipython3",
   "version": "3.10.9"
  }
 },
 "nbformat": 4,
 "nbformat_minor": 5
}
