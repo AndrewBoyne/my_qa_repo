{
 "cells": [
  {
   "cell_type": "code",
   "execution_count": 1,
   "id": "7a03fc74",
   "metadata": {},
   "outputs": [],
   "source": [
    "import re"
   ]
  },
  {
   "cell_type": "code",
   "execution_count": 17,
   "id": "33c7a6e7",
   "metadata": {},
   "outputs": [],
   "source": [
    "testy = 'The quick brown fox jumps over the lazy dog'\n",
    "m = re.search(r\"(quick|slow).*(fox|camel)\", testy)"
   ]
  },
  {
   "cell_type": "code",
   "execution_count": 18,
   "id": "280c7505",
   "metadata": {},
   "outputs": [
    {
     "name": "stdout",
     "output_type": "stream",
     "text": [
      "Matched ('quick', 'fox')\n",
      "Starting at 4\n",
      "Ending at 19\n"
     ]
    }
   ],
   "source": [
    "if m:\n",
    "    print('Matched', m.groups())\n",
    "    print('Starting at', m.start())\n",
    "    print('Ending at', m.end())"
   ]
  },
  {
   "cell_type": "code",
   "execution_count": 24,
   "id": "4ff33c9f",
   "metadata": {},
   "outputs": [
    {
     "name": "stdout",
     "output_type": "stream",
     "text": [
      "Python for Python Programmers\n",
      "Python for Perl Programmers\n"
     ]
    }
   ],
   "source": [
    "line = 'Perl for Perl Programmers'\n",
    "cs, num = re.subn ('Perl', 'Python', line)\n",
    "if num:\n",
    "    print(cs)\n",
    "    \n",
    "cs, num = re.subn('Perl', 'Python', line, 1) # the 1 limits the number of changes\n",
    "if num:\n",
    "    print(cs)"
   ]
  },
  {
   "cell_type": "code",
   "execution_count": 36,
   "id": "bc60d483",
   "metadata": {},
   "outputs": [
    {
     "name": "stdout",
     "output_type": "stream",
     "text": [
      "Python for Python Programmers in Python\n",
      "Python for Python Programmers in Python\n"
     ]
    }
   ],
   "source": [
    "line = 'Perl for Perl Programmers in Perl'\n",
    "cs, num = re.subn ('Perl', 'Python', line)\n",
    "if num:\n",
    "    print(cs)\n",
    "    \n",
    "cs, num = re.subn('Perl', 'Python', line, 3) #1 limits the umber of changes to one.  2 limits it to two etc.  Max is 5\n",
    "if num:\n",
    "    print(cs)"
   ]
  },
  {
   "cell_type": "code",
   "execution_count": 37,
   "id": "b99f446b",
   "metadata": {},
   "outputs": [
    {
     "data": {
      "text/plain": [
       "3"
      ]
     },
     "execution_count": 37,
     "metadata": {},
     "output_type": "execute_result"
    }
   ],
   "source": [
    "num # the number of changes made"
   ]
  },
  {
   "cell_type": "code",
   "execution_count": 25,
   "id": "c6cde4ef",
   "metadata": {},
   "outputs": [
    {
     "name": "stdout",
     "output_type": "stream",
     "text": [
      "['root', '', '0', '0', 'superuser', '/root', '/bin/sh']\n"
     ]
    }
   ],
   "source": [
    "line = 'root:;0.0:superuser,/root;/bin/sh'\n",
    "elems = re.split('[:;.,]', line)\n",
    "print (elems)"
   ]
  },
  {
   "cell_type": "code",
   "execution_count": 29,
   "id": "f082be4a",
   "metadata": {},
   "outputs": [
    {
     "name": "stdout",
     "output_type": "stream",
     "text": [
      "It's a beer!\n"
     ]
    }
   ],
   "source": [
    "drink = 'A glass of Bud'\n",
    "if re.search(r'Bud|Miller|Coors', drink):\n",
    "    print(\"It's a beer!\")"
   ]
  },
  {
   "cell_type": "code",
   "execution_count": 30,
   "id": "e47b5d2a",
   "metadata": {},
   "outputs": [],
   "source": [
    "drink = 'A glass of Boddies'\n",
    "if re.search(r'Bud|Miller|Coors', drink):\n",
    "    print(\"It's a beer!\")"
   ]
  },
  {
   "cell_type": "code",
   "execution_count": 31,
   "id": "4a6f4894",
   "metadata": {},
   "outputs": [
    {
     "name": "stdout",
     "output_type": "stream",
     "text": [
      "16\n"
     ]
    }
   ],
   "source": [
    "txt = 'Stranger in a strange land' # \\b indicates word boundary (ends in a space) so there are 16 characters before the \n",
    "                                   # appearance of the first range\n",
    "m = re.search(r'range\\b', txt)\n",
    "print(m.start())"
   ]
  },
  {
   "cell_type": "code",
   "execution_count": 39,
   "id": "1f6b5627",
   "metadata": {},
   "outputs": [
    {
     "name": "stdout",
     "output_type": "stream",
     "text": [
      "2\n"
     ]
    }
   ],
   "source": [
    "txt = 'Stranger in a strange land'# \\B indicates non word boundary (does not end in a space) so there are 2 characters before  \n",
    "                                   # the appearance of the first range\n",
    "m = re.search(r'range\\B', txt)\n",
    "print(m.start())"
   ]
  },
  {
   "cell_type": "code",
   "execution_count": 46,
   "id": "b985fc79",
   "metadata": {},
   "outputs": [
    {
     "name": "stdout",
     "output_type": "stream",
     "text": [
      "40\n"
     ]
    }
   ],
   "source": [
    "txt = 'Twelve ranges include a stranger in a strange land'\n",
    "m = re.search(r'range\\b', txt)\n",
    "print(m.start())"
   ]
  },
  {
   "cell_type": "code",
   "execution_count": 44,
   "id": "92b5bc88",
   "metadata": {},
   "outputs": [
    {
     "name": "stdout",
     "output_type": "stream",
     "text": [
      "21\n"
     ]
    }
   ],
   "source": [
    "txt = 'Twelve examples of a range include a stranger in a strange land'\n",
    "m = re.search(r'range\\b', txt)\n",
    "print(m.start())"
   ]
  },
  {
   "cell_type": "code",
   "execution_count": null,
   "id": "f42957e4",
   "metadata": {},
   "outputs": [],
   "source": []
  }
 ],
 "metadata": {
  "kernelspec": {
   "display_name": "Python 3 (ipykernel)",
   "language": "python",
   "name": "python3"
  },
  "language_info": {
   "codemirror_mode": {
    "name": "ipython",
    "version": 3
   },
   "file_extension": ".py",
   "mimetype": "text/x-python",
   "name": "python",
   "nbconvert_exporter": "python",
   "pygments_lexer": "ipython3",
   "version": "3.10.9"
  }
 },
 "nbformat": 4,
 "nbformat_minor": 5
}
