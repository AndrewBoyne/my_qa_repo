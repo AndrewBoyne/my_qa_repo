{
 "cells": [
  {
   "cell_type": "code",
   "execution_count": 1,
   "id": "a72f59bf",
   "metadata": {},
   "outputs": [],
   "source": [
    "import re"
   ]
  },
  {
   "cell_type": "code",
   "execution_count": 17,
   "id": "1d6a5eea",
   "metadata": {},
   "outputs": [],
   "source": [
    "testy = 'The quick brown fox jumps over the lazy dog'\n",
    "m = re.search(r\"(quick|slow).*(fox|camel)\", testy)"
   ]
  },
  {
   "cell_type": "code",
   "execution_count": 18,
   "id": "74eae519",
   "metadata": {},
   "outputs": [
    {
     "name": "stdout",
     "output_type": "stream",
     "text": [
      "Matched ('quick', 'fox')\n",
      "Starting at 4\n",
      "Ending at 19\n"
     ]
    }
   ],
   "source": [
    "if m:\n",
    "    print('Matched', m.groups())\n",
    "    print('Starting at', m.start())\n",
    "    print('Ending at', m.end())"
   ]
  },
  {
   "cell_type": "code",
   "execution_count": 24,
   "id": "7370cb83",
   "metadata": {},
   "outputs": [
    {
     "name": "stdout",
     "output_type": "stream",
     "text": [
      "Python for Python Programmers\n",
      "Python for Perl Programmers\n"
     ]
    }
   ],
   "source": [
    "line = 'Perl for Perl Programmers'\n",
    "cs, num = re.subn ('Perl', 'Python', line)\n",
    "if num:\n",
    "    print(cs)\n",
    "    \n",
    "cs, num = re.subn('Perl', 'Python', line, 1) # the 1 limits the number of changes\n",
    "if num:\n",
    "    print(cs)"
   ]
  },
  {
   "cell_type": "code",
   "execution_count": 36,
   "id": "aed38d8c",
   "metadata": {},
   "outputs": [
    {
     "name": "stdout",
     "output_type": "stream",
     "text": [
      "Python for Python Programmers in Python\n",
      "Python for Python Programmers in Python\n"
     ]
    }
   ],
   "source": [
    "line = 'Perl for Perl Programmers in Perl'\n",
    "cs, num = re.subn ('Perl', 'Python', line)\n",
    "if num:\n",
    "    print(cs)\n",
    "    \n",
    "cs, num = re.subn('Perl', 'Python', line, 3) #1 limits the umber of changes to one.  2 limits it to two etc.  Max is 5\n",
    "if num:\n",
    "    print(cs)"
   ]
  },
  {
   "cell_type": "code",
   "execution_count": 33,
   "id": "8912d86d",
   "metadata": {},
   "outputs": [
    {
     "data": {
      "text/plain": [
       "1"
      ]
     },
     "execution_count": 33,
     "metadata": {},
     "output_type": "execute_result"
    }
   ],
   "source": [
    "num"
   ]
  },
  {
   "cell_type": "code",
   "execution_count": 25,
   "id": "5e0bb6d1",
   "metadata": {},
   "outputs": [
    {
     "name": "stdout",
     "output_type": "stream",
     "text": [
      "['root', '', '0', '0', 'superuser', '/root', '/bin/sh']\n"
     ]
    }
   ],
   "source": [
    "line = 'root:;0.0:superuser,/root;/bin/sh'\n",
    "elems = re.split('[:;.,]', line)\n",
    "print (elems)"
   ]
  },
  {
   "cell_type": "code",
   "execution_count": 29,
   "id": "97d5deae",
   "metadata": {},
   "outputs": [
    {
     "name": "stdout",
     "output_type": "stream",
     "text": [
      "It's a beer!\n"
     ]
    }
   ],
   "source": [
    "drink = 'A glass of Bud'\n",
    "if re.search(r'Bud|Miller|Coors', drink):\n",
    "    print(\"It's a beer!\")"
   ]
  },
  {
   "cell_type": "code",
   "execution_count": 30,
   "id": "34485abf",
   "metadata": {},
   "outputs": [],
   "source": [
    "drink = 'A glass of Boddies'\n",
    "if re.search(r'Bud|Miller|Coors', drink):\n",
    "    print(\"It's a beer!\")"
   ]
  },
  {
   "cell_type": "code",
   "execution_count": 31,
   "id": "3f6f5e0c",
   "metadata": {},
   "outputs": [
    {
     "name": "stdout",
     "output_type": "stream",
     "text": [
      "16\n"
     ]
    }
   ],
   "source": [
    "txt = 'Stranger in a strange land' # 16 characters before the appearance\n",
    "m = re.search(r'range\\b', txt)\n",
    "print(m.start())"
   ]
  },
  {
   "cell_type": "code",
   "execution_count": null,
   "id": "a2d521b2",
   "metadata": {},
   "outputs": [],
   "source": []
  }
 ],
 "metadata": {
  "kernelspec": {
   "display_name": "Python 3 (ipykernel)",
   "language": "python",
   "name": "python3"
  },
  "language_info": {
   "codemirror_mode": {
    "name": "ipython",
    "version": 3
   },
   "file_extension": ".py",
   "mimetype": "text/x-python",
   "name": "python",
   "nbconvert_exporter": "python",
   "pygments_lexer": "ipython3",
   "version": "3.10.9"
  }
 },
 "nbformat": 4,
 "nbformat_minor": 5
}
