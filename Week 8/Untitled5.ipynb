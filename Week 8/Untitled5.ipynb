{
 "cells": [
  {
   "cell_type": "code",
   "execution_count": 1,
   "id": "07170e27",
   "metadata": {},
   "outputs": [],
   "source": [
    "teams = {'Chelsea' : 24,\n",
    "         'Arsenal' : 16,\n",
    "         'Everton' : 25,\n",
    "         'Burnley' : 43}"
   ]
  },
  {
   "cell_type": "code",
   "execution_count": 2,
   "id": "f6b5e3c8",
   "metadata": {},
   "outputs": [
    {
     "data": {
      "text/plain": [
       "{'Chelsea': 24, 'Arsenal': 16, 'Everton': 25, 'Burnley': 43}"
      ]
     },
     "execution_count": 2,
     "metadata": {},
     "output_type": "execute_result"
    }
   ],
   "source": [
    "teams"
   ]
  },
  {
   "cell_type": "code",
   "execution_count": 3,
   "id": "7c44f08c",
   "metadata": {},
   "outputs": [
    {
     "name": "stdout",
     "output_type": "stream",
     "text": [
      "Chelsea :  24\n",
      "Arsenal :  16\n",
      "Everton :  25\n",
      "Burnley :  43\n"
     ]
    }
   ],
   "source": [
    "for team in teams:\n",
    "    print(team + ' :  ' + str(teams[team]))"
   ]
  },
  {
   "cell_type": "code",
   "execution_count": 10,
   "id": "94860345",
   "metadata": {},
   "outputs": [
    {
     "name": "stdout",
     "output_type": "stream",
     "text": [
      "Chelsea:  24.0 points\n",
      "Arsenal:  16.0 points\n",
      "Everton:  25.0 points\n",
      "Burnley:  43.0 points\n"
     ]
    }
   ],
   "source": [
    "for team in teams:\n",
    "    print(f\"{team:7s}:{teams[team]:6.1f} points\")\n",
    "\n",
    "#"
   ]
  },
  {
   "cell_type": "code",
   "execution_count": null,
   "id": "3e6d711d",
   "metadata": {},
   "outputs": [],
   "source": []
  }
 ],
 "metadata": {
  "kernelspec": {
   "display_name": "Python 3 (ipykernel)",
   "language": "python",
   "name": "python3"
  },
  "language_info": {
   "codemirror_mode": {
    "name": "ipython",
    "version": 3
   },
   "file_extension": ".py",
   "mimetype": "text/x-python",
   "name": "python",
   "nbconvert_exporter": "python",
   "pygments_lexer": "ipython3",
   "version": "3.10.9"
  }
 },
 "nbformat": 4,
 "nbformat_minor": 5
}
