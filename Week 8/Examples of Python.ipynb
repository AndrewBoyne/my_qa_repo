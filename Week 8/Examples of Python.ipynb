{
 "cells": [
  {
   "cell_type": "code",
   "execution_count": 5,
   "id": "674e950e",
   "metadata": {},
   "outputs": [
    {
     "data": {
      "text/plain": [
       "'€'"
      ]
     },
     "execution_count": 5,
     "metadata": {},
     "output_type": "execute_result"
    }
   ],
   "source": [
    "euro=\"\\u20ac\"\n",
    "euro"
   ]
  },
  {
   "cell_type": "code",
   "execution_count": 6,
   "id": "a05beb91",
   "metadata": {},
   "outputs": [],
   "source": [
    "import pandas as pd"
   ]
  },
  {
   "cell_type": "code",
   "execution_count": 7,
   "id": "2fbd02ee",
   "metadata": {},
   "outputs": [
    {
     "data": {
      "text/plain": [
       "'€'"
      ]
     },
     "execution_count": 7,
     "metadata": {},
     "output_type": "execute_result"
    }
   ],
   "source": [
    "euro=\"\\N{euro sign}\"\n",
    "euro"
   ]
  },
  {
   "cell_type": "code",
   "execution_count": 8,
   "id": "d8031320",
   "metadata": {},
   "outputs": [
    {
     "name": "stdout",
     "output_type": "stream",
     "text": [
      "€\n"
     ]
    }
   ],
   "source": [
    "print(euro)"
   ]
  },
  {
   "cell_type": "code",
   "execution_count": 9,
   "id": "a6272125",
   "metadata": {},
   "outputs": [
    {
     "data": {
      "text/plain": [
       "'€'"
      ]
     },
     "execution_count": 9,
     "metadata": {},
     "output_type": "execute_result"
    }
   ],
   "source": [
    "euro"
   ]
  },
  {
   "cell_type": "code",
   "execution_count": 10,
   "id": "8651a655",
   "metadata": {},
   "outputs": [
    {
     "name": "stdout",
     "output_type": "stream",
     "text": [
      "\r\n",
      " \u0001\u0002\u0003\n"
     ]
    }
   ],
   "source": [
    "print( '\\r\\n \\1\\2\\3')"
   ]
  },
  {
   "cell_type": "code",
   "execution_count": 11,
   "id": "bf7091d8",
   "metadata": {},
   "outputs": [
    {
     "name": "stdout",
     "output_type": "stream",
     "text": [
      "\\r\\n \\1\\2\\3\n"
     ]
    }
   ],
   "source": [
    "print( r'\\r\\n \\1\\2\\3')"
   ]
  },
  {
   "cell_type": "code",
   "execution_count": 12,
   "id": "f733df67",
   "metadata": {},
   "outputs": [],
   "source": [
    "name = 'Fred' ' ' 'Bloggs'"
   ]
  },
  {
   "cell_type": "code",
   "execution_count": 13,
   "id": "a36d158a",
   "metadata": {},
   "outputs": [
    {
     "data": {
      "text/plain": [
       "'Fred Bloggs'"
      ]
     },
     "execution_count": 13,
     "metadata": {},
     "output_type": "execute_result"
    }
   ],
   "source": [
    "name"
   ]
  },
  {
   "cell_type": "markdown",
   "id": "090ddba8",
   "metadata": {},
   "source": [
    "name = 'Fred' \\"
   ]
  },
  {
   "cell_type": "code",
   "execution_count": 14,
   "id": "a5895ce7",
   "metadata": {},
   "outputs": [],
   "source": [
    "name = 'Fred' \\\n",
    "... ' Bloggs'"
   ]
  },
  {
   "cell_type": "code",
   "execution_count": 15,
   "id": "44885ee3",
   "metadata": {},
   "outputs": [
    {
     "data": {
      "text/plain": [
       "'Fred Bloggs'"
      ]
     },
     "execution_count": 15,
     "metadata": {},
     "output_type": "execute_result"
    }
   ],
   "source": [
    "name"
   ]
  },
  {
   "cell_type": "code",
   "execution_count": 16,
   "id": "d413138e",
   "metadata": {},
   "outputs": [],
   "source": [
    "#name = first + 'Bloggs'"
   ]
  },
  {
   "cell_type": "code",
   "execution_count": 17,
   "id": "6874fb53",
   "metadata": {},
   "outputs": [
    {
     "data": {
      "text/plain": [
       "'Fred Bloggs'"
      ]
     },
     "execution_count": 17,
     "metadata": {},
     "output_type": "execute_result"
    }
   ],
   "source": [
    "name"
   ]
  },
  {
   "cell_type": "code",
   "execution_count": 18,
   "id": "4460c1a6",
   "metadata": {},
   "outputs": [
    {
     "name": "stdout",
     "output_type": "stream",
     "text": [
      "Hello\n",
      "World\n"
     ]
    }
   ],
   "source": [
    "print('Hello\\nWorld')"
   ]
  },
  {
   "cell_type": "code",
   "execution_count": 19,
   "id": "b30ff53a",
   "metadata": {},
   "outputs": [
    {
     "name": "stdout",
     "output_type": "stream",
     "text": [
      "Hello\n",
      "World\n"
     ]
    }
   ],
   "source": [
    "print(\"Hello\\nWorld\")"
   ]
  },
  {
   "cell_type": "code",
   "execution_count": 20,
   "id": "1e30f744",
   "metadata": {},
   "outputs": [
    {
     "data": {
      "text/plain": [
       "11"
      ]
     },
     "execution_count": 20,
     "metadata": {},
     "output_type": "execute_result"
    }
   ],
   "source": [
    "len(name)"
   ]
  },
  {
   "cell_type": "markdown",
   "id": "9c338e7c",
   "metadata": {},
   "source": [
    "str(42)"
   ]
  },
  {
   "cell_type": "code",
   "execution_count": 21,
   "id": "a967d463",
   "metadata": {},
   "outputs": [
    {
     "data": {
      "text/plain": [
       "'42222'"
      ]
     },
     "execution_count": 21,
     "metadata": {},
     "output_type": "execute_result"
    }
   ],
   "source": [
    "str(42222)"
   ]
  },
  {
   "cell_type": "code",
   "execution_count": 22,
   "id": "48a430a6",
   "metadata": {},
   "outputs": [
    {
     "data": {
      "text/plain": [
       "42222"
      ]
     },
     "execution_count": 22,
     "metadata": {},
     "output_type": "execute_result"
    }
   ],
   "source": [
    "int(\"42222\")"
   ]
  },
  {
   "cell_type": "markdown",
   "id": "f03d54c4",
   "metadata": {},
   "source": [
    "int(42222)"
   ]
  },
  {
   "cell_type": "code",
   "execution_count": 23,
   "id": "4cee6152",
   "metadata": {},
   "outputs": [
    {
     "data": {
      "text/plain": [
       "42222"
      ]
     },
     "execution_count": 23,
     "metadata": {},
     "output_type": "execute_result"
    }
   ],
   "source": [
    "int(42222)"
   ]
  },
  {
   "cell_type": "code",
   "execution_count": 24,
   "id": "98de8a53",
   "metadata": {},
   "outputs": [
    {
     "data": {
      "text/plain": [
       "'fred bloggs'"
      ]
     },
     "execution_count": 24,
     "metadata": {},
     "output_type": "execute_result"
    }
   ],
   "source": [
    "str.lower(name)"
   ]
  },
  {
   "cell_type": "code",
   "execution_count": 25,
   "id": "75115e76",
   "metadata": {},
   "outputs": [
    {
     "data": {
      "text/plain": [
       "'FRED BLOGGS'"
      ]
     },
     "execution_count": 25,
     "metadata": {},
     "output_type": "execute_result"
    }
   ],
   "source": [
    "str.upper(name)"
   ]
  },
  {
   "cell_type": "code",
   "execution_count": 26,
   "id": "d95b9719",
   "metadata": {},
   "outputs": [
    {
     "data": {
      "text/plain": [
       "'Fred Bloggs'"
      ]
     },
     "execution_count": 26,
     "metadata": {},
     "output_type": "execute_result"
    }
   ],
   "source": [
    "str.rstrip(name)"
   ]
  },
  {
   "cell_type": "code",
   "execution_count": 27,
   "id": "92c08808",
   "metadata": {},
   "outputs": [],
   "source": [
    "text='Hello World'"
   ]
  },
  {
   "cell_type": "code",
   "execution_count": 28,
   "id": "6454f3ed",
   "metadata": {},
   "outputs": [
    {
     "data": {
      "text/plain": [
       "'Hello World'"
      ]
     },
     "execution_count": 28,
     "metadata": {},
     "output_type": "execute_result"
    }
   ],
   "source": [
    "text"
   ]
  },
  {
   "cell_type": "code",
   "execution_count": 29,
   "id": "54bbb998",
   "metadata": {},
   "outputs": [
    {
     "name": "stdout",
     "output_type": "stream",
     "text": [
      "Hello World\n"
     ]
    }
   ],
   "source": [
    "print(text)"
   ]
  },
  {
   "cell_type": "code",
   "execution_count": 30,
   "id": "c5fbb05c",
   "metadata": {},
   "outputs": [
    {
     "name": "stdout",
     "output_type": "stream",
     "text": [
      "3\n"
     ]
    }
   ],
   "source": [
    "print(text.count('l'))"
   ]
  },
  {
   "cell_type": "code",
   "execution_count": 31,
   "id": "86cf9a64",
   "metadata": {},
   "outputs": [
    {
     "name": "stdout",
     "output_type": "stream",
     "text": [
      "Hello to this world\n"
     ]
    }
   ],
   "source": [
    "if text.startswith('Hell'):\n",
    "    print(\"Hello to this world\")"
   ]
  },
  {
   "cell_type": "code",
   "execution_count": 32,
   "id": "315d96da",
   "metadata": {},
   "outputs": [],
   "source": [
    "if text.isalpha():\n",
    "    print('string is alpha')"
   ]
  },
  {
   "cell_type": "code",
   "execution_count": 33,
   "id": "492865bc",
   "metadata": {},
   "outputs": [],
   "source": [
    "#\"text{0:5.3f}text{1:3.d}text{2}\".format(var1,var2,var3) Doesn't seem to work"
   ]
  },
  {
   "cell_type": "code",
   "execution_count": 34,
   "id": "3b10c948",
   "metadata": {},
   "outputs": [],
   "source": [
    "planets = {'Mercury':57.91,\n",
    "          'Venus':108.2,\n",
    "          'Earth':149.597870,\n",
    "          'Mars':227.94\n",
    "          }"
   ]
  },
  {
   "cell_type": "code",
   "execution_count": 35,
   "id": "fd385f38",
   "metadata": {},
   "outputs": [
    {
     "data": {
      "text/plain": [
       "{'Mercury': 57.91, 'Venus': 108.2, 'Earth': 149.59787, 'Mars': 227.94}"
      ]
     },
     "execution_count": 35,
     "metadata": {},
     "output_type": "execute_result"
    }
   ],
   "source": [
    "planets"
   ]
  },
  {
   "cell_type": "code",
   "execution_count": 36,
   "id": "4b76d14a",
   "metadata": {},
   "outputs": [
    {
     "name": "stdout",
     "output_type": "stream",
     "text": [
      " 1 Mercury    057.91 Gm\n",
      " 2 Venus      108.20 Gm\n",
      " 3 Earth      149.60 Gm\n",
      " 4 Mars       227.94 Gm\n"
     ]
    }
   ],
   "source": [
    "for i, key in enumerate(planets.keys(), 1):\n",
    "    print(\"{:2d} {:<10s} {:06.2f} Gm\".\n",
    "         format (i, key, planets[key]))"
   ]
  },
  {
   "cell_type": "code",
   "execution_count": 37,
   "id": "48a89183",
   "metadata": {},
   "outputs": [
    {
     "data": {
      "text/plain": [
       "'Fred bloggs'"
      ]
     },
     "execution_count": 37,
     "metadata": {},
     "output_type": "execute_result"
    }
   ],
   "source": [
    "str.capitalize(name)"
   ]
  },
  {
   "cell_type": "code",
   "execution_count": 38,
   "id": "cd583dd1",
   "metadata": {},
   "outputs": [
    {
     "name": "stdout",
     "output_type": "stream",
     "text": [
      "Fred bloggs\n"
     ]
    }
   ],
   "source": [
    "print(name.capitalize())"
   ]
  },
  {
   "cell_type": "code",
   "execution_count": 39,
   "id": "92b2aa81",
   "metadata": {},
   "outputs": [
    {
     "data": {
      "text/plain": [
       "'Fred Bloggs'"
      ]
     },
     "execution_count": 39,
     "metadata": {},
     "output_type": "execute_result"
    }
   ],
   "source": [
    "name"
   ]
  },
  {
   "cell_type": "code",
   "execution_count": 40,
   "id": "6dd92ff8",
   "metadata": {},
   "outputs": [
    {
     "data": {
      "text/plain": [
       "'FRED BLOGGS'"
      ]
     },
     "execution_count": 40,
     "metadata": {},
     "output_type": "execute_result"
    }
   ],
   "source": [
    "str.upper(name)"
   ]
  },
  {
   "cell_type": "code",
   "execution_count": 41,
   "id": "2208f55d",
   "metadata": {},
   "outputs": [
    {
     "data": {
      "text/plain": [
       "'Fred bloggs'"
      ]
     },
     "execution_count": 41,
     "metadata": {},
     "output_type": "execute_result"
    }
   ],
   "source": [
    "str.capitalize(name)"
   ]
  },
  {
   "cell_type": "code",
   "execution_count": 42,
   "id": "3e0d5e08",
   "metadata": {},
   "outputs": [],
   "source": [
    "names = ['Tom', 'Andrew', 'Andy', 'Pete', 'Gary']\n",
    "s = f\"The third member is {names[3]}\""
   ]
  },
  {
   "cell_type": "code",
   "execution_count": 43,
   "id": "ddaae29a",
   "metadata": {},
   "outputs": [
    {
     "data": {
      "text/plain": [
       "['Tom', 'Andrew', 'Andy', 'Pete', 'Gary']"
      ]
     },
     "execution_count": 43,
     "metadata": {},
     "output_type": "execute_result"
    }
   ],
   "source": [
    "names"
   ]
  },
  {
   "cell_type": "code",
   "execution_count": 44,
   "id": "c6e209c1",
   "metadata": {},
   "outputs": [
    {
     "name": "stdout",
     "output_type": "stream",
     "text": [
      "3\n"
     ]
    }
   ],
   "source": [
    "print(text.count('l'))"
   ]
  },
  {
   "cell_type": "code",
   "execution_count": 45,
   "id": "0ecb7ede",
   "metadata": {},
   "outputs": [],
   "source": [
    "text = \"Remarkable bird, the Norwegian Blue\""
   ]
  },
  {
   "cell_type": "code",
   "execution_count": 46,
   "id": "ad3bd550",
   "metadata": {},
   "outputs": [
    {
     "data": {
      "text/plain": [
       "'Remarkable bird, the Norwegian Blue'"
      ]
     },
     "execution_count": 46,
     "metadata": {},
     "output_type": "execute_result"
    }
   ],
   "source": [
    "text"
   ]
  },
  {
   "cell_type": "code",
   "execution_count": 47,
   "id": "5ec8ddf7",
   "metadata": {},
   "outputs": [
    {
     "name": "stdout",
     "output_type": "stream",
     "text": [
      "bir\n"
     ]
    }
   ],
   "source": [
    "print(text[11:14])"
   ]
  },
  {
   "cell_type": "code",
   "execution_count": 48,
   "id": "f98d2dc3",
   "metadata": {},
   "outputs": [
    {
     "name": "stdout",
     "output_type": "stream",
     "text": [
      "an Blu\n"
     ]
    }
   ],
   "source": [
    "print(text[-7:-1])"
   ]
  },
  {
   "cell_type": "code",
   "execution_count": 49,
   "id": "2616c95d",
   "metadata": {},
   "outputs": [
    {
     "data": {
      "text/plain": [
       "'bir'"
      ]
     },
     "execution_count": 49,
     "metadata": {},
     "output_type": "execute_result"
    }
   ],
   "source": [
    "text[11:14]"
   ]
  },
  {
   "cell_type": "code",
   "execution_count": 50,
   "id": "6f7cc61d",
   "metadata": {},
   "outputs": [
    {
     "data": {
      "text/plain": [
       "'Remarkable bir'"
      ]
     },
     "execution_count": 50,
     "metadata": {},
     "output_type": "execute_result"
    }
   ],
   "source": [
    "text[:14]"
   ]
  },
  {
   "cell_type": "code",
   "execution_count": 51,
   "id": "8e095f7b",
   "metadata": {},
   "outputs": [
    {
     "data": {
      "text/plain": [
       "'d, the Norwegian Blue'"
      ]
     },
     "execution_count": 51,
     "metadata": {},
     "output_type": "execute_result"
    }
   ],
   "source": [
    "text[14:]"
   ]
  },
  {
   "cell_type": "code",
   "execution_count": 52,
   "id": "f51ed97c",
   "metadata": {},
   "outputs": [
    {
     "name": "stdout",
     "output_type": "stream",
     "text": [
      "avatar::0:0:The super-user (zero):/root:/bin/sh\n"
     ]
    }
   ],
   "source": [
    "line = 'root::0:0:superuser:/root:/bin/sh'\n",
    "elems = line.split(':')\n",
    "\n",
    "elems[0] = 'avatar'\n",
    "elems[4] = 'The super-user (zero)'\n",
    "line = ':'.join(elems)\n",
    "print(line)"
   ]
  },
  {
   "cell_type": "code",
   "execution_count": 53,
   "id": "2670f0ae",
   "metadata": {},
   "outputs": [
    {
     "name": "stdout",
     "output_type": "stream",
     "text": [
      "cats dogs mice sheep frogs\n"
     ]
    }
   ],
   "source": [
    "print('cats', 'dogs', 'mice', 'sheep', 'frogs')"
   ]
  },
  {
   "cell_type": "code",
   "execution_count": 54,
   "id": "1402f6b6",
   "metadata": {},
   "outputs": [
    {
     "name": "stdout",
     "output_type": "stream",
     "text": [
      "cats,dogs,mice,sheep,frogs\n"
     ]
    }
   ],
   "source": [
    "print('cats', 'dogs', 'mice', 'sheep', 'frogs', sep=',') # adds the commas"
   ]
  },
  {
   "cell_type": "code",
   "execution_count": 55,
   "id": "8476849b",
   "metadata": {},
   "outputs": [
    {
     "name": "stdout",
     "output_type": "stream",
     "text": [
      "cats, dogs, mice, sheep, frogs\n"
     ]
    }
   ],
   "source": [
    "print('cats', ' dogs', ' mice', ' sheep', ' frogs', sep=',') # adds the commas and spaces"
   ]
  },
  {
   "cell_type": "code",
   "execution_count": 56,
   "id": "2dbad1f3",
   "metadata": {},
   "outputs": [
    {
     "data": {
      "text/plain": [
       "'Fred Bloggs'"
      ]
     },
     "execution_count": 56,
     "metadata": {},
     "output_type": "execute_result"
    }
   ],
   "source": [
    "name"
   ]
  },
  {
   "cell_type": "code",
   "execution_count": 57,
   "id": "74e0c5fb",
   "metadata": {},
   "outputs": [
    {
     "name": "stdout",
     "output_type": "stream",
     "text": [
      "What is your name?\n",
      "Andy\n",
      "Hi, Andy\n"
     ]
    }
   ],
   "source": [
    "print ('What is your name?')\n",
    "my_name = input()\n",
    "print ('Hi, {}'.format(my_name))"
   ]
  },
  {
   "cell_type": "code",
   "execution_count": 66,
   "id": "99813e27",
   "metadata": {},
   "outputs": [
    {
     "ename": "KeyboardInterrupt",
     "evalue": "Interrupted by user",
     "output_type": "error",
     "traceback": [
      "\u001b[1;31m---------------------------------------------------------------------------\u001b[0m",
      "\u001b[1;31mKeyboardInterrupt\u001b[0m                         Traceback (most recent call last)",
      "Cell \u001b[1;32mIn[66], line 1\u001b[0m\n\u001b[1;32m----> 1\u001b[0m my_name \u001b[38;5;241m=\u001b[39m \u001b[38;5;28;43minput\u001b[39;49m\u001b[43m(\u001b[49m\u001b[38;5;124;43m'\u001b[39;49m\u001b[38;5;124;43mWhat is your name?\u001b[39;49m\u001b[38;5;124;43m'\u001b[39;49m\u001b[43m)\u001b[49m\n\u001b[0;32m      2\u001b[0m \u001b[38;5;28mprint\u001b[39m (\u001b[38;5;124m'\u001b[39m\u001b[38;5;124mHi, \u001b[39m\u001b[38;5;132;01m{}\u001b[39;00m\u001b[38;5;124m'\u001b[39m\u001b[38;5;241m.\u001b[39mformat(my_name))\n",
      "File \u001b[1;32mC:\\ProgramData\\anaconda3\\lib\\site-packages\\ipykernel\\kernelbase.py:1175\u001b[0m, in \u001b[0;36mKernel.raw_input\u001b[1;34m(self, prompt)\u001b[0m\n\u001b[0;32m   1171\u001b[0m \u001b[38;5;28;01mif\u001b[39;00m \u001b[38;5;129;01mnot\u001b[39;00m \u001b[38;5;28mself\u001b[39m\u001b[38;5;241m.\u001b[39m_allow_stdin:\n\u001b[0;32m   1172\u001b[0m     \u001b[38;5;28;01mraise\u001b[39;00m StdinNotImplementedError(\n\u001b[0;32m   1173\u001b[0m         \u001b[38;5;124m\"\u001b[39m\u001b[38;5;124mraw_input was called, but this frontend does not support input requests.\u001b[39m\u001b[38;5;124m\"\u001b[39m\n\u001b[0;32m   1174\u001b[0m     )\n\u001b[1;32m-> 1175\u001b[0m \u001b[38;5;28;01mreturn\u001b[39;00m \u001b[38;5;28;43mself\u001b[39;49m\u001b[38;5;241;43m.\u001b[39;49m\u001b[43m_input_request\u001b[49m\u001b[43m(\u001b[49m\n\u001b[0;32m   1176\u001b[0m \u001b[43m    \u001b[49m\u001b[38;5;28;43mstr\u001b[39;49m\u001b[43m(\u001b[49m\u001b[43mprompt\u001b[49m\u001b[43m)\u001b[49m\u001b[43m,\u001b[49m\n\u001b[0;32m   1177\u001b[0m \u001b[43m    \u001b[49m\u001b[38;5;28;43mself\u001b[39;49m\u001b[38;5;241;43m.\u001b[39;49m\u001b[43m_parent_ident\u001b[49m\u001b[43m[\u001b[49m\u001b[38;5;124;43m\"\u001b[39;49m\u001b[38;5;124;43mshell\u001b[39;49m\u001b[38;5;124;43m\"\u001b[39;49m\u001b[43m]\u001b[49m\u001b[43m,\u001b[49m\n\u001b[0;32m   1178\u001b[0m \u001b[43m    \u001b[49m\u001b[38;5;28;43mself\u001b[39;49m\u001b[38;5;241;43m.\u001b[39;49m\u001b[43mget_parent\u001b[49m\u001b[43m(\u001b[49m\u001b[38;5;124;43m\"\u001b[39;49m\u001b[38;5;124;43mshell\u001b[39;49m\u001b[38;5;124;43m\"\u001b[39;49m\u001b[43m)\u001b[49m\u001b[43m,\u001b[49m\n\u001b[0;32m   1179\u001b[0m \u001b[43m    \u001b[49m\u001b[43mpassword\u001b[49m\u001b[38;5;241;43m=\u001b[39;49m\u001b[38;5;28;43;01mFalse\u001b[39;49;00m\u001b[43m,\u001b[49m\n\u001b[0;32m   1180\u001b[0m \u001b[43m\u001b[49m\u001b[43m)\u001b[49m\n",
      "File \u001b[1;32mC:\\ProgramData\\anaconda3\\lib\\site-packages\\ipykernel\\kernelbase.py:1217\u001b[0m, in \u001b[0;36mKernel._input_request\u001b[1;34m(self, prompt, ident, parent, password)\u001b[0m\n\u001b[0;32m   1214\u001b[0m             \u001b[38;5;28;01mbreak\u001b[39;00m\n\u001b[0;32m   1215\u001b[0m \u001b[38;5;28;01mexcept\u001b[39;00m \u001b[38;5;167;01mKeyboardInterrupt\u001b[39;00m:\n\u001b[0;32m   1216\u001b[0m     \u001b[38;5;66;03m# re-raise KeyboardInterrupt, to truncate traceback\u001b[39;00m\n\u001b[1;32m-> 1217\u001b[0m     \u001b[38;5;28;01mraise\u001b[39;00m \u001b[38;5;167;01mKeyboardInterrupt\u001b[39;00m(\u001b[38;5;124m\"\u001b[39m\u001b[38;5;124mInterrupted by user\u001b[39m\u001b[38;5;124m\"\u001b[39m) \u001b[38;5;28;01mfrom\u001b[39;00m \u001b[38;5;28mNone\u001b[39m\n\u001b[0;32m   1218\u001b[0m \u001b[38;5;28;01mexcept\u001b[39;00m \u001b[38;5;167;01mException\u001b[39;00m:\n\u001b[0;32m   1219\u001b[0m     \u001b[38;5;28mself\u001b[39m\u001b[38;5;241m.\u001b[39mlog\u001b[38;5;241m.\u001b[39mwarning(\u001b[38;5;124m\"\u001b[39m\u001b[38;5;124mInvalid Message:\u001b[39m\u001b[38;5;124m\"\u001b[39m, exc_info\u001b[38;5;241m=\u001b[39m\u001b[38;5;28;01mTrue\u001b[39;00m)\n",
      "\u001b[1;31mKeyboardInterrupt\u001b[0m: Interrupted by user"
     ]
    }
   ],
   "source": [
    "my_name = input('What is your name?')\n",
    "print ('Hi, {}'.format(my_name))"
   ]
  },
  {
   "cell_type": "code",
   "execution_count": 62,
   "id": "36c181f5",
   "metadata": {},
   "outputs": [],
   "source": [
    "def say_hi(name, greeting):\n",
    "    print(f\"{greeting} {name}\")\n"
   ]
  },
  {
   "cell_type": "code",
   "execution_count": 64,
   "id": "293e26a8",
   "metadata": {},
   "outputs": [
    {
     "name": "stdout",
     "output_type": "stream",
     "text": [
      "Hi Anna\n"
     ]
    }
   ],
   "source": [
    "say_hi(name='Anna', greeting='Hi')"
   ]
  },
  {
   "cell_type": "code",
   "execution_count": null,
   "id": "6e10c296",
   "metadata": {},
   "outputs": [],
   "source": [
    "teams = {'Chelsea' : 24,\n",
    "         'Arsenal' : 16,\n",
    "         'Everton' : 25,\n",
    "         'Burnley' : 43}"
   ]
  },
  {
   "cell_type": "code",
   "execution_count": null,
   "id": "d4023cfe",
   "metadata": {},
   "outputs": [],
   "source": []
  }
 ],
 "metadata": {
  "kernelspec": {
   "display_name": "Python 3 (ipykernel)",
   "language": "python",
   "name": "python3"
  },
  "language_info": {
   "codemirror_mode": {
    "name": "ipython",
    "version": 3
   },
   "file_extension": ".py",
   "mimetype": "text/x-python",
   "name": "python",
   "nbconvert_exporter": "python",
   "pygments_lexer": "ipython3",
   "version": "3.10.9"
  }
 },
 "nbformat": 4,
 "nbformat_minor": 5
}
