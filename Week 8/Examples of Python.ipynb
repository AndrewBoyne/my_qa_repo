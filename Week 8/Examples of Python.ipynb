{
 "cells": [
  {
   "cell_type": "code",
   "execution_count": 1,
   "id": "7523ac89",
   "metadata": {},
   "outputs": [
    {
     "data": {
      "text/plain": [
       "'€'"
      ]
     },
     "execution_count": 1,
     "metadata": {},
     "output_type": "execute_result"
    }
   ],
   "source": [
    "euro=\"\\u20ac\"\n",
    "euro"
   ]
  },
  {
   "cell_type": "code",
   "execution_count": 72,
   "id": "532aba8e",
   "metadata": {},
   "outputs": [],
   "source": [
    "import pandas as pd"
   ]
  },
  {
   "cell_type": "code",
   "execution_count": 2,
   "id": "75e1b1dd",
   "metadata": {},
   "outputs": [
    {
     "data": {
      "text/plain": [
       "'€'"
      ]
     },
     "execution_count": 2,
     "metadata": {},
     "output_type": "execute_result"
    }
   ],
   "source": [
    "euro=\"\\N{euro sign}\"\n",
    "euro"
   ]
  },
  {
   "cell_type": "code",
   "execution_count": 3,
   "id": "2803ade6",
   "metadata": {},
   "outputs": [
    {
     "name": "stdout",
     "output_type": "stream",
     "text": [
      "€\n"
     ]
    }
   ],
   "source": [
    "print(euro)"
   ]
  },
  {
   "cell_type": "code",
   "execution_count": 4,
   "id": "d42abc69",
   "metadata": {},
   "outputs": [
    {
     "data": {
      "text/plain": [
       "'€'"
      ]
     },
     "execution_count": 4,
     "metadata": {},
     "output_type": "execute_result"
    }
   ],
   "source": [
    "euro"
   ]
  },
  {
   "cell_type": "code",
   "execution_count": 7,
   "id": "5f6c05f0",
   "metadata": {},
   "outputs": [
    {
     "name": "stdout",
     "output_type": "stream",
     "text": [
      "\r\n",
      " \u0001\u0002\u0003\n"
     ]
    }
   ],
   "source": [
    "print( '\\r\\n \\1\\2\\3')"
   ]
  },
  {
   "cell_type": "code",
   "execution_count": 8,
   "id": "5cc92bb4",
   "metadata": {},
   "outputs": [
    {
     "name": "stdout",
     "output_type": "stream",
     "text": [
      "\\r\\n \\1\\2\\3\n"
     ]
    }
   ],
   "source": [
    "print( r'\\r\\n \\1\\2\\3')"
   ]
  },
  {
   "cell_type": "code",
   "execution_count": 13,
   "id": "52c6ed9d",
   "metadata": {},
   "outputs": [],
   "source": [
    "name = 'Fred' ' ' 'Bloggs'"
   ]
  },
  {
   "cell_type": "code",
   "execution_count": 14,
   "id": "ad7c81de",
   "metadata": {},
   "outputs": [
    {
     "data": {
      "text/plain": [
       "'Fred Bloggs'"
      ]
     },
     "execution_count": 14,
     "metadata": {},
     "output_type": "execute_result"
    }
   ],
   "source": [
    "name"
   ]
  },
  {
   "cell_type": "markdown",
   "id": "03ae7b39",
   "metadata": {},
   "source": [
    "name = 'Fred' \\"
   ]
  },
  {
   "cell_type": "code",
   "execution_count": 37,
   "id": "ca20133c",
   "metadata": {},
   "outputs": [],
   "source": [
    "name = 'Fred' \\\n",
    "... ' Bloggs'"
   ]
  },
  {
   "cell_type": "code",
   "execution_count": 38,
   "id": "f6c2d419",
   "metadata": {},
   "outputs": [
    {
     "data": {
      "text/plain": [
       "'Fred Bloggs'"
      ]
     },
     "execution_count": 38,
     "metadata": {},
     "output_type": "execute_result"
    }
   ],
   "source": [
    "name"
   ]
  },
  {
   "cell_type": "code",
   "execution_count": 39,
   "id": "dbb46256",
   "metadata": {},
   "outputs": [
    {
     "ename": "NameError",
     "evalue": "name 'first' is not defined",
     "output_type": "error",
     "traceback": [
      "\u001b[1;31m---------------------------------------------------------------------------\u001b[0m",
      "\u001b[1;31mNameError\u001b[0m                                 Traceback (most recent call last)",
      "Cell \u001b[1;32mIn[39], line 1\u001b[0m\n\u001b[1;32m----> 1\u001b[0m name \u001b[38;5;241m=\u001b[39m \u001b[43mfirst\u001b[49m \u001b[38;5;241m+\u001b[39m \u001b[38;5;124m'\u001b[39m\u001b[38;5;124mBloggs\u001b[39m\u001b[38;5;124m'\u001b[39m\n",
      "\u001b[1;31mNameError\u001b[0m: name 'first' is not defined"
     ]
    }
   ],
   "source": [
    "#name = first + 'Bloggs'"
   ]
  },
  {
   "cell_type": "code",
   "execution_count": 80,
   "id": "09b16f23",
   "metadata": {},
   "outputs": [
    {
     "data": {
      "text/plain": [
       "'Fred Bloggs'"
      ]
     },
     "execution_count": 80,
     "metadata": {},
     "output_type": "execute_result"
    }
   ],
   "source": [
    "name"
   ]
  },
  {
   "cell_type": "code",
   "execution_count": 81,
   "id": "94d1a2be",
   "metadata": {},
   "outputs": [
    {
     "name": "stdout",
     "output_type": "stream",
     "text": [
      "Hello\n",
      "World\n"
     ]
    }
   ],
   "source": [
    "print('Hello\\nWorld')"
   ]
  },
  {
   "cell_type": "code",
   "execution_count": 82,
   "id": "f3898eee",
   "metadata": {},
   "outputs": [
    {
     "name": "stdout",
     "output_type": "stream",
     "text": [
      "Hello\n",
      "World\n"
     ]
    }
   ],
   "source": [
    "print(\"Hello\\nWorld\")"
   ]
  },
  {
   "cell_type": "code",
   "execution_count": 44,
   "id": "7b445759",
   "metadata": {},
   "outputs": [
    {
     "data": {
      "text/plain": [
       "11"
      ]
     },
     "execution_count": 44,
     "metadata": {},
     "output_type": "execute_result"
    }
   ],
   "source": [
    "len(name)"
   ]
  },
  {
   "cell_type": "markdown",
   "id": "6eebf655",
   "metadata": {},
   "source": [
    "str(42)"
   ]
  },
  {
   "cell_type": "code",
   "execution_count": 46,
   "id": "72f2e514",
   "metadata": {},
   "outputs": [
    {
     "data": {
      "text/plain": [
       "'42222'"
      ]
     },
     "execution_count": 46,
     "metadata": {},
     "output_type": "execute_result"
    }
   ],
   "source": [
    "str(42222)"
   ]
  },
  {
   "cell_type": "code",
   "execution_count": 47,
   "id": "f8966c57",
   "metadata": {},
   "outputs": [
    {
     "data": {
      "text/plain": [
       "42222"
      ]
     },
     "execution_count": 47,
     "metadata": {},
     "output_type": "execute_result"
    }
   ],
   "source": [
    "int(\"42222\")"
   ]
  },
  {
   "cell_type": "markdown",
   "id": "5fb1cc43",
   "metadata": {},
   "source": [
    "int(42222)"
   ]
  },
  {
   "cell_type": "code",
   "execution_count": 48,
   "id": "96330a73",
   "metadata": {},
   "outputs": [
    {
     "data": {
      "text/plain": [
       "42222"
      ]
     },
     "execution_count": 48,
     "metadata": {},
     "output_type": "execute_result"
    }
   ],
   "source": [
    "int(42222)"
   ]
  },
  {
   "cell_type": "code",
   "execution_count": 50,
   "id": "245fc235",
   "metadata": {},
   "outputs": [
    {
     "data": {
      "text/plain": [
       "'fred bloggs'"
      ]
     },
     "execution_count": 50,
     "metadata": {},
     "output_type": "execute_result"
    }
   ],
   "source": [
    "str.lower(name)"
   ]
  },
  {
   "cell_type": "code",
   "execution_count": 51,
   "id": "1d94ef1b",
   "metadata": {},
   "outputs": [
    {
     "data": {
      "text/plain": [
       "'FRED BLOGGS'"
      ]
     },
     "execution_count": 51,
     "metadata": {},
     "output_type": "execute_result"
    }
   ],
   "source": [
    "str.upper(name)"
   ]
  },
  {
   "cell_type": "code",
   "execution_count": 53,
   "id": "1a38fae6",
   "metadata": {},
   "outputs": [
    {
     "data": {
      "text/plain": [
       "'Fred Bloggs'"
      ]
     },
     "execution_count": 53,
     "metadata": {},
     "output_type": "execute_result"
    }
   ],
   "source": [
    "str.rstrip(name)"
   ]
  },
  {
   "cell_type": "code",
   "execution_count": 54,
   "id": "be369921",
   "metadata": {},
   "outputs": [],
   "source": [
    "text='Hello World'"
   ]
  },
  {
   "cell_type": "code",
   "execution_count": 55,
   "id": "b2b2ad48",
   "metadata": {},
   "outputs": [
    {
     "data": {
      "text/plain": [
       "'Hello World'"
      ]
     },
     "execution_count": 55,
     "metadata": {},
     "output_type": "execute_result"
    }
   ],
   "source": [
    "text"
   ]
  },
  {
   "cell_type": "code",
   "execution_count": 63,
   "id": "d9d507af",
   "metadata": {},
   "outputs": [
    {
     "name": "stdout",
     "output_type": "stream",
     "text": [
      "Hello World\n"
     ]
    }
   ],
   "source": [
    "print(text)"
   ]
  },
  {
   "cell_type": "code",
   "execution_count": 60,
   "id": "809bd70f",
   "metadata": {},
   "outputs": [
    {
     "name": "stdout",
     "output_type": "stream",
     "text": [
      "3\n"
     ]
    }
   ],
   "source": [
    "print(text.count('l'))"
   ]
  },
  {
   "cell_type": "code",
   "execution_count": 62,
   "id": "500314de",
   "metadata": {},
   "outputs": [
    {
     "name": "stdout",
     "output_type": "stream",
     "text": [
      "Hello to this world\n"
     ]
    }
   ],
   "source": [
    "if text.startswith('Hell'):\n",
    "    print(\"Hello to this world\")"
   ]
  },
  {
   "cell_type": "code",
   "execution_count": 64,
   "id": "6eaf9004",
   "metadata": {},
   "outputs": [],
   "source": [
    "if text.isalpha():\n",
    "    print('string is alpha')"
   ]
  },
  {
   "cell_type": "code",
   "execution_count": 67,
   "id": "7feecc8a",
   "metadata": {},
   "outputs": [
    {
     "ename": "NameError",
     "evalue": "name 'var2' is not defined",
     "output_type": "error",
     "traceback": [
      "\u001b[1;31m---------------------------------------------------------------------------\u001b[0m",
      "\u001b[1;31mNameError\u001b[0m                                 Traceback (most recent call last)",
      "Cell \u001b[1;32mIn[67], line 1\u001b[0m\n\u001b[1;32m----> 1\u001b[0m \u001b[38;5;124m\"\u001b[39m\u001b[38;5;124mtext\u001b[39m\u001b[38;5;132;01m{0:5.3f}\u001b[39;00m\u001b[38;5;124mtext\u001b[39m\u001b[38;5;124m{\u001b[39m\u001b[38;5;124m1:3.d}text\u001b[39m\u001b[38;5;132;01m{2}\u001b[39;00m\u001b[38;5;124m\"\u001b[39m\u001b[38;5;241m.\u001b[39mformat(\u001b[43mvar2\u001b[49m,var3)\n",
      "\u001b[1;31mNameError\u001b[0m: name 'var2' is not defined"
     ]
    }
   ],
   "source": [
    "#\"text{0:5.3f}text{1:3.d}text{2}\".format(var1,var2,var3) Doesn't seem to work"
   ]
  },
  {
   "cell_type": "code",
   "execution_count": 68,
   "id": "b068431a",
   "metadata": {},
   "outputs": [],
   "source": [
    "planets = {'Mercury':57.91,\n",
    "          'Venus':108.2,\n",
    "          'Earth':149.597870,\n",
    "          'Mars':227.94\n",
    "          }"
   ]
  },
  {
   "cell_type": "code",
   "execution_count": 73,
   "id": "0c588f13",
   "metadata": {},
   "outputs": [
    {
     "data": {
      "text/plain": [
       "{'Mercury': 57.91, 'Venus': 108.2, 'Earth': 149.59787, 'Mars': 227.94}"
      ]
     },
     "execution_count": 73,
     "metadata": {},
     "output_type": "execute_result"
    }
   ],
   "source": [
    "planets"
   ]
  },
  {
   "cell_type": "code",
   "execution_count": 74,
   "id": "7004ee97",
   "metadata": {},
   "outputs": [
    {
     "name": "stdout",
     "output_type": "stream",
     "text": [
      " 1 Mercury    057.91 Gm\n",
      " 2 Venus      108.20 Gm\n",
      " 3 Earth      149.60 Gm\n",
      " 4 Mars       227.94 Gm\n"
     ]
    }
   ],
   "source": [
    "for i, key in enumerate(planets.keys(), 1):\n",
    "    print(\"{:2d} {:<10s} {:06.2f} Gm\".\n",
    "         format (i, key, planets[key]))"
   ]
  },
  {
   "cell_type": "code",
   "execution_count": 83,
   "id": "5680f908",
   "metadata": {},
   "outputs": [
    {
     "data": {
      "text/plain": [
       "'Fred bloggs'"
      ]
     },
     "execution_count": 83,
     "metadata": {},
     "output_type": "execute_result"
    }
   ],
   "source": [
    "str.capitalize(name)"
   ]
  },
  {
   "cell_type": "code",
   "execution_count": 84,
   "id": "0b7c8a37",
   "metadata": {},
   "outputs": [
    {
     "name": "stdout",
     "output_type": "stream",
     "text": [
      "Fred bloggs\n"
     ]
    }
   ],
   "source": [
    "print(name.capitalize())"
   ]
  },
  {
   "cell_type": "code",
   "execution_count": 85,
   "id": "efc14689",
   "metadata": {},
   "outputs": [
    {
     "data": {
      "text/plain": [
       "'Fred Bloggs'"
      ]
     },
     "execution_count": 85,
     "metadata": {},
     "output_type": "execute_result"
    }
   ],
   "source": [
    "name"
   ]
  },
  {
   "cell_type": "code",
   "execution_count": 86,
   "id": "369f1e71",
   "metadata": {},
   "outputs": [
    {
     "data": {
      "text/plain": [
       "'FRED BLOGGS'"
      ]
     },
     "execution_count": 86,
     "metadata": {},
     "output_type": "execute_result"
    }
   ],
   "source": [
    "str.upper(name)"
   ]
  },
  {
   "cell_type": "code",
   "execution_count": 89,
   "id": "ed06c580",
   "metadata": {},
   "outputs": [
    {
     "data": {
      "text/plain": [
       "'Fred bloggs'"
      ]
     },
     "execution_count": 89,
     "metadata": {},
     "output_type": "execute_result"
    }
   ],
   "source": [
    "str.capitalize(name)"
   ]
  },
  {
   "cell_type": "code",
   "execution_count": 91,
   "id": "788ecf85",
   "metadata": {},
   "outputs": [],
   "source": [
    "names = ['Tom', 'Andrew', 'Andy', 'Pete', 'Gary']\n",
    "s = f\"The third member is {names[3]}\""
   ]
  },
  {
   "cell_type": "code",
   "execution_count": 92,
   "id": "d893315a",
   "metadata": {},
   "outputs": [
    {
     "data": {
      "text/plain": [
       "['Tom', 'Andrew', 'Andy', 'Pete', 'Gary']"
      ]
     },
     "execution_count": 92,
     "metadata": {},
     "output_type": "execute_result"
    }
   ],
   "source": [
    "names"
   ]
  },
  {
   "cell_type": "code",
   "execution_count": 95,
   "id": "03361f12",
   "metadata": {},
   "outputs": [
    {
     "name": "stdout",
     "output_type": "stream",
     "text": [
      "3\n"
     ]
    }
   ],
   "source": [
    "print(text.count('l'))"
   ]
  },
  {
   "cell_type": "code",
   "execution_count": 96,
   "id": "e4a2b940",
   "metadata": {},
   "outputs": [],
   "source": [
    "text = \"Remarkable bird, the Norwegian Blue\""
   ]
  },
  {
   "cell_type": "code",
   "execution_count": 97,
   "id": "f57cce51",
   "metadata": {},
   "outputs": [
    {
     "data": {
      "text/plain": [
       "'Remarkable bird, the Norwegian Blue'"
      ]
     },
     "execution_count": 97,
     "metadata": {},
     "output_type": "execute_result"
    }
   ],
   "source": [
    "text"
   ]
  },
  {
   "cell_type": "code",
   "execution_count": 98,
   "id": "ba5133ff",
   "metadata": {},
   "outputs": [
    {
     "name": "stdout",
     "output_type": "stream",
     "text": [
      "bir\n"
     ]
    }
   ],
   "source": [
    "print(text[11:14])"
   ]
  },
  {
   "cell_type": "code",
   "execution_count": 99,
   "id": "8bf0a4ad",
   "metadata": {},
   "outputs": [
    {
     "name": "stdout",
     "output_type": "stream",
     "text": [
      "an Blu\n"
     ]
    }
   ],
   "source": [
    "print(text[-7:-1])"
   ]
  },
  {
   "cell_type": "code",
   "execution_count": 100,
   "id": "9f739b93",
   "metadata": {},
   "outputs": [
    {
     "data": {
      "text/plain": [
       "'bir'"
      ]
     },
     "execution_count": 100,
     "metadata": {},
     "output_type": "execute_result"
    }
   ],
   "source": [
    "text[11:14]"
   ]
  },
  {
   "cell_type": "code",
   "execution_count": 101,
   "id": "0ff26acf",
   "metadata": {},
   "outputs": [
    {
     "data": {
      "text/plain": [
       "'Remarkable bir'"
      ]
     },
     "execution_count": 101,
     "metadata": {},
     "output_type": "execute_result"
    }
   ],
   "source": [
    "text[:14]"
   ]
  },
  {
   "cell_type": "code",
   "execution_count": 103,
   "id": "2a80b10b",
   "metadata": {},
   "outputs": [
    {
     "data": {
      "text/plain": [
       "'d, the Norwegian Blue'"
      ]
     },
     "execution_count": 103,
     "metadata": {},
     "output_type": "execute_result"
    }
   ],
   "source": [
    "text[14:]"
   ]
  },
  {
   "cell_type": "code",
   "execution_count": null,
   "id": "b8cb6314",
   "metadata": {},
   "outputs": [],
   "source": []
  }
 ],
 "metadata": {
  "kernelspec": {
   "display_name": "Python 3 (ipykernel)",
   "language": "python",
   "name": "python3"
  },
  "language_info": {
   "codemirror_mode": {
    "name": "ipython",
    "version": 3
   },
   "file_extension": ".py",
   "mimetype": "text/x-python",
   "name": "python",
   "nbconvert_exporter": "python",
   "pygments_lexer": "ipython3",
   "version": "3.10.9"
  }
 },
 "nbformat": 4,
 "nbformat_minor": 5
}
