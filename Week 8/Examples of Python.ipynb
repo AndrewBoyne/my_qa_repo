{
 "cells": [
  {
   "cell_type": "code",
   "execution_count": 1,
   "id": "674e950e",
   "metadata": {},
   "outputs": [
    {
     "data": {
      "text/plain": [
       "'€'"
      ]
     },
     "execution_count": 1,
     "metadata": {},
     "output_type": "execute_result"
    }
   ],
   "source": [
    "euro=\"\\u20ac\"\n",
    "euro"
   ]
  },
  {
   "cell_type": "code",
   "execution_count": 72,
   "id": "a05beb91",
   "metadata": {},
   "outputs": [],
   "source": [
    "import pandas as pd"
   ]
  },
  {
   "cell_type": "code",
   "execution_count": 2,
   "id": "2fbd02ee",
   "metadata": {},
   "outputs": [
    {
     "data": {
      "text/plain": [
       "'€'"
      ]
     },
     "execution_count": 2,
     "metadata": {},
     "output_type": "execute_result"
    }
   ],
   "source": [
    "euro=\"\\N{euro sign}\"\n",
    "euro"
   ]
  },
  {
   "cell_type": "code",
   "execution_count": 3,
   "id": "d8031320",
   "metadata": {},
   "outputs": [
    {
     "name": "stdout",
     "output_type": "stream",
     "text": [
      "€\n"
     ]
    }
   ],
   "source": [
    "print(euro)"
   ]
  },
  {
   "cell_type": "code",
   "execution_count": 4,
   "id": "a6272125",
   "metadata": {},
   "outputs": [
    {
     "data": {
      "text/plain": [
       "'€'"
      ]
     },
     "execution_count": 4,
     "metadata": {},
     "output_type": "execute_result"
    }
   ],
   "source": [
    "euro"
   ]
  },
  {
   "cell_type": "code",
   "execution_count": 7,
   "id": "8651a655",
   "metadata": {},
   "outputs": [
    {
     "name": "stdout",
     "output_type": "stream",
     "text": [
      "\r\n",
      " \u0001\u0002\u0003\n"
     ]
    }
   ],
   "source": [
    "print( '\\r\\n \\1\\2\\3')"
   ]
  },
  {
   "cell_type": "code",
   "execution_count": 8,
   "id": "bf7091d8",
   "metadata": {},
   "outputs": [
    {
     "name": "stdout",
     "output_type": "stream",
     "text": [
      "\\r\\n \\1\\2\\3\n"
     ]
    }
   ],
   "source": [
    "print( r'\\r\\n \\1\\2\\3')"
   ]
  },
  {
   "cell_type": "code",
   "execution_count": 13,
   "id": "f733df67",
   "metadata": {},
   "outputs": [],
   "source": [
    "name = 'Fred' ' ' 'Bloggs'"
   ]
  },
  {
   "cell_type": "code",
   "execution_count": 14,
   "id": "a36d158a",
   "metadata": {},
   "outputs": [
    {
     "data": {
      "text/plain": [
       "'Fred Bloggs'"
      ]
     },
     "execution_count": 14,
     "metadata": {},
     "output_type": "execute_result"
    }
   ],
   "source": [
    "name"
   ]
  },
  {
   "cell_type": "markdown",
   "id": "090ddba8",
   "metadata": {},
   "source": [
    "name = 'Fred' \\"
   ]
  },
  {
   "cell_type": "code",
   "execution_count": 37,
   "id": "a5895ce7",
   "metadata": {},
   "outputs": [],
   "source": [
    "name = 'Fred' \\\n",
    "... ' Bloggs'"
   ]
  },
  {
   "cell_type": "code",
   "execution_count": 38,
   "id": "44885ee3",
   "metadata": {},
   "outputs": [
    {
     "data": {
      "text/plain": [
       "'Fred Bloggs'"
      ]
     },
     "execution_count": 38,
     "metadata": {},
     "output_type": "execute_result"
    }
   ],
   "source": [
    "name"
   ]
  },
  {
   "cell_type": "code",
   "execution_count": 39,
   "id": "d413138e",
   "metadata": {},
   "outputs": [
    {
     "ename": "NameError",
     "evalue": "name 'first' is not defined",
     "output_type": "error",
     "traceback": [
      "\u001b[1;31m---------------------------------------------------------------------------\u001b[0m",
      "\u001b[1;31mNameError\u001b[0m                                 Traceback (most recent call last)",
      "Cell \u001b[1;32mIn[39], line 1\u001b[0m\n\u001b[1;32m----> 1\u001b[0m name \u001b[38;5;241m=\u001b[39m \u001b[43mfirst\u001b[49m \u001b[38;5;241m+\u001b[39m \u001b[38;5;124m'\u001b[39m\u001b[38;5;124mBloggs\u001b[39m\u001b[38;5;124m'\u001b[39m\n",
      "\u001b[1;31mNameError\u001b[0m: name 'first' is not defined"
     ]
    }
   ],
   "source": [
    "#name = first + 'Bloggs'"
   ]
  },
  {
   "cell_type": "code",
   "execution_count": 80,
   "id": "6874fb53",
   "metadata": {},
   "outputs": [
    {
     "data": {
      "text/plain": [
       "'Fred Bloggs'"
      ]
     },
     "execution_count": 80,
     "metadata": {},
     "output_type": "execute_result"
    }
   ],
   "source": [
    "name"
   ]
  },
  {
   "cell_type": "code",
   "execution_count": 81,
   "id": "4460c1a6",
   "metadata": {},
   "outputs": [
    {
     "name": "stdout",
     "output_type": "stream",
     "text": [
      "Hello\n",
      "World\n"
     ]
    }
   ],
   "source": [
    "print('Hello\\nWorld')"
   ]
  },
  {
   "cell_type": "code",
   "execution_count": 82,
   "id": "b30ff53a",
   "metadata": {},
   "outputs": [
    {
     "name": "stdout",
     "output_type": "stream",
     "text": [
      "Hello\n",
      "World\n"
     ]
    }
   ],
   "source": [
    "print(\"Hello\\nWorld\")"
   ]
  },
  {
   "cell_type": "code",
   "execution_count": 44,
   "id": "1e30f744",
   "metadata": {},
   "outputs": [
    {
     "data": {
      "text/plain": [
       "11"
      ]
     },
     "execution_count": 44,
     "metadata": {},
     "output_type": "execute_result"
    }
   ],
   "source": [
    "len(name)"
   ]
  },
  {
   "cell_type": "markdown",
   "id": "9c338e7c",
   "metadata": {},
   "source": [
    "str(42)"
   ]
  },
  {
   "cell_type": "code",
   "execution_count": 46,
   "id": "a967d463",
   "metadata": {},
   "outputs": [
    {
     "data": {
      "text/plain": [
       "'42222'"
      ]
     },
     "execution_count": 46,
     "metadata": {},
     "output_type": "execute_result"
    }
   ],
   "source": [
    "str(42222)"
   ]
  },
  {
   "cell_type": "code",
   "execution_count": 47,
   "id": "48a430a6",
   "metadata": {},
   "outputs": [
    {
     "data": {
      "text/plain": [
       "42222"
      ]
     },
     "execution_count": 47,
     "metadata": {},
     "output_type": "execute_result"
    }
   ],
   "source": [
    "int(\"42222\")"
   ]
  },
  {
   "cell_type": "markdown",
   "id": "f03d54c4",
   "metadata": {},
   "source": [
    "int(42222)"
   ]
  },
  {
   "cell_type": "code",
   "execution_count": 48,
   "id": "4cee6152",
   "metadata": {},
   "outputs": [
    {
     "data": {
      "text/plain": [
       "42222"
      ]
     },
     "execution_count": 48,
     "metadata": {},
     "output_type": "execute_result"
    }
   ],
   "source": [
    "int(42222)"
   ]
  },
  {
   "cell_type": "code",
   "execution_count": 50,
   "id": "98de8a53",
   "metadata": {},
   "outputs": [
    {
     "data": {
      "text/plain": [
       "'fred bloggs'"
      ]
     },
     "execution_count": 50,
     "metadata": {},
     "output_type": "execute_result"
    }
   ],
   "source": [
    "str.lower(name)"
   ]
  },
  {
   "cell_type": "code",
   "execution_count": 51,
   "id": "75115e76",
   "metadata": {},
   "outputs": [
    {
     "data": {
      "text/plain": [
       "'FRED BLOGGS'"
      ]
     },
     "execution_count": 51,
     "metadata": {},
     "output_type": "execute_result"
    }
   ],
   "source": [
    "str.upper(name)"
   ]
  },
  {
   "cell_type": "code",
   "execution_count": 53,
   "id": "d95b9719",
   "metadata": {},
   "outputs": [
    {
     "data": {
      "text/plain": [
       "'Fred Bloggs'"
      ]
     },
     "execution_count": 53,
     "metadata": {},
     "output_type": "execute_result"
    }
   ],
   "source": [
    "str.rstrip(name)"
   ]
  },
  {
   "cell_type": "code",
   "execution_count": 54,
   "id": "92c08808",
   "metadata": {},
   "outputs": [],
   "source": [
    "text='Hello World'"
   ]
  },
  {
   "cell_type": "code",
   "execution_count": 55,
   "id": "6454f3ed",
   "metadata": {},
   "outputs": [
    {
     "data": {
      "text/plain": [
       "'Hello World'"
      ]
     },
     "execution_count": 55,
     "metadata": {},
     "output_type": "execute_result"
    }
   ],
   "source": [
    "text"
   ]
  },
  {
   "cell_type": "code",
   "execution_count": 63,
   "id": "54bbb998",
   "metadata": {},
   "outputs": [
    {
     "name": "stdout",
     "output_type": "stream",
     "text": [
      "Hello World\n"
     ]
    }
   ],
   "source": [
    "print(text)"
   ]
  },
  {
   "cell_type": "code",
   "execution_count": 60,
   "id": "c5fbb05c",
   "metadata": {},
   "outputs": [
    {
     "name": "stdout",
     "output_type": "stream",
     "text": [
      "3\n"
     ]
    }
   ],
   "source": [
    "print(text.count('l'))"
   ]
  },
  {
   "cell_type": "code",
   "execution_count": 62,
   "id": "86cf9a64",
   "metadata": {},
   "outputs": [
    {
     "name": "stdout",
     "output_type": "stream",
     "text": [
      "Hello to this world\n"
     ]
    }
   ],
   "source": [
    "if text.startswith('Hell'):\n",
    "    print(\"Hello to this world\")"
   ]
  },
  {
   "cell_type": "code",
   "execution_count": 64,
   "id": "315d96da",
   "metadata": {},
   "outputs": [],
   "source": [
    "if text.isalpha():\n",
    "    print('string is alpha')"
   ]
  },
  {
   "cell_type": "code",
   "execution_count": 67,
   "id": "492865bc",
   "metadata": {},
   "outputs": [
    {
     "ename": "NameError",
     "evalue": "name 'var2' is not defined",
     "output_type": "error",
     "traceback": [
      "\u001b[1;31m---------------------------------------------------------------------------\u001b[0m",
      "\u001b[1;31mNameError\u001b[0m                                 Traceback (most recent call last)",
      "Cell \u001b[1;32mIn[67], line 1\u001b[0m\n\u001b[1;32m----> 1\u001b[0m \u001b[38;5;124m\"\u001b[39m\u001b[38;5;124mtext\u001b[39m\u001b[38;5;132;01m{0:5.3f}\u001b[39;00m\u001b[38;5;124mtext\u001b[39m\u001b[38;5;124m{\u001b[39m\u001b[38;5;124m1:3.d}text\u001b[39m\u001b[38;5;132;01m{2}\u001b[39;00m\u001b[38;5;124m\"\u001b[39m\u001b[38;5;241m.\u001b[39mformat(\u001b[43mvar2\u001b[49m,var3)\n",
      "\u001b[1;31mNameError\u001b[0m: name 'var2' is not defined"
     ]
    }
   ],
   "source": [
    "#\"text{0:5.3f}text{1:3.d}text{2}\".format(var1,var2,var3) Doesn't seem to work"
   ]
  },
  {
   "cell_type": "code",
   "execution_count": 68,
   "id": "3b10c948",
   "metadata": {},
   "outputs": [],
   "source": [
    "planets = {'Mercury':57.91,\n",
    "          'Venus':108.2,\n",
    "          'Earth':149.597870,\n",
    "          'Mars':227.94\n",
    "          }"
   ]
  },
  {
   "cell_type": "code",
   "execution_count": 73,
   "id": "fd385f38",
   "metadata": {},
   "outputs": [
    {
     "data": {
      "text/plain": [
       "{'Mercury': 57.91, 'Venus': 108.2, 'Earth': 149.59787, 'Mars': 227.94}"
      ]
     },
     "execution_count": 73,
     "metadata": {},
     "output_type": "execute_result"
    }
   ],
   "source": [
    "planets"
   ]
  },
  {
   "cell_type": "code",
   "execution_count": 74,
   "id": "4b76d14a",
   "metadata": {},
   "outputs": [
    {
     "name": "stdout",
     "output_type": "stream",
     "text": [
      " 1 Mercury    057.91 Gm\n",
      " 2 Venus      108.20 Gm\n",
      " 3 Earth      149.60 Gm\n",
      " 4 Mars       227.94 Gm\n"
     ]
    }
   ],
   "source": [
    "for i, key in enumerate(planets.keys(), 1):\n",
    "    print(\"{:2d} {:<10s} {:06.2f} Gm\".\n",
    "         format (i, key, planets[key]))"
   ]
  },
  {
   "cell_type": "code",
   "execution_count": 83,
   "id": "48a89183",
   "metadata": {},
   "outputs": [
    {
     "data": {
      "text/plain": [
       "'Fred bloggs'"
      ]
     },
     "execution_count": 83,
     "metadata": {},
     "output_type": "execute_result"
    }
   ],
   "source": [
    "str.capitalize(name)"
   ]
  },
  {
   "cell_type": "code",
   "execution_count": 84,
   "id": "cd583dd1",
   "metadata": {},
   "outputs": [
    {
     "name": "stdout",
     "output_type": "stream",
     "text": [
      "Fred bloggs\n"
     ]
    }
   ],
   "source": [
    "print(name.capitalize())"
   ]
  },
  {
   "cell_type": "code",
   "execution_count": 85,
   "id": "92b2aa81",
   "metadata": {},
   "outputs": [
    {
     "data": {
      "text/plain": [
       "'Fred Bloggs'"
      ]
     },
     "execution_count": 85,
     "metadata": {},
     "output_type": "execute_result"
    }
   ],
   "source": [
    "name"
   ]
  },
  {
   "cell_type": "code",
   "execution_count": 86,
   "id": "6dd92ff8",
   "metadata": {},
   "outputs": [
    {
     "data": {
      "text/plain": [
       "'FRED BLOGGS'"
      ]
     },
     "execution_count": 86,
     "metadata": {},
     "output_type": "execute_result"
    }
   ],
   "source": [
    "str.upper(name)"
   ]
  },
  {
   "cell_type": "code",
   "execution_count": 89,
   "id": "2208f55d",
   "metadata": {},
   "outputs": [
    {
     "data": {
      "text/plain": [
       "'Fred bloggs'"
      ]
     },
     "execution_count": 89,
     "metadata": {},
     "output_type": "execute_result"
    }
   ],
   "source": [
    "str.capitalize(name)"
   ]
  },
  {
   "cell_type": "code",
   "execution_count": 91,
   "id": "3e0d5e08",
   "metadata": {},
   "outputs": [],
   "source": [
    "names = ['Tom', 'Andrew', 'Andy', 'Pete', 'Gary']\n",
    "s = f\"The third member is {names[3]}\""
   ]
  },
  {
   "cell_type": "code",
   "execution_count": 92,
   "id": "ddaae29a",
   "metadata": {},
   "outputs": [
    {
     "data": {
      "text/plain": [
       "['Tom', 'Andrew', 'Andy', 'Pete', 'Gary']"
      ]
     },
     "execution_count": 92,
     "metadata": {},
     "output_type": "execute_result"
    }
   ],
   "source": [
    "names"
   ]
  },
  {
   "cell_type": "code",
   "execution_count": 95,
   "id": "c6e209c1",
   "metadata": {},
   "outputs": [
    {
     "name": "stdout",
     "output_type": "stream",
     "text": [
      "3\n"
     ]
    }
   ],
   "source": [
    "print(text.count('l'))"
   ]
  },
  {
   "cell_type": "code",
   "execution_count": 96,
   "id": "0ecb7ede",
   "metadata": {},
   "outputs": [],
   "source": [
    "text = \"Remarkable bird, the Norwegian Blue\""
   ]
  },
  {
   "cell_type": "code",
   "execution_count": 97,
   "id": "ad3bd550",
   "metadata": {},
   "outputs": [
    {
     "data": {
      "text/plain": [
       "'Remarkable bird, the Norwegian Blue'"
      ]
     },
     "execution_count": 97,
     "metadata": {},
     "output_type": "execute_result"
    }
   ],
   "source": [
    "text"
   ]
  },
  {
   "cell_type": "code",
   "execution_count": 98,
   "id": "5ec8ddf7",
   "metadata": {},
   "outputs": [
    {
     "name": "stdout",
     "output_type": "stream",
     "text": [
      "bir\n"
     ]
    }
   ],
   "source": [
    "print(text[11:14])"
   ]
  },
  {
   "cell_type": "code",
   "execution_count": 99,
   "id": "f98d2dc3",
   "metadata": {},
   "outputs": [
    {
     "name": "stdout",
     "output_type": "stream",
     "text": [
      "an Blu\n"
     ]
    }
   ],
   "source": [
    "print(text[-7:-1])"
   ]
  },
  {
   "cell_type": "code",
   "execution_count": 100,
   "id": "2616c95d",
   "metadata": {},
   "outputs": [
    {
     "data": {
      "text/plain": [
       "'bir'"
      ]
     },
     "execution_count": 100,
     "metadata": {},
     "output_type": "execute_result"
    }
   ],
   "source": [
    "text[11:14]"
   ]
  },
  {
   "cell_type": "code",
   "execution_count": 101,
   "id": "6f7cc61d",
   "metadata": {},
   "outputs": [
    {
     "data": {
      "text/plain": [
       "'Remarkable bir'"
      ]
     },
     "execution_count": 101,
     "metadata": {},
     "output_type": "execute_result"
    }
   ],
   "source": [
    "text[:14]"
   ]
  },
  {
   "cell_type": "code",
   "execution_count": 103,
   "id": "8e095f7b",
   "metadata": {},
   "outputs": [
    {
     "data": {
      "text/plain": [
       "'d, the Norwegian Blue'"
      ]
     },
     "execution_count": 103,
     "metadata": {},
     "output_type": "execute_result"
    }
   ],
   "source": [
    "text[14:]"
   ]
  },
  {
   "cell_type": "code",
   "execution_count": 105,
   "id": "f51ed97c",
   "metadata": {},
   "outputs": [
    {
     "name": "stdout",
     "output_type": "stream",
     "text": [
      "avatar::0:0:The super-user (zero):/root:/bin/sh\n"
     ]
    }
   ],
   "source": [
    "line = 'root::0:0:superuser:/root:/bin/sh'\n",
    "elems = line.split(':')\n",
    "\n",
    "elems[0] = 'avatar'\n",
    "elems[4] = 'The super-user (zero)'\n",
    "line = ':'.join(elems)\n",
    "print(line)"
   ]
  },
  {
   "cell_type": "code",
   "execution_count": 111,
   "id": "2670f0ae",
   "metadata": {},
   "outputs": [
    {
     "name": "stdout",
     "output_type": "stream",
     "text": [
      "cats dogs mice sheep frogs\n"
     ]
    }
   ],
   "source": [
    "print('cats', 'dogs', 'mice', 'sheep', 'frogs')"
   ]
  },
  {
   "cell_type": "code",
   "execution_count": 118,
   "id": "1402f6b6",
   "metadata": {},
   "outputs": [
    {
     "name": "stdout",
     "output_type": "stream",
     "text": [
      "cats,dogs,mice,sheep,frogs\n"
     ]
    }
   ],
   "source": [
    "print('cats', 'dogs', 'mice', 'sheep', 'frogs', sep=',') # adds the commas"
   ]
  },
  {
   "cell_type": "code",
   "execution_count": 117,
   "id": "8476849b",
   "metadata": {},
   "outputs": [
    {
     "name": "stdout",
     "output_type": "stream",
     "text": [
      "cats, dogs, mice, sheep, frogs\n"
     ]
    }
   ],
   "source": [
    "print('cats', ' dogs', ' mice', ' sheep', ' frogs', sep=',') # adds the commas and spaces"
   ]
  },
  {
   "cell_type": "code",
   "execution_count": 122,
   "id": "2dbad1f3",
   "metadata": {},
   "outputs": [
    {
     "data": {
      "text/plain": [
       "'Fred Bloggs'"
      ]
     },
     "execution_count": 122,
     "metadata": {},
     "output_type": "execute_result"
    }
   ],
   "source": [
    "name"
   ]
  },
  {
   "cell_type": "code",
   "execution_count": 127,
   "id": "74e0c5fb",
   "metadata": {},
   "outputs": [
    {
     "name": "stdout",
     "output_type": "stream",
     "text": [
      "What is your name?\n",
      "Andy\n",
      "Hi, Andy\n"
     ]
    }
   ],
   "source": [
    "print ('What is your name?')\n",
    "my_name = input()\n",
    "print ('Hi, {}'.format(my_name))"
   ]
  },
  {
   "cell_type": "code",
   "execution_count": 134,
   "id": "99813e27",
   "metadata": {},
   "outputs": [
    {
     "name": "stdout",
     "output_type": "stream",
     "text": [
      "What is your name?Andy\n",
      "Hi, Andy\n"
     ]
    }
   ],
   "source": [
    "my_name = input('What is your name?')\n",
    "print ('Hi, {}'.format(my_name))"
   ]
  },
  {
   "cell_type": "code",
   "execution_count": null,
   "id": "36c181f5",
   "metadata": {},
   "outputs": [],
   "source": []
  }
 ],
 "metadata": {
  "kernelspec": {
   "display_name": "Python 3 (ipykernel)",
   "language": "python",
   "name": "python3"
  },
  "language_info": {
   "codemirror_mode": {
    "name": "ipython",
    "version": 3
   },
   "file_extension": ".py",
   "mimetype": "text/x-python",
   "name": "python",
   "nbconvert_exporter": "python",
   "pygments_lexer": "ipython3",
   "version": "3.10.9"
  }
 },
 "nbformat": 4,
 "nbformat_minor": 5
}
