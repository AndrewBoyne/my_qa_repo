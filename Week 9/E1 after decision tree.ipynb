{
 "cells": [
  {
   "cell_type": "code",
   "execution_count": 5,
   "id": "1641c234",
   "metadata": {},
   "outputs": [],
   "source": [
    "import pandas as pd\n",
    "from sklearn.model_selection import train_test_split\n",
    "import matplotlib.pyplot as plt\n",
    "import seaborn as sns\n",
    "from sklearn.linear_model import LinearRegression\n",
    "from sklearn.tree import DecisionTreeRegressor\n",
    "from sklearn.metrics import mean_squared_error"
   ]
  },
  {
   "cell_type": "code",
   "execution_count": 6,
   "id": "d494c6cd",
   "metadata": {},
   "outputs": [],
   "source": [
    "trips_weather = pd.read_csv(\"trips_weather.csv\")"
   ]
  },
  {
   "cell_type": "code",
   "execution_count": 7,
   "id": "33ac96e3",
   "metadata": {},
   "outputs": [
    {
     "name": "stdout",
     "output_type": "stream",
     "text": [
      "<class 'pandas.core.frame.DataFrame'>\n",
      "RangeIndex: 32751 entries, 0 to 32750\n",
      "Data columns (total 73 columns):\n",
      " #   Column                                                                       Non-Null Count  Dtype  \n",
      "---  ------                                                                       --------------  -----  \n",
      " 0   Unnamed: 0                                                                   32751 non-null  int64  \n",
      " 1   date                                                                         32751 non-null  object \n",
      " 2   trip_count                                                                   32751 non-null  int64  \n",
      " 3   mean_temperature_f                                                           32751 non-null  float64\n",
      " 4   mean_wind_speed_mph                                                          32751 non-null  int64  \n",
      " 5   precipitation_in                                                             32751 non-null  float64\n",
      " 6   name_12th Ave & E Denny Way                                                  32751 non-null  int64  \n",
      " 7   name_12th Ave & E Mercer St                                                  32751 non-null  int64  \n",
      " 8   name_12th Ave & E Yesler Way                                                 32751 non-null  int64  \n",
      " 9   name_12th Ave & NE Campus Pkwy                                               32751 non-null  int64  \n",
      " 10  name_15th Ave E & E Thomas St                                                32751 non-null  int64  \n",
      " 11  name_15th Ave NE & NE 40th St                                                32751 non-null  int64  \n",
      " 12  name_1st Ave & Marion St                                                     32751 non-null  int64  \n",
      " 13  name_2nd Ave & Blanchard St                                                  32751 non-null  int64  \n",
      " 14  name_2nd Ave & Pine St                                                       32751 non-null  int64  \n",
      " 15  name_2nd Ave & Spring St                                                     32751 non-null  int64  \n",
      " 16  name_2nd Ave & Vine St                                                       32751 non-null  int64  \n",
      " 17  name_3rd Ave & Broad St                                                      32751 non-null  int64  \n",
      " 18  name_6th Ave & Blanchard St                                                  32751 non-null  int64  \n",
      " 19  name_6th Ave S & S King St                                                   32751 non-null  int64  \n",
      " 20  name_7th Ave & Union St                                                      32751 non-null  int64  \n",
      " 21  name_8D OPS 02                                                               32751 non-null  int64  \n",
      " 22  name_9th Ave N & Mercer St                                                   32751 non-null  int64  \n",
      " 23  name_Bellevue Ave & E Pine St                                                32751 non-null  int64  \n",
      " 24  name_Broadway and E Denny Way                                                32751 non-null  int64  \n",
      " 25  name_Burke Museum / E Stevens Way NE & Memorial Way NE                       32751 non-null  int64  \n",
      " 26  name_Burke-Gilman Trail / NE Blakeley St & 24th Ave NE                       32751 non-null  int64  \n",
      " 27  name_Cal Anderson Park / 11th Ave & Pine St                                  32751 non-null  int64  \n",
      " 28  name_Children's Hospital / Sandpoint Way NE & 40th Ave NE                    32751 non-null  int64  \n",
      " 29  name_City Hall / 4th Ave & James St                                          32751 non-null  int64  \n",
      " 30  name_Dexter Ave & Denny Way                                                  32751 non-null  int64  \n",
      " 31  name_Dexter Ave N & Aloha St                                                 32751 non-null  int64  \n",
      " 32  name_E Blaine St & Fairview Ave E                                            32751 non-null  int64  \n",
      " 33  name_E Harrison St & Broadway Ave E                                          32751 non-null  int64  \n",
      " 34  name_E Pine St & 16th Ave                                                    32751 non-null  int64  \n",
      " 35  name_Eastlake Ave E & E Allison St                                           32751 non-null  int64  \n",
      " 36  name_Fred Hutchinson Cancer Research Center / Fairview Ave N & Ward St       32751 non-null  int64  \n",
      " 37  name_Frye Art Museum / Terry Ave & Columbia St                               32751 non-null  int64  \n",
      " 38  name_Harvard Ave & E Pine St                                                 32751 non-null  int64  \n",
      " 39  name_Key Arena / 1st Ave N & Harrison St                                     32751 non-null  int64  \n",
      " 40  name_King Street Station Plaza / 2nd Ave Extension S & S Jackson St          32751 non-null  int64  \n",
      " 41  name_Lake Union Park / Valley St & Boren Ave N                               32751 non-null  int64  \n",
      " 42  name_Mercer St & 9th Ave N                                                   32751 non-null  int64  \n",
      " 43  name_NE 42nd St & University Way NE                                          32751 non-null  int64  \n",
      " 44  name_NE 47th St & 12th Ave NE                                                32751 non-null  int64  \n",
      " 45  name_NE Pacific St/UW Medical Center                                         32751 non-null  int64  \n",
      " 46  name_Occidental Park / Occidental Ave S & S Washington St                    32751 non-null  int64  \n",
      " 47  name_PATH / 9th Ave & Westlake Ave                                           32751 non-null  int64  \n",
      " 48  name_Pier 66 / Alaskan Way & Bell St                                         32751 non-null  int64  \n",
      " 49  name_Pier 69 / Alaskan Way & Clay St                                         32751 non-null  int64  \n",
      " 50  name_Pine St & 9th Ave                                                       32751 non-null  int64  \n",
      " 51  name_Pronto shop                                                             32751 non-null  int64  \n",
      " 52  name_Pronto shop 2                                                           32751 non-null  int64  \n",
      " 53  name_REI / Yale Ave N & John St                                              32751 non-null  int64  \n",
      " 54  name_Republican St & Westlake Ave N                                          32751 non-null  int64  \n",
      " 55  name_Seattle Aquarium / Alaskan Way S & Elliott Bay Trail                    32751 non-null  int64  \n",
      " 56  name_Seattle University / E Columbia St & 12th Ave                           32751 non-null  int64  \n",
      " 57  name_Summit Ave & E Denny Way                                                32751 non-null  int64  \n",
      " 58  name_Summit Ave E & E Republican St                                          32751 non-null  int64  \n",
      " 59  name_Terry Ave & Stewart St                                                  32751 non-null  int64  \n",
      " 60  name_Thomas St & 5th Ave N                                                   32751 non-null  int64  \n",
      " 61  name_UW Engineering Library / E Stevens Way NE & Jefferson Rd                32751 non-null  int64  \n",
      " 62  name_UW Intramural Activities Building                                       32751 non-null  int64  \n",
      " 63  name_UW Magnuson Health Sciences Center Rotunda / Columbia Rd & San Juan Rd  32751 non-null  int64  \n",
      " 64  name_UW McCarty Hall / Whitman Ct                                            32751 non-null  int64  \n",
      " 65  name_Union St & 4th Ave                                                      32751 non-null  int64  \n",
      " 66  name_Westlake Ave & 6th Ave                                                  32751 non-null  int64  \n",
      " 67  event_1_Fog                                                                  32751 non-null  int64  \n",
      " 68  event_1_Rain                                                                 32751 non-null  int64  \n",
      " 69  event_1_Snow                                                                 32751 non-null  int64  \n",
      " 70  event_2_Rain                                                                 32751 non-null  int64  \n",
      " 71  event_2_Snow                                                                 32751 non-null  int64  \n",
      " 72  event_2_Thunderstorm                                                         32751 non-null  int64  \n",
      "dtypes: float64(2), int64(70), object(1)\n",
      "memory usage: 18.2+ MB\n"
     ]
    }
   ],
   "source": [
    "trips_weather.info()"
   ]
  },
  {
   "cell_type": "code",
   "execution_count": 8,
   "id": "2fb04f2f",
   "metadata": {},
   "outputs": [],
   "source": [
    "cols = ['mean_temperature_f', 'mean_wind_speed_mph',\n",
    "       'precipitation_in', 'name_12th Ave & E Denny Way',\n",
    "       'name_12th Ave & E Mercer St', 'name_12th Ave & E Yesler Way',\n",
    "       'name_12th Ave & NE Campus Pkwy', 'name_15th Ave E & E Thomas St',\n",
    "       'name_15th Ave NE & NE 40th St', 'name_1st Ave & Marion St',\n",
    "       'name_2nd Ave & Blanchard St', 'name_2nd Ave & Pine St',\n",
    "       'name_2nd Ave & Spring St', 'name_2nd Ave & Vine St',\n",
    "       'name_3rd Ave & Broad St', 'name_6th Ave & Blanchard St',\n",
    "       'name_6th Ave S & S King St', 'name_7th Ave & Union St',\n",
    "       'name_8D OPS 02', 'name_9th Ave N & Mercer St',\n",
    "       'name_Bellevue Ave & E Pine St', 'name_Broadway and E Denny Way',\n",
    "       'name_Burke Museum / E Stevens Way NE & Memorial Way NE',\n",
    "       'name_Burke-Gilman Trail / NE Blakeley St & 24th Ave NE',\n",
    "       'name_Cal Anderson Park / 11th Ave & Pine St',\n",
    "       \"name_Children's Hospital / Sandpoint Way NE & 40th Ave NE\",\n",
    "       'name_City Hall / 4th Ave & James St', 'name_Dexter Ave & Denny Way',\n",
    "       'name_Dexter Ave N & Aloha St', 'name_E Blaine St & Fairview Ave E',\n",
    "       'name_E Harrison St & Broadway Ave E', 'name_E Pine St & 16th Ave',\n",
    "       'name_Eastlake Ave E & E Allison St',\n",
    "       'name_Fred Hutchinson Cancer Research Center / Fairview Ave N & Ward St',\n",
    "       'name_Frye Art Museum / Terry Ave & Columbia St',\n",
    "       'name_Harvard Ave & E Pine St',\n",
    "       'name_Key Arena / 1st Ave N & Harrison St',\n",
    "       'name_King Street Station Plaza / 2nd Ave Extension S & S Jackson St',\n",
    "       'name_Lake Union Park / Valley St & Boren Ave N',\n",
    "       'name_Mercer St & 9th Ave N', 'name_NE 42nd St & University Way NE',\n",
    "       'name_NE 47th St & 12th Ave NE', 'name_NE Pacific St/UW Medical Center',\n",
    "       'name_Occidental Park / Occidental Ave S & S Washington St',\n",
    "       'name_PATH / 9th Ave & Westlake Ave',\n",
    "       'name_Pier 66 / Alaskan Way & Bell St',\n",
    "       'name_Pier 69 / Alaskan Way & Clay St', 'name_Pine St & 9th Ave',\n",
    "       'name_Pronto shop', 'name_Pronto shop 2',\n",
    "       'name_REI / Yale Ave N & John St',\n",
    "       'name_Republican St & Westlake Ave N',\n",
    "       'name_Seattle Aquarium / Alaskan Way S & Elliott Bay Trail',\n",
    "       'name_Seattle University / E Columbia St & 12th Ave',\n",
    "       'name_Summit Ave & E Denny Way', 'name_Summit Ave E & E Republican St',\n",
    "       'name_Terry Ave & Stewart St', 'name_Thomas St & 5th Ave N',\n",
    "       'name_UW Engineering Library / E Stevens Way NE & Jefferson Rd',\n",
    "       'name_UW Intramural Activities Building',\n",
    "       'name_UW Magnuson Health Sciences Center Rotunda / Columbia Rd & San Juan Rd',\n",
    "       'name_UW McCarty Hall / Whitman Ct', 'name_Union St & 4th Ave',\n",
    "       'name_Westlake Ave & 6th Ave', 'event_1_Fog', 'event_1_Rain',\n",
    "       'event_1_Snow', 'event_2_Rain', 'event_2_Snow', 'event_2_Thunderstorm']"
   ]
  },
  {
   "cell_type": "code",
   "execution_count": 9,
   "id": "0cca4e28",
   "metadata": {},
   "outputs": [
    {
     "data": {
      "text/plain": [
       "['mean_temperature_f',\n",
       " 'mean_wind_speed_mph',\n",
       " 'precipitation_in',\n",
       " 'name_12th Ave & E Denny Way',\n",
       " 'name_12th Ave & E Mercer St',\n",
       " 'name_12th Ave & E Yesler Way',\n",
       " 'name_12th Ave & NE Campus Pkwy',\n",
       " 'name_15th Ave E & E Thomas St',\n",
       " 'name_15th Ave NE & NE 40th St',\n",
       " 'name_1st Ave & Marion St',\n",
       " 'name_2nd Ave & Blanchard St',\n",
       " 'name_2nd Ave & Pine St',\n",
       " 'name_2nd Ave & Spring St',\n",
       " 'name_2nd Ave & Vine St',\n",
       " 'name_3rd Ave & Broad St',\n",
       " 'name_6th Ave & Blanchard St',\n",
       " 'name_6th Ave S & S King St',\n",
       " 'name_7th Ave & Union St',\n",
       " 'name_8D OPS 02',\n",
       " 'name_9th Ave N & Mercer St',\n",
       " 'name_Bellevue Ave & E Pine St',\n",
       " 'name_Broadway and E Denny Way',\n",
       " 'name_Burke Museum / E Stevens Way NE & Memorial Way NE',\n",
       " 'name_Burke-Gilman Trail / NE Blakeley St & 24th Ave NE',\n",
       " 'name_Cal Anderson Park / 11th Ave & Pine St',\n",
       " \"name_Children's Hospital / Sandpoint Way NE & 40th Ave NE\",\n",
       " 'name_City Hall / 4th Ave & James St',\n",
       " 'name_Dexter Ave & Denny Way',\n",
       " 'name_Dexter Ave N & Aloha St',\n",
       " 'name_E Blaine St & Fairview Ave E',\n",
       " 'name_E Harrison St & Broadway Ave E',\n",
       " 'name_E Pine St & 16th Ave',\n",
       " 'name_Eastlake Ave E & E Allison St',\n",
       " 'name_Fred Hutchinson Cancer Research Center / Fairview Ave N & Ward St',\n",
       " 'name_Frye Art Museum / Terry Ave & Columbia St',\n",
       " 'name_Harvard Ave & E Pine St',\n",
       " 'name_Key Arena / 1st Ave N & Harrison St',\n",
       " 'name_King Street Station Plaza / 2nd Ave Extension S & S Jackson St',\n",
       " 'name_Lake Union Park / Valley St & Boren Ave N',\n",
       " 'name_Mercer St & 9th Ave N',\n",
       " 'name_NE 42nd St & University Way NE',\n",
       " 'name_NE 47th St & 12th Ave NE',\n",
       " 'name_NE Pacific St/UW Medical Center',\n",
       " 'name_Occidental Park / Occidental Ave S & S Washington St',\n",
       " 'name_PATH / 9th Ave & Westlake Ave',\n",
       " 'name_Pier 66 / Alaskan Way & Bell St',\n",
       " 'name_Pier 69 / Alaskan Way & Clay St',\n",
       " 'name_Pine St & 9th Ave',\n",
       " 'name_Pronto shop',\n",
       " 'name_Pronto shop 2',\n",
       " 'name_REI / Yale Ave N & John St',\n",
       " 'name_Republican St & Westlake Ave N',\n",
       " 'name_Seattle Aquarium / Alaskan Way S & Elliott Bay Trail',\n",
       " 'name_Seattle University / E Columbia St & 12th Ave',\n",
       " 'name_Summit Ave & E Denny Way',\n",
       " 'name_Summit Ave E & E Republican St',\n",
       " 'name_Terry Ave & Stewart St',\n",
       " 'name_Thomas St & 5th Ave N',\n",
       " 'name_UW Engineering Library / E Stevens Way NE & Jefferson Rd',\n",
       " 'name_UW Intramural Activities Building',\n",
       " 'name_UW Magnuson Health Sciences Center Rotunda / Columbia Rd & San Juan Rd',\n",
       " 'name_UW McCarty Hall / Whitman Ct',\n",
       " 'name_Union St & 4th Ave',\n",
       " 'name_Westlake Ave & 6th Ave',\n",
       " 'event_1_Fog',\n",
       " 'event_1_Rain',\n",
       " 'event_1_Snow',\n",
       " 'event_2_Rain',\n",
       " 'event_2_Snow',\n",
       " 'event_2_Thunderstorm']"
      ]
     },
     "execution_count": 9,
     "metadata": {},
     "output_type": "execute_result"
    }
   ],
   "source": [
    "cols"
   ]
  },
  {
   "cell_type": "code",
   "execution_count": 10,
   "id": "c271b78d",
   "metadata": {},
   "outputs": [],
   "source": [
    "#target='trip_count'"
   ]
  },
  {
   "cell_type": "code",
   "execution_count": 11,
   "id": "8c13cff4",
   "metadata": {},
   "outputs": [],
   "source": [
    "#X=trips_weather[features]\n",
    "#y=trips_weather[target]\n",
    "#X_train, X_test, y_train, y_test = train_test_split(X, y, test_size=0.2, random_state=42)\n",
    "#model=DecisionTreeRegressor()\n",
    "#model.fit(X_train, y_train)\n",
    "#y_pred=model.predict(X_test)\n"
   ]
  },
  {
   "cell_type": "code",
   "execution_count": 12,
   "id": "4ba1ecc4",
   "metadata": {},
   "outputs": [],
   "source": [
    "#mse=mean_squared_error(y_test, y_pred)"
   ]
  },
  {
   "cell_type": "code",
   "execution_count": 13,
   "id": "0277e3a9",
   "metadata": {},
   "outputs": [],
   "source": [
    "#print(\"mean_squared_error\", mse)"
   ]
  },
  {
   "cell_type": "code",
   "execution_count": 14,
   "id": "f94cf939",
   "metadata": {},
   "outputs": [],
   "source": [
    "#new_data=pd.DataFrame({'name_12th Ave & E Denny Way':1, 'event_1_Rain':1})\n",
    "#predicted_trips=model.predict(new_data)\n",
    "#print(\"Predicted Bicycle Trips:\", predicted_trips)"
   ]
  },
  {
   "cell_type": "code",
   "execution_count": 15,
   "id": "6b8799d7",
   "metadata": {},
   "outputs": [],
   "source": [
    "#new_data"
   ]
  },
  {
   "cell_type": "code",
   "execution_count": 16,
   "id": "52efb703",
   "metadata": {},
   "outputs": [],
   "source": [
    "#we then went on to create a decision tree\n",
    "from sklearn import tree"
   ]
  },
  {
   "cell_type": "code",
   "execution_count": 17,
   "id": "39f49a1e",
   "metadata": {},
   "outputs": [
    {
     "data": {
      "text/plain": [
       "['mean_temperature_f',\n",
       " 'mean_wind_speed_mph',\n",
       " 'precipitation_in',\n",
       " 'name_12th Ave & E Denny Way',\n",
       " 'name_12th Ave & E Mercer St',\n",
       " 'name_12th Ave & E Yesler Way',\n",
       " 'name_12th Ave & NE Campus Pkwy',\n",
       " 'name_15th Ave E & E Thomas St',\n",
       " 'name_15th Ave NE & NE 40th St',\n",
       " 'name_1st Ave & Marion St',\n",
       " 'name_2nd Ave & Blanchard St',\n",
       " 'name_2nd Ave & Pine St',\n",
       " 'name_2nd Ave & Spring St',\n",
       " 'name_2nd Ave & Vine St',\n",
       " 'name_3rd Ave & Broad St',\n",
       " 'name_6th Ave & Blanchard St',\n",
       " 'name_6th Ave S & S King St',\n",
       " 'name_7th Ave & Union St',\n",
       " 'name_8D OPS 02',\n",
       " 'name_9th Ave N & Mercer St',\n",
       " 'name_Bellevue Ave & E Pine St',\n",
       " 'name_Broadway and E Denny Way',\n",
       " 'name_Burke Museum / E Stevens Way NE & Memorial Way NE',\n",
       " 'name_Burke-Gilman Trail / NE Blakeley St & 24th Ave NE',\n",
       " 'name_Cal Anderson Park / 11th Ave & Pine St',\n",
       " \"name_Children's Hospital / Sandpoint Way NE & 40th Ave NE\",\n",
       " 'name_City Hall / 4th Ave & James St',\n",
       " 'name_Dexter Ave & Denny Way',\n",
       " 'name_Dexter Ave N & Aloha St',\n",
       " 'name_E Blaine St & Fairview Ave E',\n",
       " 'name_E Harrison St & Broadway Ave E',\n",
       " 'name_E Pine St & 16th Ave',\n",
       " 'name_Eastlake Ave E & E Allison St',\n",
       " 'name_Fred Hutchinson Cancer Research Center / Fairview Ave N & Ward St',\n",
       " 'name_Frye Art Museum / Terry Ave & Columbia St',\n",
       " 'name_Harvard Ave & E Pine St',\n",
       " 'name_Key Arena / 1st Ave N & Harrison St',\n",
       " 'name_King Street Station Plaza / 2nd Ave Extension S & S Jackson St',\n",
       " 'name_Lake Union Park / Valley St & Boren Ave N',\n",
       " 'name_Mercer St & 9th Ave N',\n",
       " 'name_NE 42nd St & University Way NE',\n",
       " 'name_NE 47th St & 12th Ave NE',\n",
       " 'name_NE Pacific St/UW Medical Center',\n",
       " 'name_Occidental Park / Occidental Ave S & S Washington St',\n",
       " 'name_PATH / 9th Ave & Westlake Ave',\n",
       " 'name_Pier 66 / Alaskan Way & Bell St',\n",
       " 'name_Pier 69 / Alaskan Way & Clay St',\n",
       " 'name_Pine St & 9th Ave',\n",
       " 'name_Pronto shop',\n",
       " 'name_Pronto shop 2',\n",
       " 'name_REI / Yale Ave N & John St',\n",
       " 'name_Republican St & Westlake Ave N',\n",
       " 'name_Seattle Aquarium / Alaskan Way S & Elliott Bay Trail',\n",
       " 'name_Seattle University / E Columbia St & 12th Ave',\n",
       " 'name_Summit Ave & E Denny Way',\n",
       " 'name_Summit Ave E & E Republican St',\n",
       " 'name_Terry Ave & Stewart St',\n",
       " 'name_Thomas St & 5th Ave N',\n",
       " 'name_UW Engineering Library / E Stevens Way NE & Jefferson Rd',\n",
       " 'name_UW Intramural Activities Building',\n",
       " 'name_UW Magnuson Health Sciences Center Rotunda / Columbia Rd & San Juan Rd',\n",
       " 'name_UW McCarty Hall / Whitman Ct',\n",
       " 'name_Union St & 4th Ave',\n",
       " 'name_Westlake Ave & 6th Ave',\n",
       " 'event_1_Fog',\n",
       " 'event_1_Rain',\n",
       " 'event_1_Snow',\n",
       " 'event_2_Rain',\n",
       " 'event_2_Snow',\n",
       " 'event_2_Thunderstorm']"
      ]
     },
     "execution_count": 17,
     "metadata": {},
     "output_type": "execute_result"
    }
   ],
   "source": [
    "cols"
   ]
  },
  {
   "cell_type": "code",
   "execution_count": 18,
   "id": "08d8e3b5",
   "metadata": {},
   "outputs": [
    {
     "ename": "NameError",
     "evalue": "name 'X_train' is not defined",
     "output_type": "error",
     "traceback": [
      "\u001b[1;31m---------------------------------------------------------------------------\u001b[0m",
      "\u001b[1;31mNameError\u001b[0m                                 Traceback (most recent call last)",
      "Cell \u001b[1;32mIn[18], line 15\u001b[0m\n\u001b[0;32m      9\u001b[0m dt \u001b[38;5;241m=\u001b[39m DecisionTreeRegressor(max_depth\u001b[38;5;241m=\u001b[39m\u001b[38;5;241m5\u001b[39m,\n\u001b[0;32m     10\u001b[0m                             min_samples_leaf\u001b[38;5;241m=\u001b[39m\u001b[38;5;241m20\u001b[39m,\n\u001b[0;32m     11\u001b[0m                             random_state \u001b[38;5;241m=\u001b[39m \u001b[38;5;241m42\u001b[39m)\n\u001b[0;32m     14\u001b[0m \u001b[38;5;66;03m# fitting the decision tree onto the training data\u001b[39;00m\n\u001b[1;32m---> 15\u001b[0m dt\u001b[38;5;241m.\u001b[39mfit(\u001b[43mX_train\u001b[49m[cols], y_train)\n\u001b[0;32m     18\u001b[0m y_pred2 \u001b[38;5;241m=\u001b[39m dt\u001b[38;5;241m.\u001b[39mpredict(X_test[cols])\n",
      "\u001b[1;31mNameError\u001b[0m: name 'X_train' is not defined"
     ]
    }
   ],
   "source": [
    "# Importing Decision Tree classifier\n",
    "from sklearn.tree import DecisionTreeRegressor\n",
    "\n",
    "\n",
    "# calling the decision tree method \n",
    "# setting max_depth to 2\n",
    "# and min sample per leaf at 20\n",
    "# this mean ther must be at least 20 samples in each leaf\n",
    "dt = DecisionTreeRegressor(max_depth=5,\n",
    "                            min_samples_leaf=20,\n",
    "                            random_state = 42)\n",
    "\n",
    "\n",
    "# fitting the decision tree onto the training data\n",
    "dt.fit(X_train[cols], y_train)\n",
    "\n",
    "\n",
    "y_pred2 = dt.predict(X_test[cols])\n",
    "\n",
    "\n",
    "# Printing the lcassification report\n",
    "#print(classification_report(y_test, \n",
    " #                           predictions,\n",
    "#                            target_names=[\"Settles\", \"Defaults\"]))"
   ]
  },
  {
   "cell_type": "code",
   "execution_count": 20,
   "id": "80d11375",
   "metadata": {},
   "outputs": [
    {
     "ename": "NameError",
     "evalue": "name 'y_pred2' is not defined",
     "output_type": "error",
     "traceback": [
      "\u001b[1;31m---------------------------------------------------------------------------\u001b[0m",
      "\u001b[1;31mNameError\u001b[0m                                 Traceback (most recent call last)",
      "Cell \u001b[1;32mIn[20], line 1\u001b[0m\n\u001b[1;32m----> 1\u001b[0m \u001b[43my_pred2\u001b[49m\u001b[38;5;241m.\u001b[39msize\n",
      "\u001b[1;31mNameError\u001b[0m: name 'y_pred2' is not defined"
     ]
    }
   ],
   "source": [
    "y_pred2.size"
   ]
  },
  {
   "cell_type": "code",
   "execution_count": 21,
   "id": "6d7c9c37",
   "metadata": {},
   "outputs": [
    {
     "ename": "NameError",
     "evalue": "name 'X_train' is not defined",
     "output_type": "error",
     "traceback": [
      "\u001b[1;31m---------------------------------------------------------------------------\u001b[0m",
      "\u001b[1;31mNameError\u001b[0m                                 Traceback (most recent call last)",
      "Cell \u001b[1;32mIn[21], line 2\u001b[0m\n\u001b[0;32m      1\u001b[0m fig\u001b[38;5;241m=\u001b[39mplt\u001b[38;5;241m.\u001b[39mfigure(figsize\u001b[38;5;241m=\u001b[39m(\u001b[38;5;241m50\u001b[39m,\u001b[38;5;241m20\u001b[39m))\n\u001b[1;32m----> 2\u001b[0m _\u001b[38;5;241m=\u001b[39mtree\u001b[38;5;241m.\u001b[39mplot_tree(dt, feature_names\u001b[38;5;241m=\u001b[39m\u001b[43mX_train\u001b[49m[cols]\u001b[38;5;241m.\u001b[39mcolumns, filled\u001b[38;5;241m=\u001b[39m\u001b[38;5;28;01mTrue\u001b[39;00m)\n",
      "\u001b[1;31mNameError\u001b[0m: name 'X_train' is not defined"
     ]
    },
    {
     "data": {
      "text/plain": [
       "<Figure size 5000x2000 with 0 Axes>"
      ]
     },
     "metadata": {},
     "output_type": "display_data"
    }
   ],
   "source": [
    "fig=plt.figure(figsize=(50,20))\n",
    "_=tree.plot_tree(dt, feature_names=X_train[cols].columns, filled=True)"
   ]
  },
  {
   "cell_type": "code",
   "execution_count": 22,
   "id": "54c8d4a4",
   "metadata": {},
   "outputs": [
    {
     "name": "stdout",
     "output_type": "stream",
     "text": [
      "Requirement already satisfied: dtreeviz in c:\\programdata\\anaconda3\\lib\\site-packages (2.2.2)\n",
      "Requirement already satisfied: scikit-learn in c:\\programdata\\anaconda3\\lib\\site-packages (from dtreeviz) (1.2.1)\n",
      "Requirement already satisfied: graphviz>=0.9 in c:\\programdata\\anaconda3\\lib\\site-packages (from dtreeviz) (0.20.1)\n",
      "Requirement already satisfied: matplotlib in c:\\programdata\\anaconda3\\lib\\site-packages (from dtreeviz) (3.7.0)\n",
      "Requirement already satisfied: numpy in c:\\programdata\\anaconda3\\lib\\site-packages (from dtreeviz) (1.23.5)\n",
      "Requirement already satisfied: pytest in c:\\programdata\\anaconda3\\lib\\site-packages (from dtreeviz) (7.1.2)\n",
      "Requirement already satisfied: pandas in c:\\programdata\\anaconda3\\lib\\site-packages (from dtreeviz) (1.5.3)\n",
      "Requirement already satisfied: colour in c:\\programdata\\anaconda3\\lib\\site-packages (from dtreeviz) (0.1.5)\n",
      "Requirement already satisfied: cycler>=0.10 in c:\\programdata\\anaconda3\\lib\\site-packages (from matplotlib->dtreeviz) (0.11.0)\n",
      "Requirement already satisfied: contourpy>=1.0.1 in c:\\programdata\\anaconda3\\lib\\site-packages (from matplotlib->dtreeviz) (1.0.5)\n",
      "Requirement already satisfied: packaging>=20.0 in c:\\programdata\\anaconda3\\lib\\site-packages (from matplotlib->dtreeviz) (22.0)\n",
      "Requirement already satisfied: fonttools>=4.22.0 in c:\\programdata\\anaconda3\\lib\\site-packages (from matplotlib->dtreeviz) (4.25.0)\n",
      "Requirement already satisfied: pyparsing>=2.3.1 in c:\\programdata\\anaconda3\\lib\\site-packages (from matplotlib->dtreeviz) (3.0.9)\n",
      "Requirement already satisfied: pillow>=6.2.0 in c:\\programdata\\anaconda3\\lib\\site-packages (from matplotlib->dtreeviz) (9.4.0)\n",
      "Requirement already satisfied: kiwisolver>=1.0.1 in c:\\programdata\\anaconda3\\lib\\site-packages (from matplotlib->dtreeviz) (1.4.4)\n",
      "Requirement already satisfied: python-dateutil>=2.7 in c:\\programdata\\anaconda3\\lib\\site-packages (from matplotlib->dtreeviz) (2.8.2)\n",
      "Requirement already satisfied: pytz>=2020.1 in c:\\programdata\\anaconda3\\lib\\site-packages (from pandas->dtreeviz) (2022.7)\n",
      "Requirement already satisfied: attrs>=19.2.0 in c:\\programdata\\anaconda3\\lib\\site-packages (from pytest->dtreeviz) (22.1.0)\n",
      "Requirement already satisfied: iniconfig in c:\\programdata\\anaconda3\\lib\\site-packages (from pytest->dtreeviz) (1.1.1)\n",
      "Requirement already satisfied: pluggy<2.0,>=0.12 in c:\\programdata\\anaconda3\\lib\\site-packages (from pytest->dtreeviz) (1.0.0)\n",
      "Requirement already satisfied: py>=1.8.2 in c:\\programdata\\anaconda3\\lib\\site-packages (from pytest->dtreeviz) (1.11.0)\n",
      "Requirement already satisfied: tomli>=1.0.0 in c:\\programdata\\anaconda3\\lib\\site-packages (from pytest->dtreeviz) (2.0.1)\n",
      "Requirement already satisfied: atomicwrites>=1.0 in c:\\programdata\\anaconda3\\lib\\site-packages (from pytest->dtreeviz) (1.4.0)\n",
      "Requirement already satisfied: colorama in c:\\programdata\\anaconda3\\lib\\site-packages (from pytest->dtreeviz) (0.4.6)\n",
      "Requirement already satisfied: scipy>=1.3.2 in c:\\programdata\\anaconda3\\lib\\site-packages (from scikit-learn->dtreeviz) (1.10.0)\n",
      "Requirement already satisfied: threadpoolctl>=2.0.0 in c:\\programdata\\anaconda3\\lib\\site-packages (from scikit-learn->dtreeviz) (2.2.0)\n",
      "Requirement already satisfied: joblib>=1.1.1 in c:\\programdata\\anaconda3\\lib\\site-packages (from scikit-learn->dtreeviz) (1.1.1)\n",
      "Requirement already satisfied: six>=1.5 in c:\\programdata\\anaconda3\\lib\\site-packages (from python-dateutil>=2.7->matplotlib->dtreeviz) (1.16.0)\n"
     ]
    }
   ],
   "source": [
    "import graphviz\n",
    "!pip install dtreeviz\n",
    "import dtreeviz"
   ]
  },
  {
   "cell_type": "code",
   "execution_count": 3,
   "id": "16eec5b4",
   "metadata": {
    "scrolled": true
   },
   "outputs": [
    {
     "ename": "NameError",
     "evalue": "name 'tree' is not defined",
     "output_type": "error",
     "traceback": [
      "\u001b[1;31m---------------------------------------------------------------------------\u001b[0m",
      "\u001b[1;31mNameError\u001b[0m                                 Traceback (most recent call last)",
      "Cell \u001b[1;32mIn[3], line 1\u001b[0m\n\u001b[1;32m----> 1\u001b[0m dot_data\u001b[38;5;241m=\u001b[39m\u001b[43mtree\u001b[49m\u001b[38;5;241m.\u001b[39mexport_graphviz(dt,out_file\u001b[38;5;241m=\u001b[39m\u001b[38;5;28;01mNone\u001b[39;00m,\n\u001b[0;32m      2\u001b[0m                              feature_names\u001b[38;5;241m=\u001b[39mX_train[cols]\u001b[38;5;241m.\u001b[39mcolumns,\n\u001b[0;32m      3\u001b[0m                              filled\u001b[38;5;241m=\u001b[39m\u001b[38;5;28;01mTrue\u001b[39;00m)\n\u001b[0;32m      4\u001b[0m graphviz\u001b[38;5;241m.\u001b[39mSource(dot_data, \u001b[38;5;28mformat\u001b[39m\u001b[38;5;241m=\u001b[39m\u001b[38;5;124m'\u001b[39m\u001b[38;5;124mpng\u001b[39m\u001b[38;5;124m'\u001b[39m)\n",
      "\u001b[1;31mNameError\u001b[0m: name 'tree' is not defined"
     ]
    }
   ],
   "source": [
    "dot_data=tree.export_graphviz(dt,out_file=None,\n",
    "                             feature_names=X_train[cols].columns,\n",
    "                             filled=True)\n",
    "graphviz.Source(dot_data, format='png')"
   ]
  },
  {
   "cell_type": "code",
   "execution_count": null,
   "id": "44250dcb",
   "metadata": {},
   "outputs": [],
   "source": []
  },
  {
   "cell_type": "code",
   "execution_count": null,
   "id": "979feda6",
   "metadata": {},
   "outputs": [],
   "source": []
  }
 ],
 "metadata": {
  "kernelspec": {
   "display_name": "Python 3 (ipykernel)",
   "language": "python",
   "name": "python3"
  },
  "language_info": {
   "codemirror_mode": {
    "name": "ipython",
    "version": 3
   },
   "file_extension": ".py",
   "mimetype": "text/x-python",
   "name": "python",
   "nbconvert_exporter": "python",
   "pygments_lexer": "ipython3",
   "version": "3.10.9"
  }
 },
 "nbformat": 4,
 "nbformat_minor": 5
}
