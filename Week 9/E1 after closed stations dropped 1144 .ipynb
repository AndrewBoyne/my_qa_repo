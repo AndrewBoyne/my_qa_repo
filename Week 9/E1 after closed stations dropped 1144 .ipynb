{
 "cells": [
  {
   "cell_type": "code",
   "execution_count": 39,
   "id": "15f6a713",
   "metadata": {},
   "outputs": [],
   "source": [
    "import pandas as pd\n",
    "\n"
   ]
  },
  {
   "cell_type": "code",
   "execution_count": 86,
   "id": "d651923a",
   "metadata": {},
   "outputs": [
    {
     "name": "stderr",
     "output_type": "stream",
     "text": [
      "C:\\Users\\Admin\\AppData\\Local\\Temp\\ipykernel_3752\\3025706063.py:1: DtypeWarning: Columns (11) have mixed types. Specify dtype option on import or set low_memory=False.\n",
      "  trips = pd.read_csv(\"Seattle_cycles_trip.csv\")\n"
     ]
    }
   ],
   "source": [
    "trips = pd.read_csv(\"Seattle_cycles_trip.csv\")\n",
    "stations = pd.read_csv(\"Seattle_cycles_station.csv\")\n",
    "weather = pd.read_csv(\"Seattle_weather_daily.csv\")"
   ]
  },
  {
   "cell_type": "code",
   "execution_count": 87,
   "id": "4c91cf15",
   "metadata": {},
   "outputs": [
    {
     "name": "stdout",
     "output_type": "stream",
     "text": [
      "<class 'pandas.core.frame.DataFrame'>\n",
      "RangeIndex: 286858 entries, 0 to 286857\n",
      "Data columns (total 12 columns):\n",
      " #   Column             Non-Null Count   Dtype  \n",
      "---  ------             --------------   -----  \n",
      " 0   trip_id            286858 non-null  int64  \n",
      " 1   starttime          286858 non-null  object \n",
      " 2   stoptime           286858 non-null  object \n",
      " 3   bikeid             286858 non-null  object \n",
      " 4   tripduration       286858 non-null  float64\n",
      " 5   from_station_name  286858 non-null  object \n",
      " 6   to_station_name    286858 non-null  object \n",
      " 7   from_station_id    286858 non-null  object \n",
      " 8   to_station_id      286858 non-null  object \n",
      " 9   usertype           286858 non-null  object \n",
      " 10  gender             181558 non-null  object \n",
      " 11  birthyear          181554 non-null  object \n",
      "dtypes: float64(1), int64(1), object(10)\n",
      "memory usage: 26.3+ MB\n"
     ]
    }
   ],
   "source": [
    "trips.info()"
   ]
  },
  {
   "cell_type": "code",
   "execution_count": 88,
   "id": "1a0f2097",
   "metadata": {},
   "outputs": [],
   "source": [
    "trips['starttime'] = pd.to_datetime(trips['starttime'])"
   ]
  },
  {
   "cell_type": "code",
   "execution_count": 89,
   "id": "e5c4a6de",
   "metadata": {},
   "outputs": [
    {
     "name": "stdout",
     "output_type": "stream",
     "text": [
      "<class 'pandas.core.frame.DataFrame'>\n",
      "RangeIndex: 286858 entries, 0 to 286857\n",
      "Data columns (total 12 columns):\n",
      " #   Column             Non-Null Count   Dtype         \n",
      "---  ------             --------------   -----         \n",
      " 0   trip_id            286858 non-null  int64         \n",
      " 1   starttime          286858 non-null  datetime64[ns]\n",
      " 2   stoptime           286858 non-null  object        \n",
      " 3   bikeid             286858 non-null  object        \n",
      " 4   tripduration       286858 non-null  float64       \n",
      " 5   from_station_name  286858 non-null  object        \n",
      " 6   to_station_name    286858 non-null  object        \n",
      " 7   from_station_id    286858 non-null  object        \n",
      " 8   to_station_id      286858 non-null  object        \n",
      " 9   usertype           286858 non-null  object        \n",
      " 10  gender             181558 non-null  object        \n",
      " 11  birthyear          181554 non-null  object        \n",
      "dtypes: datetime64[ns](1), float64(1), int64(1), object(9)\n",
      "memory usage: 26.3+ MB\n"
     ]
    }
   ],
   "source": [
    "trips.info()"
   ]
  },
  {
   "cell_type": "code",
   "execution_count": 90,
   "id": "e96da6de",
   "metadata": {},
   "outputs": [],
   "source": [
    "trips.drop(['stoptime', 'bikeid', 'tripduration', 'to_station_name', 'from_station_id', 'usertype', 'gender', 'birthyear'], axis=1, inplace=True)"
   ]
  },
  {
   "cell_type": "code",
   "execution_count": 91,
   "id": "aefcf9b6",
   "metadata": {},
   "outputs": [],
   "source": [
    "trips['date']=trips['starttime'].dt.date"
   ]
  },
  {
   "cell_type": "code",
   "execution_count": 92,
   "id": "c3716ac3",
   "metadata": {},
   "outputs": [
    {
     "data": {
      "text/html": [
       "<div>\n",
       "<style scoped>\n",
       "    .dataframe tbody tr th:only-of-type {\n",
       "        vertical-align: middle;\n",
       "    }\n",
       "\n",
       "    .dataframe tbody tr th {\n",
       "        vertical-align: top;\n",
       "    }\n",
       "\n",
       "    .dataframe thead th {\n",
       "        text-align: right;\n",
       "    }\n",
       "</style>\n",
       "<table border=\"1\" class=\"dataframe\">\n",
       "  <thead>\n",
       "    <tr style=\"text-align: right;\">\n",
       "      <th></th>\n",
       "      <th>trip_id</th>\n",
       "      <th>starttime</th>\n",
       "      <th>from_station_name</th>\n",
       "      <th>to_station_id</th>\n",
       "      <th>date</th>\n",
       "    </tr>\n",
       "  </thead>\n",
       "  <tbody>\n",
       "    <tr>\n",
       "      <th>0</th>\n",
       "      <td>431</td>\n",
       "      <td>2014-10-13 10:31:00</td>\n",
       "      <td>2nd Ave &amp; Spring St</td>\n",
       "      <td>PS-04</td>\n",
       "      <td>2014-10-13</td>\n",
       "    </tr>\n",
       "    <tr>\n",
       "      <th>1</th>\n",
       "      <td>432</td>\n",
       "      <td>2014-10-13 10:32:00</td>\n",
       "      <td>2nd Ave &amp; Spring St</td>\n",
       "      <td>PS-04</td>\n",
       "      <td>2014-10-13</td>\n",
       "    </tr>\n",
       "    <tr>\n",
       "      <th>2</th>\n",
       "      <td>433</td>\n",
       "      <td>2014-10-13 10:33:00</td>\n",
       "      <td>2nd Ave &amp; Spring St</td>\n",
       "      <td>PS-04</td>\n",
       "      <td>2014-10-13</td>\n",
       "    </tr>\n",
       "    <tr>\n",
       "      <th>3</th>\n",
       "      <td>434</td>\n",
       "      <td>2014-10-13 10:34:00</td>\n",
       "      <td>2nd Ave &amp; Spring St</td>\n",
       "      <td>PS-04</td>\n",
       "      <td>2014-10-13</td>\n",
       "    </tr>\n",
       "    <tr>\n",
       "      <th>4</th>\n",
       "      <td>435</td>\n",
       "      <td>2014-10-13 10:34:00</td>\n",
       "      <td>2nd Ave &amp; Spring St</td>\n",
       "      <td>PS-04</td>\n",
       "      <td>2014-10-13</td>\n",
       "    </tr>\n",
       "  </tbody>\n",
       "</table>\n",
       "</div>"
      ],
      "text/plain": [
       "   trip_id           starttime    from_station_name to_station_id        date\n",
       "0      431 2014-10-13 10:31:00  2nd Ave & Spring St         PS-04  2014-10-13\n",
       "1      432 2014-10-13 10:32:00  2nd Ave & Spring St         PS-04  2014-10-13\n",
       "2      433 2014-10-13 10:33:00  2nd Ave & Spring St         PS-04  2014-10-13\n",
       "3      434 2014-10-13 10:34:00  2nd Ave & Spring St         PS-04  2014-10-13\n",
       "4      435 2014-10-13 10:34:00  2nd Ave & Spring St         PS-04  2014-10-13"
      ]
     },
     "execution_count": 92,
     "metadata": {},
     "output_type": "execute_result"
    }
   ],
   "source": [
    "trips.head()"
   ]
  },
  {
   "cell_type": "code",
   "execution_count": 93,
   "id": "f7f2307c",
   "metadata": {},
   "outputs": [
    {
     "name": "stdout",
     "output_type": "stream",
     "text": [
      "<class 'pandas.core.frame.DataFrame'>\n",
      "RangeIndex: 286858 entries, 0 to 286857\n",
      "Data columns (total 5 columns):\n",
      " #   Column             Non-Null Count   Dtype         \n",
      "---  ------             --------------   -----         \n",
      " 0   trip_id            286858 non-null  int64         \n",
      " 1   starttime          286858 non-null  datetime64[ns]\n",
      " 2   from_station_name  286858 non-null  object        \n",
      " 3   to_station_id      286858 non-null  object        \n",
      " 4   date               286858 non-null  object        \n",
      "dtypes: datetime64[ns](1), int64(1), object(3)\n",
      "memory usage: 10.9+ MB\n"
     ]
    }
   ],
   "source": [
    "trips.info()"
   ]
  },
  {
   "cell_type": "code",
   "execution_count": 94,
   "id": "36763359",
   "metadata": {},
   "outputs": [],
   "source": [
    "trips['date'] = pd.to_datetime(trips['date'])"
   ]
  },
  {
   "cell_type": "code",
   "execution_count": 95,
   "id": "d494f35c",
   "metadata": {},
   "outputs": [
    {
     "name": "stdout",
     "output_type": "stream",
     "text": [
      "<class 'pandas.core.frame.DataFrame'>\n",
      "RangeIndex: 286858 entries, 0 to 286857\n",
      "Data columns (total 5 columns):\n",
      " #   Column             Non-Null Count   Dtype         \n",
      "---  ------             --------------   -----         \n",
      " 0   trip_id            286858 non-null  int64         \n",
      " 1   starttime          286858 non-null  datetime64[ns]\n",
      " 2   from_station_name  286858 non-null  object        \n",
      " 3   to_station_id      286858 non-null  object        \n",
      " 4   date               286858 non-null  datetime64[ns]\n",
      "dtypes: datetime64[ns](2), int64(1), object(2)\n",
      "memory usage: 10.9+ MB\n"
     ]
    }
   ],
   "source": [
    "trips.info()"
   ]
  },
  {
   "cell_type": "code",
   "execution_count": 96,
   "id": "c38f8654",
   "metadata": {},
   "outputs": [],
   "source": [
    "trips.drop(['starttime'], axis=1, inplace=True)"
   ]
  },
  {
   "cell_type": "code",
   "execution_count": 97,
   "id": "169df4da",
   "metadata": {},
   "outputs": [
    {
     "data": {
      "text/html": [
       "<div>\n",
       "<style scoped>\n",
       "    .dataframe tbody tr th:only-of-type {\n",
       "        vertical-align: middle;\n",
       "    }\n",
       "\n",
       "    .dataframe tbody tr th {\n",
       "        vertical-align: top;\n",
       "    }\n",
       "\n",
       "    .dataframe thead th {\n",
       "        text-align: right;\n",
       "    }\n",
       "</style>\n",
       "<table border=\"1\" class=\"dataframe\">\n",
       "  <thead>\n",
       "    <tr style=\"text-align: right;\">\n",
       "      <th></th>\n",
       "      <th>trip_id</th>\n",
       "      <th>from_station_name</th>\n",
       "      <th>to_station_id</th>\n",
       "      <th>date</th>\n",
       "    </tr>\n",
       "  </thead>\n",
       "  <tbody>\n",
       "    <tr>\n",
       "      <th>0</th>\n",
       "      <td>431</td>\n",
       "      <td>2nd Ave &amp; Spring St</td>\n",
       "      <td>PS-04</td>\n",
       "      <td>2014-10-13</td>\n",
       "    </tr>\n",
       "    <tr>\n",
       "      <th>1</th>\n",
       "      <td>432</td>\n",
       "      <td>2nd Ave &amp; Spring St</td>\n",
       "      <td>PS-04</td>\n",
       "      <td>2014-10-13</td>\n",
       "    </tr>\n",
       "    <tr>\n",
       "      <th>2</th>\n",
       "      <td>433</td>\n",
       "      <td>2nd Ave &amp; Spring St</td>\n",
       "      <td>PS-04</td>\n",
       "      <td>2014-10-13</td>\n",
       "    </tr>\n",
       "    <tr>\n",
       "      <th>3</th>\n",
       "      <td>434</td>\n",
       "      <td>2nd Ave &amp; Spring St</td>\n",
       "      <td>PS-04</td>\n",
       "      <td>2014-10-13</td>\n",
       "    </tr>\n",
       "    <tr>\n",
       "      <th>4</th>\n",
       "      <td>435</td>\n",
       "      <td>2nd Ave &amp; Spring St</td>\n",
       "      <td>PS-04</td>\n",
       "      <td>2014-10-13</td>\n",
       "    </tr>\n",
       "  </tbody>\n",
       "</table>\n",
       "</div>"
      ],
      "text/plain": [
       "   trip_id    from_station_name to_station_id       date\n",
       "0      431  2nd Ave & Spring St         PS-04 2014-10-13\n",
       "1      432  2nd Ave & Spring St         PS-04 2014-10-13\n",
       "2      433  2nd Ave & Spring St         PS-04 2014-10-13\n",
       "3      434  2nd Ave & Spring St         PS-04 2014-10-13\n",
       "4      435  2nd Ave & Spring St         PS-04 2014-10-13"
      ]
     },
     "execution_count": 97,
     "metadata": {},
     "output_type": "execute_result"
    }
   ],
   "source": [
    "trips.head()"
   ]
  },
  {
   "cell_type": "code",
   "execution_count": 98,
   "id": "e701921b",
   "metadata": {},
   "outputs": [
    {
     "data": {
      "text/html": [
       "<div>\n",
       "<style scoped>\n",
       "    .dataframe tbody tr th:only-of-type {\n",
       "        vertical-align: middle;\n",
       "    }\n",
       "\n",
       "    .dataframe tbody tr th {\n",
       "        vertical-align: top;\n",
       "    }\n",
       "\n",
       "    .dataframe thead th {\n",
       "        text-align: right;\n",
       "    }\n",
       "</style>\n",
       "<table border=\"1\" class=\"dataframe\">\n",
       "  <thead>\n",
       "    <tr style=\"text-align: right;\">\n",
       "      <th></th>\n",
       "      <th>station_id</th>\n",
       "      <th>name</th>\n",
       "      <th>lat</th>\n",
       "      <th>long</th>\n",
       "      <th>install_date</th>\n",
       "      <th>install_dockcount</th>\n",
       "      <th>modification_date</th>\n",
       "      <th>current_dockcount</th>\n",
       "      <th>decommission_date</th>\n",
       "    </tr>\n",
       "  </thead>\n",
       "  <tbody>\n",
       "    <tr>\n",
       "      <th>0</th>\n",
       "      <td>BT-01</td>\n",
       "      <td>3rd Ave &amp; Broad St</td>\n",
       "      <td>47.618418</td>\n",
       "      <td>-122.350964</td>\n",
       "      <td>10/13/2014</td>\n",
       "      <td>18</td>\n",
       "      <td>NaN</td>\n",
       "      <td>18</td>\n",
       "      <td>NaN</td>\n",
       "    </tr>\n",
       "    <tr>\n",
       "      <th>1</th>\n",
       "      <td>BT-03</td>\n",
       "      <td>2nd Ave &amp; Vine St</td>\n",
       "      <td>47.615829</td>\n",
       "      <td>-122.348564</td>\n",
       "      <td>10/13/2014</td>\n",
       "      <td>16</td>\n",
       "      <td>NaN</td>\n",
       "      <td>16</td>\n",
       "      <td>NaN</td>\n",
       "    </tr>\n",
       "    <tr>\n",
       "      <th>2</th>\n",
       "      <td>BT-04</td>\n",
       "      <td>6th Ave &amp; Blanchard St</td>\n",
       "      <td>47.616094</td>\n",
       "      <td>-122.341102</td>\n",
       "      <td>10/13/2014</td>\n",
       "      <td>16</td>\n",
       "      <td>NaN</td>\n",
       "      <td>16</td>\n",
       "      <td>NaN</td>\n",
       "    </tr>\n",
       "    <tr>\n",
       "      <th>3</th>\n",
       "      <td>BT-05</td>\n",
       "      <td>2nd Ave &amp; Blanchard St</td>\n",
       "      <td>47.613110</td>\n",
       "      <td>-122.344208</td>\n",
       "      <td>10/13/2014</td>\n",
       "      <td>14</td>\n",
       "      <td>NaN</td>\n",
       "      <td>14</td>\n",
       "      <td>NaN</td>\n",
       "    </tr>\n",
       "    <tr>\n",
       "      <th>4</th>\n",
       "      <td>CBD-03</td>\n",
       "      <td>7th Ave &amp; Union St</td>\n",
       "      <td>47.610731</td>\n",
       "      <td>-122.332447</td>\n",
       "      <td>10/13/2014</td>\n",
       "      <td>20</td>\n",
       "      <td>NaN</td>\n",
       "      <td>20</td>\n",
       "      <td>NaN</td>\n",
       "    </tr>\n",
       "  </tbody>\n",
       "</table>\n",
       "</div>"
      ],
      "text/plain": [
       "  station_id                    name        lat        long install_date  \\\n",
       "0      BT-01      3rd Ave & Broad St  47.618418 -122.350964   10/13/2014   \n",
       "1      BT-03       2nd Ave & Vine St  47.615829 -122.348564   10/13/2014   \n",
       "2      BT-04  6th Ave & Blanchard St  47.616094 -122.341102   10/13/2014   \n",
       "3      BT-05  2nd Ave & Blanchard St  47.613110 -122.344208   10/13/2014   \n",
       "4     CBD-03      7th Ave & Union St  47.610731 -122.332447   10/13/2014   \n",
       "\n",
       "   install_dockcount modification_date  current_dockcount decommission_date  \n",
       "0                 18               NaN                 18               NaN  \n",
       "1                 16               NaN                 16               NaN  \n",
       "2                 16               NaN                 16               NaN  \n",
       "3                 14               NaN                 14               NaN  \n",
       "4                 20               NaN                 20               NaN  "
      ]
     },
     "execution_count": 98,
     "metadata": {},
     "output_type": "execute_result"
    }
   ],
   "source": [
    "stations.head()"
   ]
  },
  {
   "cell_type": "code",
   "execution_count": 99,
   "id": "349a0318",
   "metadata": {},
   "outputs": [
    {
     "data": {
      "text/plain": [
       "array([nan, '8/9/2016', '3/18/2016', '7/2/2016', '10/29/2015'],\n",
       "      dtype=object)"
      ]
     },
     "execution_count": 99,
     "metadata": {},
     "output_type": "execute_result"
    }
   ],
   "source": [
    "stations.decommission_date.unique()"
   ]
  },
  {
   "cell_type": "code",
   "execution_count": 106,
   "id": "02cdaa08",
   "metadata": {},
   "outputs": [],
   "source": [
    "active_stations=stations[stations['decommission_date'].isnull()]"
   ]
  },
  {
   "cell_type": "code",
   "execution_count": 107,
   "id": "f0337c04",
   "metadata": {},
   "outputs": [
    {
     "name": "stdout",
     "output_type": "stream",
     "text": [
      "<class 'pandas.core.frame.DataFrame'>\n",
      "Int64Index: 54 entries, 0 to 57\n",
      "Data columns (total 9 columns):\n",
      " #   Column             Non-Null Count  Dtype  \n",
      "---  ------             --------------  -----  \n",
      " 0   station_id         54 non-null     object \n",
      " 1   name               54 non-null     object \n",
      " 2   lat                54 non-null     float64\n",
      " 3   long               54 non-null     float64\n",
      " 4   install_date       54 non-null     object \n",
      " 5   install_dockcount  54 non-null     int64  \n",
      " 6   modification_date  13 non-null     object \n",
      " 7   current_dockcount  54 non-null     int64  \n",
      " 8   decommission_date  0 non-null      object \n",
      "dtypes: float64(2), int64(2), object(5)\n",
      "memory usage: 4.2+ KB\n"
     ]
    }
   ],
   "source": [
    "active_stations.info()"
   ]
  },
  {
   "cell_type": "code",
   "execution_count": null,
   "id": "a8e6a95f",
   "metadata": {},
   "outputs": [],
   "source": []
  }
 ],
 "metadata": {
  "kernelspec": {
   "display_name": "Python 3 (ipykernel)",
   "language": "python",
   "name": "python3"
  },
  "language_info": {
   "codemirror_mode": {
    "name": "ipython",
    "version": 3
   },
   "file_extension": ".py",
   "mimetype": "text/x-python",
   "name": "python",
   "nbconvert_exporter": "python",
   "pygments_lexer": "ipython3",
   "version": "3.10.9"
  }
 },
 "nbformat": 4,
 "nbformat_minor": 5
}
