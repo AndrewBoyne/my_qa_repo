{
 "cells": [
  {
   "cell_type": "markdown",
   "id": "0b9ec620",
   "metadata": {},
   "source": [
    "## Wrangling public school location data \n",
    "\n",
    "### Goals of the Task\n",
    "\n",
    "\n",
    "\n",
    "There are two tables in the dataset retrieved from the Seattle open data portal <br>\n",
    "*Each row in both files is a school.* <br>\n",
    "The csv file is designed to be used in a geospatial tool with an X,Y plotted map image, which we dont have access to. The json file is a dictionary that does contains location coordinates along with other information about each school but the information is nested (dictionaries within dictionaries). This file will need to be unnested in order to make a readable dataframe of longitude and latitude data, which can be joined to the schools data. \n",
    "\n",
    "- We can potentially use this data to identify how many public schools lie within walking distance of each cycle hire station and how far away the nearest public school is from a given cycle hire station. This information could be useful for estimating school related demand on the cycle hire network in term time, versus school holidays. "
   ]
  },
  {
   "cell_type": "markdown",
   "id": "6cf34383",
   "metadata": {},
   "source": [
    "#### Step 1 : use pandas to read the schools csv file as a data frame \n",
    "- import pandas as pd \n",
    "- use pandas read_csv to create a schools data frame\n",
    "- ensure you are pointing at the correct file path for the data source (you may have to navigate in your notebook!) \n"
   ]
  },
  {
   "cell_type": "code",
   "execution_count": 17,
   "id": "ab71c105",
   "metadata": {},
   "outputs": [],
   "source": [
    "import pandas as pd"
   ]
  },
  {
   "cell_type": "code",
   "execution_count": 31,
   "id": "530310ae",
   "metadata": {},
   "outputs": [],
   "source": [
    "sites = pd.read_csv(\"Seattle_Public_Schools_Sites_2022-2023.csv\")"
   ]
  },
  {
   "cell_type": "code",
   "execution_count": 32,
   "id": "02602bf5",
   "metadata": {},
   "outputs": [
    {
     "data": {
      "text/html": [
       "<div>\n",
       "<style scoped>\n",
       "    .dataframe tbody tr th:only-of-type {\n",
       "        vertical-align: middle;\n",
       "    }\n",
       "\n",
       "    .dataframe tbody tr th {\n",
       "        vertical-align: top;\n",
       "    }\n",
       "\n",
       "    .dataframe thead th {\n",
       "        text-align: right;\n",
       "    }\n",
       "</style>\n",
       "<table border=\"1\" class=\"dataframe\">\n",
       "  <thead>\n",
       "    <tr style=\"text-align: right;\">\n",
       "      <th></th>\n",
       "      <th>X</th>\n",
       "      <th>Y</th>\n",
       "      <th>OBJECTID</th>\n",
       "      <th>schID</th>\n",
       "      <th>schName</th>\n",
       "      <th>mapLabel</th>\n",
       "      <th>Status</th>\n",
       "      <th>esmshs</th>\n",
       "    </tr>\n",
       "  </thead>\n",
       "  <tbody>\n",
       "    <tr>\n",
       "      <th>0</th>\n",
       "      <td>1.281074e+06</td>\n",
       "      <td>262373.910089</td>\n",
       "      <td>1</td>\n",
       "      <td>106</td>\n",
       "      <td>Jane Addams</td>\n",
       "      <td>Jane Addams</td>\n",
       "      <td>MS</td>\n",
       "      <td>MS</td>\n",
       "    </tr>\n",
       "    <tr>\n",
       "      <th>1</th>\n",
       "      <td>1.275769e+06</td>\n",
       "      <td>263746.860099</td>\n",
       "      <td>2</td>\n",
       "      <td>292</td>\n",
       "      <td>Hazel Wolf K-8</td>\n",
       "      <td>Hazel Wolf K-8</td>\n",
       "      <td>Option ELEM</td>\n",
       "      <td>ES</td>\n",
       "    </tr>\n",
       "    <tr>\n",
       "      <th>2</th>\n",
       "      <td>1.286988e+06</td>\n",
       "      <td>185254.069906</td>\n",
       "      <td>3</td>\n",
       "      <td>264</td>\n",
       "      <td>Rainier View</td>\n",
       "      <td>Rainier View</td>\n",
       "      <td>ELEM</td>\n",
       "      <td>ES</td>\n",
       "    </tr>\n",
       "    <tr>\n",
       "      <th>3</th>\n",
       "      <td>1.258790e+06</td>\n",
       "      <td>189752.729872</td>\n",
       "      <td>4</td>\n",
       "      <td>203</td>\n",
       "      <td>Arbor Heights</td>\n",
       "      <td>Arbor Heights</td>\n",
       "      <td>ELEM</td>\n",
       "      <td>ES</td>\n",
       "    </tr>\n",
       "    <tr>\n",
       "      <th>4</th>\n",
       "      <td>1.288217e+06</td>\n",
       "      <td>191052.880159</td>\n",
       "      <td>5</td>\n",
       "      <td>221</td>\n",
       "      <td>Emerson</td>\n",
       "      <td>Emerson</td>\n",
       "      <td>ELEM</td>\n",
       "      <td>ES</td>\n",
       "    </tr>\n",
       "  </tbody>\n",
       "</table>\n",
       "</div>"
      ],
      "text/plain": [
       "              X              Y  OBJECTID  schID         schName  \\\n",
       "0  1.281074e+06  262373.910089         1    106     Jane Addams   \n",
       "1  1.275769e+06  263746.860099         2    292  Hazel Wolf K-8   \n",
       "2  1.286988e+06  185254.069906         3    264    Rainier View   \n",
       "3  1.258790e+06  189752.729872         4    203   Arbor Heights   \n",
       "4  1.288217e+06  191052.880159         5    221         Emerson   \n",
       "\n",
       "         mapLabel       Status esmshs  \n",
       "0     Jane Addams           MS     MS  \n",
       "1  Hazel Wolf K-8  Option ELEM     ES  \n",
       "2    Rainier View         ELEM     ES  \n",
       "3   Arbor Heights         ELEM     ES  \n",
       "4         Emerson         ELEM     ES  "
      ]
     },
     "execution_count": 32,
     "metadata": {},
     "output_type": "execute_result"
    }
   ],
   "source": [
    "sites.head()"
   ]
  },
  {
   "cell_type": "code",
   "execution_count": 33,
   "id": "cc5f7f0f",
   "metadata": {},
   "outputs": [],
   "source": [
    "sites.drop(['X','Y','mapLabel','Status'], axis = 1, inplace=True)"
   ]
  },
  {
   "cell_type": "code",
   "execution_count": 34,
   "id": "cbcb80e2",
   "metadata": {},
   "outputs": [
    {
     "data": {
      "text/html": [
       "<div>\n",
       "<style scoped>\n",
       "    .dataframe tbody tr th:only-of-type {\n",
       "        vertical-align: middle;\n",
       "    }\n",
       "\n",
       "    .dataframe tbody tr th {\n",
       "        vertical-align: top;\n",
       "    }\n",
       "\n",
       "    .dataframe thead th {\n",
       "        text-align: right;\n",
       "    }\n",
       "</style>\n",
       "<table border=\"1\" class=\"dataframe\">\n",
       "  <thead>\n",
       "    <tr style=\"text-align: right;\">\n",
       "      <th></th>\n",
       "      <th>OBJECTID</th>\n",
       "      <th>schID</th>\n",
       "      <th>schName</th>\n",
       "      <th>esmshs</th>\n",
       "    </tr>\n",
       "  </thead>\n",
       "  <tbody>\n",
       "    <tr>\n",
       "      <th>0</th>\n",
       "      <td>1</td>\n",
       "      <td>106</td>\n",
       "      <td>Jane Addams</td>\n",
       "      <td>MS</td>\n",
       "    </tr>\n",
       "    <tr>\n",
       "      <th>1</th>\n",
       "      <td>2</td>\n",
       "      <td>292</td>\n",
       "      <td>Hazel Wolf K-8</td>\n",
       "      <td>ES</td>\n",
       "    </tr>\n",
       "    <tr>\n",
       "      <th>2</th>\n",
       "      <td>3</td>\n",
       "      <td>264</td>\n",
       "      <td>Rainier View</td>\n",
       "      <td>ES</td>\n",
       "    </tr>\n",
       "    <tr>\n",
       "      <th>3</th>\n",
       "      <td>4</td>\n",
       "      <td>203</td>\n",
       "      <td>Arbor Heights</td>\n",
       "      <td>ES</td>\n",
       "    </tr>\n",
       "    <tr>\n",
       "      <th>4</th>\n",
       "      <td>5</td>\n",
       "      <td>221</td>\n",
       "      <td>Emerson</td>\n",
       "      <td>ES</td>\n",
       "    </tr>\n",
       "  </tbody>\n",
       "</table>\n",
       "</div>"
      ],
      "text/plain": [
       "   OBJECTID  schID         schName esmshs\n",
       "0         1    106     Jane Addams     MS\n",
       "1         2    292  Hazel Wolf K-8     ES\n",
       "2         3    264    Rainier View     ES\n",
       "3         4    203   Arbor Heights     ES\n",
       "4         5    221         Emerson     ES"
      ]
     },
     "execution_count": 34,
     "metadata": {},
     "output_type": "execute_result"
    }
   ],
   "source": [
    "sites.head()"
   ]
  },
  {
   "cell_type": "code",
   "execution_count": 35,
   "id": "cf92076c",
   "metadata": {},
   "outputs": [
    {
     "name": "stdout",
     "output_type": "stream",
     "text": [
      "<class 'pandas.core.frame.DataFrame'>\n",
      "RangeIndex: 117 entries, 0 to 116\n",
      "Data columns (total 4 columns):\n",
      " #   Column    Non-Null Count  Dtype \n",
      "---  ------    --------------  ----- \n",
      " 0   OBJECTID  117 non-null    int64 \n",
      " 1   schID     117 non-null    int64 \n",
      " 2   schName   117 non-null    object\n",
      " 3   esmshs    100 non-null    object\n",
      "dtypes: int64(2), object(2)\n",
      "memory usage: 3.8+ KB\n"
     ]
    }
   ],
   "source": [
    "sites.info()"
   ]
  },
  {
   "cell_type": "markdown",
   "id": "fd0830c5",
   "metadata": {},
   "source": [
    "#### Step 2 : drop unnecessary columns \n",
    "\n",
    "Remove the the X, Y coordinates, map label and status columns from the dataframe using a slice or selection method. \n",
    "\n",
    "Then, use head() and info() to preview the remaining schools dataframe "
   ]
  },
  {
   "cell_type": "code",
   "execution_count": 40,
   "id": "ad89aca2",
   "metadata": {},
   "outputs": [],
   "source": [
    "import json"
   ]
  },
  {
   "cell_type": "code",
   "execution_count": 41,
   "id": "f8937659",
   "metadata": {},
   "outputs": [],
   "source": [
    "geo = 'Seattle_Public_Schools_Sites_2022-2023.geojson'"
   ]
  },
  {
   "cell_type": "code",
   "execution_count": null,
   "id": "6403d284",
   "metadata": {},
   "outputs": [],
   "source": []
  },
  {
   "cell_type": "markdown",
   "id": "8f7a8b32",
   "metadata": {},
   "source": [
    "#### Step 3 : read in the geojson file through the path\n",
    "- import the json library \n",
    "- set the file path as a variable, for example: \n",
    "<blockquote>\n",
    "    path = 'data/Seattle_Public_Schools_Sites_2022-2023.geojson'<br>\n",
    "</blockquote>  \n",
    "\n",
    "- open the file using json.load and the file path \n",
    "\n",
    "<blockquote>\n",
    "    with open(path) as f: <br>\n",
    "        -> schoolsdict = json.load(f) <br>\n",
    "        -> print(schoolsdict)\n",
    "</blockquote>\n",
    "\n",
    "- review the schoolsdict variable by eye and look for the nested dictionary structure. You should see that the file contains (at the uppermost level) 4 keys - 'type', 'name', 'crs', 'features' and there are sub dictionaries nested under each key, but it is hard to read!"
   ]
  },
  {
   "cell_type": "code",
   "execution_count": 38,
   "id": "0af88871",
   "metadata": {},
   "outputs": [],
   "source": [
    "path = 'data/Seattle_Public_Schools_Sites_2022-2023.geojson'"
   ]
  },
  {
   "cell_type": "code",
   "execution_count": 42,
   "id": "4c8cfebb",
   "metadata": {
    "scrolled": true
   },
   "outputs": [
    {
     "name": "stdout",
     "output_type": "stream",
     "text": [
      "{'type': 'FeatureCollection', 'name': 'Seattle_Public_Schools_Sites_2022-2023', 'crs': {'type': 'name', 'properties': {'name': 'urn:ogc:def:crs:OGC:1.3:CRS84'}}, 'features': [{'type': 'Feature', 'properties': {'OBJECTID': 1, 'schID': 106, 'schName': 'Jane Addams', 'mapLabel': 'Jane Addams', 'Status': 'MS', 'esmshs': 'MS'}, 'geometry': {'type': 'Point', 'coordinates': [-122.293009024934, 47.709944861847]}}, {'type': 'Feature', 'properties': {'OBJECTID': 2, 'schID': 292, 'schName': 'Hazel Wolf K-8', 'mapLabel': 'Hazel Wolf K-8', 'Status': 'Option ELEM', 'esmshs': 'ES'}, 'geometry': {'type': 'Point', 'coordinates': [-122.314658339085, 47.7134302314171]}}, {'type': 'Feature', 'properties': {'OBJECTID': 3, 'schID': 264, 'schName': 'Rainier View', 'mapLabel': 'Rainier View', 'Status': 'ELEM', 'esmshs': 'ES'}, 'geometry': {'type': 'Point', 'coordinates': [-122.263172064205, 47.498863321283]}}, {'type': 'Feature', 'properties': {'OBJECTID': 4, 'schID': 203, 'schName': 'Arbor Heights', 'mapLabel': 'Arbor Heights', 'Status': 'ELEM', 'esmshs': 'ES'}, 'geometry': {'type': 'Point', 'coordinates': [-122.377587813408, 47.5097003606568]}}, {'type': 'Feature', 'properties': {'OBJECTID': 5, 'schID': 221, 'schName': 'Emerson', 'mapLabel': 'Emerson', 'Status': 'ELEM', 'esmshs': 'ES'}, 'geometry': {'type': 'Point', 'coordinates': [-122.258636146464, 47.5148204654414]}}, {'type': 'Feature', 'properties': {'OBJECTID': 6, 'schID': 267, 'schName': 'Roxhill', 'mapLabel': 'Roxhill', 'Status': 'Option School with continuous enrollment', 'esmshs': None}, 'geometry': {'type': 'Point', 'coordinates': [-122.370558043205, 47.5180529159752]}}, {'type': 'Feature', 'properties': {'OBJECTID': 7, 'schID': 291, 'schName': 'South Shore K-8', 'mapLabel': 'South Shore K-8', 'Status': 'Option ELEM', 'esmshs': 'ES'}, 'geometry': {'type': 'Point', 'coordinates': [-122.272009121329, 47.5237429478992]}}, {'type': 'Feature', 'properties': {'OBJECTID': 8, 'schID': 224, 'schName': 'FAUNTLEROY BLDG', 'mapLabel': 'FAUNTLEROY BLDG', 'Status': 'Closed_Leased_Land', 'esmshs': None}, 'geometry': {'type': 'Point', 'coordinates': [-122.387871932427, 47.5219061704517]}}, {'type': 'Feature', 'properties': {'OBJECTID': 9, 'schID': 21, 'schName': 'Rainier Beach', 'mapLabel': 'Rainier Beach', 'Status': 'HS', 'esmshs': 'HS'}, 'geometry': {'type': 'Point', 'coordinates': [-122.265858983284, 47.5240707646718]}}, {'type': 'Feature', 'properties': {'OBJECTID': 10, 'schID': 215, 'schName': \"Concord Int'l\", 'mapLabel': \"Concord Int'l\", 'Status': 'ELEM', 'esmshs': 'ES'}, 'geometry': {'type': 'Point', 'coordinates': [-122.324690584152, 47.5236109016963]}}, {'type': 'Feature', 'properties': {'OBJECTID': 11, 'schID': 219, 'schName': 'Dunlap', 'mapLabel': 'Dunlap', 'Status': 'ELEM', 'esmshs': 'ES'}, 'geometry': {'type': 'Point', 'coordinates': [-122.274655654791, 47.5249891889941]}}, {'type': 'Feature', 'properties': {'OBJECTID': 12, 'schID': 960, 'schName': 'Sugiyama High', 'mapLabel': 'Sugiyama', 'Status': 'Option School with continuous enrollment', 'esmshs': 'HS'}, 'geometry': {'type': 'Point', 'coordinates': [-122.270919626841, 47.5252645773187]}}, {'type': 'Feature', 'properties': {'OBJECTID': 13, 'schID': 235, 'schName': 'Highland Park', 'mapLabel': 'Highland Park', 'Status': 'ELEM', 'esmshs': 'ES'}, 'geometry': {'type': 'Point', 'coordinates': [-122.348277286993, 47.5251774942707]}}, {'type': 'Feature', 'properties': {'OBJECTID': 14, 'schID': 275, 'schName': 'Rising Star', 'mapLabel': 'Rising Star', 'Status': 'ELEM', 'esmshs': 'ES'}, 'geometry': {'type': 'Point', 'coordinates': [-122.28903550729, 47.5291516293077]}}, {'type': 'Feature', 'properties': {'OBJECTID': 15, 'schID': 18, 'schName': \"Chief Sealth Int'l\", 'mapLabel': \"Chief Sealth Int'l\", 'Status': 'HS', 'esmshs': 'HS'}, 'geometry': {'type': 'Point', 'coordinates': [-122.366154798809, 47.5286320504163]}}, {'type': 'Feature', 'properties': {'OBJECTID': 16, 'schID': 286, 'schName': 'Wing Luke', 'mapLabel': 'Wing Luke', 'Status': 'ELEM', 'esmshs': 'ES'}, 'geometry': {'type': 'Point', 'coordinates': [-122.284906008453, 47.5307393432751]}}, {'type': 'Feature', 'properties': {'OBJECTID': 17, 'schID': 103, 'schName': \"David T. Denny Int'l\", 'mapLabel': \"Denny Int'l\", 'Status': 'MS', 'esmshs': 'MS'}, 'geometry': {'type': 'Point', 'coordinates': [-122.366041530751, 47.5316539580682]}}, {'type': 'Feature', 'properties': {'OBJECTID': 18, 'schID': 267, 'schName': 'Roxhill', 'mapLabel': 'Roxhill at E.C. Hughes', 'Status': 'ELEM', 'esmshs': 'ES'}, 'geometry': {'type': 'Point', 'coordinates': [-122.374927418131, 47.5328376591848]}}, {'type': 'Feature', 'properties': {'OBJECTID': 19, 'schID': 288, 'schName': 'Kimball', 'mapLabel': 'Kimball interim at Old Van Asselt', 'Status': 'ELEM', 'esmshs': 'ES'}, 'geometry': {'type': 'Point', 'coordinates': [-122.296268298114, 47.5383331982934]}}, {'type': 'Feature', 'properties': {'OBJECTID': 20, 'schID': 319, 'schName': 'Early Learning Center', 'mapLabel': 'Early Learning Center', 'Status': 'Option School with continuous enrollment', 'esmshs': None}, 'geometry': {'type': 'Point', 'coordinates': [-122.296268298114, 47.5383331982934]}}, {'type': 'Feature', 'properties': {'OBJECTID': 21, 'schID': 273, 'schName': 'Sanislo', 'mapLabel': 'Sanislo', 'Status': 'ELEM', 'esmshs': 'ES'}, 'geometry': {'type': 'Point', 'coordinates': [-122.358658082289, 47.5396083901531]}}, {'type': 'Feature', 'properties': {'OBJECTID': 22, 'schID': 225, 'schName': 'Gatewood', 'mapLabel': 'Gatewood', 'Status': 'ELEM', 'esmshs': 'ES'}, 'geometry': {'type': 'Point', 'coordinates': [-122.388498218919, 47.5402508857746]}}, {'type': 'Feature', 'properties': {'OBJECTID': 23, 'schID': 207, 'schName': 'Martin Luther King Jr', 'mapLabel': 'MLK Jr.', 'Status': 'ELEM', 'esmshs': 'ES'}, 'geometry': {'type': 'Point', 'coordinates': [-122.276911759732, 47.5417432062751]}}, {'type': 'Feature', 'properties': {'OBJECTID': 24, 'schID': 236, 'schName': 'West Seattle Elementary', 'mapLabel': 'West Seattle ES', 'Status': 'ELEM', 'esmshs': 'ES'}, 'geometry': {'type': 'Point', 'coordinates': [-122.373492687303, 47.5417618672396]}}, {'type': 'Feature', 'properties': {'OBJECTID': 25, 'schID': 220, 'schName': 'Graham Hill', 'mapLabel': 'Graham Hill', 'Status': 'ELEM', 'esmshs': 'ES'}, 'geometry': {'type': 'Point', 'coordinates': [-122.268534249037, 47.5457573099578]}}, {'type': 'Feature', 'properties': {'OBJECTID': 26, 'schID': 130, 'schName': 'Aki Kurose', 'mapLabel': 'Aki Kurose', 'Status': 'MS', 'esmshs': 'MS'}, 'geometry': {'type': 'Point', 'coordinates': [-122.281980381889, 47.5463218607493]}}, {'type': 'Feature', 'properties': {'OBJECTID': 27, 'schID': 251, 'schName': 'Dearborn Park', 'mapLabel': \"Dearborn Park Int'l\", 'Status': 'ELEM', 'esmshs': 'ES'}, 'geometry': {'type': 'Point', 'coordinates': [-122.29628697988, 47.5522623590868]}}, {'type': 'Feature', 'properties': {'OBJECTID': 28, 'schID': 12, 'schName': 'Cleveland', 'mapLabel': 'Cleveland STEM', 'Status': 'Option HS', 'esmshs': 'HS'}, 'geometry': {'type': 'Point', 'coordinates': [-122.313911912494, 47.5523720616427]}}, {'type': 'Feature', 'properties': {'OBJECTID': 29, 'schID': 222, 'schName': 'Fairmount Park', 'mapLabel': 'Fairmount Park', 'Status': 'ELEM', 'esmshs': 'ES'}, 'geometry': {'type': 'Point', 'coordinates': [-122.38019123288, 47.5525732013517]}}, {'type': 'Feature', 'properties': {'OBJECTID': 30, 'schID': 939, 'schName': 'Orca K-8', 'mapLabel': 'Orca K-8', 'Status': 'Option ELEM', 'esmshs': 'ES'}, 'geometry': {'type': 'Point', 'coordinates': [-122.275956418027, 47.5547787256636]}}, {'type': 'Feature', 'properties': {'OBJECTID': 31, 'schID': 364, 'schName': 'Interagency at Columbia School', 'mapLabel': 'Interagency at Columbia', 'Status': 'Option School with continuous enrollment', 'esmshs': None}, 'geometry': {'type': 'Point', 'coordinates': [-122.287115517701, 47.5581790248764]}}, {'type': 'Feature', 'properties': {'OBJECTID': 32, 'schID': 252, 'schName': 'Maple', 'mapLabel': 'Maple', 'Status': 'ELEM', 'esmshs': 'ES'}, 'geometry': {'type': 'Point', 'coordinates': [-122.318898884675, 47.5581257125768]}}, {'type': 'Feature', 'properties': {'OBJECTID': 33, 'schID': 214, 'schName': 'COLUMBIA ANNEX', 'mapLabel': 'COLUMBIA ANNEX', 'Status': 'Closed_Leased', 'esmshs': None}, 'geometry': {'type': 'Point', 'coordinates': [-122.29249415696, 47.5610612530731]}}, {'type': 'Feature', 'properties': {'OBJECTID': 34, 'schID': 238, 'schName': 'JEFFERSON BLDG', 'mapLabel': 'JEFFERSON BLDG', 'Status': 'Closed_Leased_Land', 'esmshs': None}, 'geometry': {'type': 'Point', 'coordinates': [-122.384362708468, 47.5605121660091]}}, {'type': 'Feature', 'properties': {'OBJECTID': 35, 'schID': 110, 'schName': 'Mercer', 'mapLabel': \"Mercer Int'l\", 'Status': 'MS', 'esmshs': 'MS'}, 'geometry': {'type': 'Point', 'coordinates': [-122.312083193352, 47.5641327434862]}}, {'type': 'Feature', 'properties': {'OBJECTID': 36, 'schID': 930, 'schName': 'Pathfinder K-8', 'mapLabel': 'Pathfinder K-8', 'Status': 'Option ELEM', 'esmshs': 'ES'}, 'geometry': {'type': 'Point', 'coordinates': [-122.357997123376, 47.5636047847087]}}, {'type': 'Feature', 'properties': {'OBJECTID': 37, 'schID': 233, 'schName': 'Hawthorne', 'mapLabel': 'Hawthorne', 'Status': 'ELEM', 'esmshs': 'ES'}, 'geometry': {'type': 'Point', 'coordinates': [-122.28338622379, 47.5659051837791]}}, {'type': 'Feature', 'properties': {'OBJECTID': 38, 'schID': 270, 'schName': 'Genesee Hill', 'mapLabel': 'Genesee Hill', 'Status': 'ELEM', 'esmshs': 'ES'}, 'geometry': {'type': 'Point', 'coordinates': [-122.396888540609, 47.5654925686329]}}, {'type': 'Feature', 'properties': {'OBJECTID': 39, 'schID': 256, 'schName': 'John Muir', 'mapLabel': 'John Muir', 'Status': 'ELEM', 'esmshs': 'ES'}, 'geometry': {'type': 'Point', 'coordinates': [-122.290579862137, 47.5732413473039]}}, {'type': 'Feature', 'properties': {'OBJECTID': 40, 'schID': 270, 'schName': 'Schmitz Park', 'mapLabel': 'Schmitz Park', 'Status': 'CLOSED', 'esmshs': None}, 'geometry': {'type': 'Point', 'coordinates': [-122.396730798123, 47.5726890738923]}}, {'type': 'Feature', 'properties': {'OBJECTID': 41, 'schID': 288, 'schName': 'KIMBALL ELEM', 'mapLabel': 'Kimball (site)', 'Status': 'CLOSED BEX/BTA', 'esmshs': None}, 'geometry': {'type': 'Point', 'coordinates': [-122.30301448863, 47.574045254751]}}, {'type': 'Feature', 'properties': {'OBJECTID': 42, 'schID': 107, 'schName': 'Madison', 'mapLabel': 'Madison', 'Status': 'MS', 'esmshs': 'MS'}, 'geometry': {'type': 'Point', 'coordinates': [-122.39027968495, 47.5729806131353]}}, {'type': 'Feature', 'properties': {'OBJECTID': 43, 'schID': 13, 'schName': 'Franklin', 'mapLabel': 'Franklin', 'Status': 'HS', 'esmshs': 'HS'}, 'geometry': {'type': 'Point', 'coordinates': [-122.293646399302, 47.5758876712009]}}, {'type': 'Feature', 'properties': {'OBJECTID': 44, 'schID': 19, 'schName': 'West Seattle High', 'mapLabel': 'West Seattle HS', 'Status': 'HS', 'esmshs': 'HS'}, 'geometry': {'type': 'Point', 'coordinates': [-122.384590967813, 47.5767796823176]}}, {'type': 'Feature', 'properties': {'OBJECTID': 45, 'schID': 202, 'schName': 'Alki', 'mapLabel': 'Alki', 'Status': 'ELEM', 'esmshs': 'ES'}, 'geometry': {'type': 'Point', 'coordinates': [-122.40782717368, 47.5771417239524]}}, {'type': 'Feature', 'properties': {'OBJECTID': 46, 'schID': 239, 'schName': 'Lafayette', 'mapLabel': 'Lafayette', 'Status': 'ELEM', 'esmshs': 'ES'}, 'geometry': {'type': 'Point', 'coordinates': [-122.387234546428, 47.5794954000188]}}, {'type': 'Feature', 'properties': {'OBJECTID': 47, 'schID': 205, 'schName': \"Beacon Hill Int'l\", 'mapLabel': \"Beacon Hill Int'l\", 'Status': 'ELEM', 'esmshs': 'ES'}, 'geometry': {'type': 'Point', 'coordinates': [-122.315104889304, 47.5854692048732]}}, {'type': 'Feature', 'properties': {'OBJECTID': 48, 'schID': 212, 'schName': 'Thurgood Marshall', 'mapLabel': 'Thurgood Marshall', 'Status': 'ELEM', 'esmshs': 'ES'}, 'geometry': {'type': 'Point', 'coordinates': [-122.299846332198, 47.5909585487249]}}, {'type': 'Feature', 'properties': {'OBJECTID': 49, 'schID': 117, 'schName': 'Washington', 'mapLabel': 'Washington', 'Status': 'MS', 'esmshs': 'MS'}, 'geometry': {'type': 'Point', 'coordinates': [-122.304149774154, 47.5979556865434]}}, {'type': 'Feature', 'properties': {'OBJECTID': 50, 'schID': 226, 'schName': 'Bailey Gatzert', 'mapLabel': 'Gatzert', 'Status': 'ELEM', 'esmshs': 'ES'}, 'geometry': {'type': 'Point', 'coordinates': [-122.315484720788, 47.6012005334246]}}, {'type': 'Feature', 'properties': {'OBJECTID': 51, 'schID': 244, 'schName': 'Leschi', 'mapLabel': 'Leschi', 'Status': 'ELEM', 'esmshs': 'ES'}, 'geometry': {'type': 'Point', 'coordinates': [-122.291813625458, 47.6021031915341]}}, {'type': 'Feature', 'properties': {'OBJECTID': 52, 'schID': 14, 'schName': 'Garfield', 'mapLabel': 'Garfield', 'Status': 'HS', 'esmshs': 'HS'}, 'geometry': {'type': 'Point', 'coordinates': [-122.301904688229, 47.6054195130438]}}, {'type': 'Feature', 'properties': {'OBJECTID': 53, 'schID': 23, 'schName': 'Nova', 'mapLabel': 'Nova at Mann', 'Status': 'Option School with continuous enrollment', 'esmshs': 'HS'}, 'geometry': {'type': 'Point', 'coordinates': [-122.300925709864, 47.6084241754992]}}, {'type': 'Feature', 'properties': {'OBJECTID': 54, 'schID': 249, 'schName': 'Madrona', 'mapLabel': 'Madrona', 'Status': 'ELEM', 'esmshs': 'ES'}, 'geometry': {'type': 'Point', 'coordinates': [-122.290868905001, 47.612236775301]}}, {'type': 'Feature', 'properties': {'OBJECTID': 55, 'schID': 983, 'schName': 'World School', 'mapLabel': 'World School at Minor', 'Status': 'Option School with continuous enrollment', 'esmshs': 'MSHS'}, 'geometry': {'type': 'Point', 'coordinates': [-122.309286398388, 47.613373419336]}}, {'type': 'Feature', 'properties': {'OBJECTID': 56, 'schID': 24, 'schName': 'The Center School', 'mapLabel': 'Center School', 'Status': 'Option HS', 'esmshs': 'HS'}, 'geometry': {'type': 'Point', 'coordinates': [-122.353981719519, 47.6220792613884]}}, {'type': 'Feature', 'properties': {'OBJECTID': 57, 'schID': 752, 'schName': 'MEMORIAL STADIUM', 'mapLabel': 'MEMORIAL STADIUM', 'Status': 'Admin', 'esmshs': None}, 'geometry': {'type': 'Point', 'coordinates': [-122.349947493744, 47.6232435552809]}}, {'type': 'Feature', 'properties': {'OBJECTID': 58, 'schID': 245, 'schName': 'Lowell', 'mapLabel': 'Lowell', 'Status': 'ELEM', 'esmshs': 'ES'}, 'geometry': {'type': 'Point', 'coordinates': [-122.318378915744, 47.6244234241625]}}, {'type': 'Feature', 'properties': {'OBJECTID': 59, 'schID': 272, 'schName': 'Stevens', 'mapLabel': 'Stevens', 'Status': 'ELEM', 'esmshs': 'ES'}, 'geometry': {'type': 'Point', 'coordinates': [-122.307864884619, 47.6314562299183]}}, {'type': 'Feature', 'properties': {'OBJECTID': 60, 'schID': 280, 'schName': 'WEST QUEEN ANNE BLDG', 'mapLabel': 'WEST QUEEN ANNE BLDG', 'Status': 'Closed_Leased_Land', 'esmshs': None}, 'geometry': {'type': 'Point', 'coordinates': [-122.363843185614, 47.6318175772522]}}, {'type': 'Feature', 'properties': {'OBJECTID': 61, 'schID': 234, 'schName': 'John Hay', 'mapLabel': 'Hay', 'Status': 'ELEM', 'esmshs': 'ES'}, 'geometry': {'type': 'Point', 'coordinates': [-122.351716580059, 47.6328984835769]}}, {'type': 'Feature', 'properties': {'OBJECTID': 62, 'schID': 248, 'schName': 'McGilvra', 'mapLabel': 'McGilvra', 'Status': 'ELEM', 'esmshs': 'ES'}, 'geometry': {'type': 'Point', 'coordinates': [-122.284831792037, 47.6340777504495]}}, {'type': 'Feature', 'properties': {'OBJECTID': 63, 'schID': 118, 'schName': 'McClure', 'mapLabel': 'McClure', 'Status': 'MS', 'esmshs': 'MS'}, 'geometry': {'type': 'Point', 'coordinates': [-122.35895523111, 47.6368262839478]}}, {'type': 'Feature', 'properties': {'OBJECTID': 64, 'schID': 974, 'schName': 'Queen Anne', 'mapLabel': 'Queen Anne', 'Status': 'Option ELEM', 'esmshs': 'ES'}, 'geometry': {'type': 'Point', 'coordinates': [-122.348969192219, 47.6379637402647]}}, {'type': 'Feature', 'properties': {'OBJECTID': 65, 'schID': 255, 'schName': 'Montlake', 'mapLabel': 'Montlake', 'Status': 'ELEM', 'esmshs': 'ES'}, 'geometry': {'type': 'Point', 'coordinates': [-122.304284203183, 47.6406326371317]}}, {'type': 'Feature', 'properties': {'OBJECTID': 66, 'schID': 211, 'schName': 'Coe', 'mapLabel': 'Coe', 'Status': 'ELEM', 'esmshs': 'ES'}, 'geometry': {'type': 'Point', 'coordinates': [-122.36559910812, 47.6405159867016]}}, {'type': 'Feature', 'properties': {'OBJECTID': 67, 'schID': 250, 'schName': 'Magnolia', 'mapLabel': 'Magnolia', 'Status': 'ELEM', 'esmshs': 'ES'}, 'geometry': {'type': 'Point', 'coordinates': [-122.392623573053, 47.6406061181655]}}, {'type': 'Feature', 'properties': {'OBJECTID': 68, 'schID': 935, 'schName': 'TOPS K-8', 'mapLabel': 'TOPS K-8', 'Status': 'Option ELEM', 'esmshs': 'ES'}, 'geometry': {'type': 'Point', 'coordinates': [-122.324178472285, 47.6422868571816]}}, {'type': 'Feature', 'properties': {'OBJECTID': 69, 'schID': 289, 'schName': 'Catharine Blaine K-8', 'mapLabel': 'Catharine Blaine K-8', 'Status': 'ELEM', 'esmshs': 'ES'}, 'geometry': {'type': 'Point', 'coordinates': [-122.399262430613, 47.6422573572221]}}, {'type': 'Feature', 'properties': {'OBJECTID': 70, 'schID': 945, 'schName': 'Cascade', 'mapLabel': 'Cascade PPP', 'Status': 'Option School with continuous enrollment', 'esmshs': None}, 'geometry': {'type': 'Point', 'coordinates': [-122.358619186178, 47.6462750645117]}}, {'type': 'Feature', 'properties': {'OBJECTID': 71, 'schID': 218, 'schName': 'B.F. Day', 'mapLabel': 'B.F. Day', 'Status': 'ELEM', 'esmshs': 'ES'}, 'geometry': {'type': 'Point', 'coordinates': [-122.349123735788, 47.6546354602612]}}, {'type': 'Feature', 'properties': {'OBJECTID': 72, 'schID': 105, 'schName': \"Hamilton Int'l\", 'mapLabel': \"Hamilton Int'l\", 'Status': 'MS', 'esmshs': 'MS'}, 'geometry': {'type': 'Point', 'coordinates': [-122.338027536628, 47.6570800302643]}}, {'type': 'Feature', 'properties': {'OBJECTID': 73, 'schID': 241, 'schName': \"John Stanford Int'l\", 'mapLabel': \"John Stanford Int'l\", 'Status': 'Option ELEM', 'esmshs': 'ES'}, 'geometry': {'type': 'Point', 'coordinates': [-122.324051869421, 47.6575282555044]}}, {'type': 'Feature', 'properties': {'OBJECTID': 74, 'schID': 243, 'schName': 'Lawton', 'mapLabel': 'Lawton', 'Status': 'ELEM', 'esmshs': 'ES'}, 'geometry': {'type': 'Point', 'coordinates': [-122.390474520374, 47.656712405112]}}, {'type': 'Feature', 'properties': {'OBJECTID': 75, 'schID': 15, 'schName': 'Lincoln', 'mapLabel': 'Lincoln', 'Status': 'HS', 'esmshs': 'HS'}, 'geometry': {'type': 'Point', 'coordinates': [-122.339622449525, 47.6599617767439]}}, {'type': 'Feature', 'properties': {'OBJECTID': 76, 'schID': 285, 'schName': 'INTERLAKE BLDG', 'mapLabel': 'INTERLAKE BLDG', 'Status': 'Closed_Leased_Land', 'esmshs': None}, 'geometry': {'type': 'Point', 'coordinates': [-122.335764161764, 47.6607174503891]}}, {'type': 'Feature', 'properties': {'OBJECTID': 77, 'schID': 242, 'schName': 'Laurelhurst', 'mapLabel': 'Laurelhurst', 'Status': 'ELEM', 'esmshs': 'ES'}, 'geometry': {'type': 'Point', 'coordinates': [-122.277963074235, 47.6621980343177]}}, {'type': 'Feature', 'properties': {'OBJECTID': 78, 'schID': 247, 'schName': \"McDonald Int'l\", 'mapLabel': \"McDonald Int'l\", 'Status': 'Option ELEM', 'esmshs': 'ES'}, 'geometry': {'type': 'Point', 'coordinates': [-122.326595385471, 47.6682756071498]}}, {'type': 'Feature', 'properties': {'OBJECTID': 79, 'schID': 281, 'schName': 'West Woodland', 'mapLabel': 'West Woodland', 'Status': 'ELEM', 'esmshs': 'ES'}, 'geometry': {'type': 'Point', 'coordinates': [-122.362246781598, 47.6705993036939]}}, {'type': 'Feature', 'properties': {'OBJECTID': 80, 'schID': 209, 'schName': 'Bryant', 'mapLabel': 'Bryant', 'Status': 'ELEM', 'esmshs': 'ES'}, 'geometry': {'type': 'Point', 'coordinates': [-122.292205523966, 47.6718419430984]}}, {'type': 'Feature', 'properties': {'OBJECTID': 81, 'schID': 201, 'schName': 'Adams', 'mapLabel': 'Adams', 'Status': 'ELEM', 'esmshs': 'ES'}, 'geometry': {'type': 'Point', 'coordinates': [-122.391519601726, 47.6736321449466]}}, {'type': 'Feature', 'properties': {'OBJECTID': 82, 'schID': 229, 'schName': 'Green Lake', 'mapLabel': 'Green Lake', 'Status': 'ELEM', 'esmshs': 'ES'}, 'geometry': {'type': 'Point', 'coordinates': [-122.328497858212, 47.6763016090584]}}, {'type': 'Feature', 'properties': {'OBJECTID': 83, 'schID': 949, 'schName': 'Salmon Bay K-8', 'mapLabel': 'Salmon Bay K-8', 'Status': 'Option ELEM', 'esmshs': 'ES'}, 'geometry': {'type': 'Point', 'coordinates': [-122.380512075998, 47.6762974107118]}}, {'type': 'Feature', 'properties': {'OBJECTID': 84, 'schID': 17, 'schName': 'Roosevelt', 'mapLabel': 'Roosevelt', 'Status': 'HS', 'esmshs': 'HS'}, 'geometry': {'type': 'Point', 'coordinates': [-122.312809534298, 47.6772313932552]}}, {'type': 'Feature', 'properties': {'OBJECTID': 85, 'schID': 276, 'schName': 'Viewlands', 'mapLabel': 'Viewlands interim at John Marshall', 'Status': 'ELEM', 'esmshs': 'ES'}, 'geometry': {'type': 'Point', 'coordinates': [-122.322315348242, 47.6772481422666]}}, {'type': 'Feature', 'properties': {'OBJECTID': 86, 'schID': 11, 'schName': 'Ballard', 'mapLabel': 'Ballard', 'Status': 'HS', 'esmshs': 'HS'}, 'geometry': {'type': 'Point', 'coordinates': [-122.374888668665, 47.6766107680539]}}, {'type': 'Feature', 'properties': {'OBJECTID': 87, 'schID': 955, 'schName': 'Licton Springs K-8', 'mapLabel': 'Licton Springs K-8', 'Status': 'Option ELEM', 'esmshs': 'ES'}, 'geometry': {'type': 'Point', 'coordinates': [-122.396358683488, 47.6776990912225]}}, {'type': 'Feature', 'properties': {'OBJECTID': 88, 'schID': 277, 'schName': 'View Ridge', 'mapLabel': 'View Ridge', 'Status': 'ELEM', 'esmshs': 'ES'}, 'geometry': {'type': 'Point', 'coordinates': [-122.275332169001, 47.6806871055908]}}, {'type': 'Feature', 'properties': {'OBJECTID': 89, 'schID': 104, 'schName': 'Eckstein', 'mapLabel': 'Eckstein', 'Status': 'MS', 'esmshs': 'MS'}, 'geometry': {'type': 'Point', 'coordinates': [-122.294982661747, 47.682520105628]}}, {'type': 'Feature', 'properties': {'OBJECTID': 90, 'schID': 282, 'schName': 'Whittier', 'mapLabel': 'Whittier', 'Status': 'ELEM', 'esmshs': 'ES'}, 'geometry': {'type': 'Point', 'coordinates': [-122.373075379303, 47.6835898231266]}}, {'type': 'Feature', 'properties': {'OBJECTID': 91, 'schID': 977, 'schName': 'Thornton Creek', 'mapLabel': 'Thornton Creek', 'Status': 'Option ELEM', 'esmshs': 'ES'}, 'geometry': {'type': 'Point', 'coordinates': [-122.284633891821, 47.6852897194814]}}, {'type': 'Feature', 'properties': {'OBJECTID': 92, 'schID': 204, 'schName': 'Daniel Bagley', 'mapLabel': 'Bagley', 'Status': 'ELEM', 'esmshs': 'ES'}, 'geometry': {'type': 'Point', 'coordinates': [-122.342304871586, 47.6863570662322]}}, {'type': 'Feature', 'properties': {'OBJECTID': 93, 'schID': 246, 'schName': 'Loyal Heights', 'mapLabel': 'Loyal Heights', 'Status': 'ELEM', 'esmshs': 'ES'}, 'geometry': {'type': 'Point', 'coordinates': [-122.389050477093, 47.6864354498187]}}, {'type': 'Feature', 'properties': {'OBJECTID': 94, 'schID': 230, 'schName': 'Greenwood', 'mapLabel': 'Greenwood', 'Status': 'ELEM', 'esmshs': 'ES'}, 'geometry': {'type': 'Point', 'coordinates': [-122.359960300451, 47.6872538940964]}}, {'type': 'Feature', 'properties': {'OBJECTID': 95, 'schID': 279, 'schName': 'Wedgwood', 'mapLabel': 'Wedgwood', 'Status': 'ELEM', 'esmshs': 'ES'}, 'geometry': {'type': 'Point', 'coordinates': [-122.297053816619, 47.6905380455419]}}, {'type': 'Feature', 'properties': {'OBJECTID': 96, 'schID': 259, 'schName': 'North Beach', 'mapLabel': 'North Beach', 'Status': 'ELEM', 'esmshs': 'ES'}, 'geometry': {'type': 'Point', 'coordinates': [-122.387035500263, 47.6949745107196]}}, {'type': 'Feature', 'properties': {'OBJECTID': 97, 'schID': 115, 'schName': 'Whitman', 'mapLabel': 'Whitman', 'Status': 'MS', 'esmshs': 'MS'}, 'geometry': {'type': 'Point', 'coordinates': [-122.377601923086, 47.6967514514167]}}, {'type': 'Feature', 'properties': {'OBJECTID': 98, 'schID': 262, 'schName': 'Olympic View', 'mapLabel': 'Olympic View', 'Status': 'ELEM', 'esmshs': 'ES'}, 'geometry': {'type': 'Point', 'coordinates': [-122.32125787015, 47.6982317210299]}}, {'type': 'Feature', 'properties': {'OBJECTID': 99, 'schID': 268, 'schName': 'Sacajawea', 'mapLabel': 'Sacajawea', 'Status': 'ELEM', 'esmshs': 'ES'}, 'geometry': {'type': 'Point', 'coordinates': [-122.307472722843, 47.6984485433365]}}, {'type': 'Feature', 'properties': {'OBJECTID': 100, 'schID': 260, 'schName': 'OAK LAKE BLDG', 'mapLabel': 'OAK LAKE BLDG', 'Status': 'Closed_Leased_Land', 'esmshs': None}, 'geometry': {'type': 'Point', 'coordinates': [-122.343259403391, 47.7024364738083]}}, {'type': 'Feature', 'properties': {'OBJECTID': 101, 'schID': 276, 'schName': 'VIEWLANDS ELEM', 'mapLabel': 'Viewlands (site)', 'Status': 'CLOSED BEX/BTA', 'esmshs': None}, 'geometry': {'type': 'Point', 'coordinates': [-122.361129445192, 47.705972815071]}}, {'type': 'Feature', 'properties': {'OBJECTID': 102, 'schID': 266, 'schName': 'John Rogers', 'mapLabel': 'John Rogers', 'Status': 'ELEM', 'esmshs': 'ES'}, 'geometry': {'type': 'Point', 'coordinates': [-122.284633730395, 47.7074264343745]}}, {'type': 'Feature', 'properties': {'OBJECTID': 103, 'schID': 22, 'schName': 'Nathan Hale', 'mapLabel': 'Nathan Hale', 'Status': 'HS', 'esmshs': 'HS'}, 'geometry': {'type': 'Point', 'coordinates': [-122.294530733278, 47.7076286083189]}}, {'type': 'Feature', 'properties': {'OBJECTID': 104, 'schID': 257, 'schName': 'Northgate', 'mapLabel': 'Northgate', 'Status': 'ELEM', 'esmshs': 'ES'}, 'geometry': {'type': 'Point', 'coordinates': [-122.329585046241, 47.7148671636599]}}, {'type': 'Feature', 'properties': {'OBJECTID': 105, 'schID': 240, 'schName': 'LAKE CITY BLDG', 'mapLabel': 'LAKE CITY BLDG', 'Status': 'Closed_Vacant', 'esmshs': None}, 'geometry': {'type': 'Point', 'coordinates': [-122.299515236194, 47.7189852976438]}}, {'type': 'Feature', 'properties': {'OBJECTID': 106, 'schID': 261, 'schName': 'Olympic Hills', 'mapLabel': 'Olympic Hills', 'Status': 'ELEM', 'esmshs': 'ES'}, 'geometry': {'type': 'Point', 'coordinates': [-122.306755454102, 47.7236861632849]}}, {'type': 'Feature', 'properties': {'OBJECTID': 107, 'schID': 208, 'schName': 'Broadview-Thomson K-8', 'mapLabel': 'Broadview-Thomson K-8', 'Status': 'ELEM', 'esmshs': 'ES'}, 'geometry': {'type': 'Point', 'coordinates': [-122.353148668766, 47.7246311080134]}}, {'type': 'Feature', 'properties': {'OBJECTID': 108, 'schID': 20, 'schName': 'Ingraham', 'mapLabel': \"Ingraham Int'l\", 'Status': 'HS', 'esmshs': 'HS'}, 'geometry': {'type': 'Point', 'coordinates': [-122.336838126079, 47.7256993928154]}}, {'type': 'Feature', 'properties': {'OBJECTID': 109, 'schID': 269, 'schName': 'Sand Point', 'mapLabel': 'Sand Point', 'Status': 'ELEM', 'esmshs': 'ES'}, 'geometry': {'type': 'Point', 'coordinates': [-122.262933222157, 47.6736515483429]}}, {'type': 'Feature', 'properties': {'OBJECTID': 110, 'schID': 972, 'schName': 'Louisa Boren K-8', 'mapLabel': 'Boren STEM K-8', 'Status': 'Option ELEM', 'esmshs': 'ES'}, 'geometry': {'type': 'Point', 'coordinates': [-122.362140942014, 47.5486195343168]}}, {'type': 'Feature', 'properties': {'OBJECTID': 111, 'schID': 990, 'schName': 'JOHN STANFORD CENTER', 'mapLabel': 'JOHN STANFORD CENTER', 'Status': 'Admin', 'esmshs': None}, 'geometry': {'type': 'Point', 'coordinates': [-122.330319770957, 47.5805016872519]}}, {'type': 'Feature', 'properties': {'OBJECTID': 112, 'schID': 113, 'schName': 'Robert Eagle Staff', 'mapLabel': 'Robert Eagle Staff', 'Status': 'MS', 'esmshs': 'MS'}, 'geometry': {'type': 'Point', 'coordinates': [-122.341136010211, 47.6948684636248]}}, {'type': 'Feature', 'properties': {'OBJECTID': 113, 'schID': 109, 'schName': 'Meany', 'mapLabel': 'Meany', 'Status': 'MS', 'esmshs': 'MS'}, 'geometry': {'type': 'Point', 'coordinates': [-122.305244675907, 47.6216031544989]}}, {'type': 'Feature', 'properties': {'OBJECTID': 114, 'schID': 971, 'schName': 'Cascadia', 'mapLabel': 'Cascadia', 'Status': 'HC', 'esmshs': 'ES'}, 'geometry': {'type': 'Point', 'coordinates': [-122.337288955129, 47.6949443113727]}}, {'type': 'Feature', 'properties': {'OBJECTID': 115, 'schID': 210, 'schName': 'Cedar Park', 'mapLabel': 'Cedar Park', 'Status': 'Option ELEM', 'esmshs': 'ES'}, 'geometry': {'type': 'Point', 'coordinates': [-122.287530617907, 47.7258139983102]}}, {'type': 'Feature', 'properties': {'OBJECTID': 116, 'schID': 365, 'schName': 'Interagency at Queen Anne', 'mapLabel': 'Queen Anne Gym', 'Status': 'NonStandard', 'esmshs': None}, 'geometry': {'type': 'Point', 'coordinates': [-122.353265218351, 47.632022747314]}}, {'type': 'Feature', 'properties': {'OBJECTID': 117, 'schID': 287, 'schName': 'Decatur', 'mapLabel': 'Decatur', 'Status': 'HC', 'esmshs': 'ES'}, 'geometry': {'type': 'Point', 'coordinates': [-122.282623693754, 47.6857132373755]}}]}\n"
     ]
    }
   ],
   "source": [
    "with open ('Seattle_Public_Schools_Sites_2022-2023.geojson') as f:\n",
    "    geo = json.load(f)\n",
    "    print(geo)"
   ]
  },
  {
   "cell_type": "code",
   "execution_count": 47,
   "id": "2917d246",
   "metadata": {},
   "outputs": [
    {
     "name": "stdout",
     "output_type": "stream",
     "text": [
      "{'OBJECTID': 1, 'schID': 106, 'schName': 'Jane Addams', 'mapLabel': 'Jane Addams', 'Status': 'MS', 'esmshs': 'MS'}\n",
      "{'OBJECTID': 2, 'schID': 292, 'schName': 'Hazel Wolf K-8', 'mapLabel': 'Hazel Wolf K-8', 'Status': 'Option ELEM', 'esmshs': 'ES'}\n",
      "{'OBJECTID': 3, 'schID': 264, 'schName': 'Rainier View', 'mapLabel': 'Rainier View', 'Status': 'ELEM', 'esmshs': 'ES'}\n",
      "{'OBJECTID': 4, 'schID': 203, 'schName': 'Arbor Heights', 'mapLabel': 'Arbor Heights', 'Status': 'ELEM', 'esmshs': 'ES'}\n",
      "{'OBJECTID': 5, 'schID': 221, 'schName': 'Emerson', 'mapLabel': 'Emerson', 'Status': 'ELEM', 'esmshs': 'ES'}\n",
      "{'OBJECTID': 6, 'schID': 267, 'schName': 'Roxhill', 'mapLabel': 'Roxhill', 'Status': 'Option School with continuous enrollment', 'esmshs': None}\n",
      "{'OBJECTID': 7, 'schID': 291, 'schName': 'South Shore K-8', 'mapLabel': 'South Shore K-8', 'Status': 'Option ELEM', 'esmshs': 'ES'}\n",
      "{'OBJECTID': 8, 'schID': 224, 'schName': 'FAUNTLEROY BLDG', 'mapLabel': 'FAUNTLEROY BLDG', 'Status': 'Closed_Leased_Land', 'esmshs': None}\n",
      "{'OBJECTID': 9, 'schID': 21, 'schName': 'Rainier Beach', 'mapLabel': 'Rainier Beach', 'Status': 'HS', 'esmshs': 'HS'}\n",
      "{'OBJECTID': 10, 'schID': 215, 'schName': \"Concord Int'l\", 'mapLabel': \"Concord Int'l\", 'Status': 'ELEM', 'esmshs': 'ES'}\n",
      "{'OBJECTID': 11, 'schID': 219, 'schName': 'Dunlap', 'mapLabel': 'Dunlap', 'Status': 'ELEM', 'esmshs': 'ES'}\n",
      "{'OBJECTID': 12, 'schID': 960, 'schName': 'Sugiyama High', 'mapLabel': 'Sugiyama', 'Status': 'Option School with continuous enrollment', 'esmshs': 'HS'}\n",
      "{'OBJECTID': 13, 'schID': 235, 'schName': 'Highland Park', 'mapLabel': 'Highland Park', 'Status': 'ELEM', 'esmshs': 'ES'}\n",
      "{'OBJECTID': 14, 'schID': 275, 'schName': 'Rising Star', 'mapLabel': 'Rising Star', 'Status': 'ELEM', 'esmshs': 'ES'}\n",
      "{'OBJECTID': 15, 'schID': 18, 'schName': \"Chief Sealth Int'l\", 'mapLabel': \"Chief Sealth Int'l\", 'Status': 'HS', 'esmshs': 'HS'}\n",
      "{'OBJECTID': 16, 'schID': 286, 'schName': 'Wing Luke', 'mapLabel': 'Wing Luke', 'Status': 'ELEM', 'esmshs': 'ES'}\n",
      "{'OBJECTID': 17, 'schID': 103, 'schName': \"David T. Denny Int'l\", 'mapLabel': \"Denny Int'l\", 'Status': 'MS', 'esmshs': 'MS'}\n",
      "{'OBJECTID': 18, 'schID': 267, 'schName': 'Roxhill', 'mapLabel': 'Roxhill at E.C. Hughes', 'Status': 'ELEM', 'esmshs': 'ES'}\n",
      "{'OBJECTID': 19, 'schID': 288, 'schName': 'Kimball', 'mapLabel': 'Kimball interim at Old Van Asselt', 'Status': 'ELEM', 'esmshs': 'ES'}\n",
      "{'OBJECTID': 20, 'schID': 319, 'schName': 'Early Learning Center', 'mapLabel': 'Early Learning Center', 'Status': 'Option School with continuous enrollment', 'esmshs': None}\n",
      "{'OBJECTID': 21, 'schID': 273, 'schName': 'Sanislo', 'mapLabel': 'Sanislo', 'Status': 'ELEM', 'esmshs': 'ES'}\n",
      "{'OBJECTID': 22, 'schID': 225, 'schName': 'Gatewood', 'mapLabel': 'Gatewood', 'Status': 'ELEM', 'esmshs': 'ES'}\n",
      "{'OBJECTID': 23, 'schID': 207, 'schName': 'Martin Luther King Jr', 'mapLabel': 'MLK Jr.', 'Status': 'ELEM', 'esmshs': 'ES'}\n",
      "{'OBJECTID': 24, 'schID': 236, 'schName': 'West Seattle Elementary', 'mapLabel': 'West Seattle ES', 'Status': 'ELEM', 'esmshs': 'ES'}\n",
      "{'OBJECTID': 25, 'schID': 220, 'schName': 'Graham Hill', 'mapLabel': 'Graham Hill', 'Status': 'ELEM', 'esmshs': 'ES'}\n",
      "{'OBJECTID': 26, 'schID': 130, 'schName': 'Aki Kurose', 'mapLabel': 'Aki Kurose', 'Status': 'MS', 'esmshs': 'MS'}\n",
      "{'OBJECTID': 27, 'schID': 251, 'schName': 'Dearborn Park', 'mapLabel': \"Dearborn Park Int'l\", 'Status': 'ELEM', 'esmshs': 'ES'}\n",
      "{'OBJECTID': 28, 'schID': 12, 'schName': 'Cleveland', 'mapLabel': 'Cleveland STEM', 'Status': 'Option HS', 'esmshs': 'HS'}\n",
      "{'OBJECTID': 29, 'schID': 222, 'schName': 'Fairmount Park', 'mapLabel': 'Fairmount Park', 'Status': 'ELEM', 'esmshs': 'ES'}\n",
      "{'OBJECTID': 30, 'schID': 939, 'schName': 'Orca K-8', 'mapLabel': 'Orca K-8', 'Status': 'Option ELEM', 'esmshs': 'ES'}\n",
      "{'OBJECTID': 31, 'schID': 364, 'schName': 'Interagency at Columbia School', 'mapLabel': 'Interagency at Columbia', 'Status': 'Option School with continuous enrollment', 'esmshs': None}\n",
      "{'OBJECTID': 32, 'schID': 252, 'schName': 'Maple', 'mapLabel': 'Maple', 'Status': 'ELEM', 'esmshs': 'ES'}\n",
      "{'OBJECTID': 33, 'schID': 214, 'schName': 'COLUMBIA ANNEX', 'mapLabel': 'COLUMBIA ANNEX', 'Status': 'Closed_Leased', 'esmshs': None}\n",
      "{'OBJECTID': 34, 'schID': 238, 'schName': 'JEFFERSON BLDG', 'mapLabel': 'JEFFERSON BLDG', 'Status': 'Closed_Leased_Land', 'esmshs': None}\n",
      "{'OBJECTID': 35, 'schID': 110, 'schName': 'Mercer', 'mapLabel': \"Mercer Int'l\", 'Status': 'MS', 'esmshs': 'MS'}\n",
      "{'OBJECTID': 36, 'schID': 930, 'schName': 'Pathfinder K-8', 'mapLabel': 'Pathfinder K-8', 'Status': 'Option ELEM', 'esmshs': 'ES'}\n",
      "{'OBJECTID': 37, 'schID': 233, 'schName': 'Hawthorne', 'mapLabel': 'Hawthorne', 'Status': 'ELEM', 'esmshs': 'ES'}\n",
      "{'OBJECTID': 38, 'schID': 270, 'schName': 'Genesee Hill', 'mapLabel': 'Genesee Hill', 'Status': 'ELEM', 'esmshs': 'ES'}\n",
      "{'OBJECTID': 39, 'schID': 256, 'schName': 'John Muir', 'mapLabel': 'John Muir', 'Status': 'ELEM', 'esmshs': 'ES'}\n",
      "{'OBJECTID': 40, 'schID': 270, 'schName': 'Schmitz Park', 'mapLabel': 'Schmitz Park', 'Status': 'CLOSED', 'esmshs': None}\n",
      "{'OBJECTID': 41, 'schID': 288, 'schName': 'KIMBALL ELEM', 'mapLabel': 'Kimball (site)', 'Status': 'CLOSED BEX/BTA', 'esmshs': None}\n",
      "{'OBJECTID': 42, 'schID': 107, 'schName': 'Madison', 'mapLabel': 'Madison', 'Status': 'MS', 'esmshs': 'MS'}\n",
      "{'OBJECTID': 43, 'schID': 13, 'schName': 'Franklin', 'mapLabel': 'Franklin', 'Status': 'HS', 'esmshs': 'HS'}\n",
      "{'OBJECTID': 44, 'schID': 19, 'schName': 'West Seattle High', 'mapLabel': 'West Seattle HS', 'Status': 'HS', 'esmshs': 'HS'}\n",
      "{'OBJECTID': 45, 'schID': 202, 'schName': 'Alki', 'mapLabel': 'Alki', 'Status': 'ELEM', 'esmshs': 'ES'}\n",
      "{'OBJECTID': 46, 'schID': 239, 'schName': 'Lafayette', 'mapLabel': 'Lafayette', 'Status': 'ELEM', 'esmshs': 'ES'}\n",
      "{'OBJECTID': 47, 'schID': 205, 'schName': \"Beacon Hill Int'l\", 'mapLabel': \"Beacon Hill Int'l\", 'Status': 'ELEM', 'esmshs': 'ES'}\n",
      "{'OBJECTID': 48, 'schID': 212, 'schName': 'Thurgood Marshall', 'mapLabel': 'Thurgood Marshall', 'Status': 'ELEM', 'esmshs': 'ES'}\n",
      "{'OBJECTID': 49, 'schID': 117, 'schName': 'Washington', 'mapLabel': 'Washington', 'Status': 'MS', 'esmshs': 'MS'}\n",
      "{'OBJECTID': 50, 'schID': 226, 'schName': 'Bailey Gatzert', 'mapLabel': 'Gatzert', 'Status': 'ELEM', 'esmshs': 'ES'}\n",
      "{'OBJECTID': 51, 'schID': 244, 'schName': 'Leschi', 'mapLabel': 'Leschi', 'Status': 'ELEM', 'esmshs': 'ES'}\n",
      "{'OBJECTID': 52, 'schID': 14, 'schName': 'Garfield', 'mapLabel': 'Garfield', 'Status': 'HS', 'esmshs': 'HS'}\n",
      "{'OBJECTID': 53, 'schID': 23, 'schName': 'Nova', 'mapLabel': 'Nova at Mann', 'Status': 'Option School with continuous enrollment', 'esmshs': 'HS'}\n",
      "{'OBJECTID': 54, 'schID': 249, 'schName': 'Madrona', 'mapLabel': 'Madrona', 'Status': 'ELEM', 'esmshs': 'ES'}\n",
      "{'OBJECTID': 55, 'schID': 983, 'schName': 'World School', 'mapLabel': 'World School at Minor', 'Status': 'Option School with continuous enrollment', 'esmshs': 'MSHS'}\n",
      "{'OBJECTID': 56, 'schID': 24, 'schName': 'The Center School', 'mapLabel': 'Center School', 'Status': 'Option HS', 'esmshs': 'HS'}\n",
      "{'OBJECTID': 57, 'schID': 752, 'schName': 'MEMORIAL STADIUM', 'mapLabel': 'MEMORIAL STADIUM', 'Status': 'Admin', 'esmshs': None}\n",
      "{'OBJECTID': 58, 'schID': 245, 'schName': 'Lowell', 'mapLabel': 'Lowell', 'Status': 'ELEM', 'esmshs': 'ES'}\n",
      "{'OBJECTID': 59, 'schID': 272, 'schName': 'Stevens', 'mapLabel': 'Stevens', 'Status': 'ELEM', 'esmshs': 'ES'}\n",
      "{'OBJECTID': 60, 'schID': 280, 'schName': 'WEST QUEEN ANNE BLDG', 'mapLabel': 'WEST QUEEN ANNE BLDG', 'Status': 'Closed_Leased_Land', 'esmshs': None}\n",
      "{'OBJECTID': 61, 'schID': 234, 'schName': 'John Hay', 'mapLabel': 'Hay', 'Status': 'ELEM', 'esmshs': 'ES'}\n",
      "{'OBJECTID': 62, 'schID': 248, 'schName': 'McGilvra', 'mapLabel': 'McGilvra', 'Status': 'ELEM', 'esmshs': 'ES'}\n",
      "{'OBJECTID': 63, 'schID': 118, 'schName': 'McClure', 'mapLabel': 'McClure', 'Status': 'MS', 'esmshs': 'MS'}\n",
      "{'OBJECTID': 64, 'schID': 974, 'schName': 'Queen Anne', 'mapLabel': 'Queen Anne', 'Status': 'Option ELEM', 'esmshs': 'ES'}\n",
      "{'OBJECTID': 65, 'schID': 255, 'schName': 'Montlake', 'mapLabel': 'Montlake', 'Status': 'ELEM', 'esmshs': 'ES'}\n",
      "{'OBJECTID': 66, 'schID': 211, 'schName': 'Coe', 'mapLabel': 'Coe', 'Status': 'ELEM', 'esmshs': 'ES'}\n",
      "{'OBJECTID': 67, 'schID': 250, 'schName': 'Magnolia', 'mapLabel': 'Magnolia', 'Status': 'ELEM', 'esmshs': 'ES'}\n",
      "{'OBJECTID': 68, 'schID': 935, 'schName': 'TOPS K-8', 'mapLabel': 'TOPS K-8', 'Status': 'Option ELEM', 'esmshs': 'ES'}\n",
      "{'OBJECTID': 69, 'schID': 289, 'schName': 'Catharine Blaine K-8', 'mapLabel': 'Catharine Blaine K-8', 'Status': 'ELEM', 'esmshs': 'ES'}\n",
      "{'OBJECTID': 70, 'schID': 945, 'schName': 'Cascade', 'mapLabel': 'Cascade PPP', 'Status': 'Option School with continuous enrollment', 'esmshs': None}\n",
      "{'OBJECTID': 71, 'schID': 218, 'schName': 'B.F. Day', 'mapLabel': 'B.F. Day', 'Status': 'ELEM', 'esmshs': 'ES'}\n",
      "{'OBJECTID': 72, 'schID': 105, 'schName': \"Hamilton Int'l\", 'mapLabel': \"Hamilton Int'l\", 'Status': 'MS', 'esmshs': 'MS'}\n",
      "{'OBJECTID': 73, 'schID': 241, 'schName': \"John Stanford Int'l\", 'mapLabel': \"John Stanford Int'l\", 'Status': 'Option ELEM', 'esmshs': 'ES'}\n",
      "{'OBJECTID': 74, 'schID': 243, 'schName': 'Lawton', 'mapLabel': 'Lawton', 'Status': 'ELEM', 'esmshs': 'ES'}\n",
      "{'OBJECTID': 75, 'schID': 15, 'schName': 'Lincoln', 'mapLabel': 'Lincoln', 'Status': 'HS', 'esmshs': 'HS'}\n",
      "{'OBJECTID': 76, 'schID': 285, 'schName': 'INTERLAKE BLDG', 'mapLabel': 'INTERLAKE BLDG', 'Status': 'Closed_Leased_Land', 'esmshs': None}\n",
      "{'OBJECTID': 77, 'schID': 242, 'schName': 'Laurelhurst', 'mapLabel': 'Laurelhurst', 'Status': 'ELEM', 'esmshs': 'ES'}\n",
      "{'OBJECTID': 78, 'schID': 247, 'schName': \"McDonald Int'l\", 'mapLabel': \"McDonald Int'l\", 'Status': 'Option ELEM', 'esmshs': 'ES'}\n",
      "{'OBJECTID': 79, 'schID': 281, 'schName': 'West Woodland', 'mapLabel': 'West Woodland', 'Status': 'ELEM', 'esmshs': 'ES'}\n",
      "{'OBJECTID': 80, 'schID': 209, 'schName': 'Bryant', 'mapLabel': 'Bryant', 'Status': 'ELEM', 'esmshs': 'ES'}\n",
      "{'OBJECTID': 81, 'schID': 201, 'schName': 'Adams', 'mapLabel': 'Adams', 'Status': 'ELEM', 'esmshs': 'ES'}\n",
      "{'OBJECTID': 82, 'schID': 229, 'schName': 'Green Lake', 'mapLabel': 'Green Lake', 'Status': 'ELEM', 'esmshs': 'ES'}\n",
      "{'OBJECTID': 83, 'schID': 949, 'schName': 'Salmon Bay K-8', 'mapLabel': 'Salmon Bay K-8', 'Status': 'Option ELEM', 'esmshs': 'ES'}\n",
      "{'OBJECTID': 84, 'schID': 17, 'schName': 'Roosevelt', 'mapLabel': 'Roosevelt', 'Status': 'HS', 'esmshs': 'HS'}\n",
      "{'OBJECTID': 85, 'schID': 276, 'schName': 'Viewlands', 'mapLabel': 'Viewlands interim at John Marshall', 'Status': 'ELEM', 'esmshs': 'ES'}\n",
      "{'OBJECTID': 86, 'schID': 11, 'schName': 'Ballard', 'mapLabel': 'Ballard', 'Status': 'HS', 'esmshs': 'HS'}\n",
      "{'OBJECTID': 87, 'schID': 955, 'schName': 'Licton Springs K-8', 'mapLabel': 'Licton Springs K-8', 'Status': 'Option ELEM', 'esmshs': 'ES'}\n",
      "{'OBJECTID': 88, 'schID': 277, 'schName': 'View Ridge', 'mapLabel': 'View Ridge', 'Status': 'ELEM', 'esmshs': 'ES'}\n",
      "{'OBJECTID': 89, 'schID': 104, 'schName': 'Eckstein', 'mapLabel': 'Eckstein', 'Status': 'MS', 'esmshs': 'MS'}\n",
      "{'OBJECTID': 90, 'schID': 282, 'schName': 'Whittier', 'mapLabel': 'Whittier', 'Status': 'ELEM', 'esmshs': 'ES'}\n",
      "{'OBJECTID': 91, 'schID': 977, 'schName': 'Thornton Creek', 'mapLabel': 'Thornton Creek', 'Status': 'Option ELEM', 'esmshs': 'ES'}\n",
      "{'OBJECTID': 92, 'schID': 204, 'schName': 'Daniel Bagley', 'mapLabel': 'Bagley', 'Status': 'ELEM', 'esmshs': 'ES'}\n",
      "{'OBJECTID': 93, 'schID': 246, 'schName': 'Loyal Heights', 'mapLabel': 'Loyal Heights', 'Status': 'ELEM', 'esmshs': 'ES'}\n",
      "{'OBJECTID': 94, 'schID': 230, 'schName': 'Greenwood', 'mapLabel': 'Greenwood', 'Status': 'ELEM', 'esmshs': 'ES'}\n",
      "{'OBJECTID': 95, 'schID': 279, 'schName': 'Wedgwood', 'mapLabel': 'Wedgwood', 'Status': 'ELEM', 'esmshs': 'ES'}\n",
      "{'OBJECTID': 96, 'schID': 259, 'schName': 'North Beach', 'mapLabel': 'North Beach', 'Status': 'ELEM', 'esmshs': 'ES'}\n",
      "{'OBJECTID': 97, 'schID': 115, 'schName': 'Whitman', 'mapLabel': 'Whitman', 'Status': 'MS', 'esmshs': 'MS'}\n",
      "{'OBJECTID': 98, 'schID': 262, 'schName': 'Olympic View', 'mapLabel': 'Olympic View', 'Status': 'ELEM', 'esmshs': 'ES'}\n",
      "{'OBJECTID': 99, 'schID': 268, 'schName': 'Sacajawea', 'mapLabel': 'Sacajawea', 'Status': 'ELEM', 'esmshs': 'ES'}\n",
      "{'OBJECTID': 100, 'schID': 260, 'schName': 'OAK LAKE BLDG', 'mapLabel': 'OAK LAKE BLDG', 'Status': 'Closed_Leased_Land', 'esmshs': None}\n",
      "{'OBJECTID': 101, 'schID': 276, 'schName': 'VIEWLANDS ELEM', 'mapLabel': 'Viewlands (site)', 'Status': 'CLOSED BEX/BTA', 'esmshs': None}\n",
      "{'OBJECTID': 102, 'schID': 266, 'schName': 'John Rogers', 'mapLabel': 'John Rogers', 'Status': 'ELEM', 'esmshs': 'ES'}\n",
      "{'OBJECTID': 103, 'schID': 22, 'schName': 'Nathan Hale', 'mapLabel': 'Nathan Hale', 'Status': 'HS', 'esmshs': 'HS'}\n",
      "{'OBJECTID': 104, 'schID': 257, 'schName': 'Northgate', 'mapLabel': 'Northgate', 'Status': 'ELEM', 'esmshs': 'ES'}\n",
      "{'OBJECTID': 105, 'schID': 240, 'schName': 'LAKE CITY BLDG', 'mapLabel': 'LAKE CITY BLDG', 'Status': 'Closed_Vacant', 'esmshs': None}\n",
      "{'OBJECTID': 106, 'schID': 261, 'schName': 'Olympic Hills', 'mapLabel': 'Olympic Hills', 'Status': 'ELEM', 'esmshs': 'ES'}\n",
      "{'OBJECTID': 107, 'schID': 208, 'schName': 'Broadview-Thomson K-8', 'mapLabel': 'Broadview-Thomson K-8', 'Status': 'ELEM', 'esmshs': 'ES'}\n",
      "{'OBJECTID': 108, 'schID': 20, 'schName': 'Ingraham', 'mapLabel': \"Ingraham Int'l\", 'Status': 'HS', 'esmshs': 'HS'}\n",
      "{'OBJECTID': 109, 'schID': 269, 'schName': 'Sand Point', 'mapLabel': 'Sand Point', 'Status': 'ELEM', 'esmshs': 'ES'}\n",
      "{'OBJECTID': 110, 'schID': 972, 'schName': 'Louisa Boren K-8', 'mapLabel': 'Boren STEM K-8', 'Status': 'Option ELEM', 'esmshs': 'ES'}\n",
      "{'OBJECTID': 111, 'schID': 990, 'schName': 'JOHN STANFORD CENTER', 'mapLabel': 'JOHN STANFORD CENTER', 'Status': 'Admin', 'esmshs': None}\n",
      "{'OBJECTID': 112, 'schID': 113, 'schName': 'Robert Eagle Staff', 'mapLabel': 'Robert Eagle Staff', 'Status': 'MS', 'esmshs': 'MS'}\n",
      "{'OBJECTID': 113, 'schID': 109, 'schName': 'Meany', 'mapLabel': 'Meany', 'Status': 'MS', 'esmshs': 'MS'}\n",
      "{'OBJECTID': 114, 'schID': 971, 'schName': 'Cascadia', 'mapLabel': 'Cascadia', 'Status': 'HC', 'esmshs': 'ES'}\n",
      "{'OBJECTID': 115, 'schID': 210, 'schName': 'Cedar Park', 'mapLabel': 'Cedar Park', 'Status': 'Option ELEM', 'esmshs': 'ES'}\n",
      "{'OBJECTID': 116, 'schID': 365, 'schName': 'Interagency at Queen Anne', 'mapLabel': 'Queen Anne Gym', 'Status': 'NonStandard', 'esmshs': None}\n",
      "{'OBJECTID': 117, 'schID': 287, 'schName': 'Decatur', 'mapLabel': 'Decatur', 'Status': 'HC', 'esmshs': 'ES'}\n"
     ]
    }
   ],
   "source": [
    "for feature in geo['features']:\n",
    "    print(feature['properties'])"
   ]
  },
  {
   "cell_type": "markdown",
   "id": "d3a96f89",
   "metadata": {},
   "source": [
    "#### step 4: print the properties of each feature\n",
    "\n",
    "- drilling into the features reveals a list of properties, containing school name and school ID which could be used to join to the csv file \n",
    "\n",
    "<blockquote>\n",
    "    for feature in schoolsdict['features']:<br>\n",
    "      ->  print(feature['properties'])<br>\n",
    "              </blockquote>"
   ]
  },
  {
   "cell_type": "code",
   "execution_count": 48,
   "id": "f942c0b7",
   "metadata": {},
   "outputs": [
    {
     "name": "stdout",
     "output_type": "stream",
     "text": [
      "[-122.293009024934, 47.709944861847]\n"
     ]
    }
   ],
   "source": [
    "coords = geo['features'][0]['geometry']['coordinates']\n",
    "print(coords)"
   ]
  },
  {
   "cell_type": "markdown",
   "id": "7ba0a541",
   "metadata": {},
   "source": [
    "#### step 5: print the coordinates of the first school in the file \n",
    "\n",
    "- using the index slicing method we can focus on position 0, the first school in the source data. This reveals the Longitude and Latitude of the school \n",
    "\n",
    "<blockquote>\n",
    "    coords = schoolsdict['features'][0]['geometry']['coordinates'] <br>\n",
    "print(coords)</blockquote>\n"
   ]
  },
  {
   "cell_type": "code",
   "execution_count": 50,
   "id": "fd14250c",
   "metadata": {},
   "outputs": [
    {
     "name": "stdout",
     "output_type": "stream",
     "text": [
      "[-122.293009024934, 47.709944861847]\n",
      "[-122.314658339085, 47.7134302314171]\n",
      "[-122.263172064205, 47.498863321283]\n",
      "[-122.377587813408, 47.5097003606568]\n",
      "[-122.258636146464, 47.5148204654414]\n",
      "[-122.370558043205, 47.5180529159752]\n",
      "[-122.272009121329, 47.5237429478992]\n",
      "[-122.387871932427, 47.5219061704517]\n",
      "[-122.265858983284, 47.5240707646718]\n",
      "[-122.324690584152, 47.5236109016963]\n",
      "[-122.274655654791, 47.5249891889941]\n",
      "[-122.270919626841, 47.5252645773187]\n",
      "[-122.348277286993, 47.5251774942707]\n",
      "[-122.28903550729, 47.5291516293077]\n",
      "[-122.366154798809, 47.5286320504163]\n",
      "[-122.284906008453, 47.5307393432751]\n",
      "[-122.366041530751, 47.5316539580682]\n",
      "[-122.374927418131, 47.5328376591848]\n",
      "[-122.296268298114, 47.5383331982934]\n",
      "[-122.296268298114, 47.5383331982934]\n",
      "[-122.358658082289, 47.5396083901531]\n",
      "[-122.388498218919, 47.5402508857746]\n",
      "[-122.276911759732, 47.5417432062751]\n",
      "[-122.373492687303, 47.5417618672396]\n",
      "[-122.268534249037, 47.5457573099578]\n",
      "[-122.281980381889, 47.5463218607493]\n",
      "[-122.29628697988, 47.5522623590868]\n",
      "[-122.313911912494, 47.5523720616427]\n",
      "[-122.38019123288, 47.5525732013517]\n",
      "[-122.275956418027, 47.5547787256636]\n",
      "[-122.287115517701, 47.5581790248764]\n",
      "[-122.318898884675, 47.5581257125768]\n",
      "[-122.29249415696, 47.5610612530731]\n",
      "[-122.384362708468, 47.5605121660091]\n",
      "[-122.312083193352, 47.5641327434862]\n",
      "[-122.357997123376, 47.5636047847087]\n",
      "[-122.28338622379, 47.5659051837791]\n",
      "[-122.396888540609, 47.5654925686329]\n",
      "[-122.290579862137, 47.5732413473039]\n",
      "[-122.396730798123, 47.5726890738923]\n",
      "[-122.30301448863, 47.574045254751]\n",
      "[-122.39027968495, 47.5729806131353]\n",
      "[-122.293646399302, 47.5758876712009]\n",
      "[-122.384590967813, 47.5767796823176]\n",
      "[-122.40782717368, 47.5771417239524]\n",
      "[-122.387234546428, 47.5794954000188]\n",
      "[-122.315104889304, 47.5854692048732]\n",
      "[-122.299846332198, 47.5909585487249]\n",
      "[-122.304149774154, 47.5979556865434]\n",
      "[-122.315484720788, 47.6012005334246]\n",
      "[-122.291813625458, 47.6021031915341]\n",
      "[-122.301904688229, 47.6054195130438]\n",
      "[-122.300925709864, 47.6084241754992]\n",
      "[-122.290868905001, 47.612236775301]\n",
      "[-122.309286398388, 47.613373419336]\n",
      "[-122.353981719519, 47.6220792613884]\n",
      "[-122.349947493744, 47.6232435552809]\n",
      "[-122.318378915744, 47.6244234241625]\n",
      "[-122.307864884619, 47.6314562299183]\n",
      "[-122.363843185614, 47.6318175772522]\n",
      "[-122.351716580059, 47.6328984835769]\n",
      "[-122.284831792037, 47.6340777504495]\n",
      "[-122.35895523111, 47.6368262839478]\n",
      "[-122.348969192219, 47.6379637402647]\n",
      "[-122.304284203183, 47.6406326371317]\n",
      "[-122.36559910812, 47.6405159867016]\n",
      "[-122.392623573053, 47.6406061181655]\n",
      "[-122.324178472285, 47.6422868571816]\n",
      "[-122.399262430613, 47.6422573572221]\n",
      "[-122.358619186178, 47.6462750645117]\n",
      "[-122.349123735788, 47.6546354602612]\n",
      "[-122.338027536628, 47.6570800302643]\n",
      "[-122.324051869421, 47.6575282555044]\n",
      "[-122.390474520374, 47.656712405112]\n",
      "[-122.339622449525, 47.6599617767439]\n",
      "[-122.335764161764, 47.6607174503891]\n",
      "[-122.277963074235, 47.6621980343177]\n",
      "[-122.326595385471, 47.6682756071498]\n",
      "[-122.362246781598, 47.6705993036939]\n",
      "[-122.292205523966, 47.6718419430984]\n",
      "[-122.391519601726, 47.6736321449466]\n",
      "[-122.328497858212, 47.6763016090584]\n",
      "[-122.380512075998, 47.6762974107118]\n",
      "[-122.312809534298, 47.6772313932552]\n",
      "[-122.322315348242, 47.6772481422666]\n",
      "[-122.374888668665, 47.6766107680539]\n",
      "[-122.396358683488, 47.6776990912225]\n",
      "[-122.275332169001, 47.6806871055908]\n",
      "[-122.294982661747, 47.682520105628]\n",
      "[-122.373075379303, 47.6835898231266]\n",
      "[-122.284633891821, 47.6852897194814]\n",
      "[-122.342304871586, 47.6863570662322]\n",
      "[-122.389050477093, 47.6864354498187]\n",
      "[-122.359960300451, 47.6872538940964]\n",
      "[-122.297053816619, 47.6905380455419]\n",
      "[-122.387035500263, 47.6949745107196]\n",
      "[-122.377601923086, 47.6967514514167]\n",
      "[-122.32125787015, 47.6982317210299]\n",
      "[-122.307472722843, 47.6984485433365]\n",
      "[-122.343259403391, 47.7024364738083]\n",
      "[-122.361129445192, 47.705972815071]\n",
      "[-122.284633730395, 47.7074264343745]\n",
      "[-122.294530733278, 47.7076286083189]\n",
      "[-122.329585046241, 47.7148671636599]\n",
      "[-122.299515236194, 47.7189852976438]\n",
      "[-122.306755454102, 47.7236861632849]\n",
      "[-122.353148668766, 47.7246311080134]\n",
      "[-122.336838126079, 47.7256993928154]\n",
      "[-122.262933222157, 47.6736515483429]\n",
      "[-122.362140942014, 47.5486195343168]\n",
      "[-122.330319770957, 47.5805016872519]\n",
      "[-122.341136010211, 47.6948684636248]\n",
      "[-122.305244675907, 47.6216031544989]\n",
      "[-122.337288955129, 47.6949443113727]\n",
      "[-122.287530617907, 47.7258139983102]\n",
      "[-122.353265218351, 47.632022747314]\n",
      "[-122.282623693754, 47.6857132373755]\n"
     ]
    }
   ],
   "source": [
    "for i in range(len(geo['features'])):\n",
    "     print(geo['features'][i]['geometry']['coordinates'])"
   ]
  },
  {
   "cell_type": "markdown",
   "id": "fdfa0146",
   "metadata": {},
   "source": [
    "#### step 6: extend this method using a for loop to print all the coordinates \n",
    "\n",
    "<blockquote>\n",
    "for i in range(len(schoolsdict['features'])):<br>\n",
    "      -> print(schoolsdict['features'][i]['geometry']['coordinates'])<br>\n",
    "</blockquote>"
   ]
  },
  {
   "cell_type": "code",
   "execution_count": 84,
   "id": "cf31870b",
   "metadata": {},
   "outputs": [],
   "source": [
    "latitude = []\n",
    "for lat in range(len(geo['features'])):\n",
    "    latitude.append(geo['features'][i]['geometry']['coordinates'][1])\n",
    "        "
   ]
  },
  {
   "cell_type": "code",
   "execution_count": 86,
   "id": "6642bae2",
   "metadata": {},
   "outputs": [],
   "source": [
    "longitude = []\n",
    "for long in range(len(geo['features'])):\n",
    "    longitude.append(geo['features'][i]['geometry']['coordinates'][0])"
   ]
  },
  {
   "cell_type": "code",
   "execution_count": 93,
   "id": "f1f5218c",
   "metadata": {},
   "outputs": [],
   "source": [
    "schID = []\n",
    "for sid in range(len(geo['features'])):\n",
    "    schID.append(geo['features'][sid]['properties']['schID'])"
   ]
  },
  {
   "cell_type": "code",
   "execution_count": 100,
   "id": "cc14c50b",
   "metadata": {},
   "outputs": [],
   "source": [
    "schools_location = pd.DataFrame(list(zip(schID,latitude,longitude)), columns=['schID', 'latitude', 'longitude'])"
   ]
  },
  {
   "cell_type": "code",
   "execution_count": 101,
   "id": "4703a32c",
   "metadata": {},
   "outputs": [
    {
     "data": {
      "text/html": [
       "<div>\n",
       "<style scoped>\n",
       "    .dataframe tbody tr th:only-of-type {\n",
       "        vertical-align: middle;\n",
       "    }\n",
       "\n",
       "    .dataframe tbody tr th {\n",
       "        vertical-align: top;\n",
       "    }\n",
       "\n",
       "    .dataframe thead th {\n",
       "        text-align: right;\n",
       "    }\n",
       "</style>\n",
       "<table border=\"1\" class=\"dataframe\">\n",
       "  <thead>\n",
       "    <tr style=\"text-align: right;\">\n",
       "      <th></th>\n",
       "      <th>schID</th>\n",
       "      <th>latitude</th>\n",
       "      <th>longitude</th>\n",
       "    </tr>\n",
       "  </thead>\n",
       "  <tbody>\n",
       "    <tr>\n",
       "      <th>0</th>\n",
       "      <td>106</td>\n",
       "      <td>47.685713</td>\n",
       "      <td>-122.282624</td>\n",
       "    </tr>\n",
       "    <tr>\n",
       "      <th>1</th>\n",
       "      <td>292</td>\n",
       "      <td>47.685713</td>\n",
       "      <td>-122.282624</td>\n",
       "    </tr>\n",
       "    <tr>\n",
       "      <th>2</th>\n",
       "      <td>264</td>\n",
       "      <td>47.685713</td>\n",
       "      <td>-122.282624</td>\n",
       "    </tr>\n",
       "    <tr>\n",
       "      <th>3</th>\n",
       "      <td>203</td>\n",
       "      <td>47.685713</td>\n",
       "      <td>-122.282624</td>\n",
       "    </tr>\n",
       "    <tr>\n",
       "      <th>4</th>\n",
       "      <td>221</td>\n",
       "      <td>47.685713</td>\n",
       "      <td>-122.282624</td>\n",
       "    </tr>\n",
       "    <tr>\n",
       "      <th>...</th>\n",
       "      <td>...</td>\n",
       "      <td>...</td>\n",
       "      <td>...</td>\n",
       "    </tr>\n",
       "    <tr>\n",
       "      <th>112</th>\n",
       "      <td>109</td>\n",
       "      <td>47.685713</td>\n",
       "      <td>-122.282624</td>\n",
       "    </tr>\n",
       "    <tr>\n",
       "      <th>113</th>\n",
       "      <td>971</td>\n",
       "      <td>47.685713</td>\n",
       "      <td>-122.282624</td>\n",
       "    </tr>\n",
       "    <tr>\n",
       "      <th>114</th>\n",
       "      <td>210</td>\n",
       "      <td>47.685713</td>\n",
       "      <td>-122.282624</td>\n",
       "    </tr>\n",
       "    <tr>\n",
       "      <th>115</th>\n",
       "      <td>365</td>\n",
       "      <td>47.685713</td>\n",
       "      <td>-122.282624</td>\n",
       "    </tr>\n",
       "    <tr>\n",
       "      <th>116</th>\n",
       "      <td>287</td>\n",
       "      <td>47.685713</td>\n",
       "      <td>-122.282624</td>\n",
       "    </tr>\n",
       "  </tbody>\n",
       "</table>\n",
       "<p>117 rows × 3 columns</p>\n",
       "</div>"
      ],
      "text/plain": [
       "     schID   latitude   longitude\n",
       "0      106  47.685713 -122.282624\n",
       "1      292  47.685713 -122.282624\n",
       "2      264  47.685713 -122.282624\n",
       "3      203  47.685713 -122.282624\n",
       "4      221  47.685713 -122.282624\n",
       "..     ...        ...         ...\n",
       "112    109  47.685713 -122.282624\n",
       "113    971  47.685713 -122.282624\n",
       "114    210  47.685713 -122.282624\n",
       "115    365  47.685713 -122.282624\n",
       "116    287  47.685713 -122.282624\n",
       "\n",
       "[117 rows x 3 columns]"
      ]
     },
     "execution_count": 101,
     "metadata": {},
     "output_type": "execute_result"
    }
   ],
   "source": [
    "schools_location"
   ]
  },
  {
   "cell_type": "code",
   "execution_count": null,
   "id": "488981ea",
   "metadata": {},
   "outputs": [],
   "source": []
  },
  {
   "cell_type": "code",
   "execution_count": 82,
   "id": "18979a25",
   "metadata": {},
   "outputs": [],
   "source": [
    "schools_location = pd.DataFrame(columns=['schID', 'longitude','latitude'])"
   ]
  },
  {
   "cell_type": "code",
   "execution_count": 83,
   "id": "7360c14f",
   "metadata": {},
   "outputs": [
    {
     "data": {
      "text/html": [
       "<div>\n",
       "<style scoped>\n",
       "    .dataframe tbody tr th:only-of-type {\n",
       "        vertical-align: middle;\n",
       "    }\n",
       "\n",
       "    .dataframe tbody tr th {\n",
       "        vertical-align: top;\n",
       "    }\n",
       "\n",
       "    .dataframe thead th {\n",
       "        text-align: right;\n",
       "    }\n",
       "</style>\n",
       "<table border=\"1\" class=\"dataframe\">\n",
       "  <thead>\n",
       "    <tr style=\"text-align: right;\">\n",
       "      <th></th>\n",
       "      <th>schID</th>\n",
       "      <th>longitude</th>\n",
       "      <th>latitude</th>\n",
       "    </tr>\n",
       "  </thead>\n",
       "  <tbody>\n",
       "  </tbody>\n",
       "</table>\n",
       "</div>"
      ],
      "text/plain": [
       "Empty DataFrame\n",
       "Columns: [schID, longitude, latitude]\n",
       "Index: []"
      ]
     },
     "execution_count": 83,
     "metadata": {},
     "output_type": "execute_result"
    }
   ],
   "source": [
    "schools_location"
   ]
  },
  {
   "cell_type": "code",
   "execution_count": 59,
   "id": "ba22e276",
   "metadata": {},
   "outputs": [],
   "source": [
    "schools_location=[]\n",
    "for item in geo:\n",
    "    schools_location.append(item)"
   ]
  },
  {
   "cell_type": "code",
   "execution_count": 69,
   "id": "adfe18d0",
   "metadata": {},
   "outputs": [],
   "source": [
    "schools_location=pd.DataFrame(schools_location)\n"
   ]
  },
  {
   "cell_type": "code",
   "execution_count": 70,
   "id": "ef5bc212",
   "metadata": {},
   "outputs": [
    {
     "data": {
      "text/html": [
       "<div>\n",
       "<style scoped>\n",
       "    .dataframe tbody tr th:only-of-type {\n",
       "        vertical-align: middle;\n",
       "    }\n",
       "\n",
       "    .dataframe tbody tr th {\n",
       "        vertical-align: top;\n",
       "    }\n",
       "\n",
       "    .dataframe thead th {\n",
       "        text-align: right;\n",
       "    }\n",
       "</style>\n",
       "<table border=\"1\" class=\"dataframe\">\n",
       "  <thead>\n",
       "    <tr style=\"text-align: right;\">\n",
       "      <th></th>\n",
       "      <th>0</th>\n",
       "    </tr>\n",
       "  </thead>\n",
       "  <tbody>\n",
       "    <tr>\n",
       "      <th>0</th>\n",
       "      <td>type</td>\n",
       "    </tr>\n",
       "    <tr>\n",
       "      <th>1</th>\n",
       "      <td>name</td>\n",
       "    </tr>\n",
       "    <tr>\n",
       "      <th>2</th>\n",
       "      <td>crs</td>\n",
       "    </tr>\n",
       "    <tr>\n",
       "      <th>3</th>\n",
       "      <td>features</td>\n",
       "    </tr>\n",
       "  </tbody>\n",
       "</table>\n",
       "</div>"
      ],
      "text/plain": [
       "          0\n",
       "0      type\n",
       "1      name\n",
       "2       crs\n",
       "3  features"
      ]
     },
     "execution_count": 70,
     "metadata": {},
     "output_type": "execute_result"
    }
   ],
   "source": [
    "schools_location.head()"
   ]
  },
  {
   "cell_type": "markdown",
   "id": "58d9a714",
   "metadata": {},
   "source": [
    "#### step 7: collect the School IDs and geolocation coordinates from the geojson file to a schoolslocation dataframe\n",
    "\n",
    "- use a for loop to collect the data and convert it to a new schoolslocation dataframe \n",
    "- the final data frame should be 117 rows long and 3 columns wide\n",
    "- column headers are schoolid, longitude and latitude \n",
    "- make sure you map the correct data to the correct column header\n",
    "- preview your schoolslocation dataframe to ensure it shows the expected results"
   ]
  },
  {
   "cell_type": "code",
   "execution_count": null,
   "id": "8d86df10",
   "metadata": {},
   "outputs": [],
   "source": []
  },
  {
   "cell_type": "code",
   "execution_count": null,
   "id": "8d4ed1e0",
   "metadata": {},
   "outputs": [],
   "source": []
  },
  {
   "cell_type": "code",
   "execution_count": null,
   "id": "ae150e02",
   "metadata": {},
   "outputs": [],
   "source": []
  },
  {
   "cell_type": "markdown",
   "id": "bf4a5c94",
   "metadata": {},
   "source": [
    "#### Step 8: combine the two data frames (using pd.concat) so that each school has a longitude and latitude value against it\n",
    "- schoolslocation dataframe  +  schools dataframe\n",
    "- resulting dataframe - > schoolslocinfo"
   ]
  },
  {
   "cell_type": "code",
   "execution_count": null,
   "id": "ff4172f6",
   "metadata": {},
   "outputs": [],
   "source": []
  },
  {
   "cell_type": "code",
   "execution_count": null,
   "id": "7f324f46",
   "metadata": {},
   "outputs": [],
   "source": []
  },
  {
   "cell_type": "code",
   "execution_count": null,
   "id": "7b1e2e22",
   "metadata": {},
   "outputs": [],
   "source": []
  }
 ],
 "metadata": {
  "kernelspec": {
   "display_name": "Python 3 (ipykernel)",
   "language": "python",
   "name": "python3"
  },
  "language_info": {
   "codemirror_mode": {
    "name": "ipython",
    "version": 3
   },
   "file_extension": ".py",
   "mimetype": "text/x-python",
   "name": "python",
   "nbconvert_exporter": "python",
   "pygments_lexer": "ipython3",
   "version": "3.10.9"
  }
 },
 "nbformat": 4,
 "nbformat_minor": 5
}
