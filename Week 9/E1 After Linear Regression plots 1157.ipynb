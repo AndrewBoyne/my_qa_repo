{
 "cells": [
  {
   "cell_type": "code",
   "execution_count": 1,
   "id": "d0d958fc",
   "metadata": {},
   "outputs": [],
   "source": [
    "import pandas as pd\n",
    "from sklearn.model_selection import train_test_split\n",
    "import matplotlib.pyplot as plt\n",
    "import seaborn as sns"
   ]
  },
  {
   "cell_type": "code",
   "execution_count": 3,
   "id": "1dbc0f7a",
   "metadata": {},
   "outputs": [],
   "source": [
    "trip_counts = pd.read_csv(\"trip_counts.csv\")\n",
    "weather = pd.read_csv(\"weather.csv\")\n",
    "active_stations = pd.read_csv(\"active_stations.csv\")"
   ]
  },
  {
   "cell_type": "code",
   "execution_count": 9,
   "id": "6eb4a4dc",
   "metadata": {},
   "outputs": [
    {
     "data": {
      "text/html": [
       "<div>\n",
       "<style scoped>\n",
       "    .dataframe tbody tr th:only-of-type {\n",
       "        vertical-align: middle;\n",
       "    }\n",
       "\n",
       "    .dataframe tbody tr th {\n",
       "        vertical-align: top;\n",
       "    }\n",
       "\n",
       "    .dataframe thead th {\n",
       "        text-align: right;\n",
       "    }\n",
       "</style>\n",
       "<table border=\"1\" class=\"dataframe\">\n",
       "  <thead>\n",
       "    <tr style=\"text-align: right;\">\n",
       "      <th></th>\n",
       "      <th>Unnamed: 0</th>\n",
       "      <th>date</th>\n",
       "      <th>name</th>\n",
       "      <th>trip_count</th>\n",
       "    </tr>\n",
       "  </thead>\n",
       "  <tbody>\n",
       "    <tr>\n",
       "      <th>0</th>\n",
       "      <td>0</td>\n",
       "      <td>2014-10-13</td>\n",
       "      <td>12th Ave &amp; E Denny Way</td>\n",
       "      <td>12</td>\n",
       "    </tr>\n",
       "    <tr>\n",
       "      <th>1</th>\n",
       "      <td>1</td>\n",
       "      <td>2014-10-13</td>\n",
       "      <td>12th Ave &amp; E Mercer St</td>\n",
       "      <td>10</td>\n",
       "    </tr>\n",
       "    <tr>\n",
       "      <th>2</th>\n",
       "      <td>2</td>\n",
       "      <td>2014-10-13</td>\n",
       "      <td>12th Ave &amp; NE Campus Pkwy</td>\n",
       "      <td>12</td>\n",
       "    </tr>\n",
       "    <tr>\n",
       "      <th>3</th>\n",
       "      <td>3</td>\n",
       "      <td>2014-10-13</td>\n",
       "      <td>15th Ave E &amp; E Thomas St</td>\n",
       "      <td>22</td>\n",
       "    </tr>\n",
       "    <tr>\n",
       "      <th>4</th>\n",
       "      <td>4</td>\n",
       "      <td>2014-10-13</td>\n",
       "      <td>15th Ave NE &amp; NE 40th St</td>\n",
       "      <td>6</td>\n",
       "    </tr>\n",
       "  </tbody>\n",
       "</table>\n",
       "</div>"
      ],
      "text/plain": [
       "   Unnamed: 0        date                       name  trip_count\n",
       "0           0  2014-10-13     12th Ave & E Denny Way          12\n",
       "1           1  2014-10-13     12th Ave & E Mercer St          10\n",
       "2           2  2014-10-13  12th Ave & NE Campus Pkwy          12\n",
       "3           3  2014-10-13   15th Ave E & E Thomas St          22\n",
       "4           4  2014-10-13   15th Ave NE & NE 40th St           6"
      ]
     },
     "execution_count": 9,
     "metadata": {},
     "output_type": "execute_result"
    }
   ],
   "source": [
    "trip_counts.head()"
   ]
  },
  {
   "cell_type": "code",
   "execution_count": 8,
   "id": "46bf3198",
   "metadata": {},
   "outputs": [
    {
     "data": {
      "text/html": [
       "<div>\n",
       "<style scoped>\n",
       "    .dataframe tbody tr th:only-of-type {\n",
       "        vertical-align: middle;\n",
       "    }\n",
       "\n",
       "    .dataframe tbody tr th {\n",
       "        vertical-align: top;\n",
       "    }\n",
       "\n",
       "    .dataframe thead th {\n",
       "        text-align: right;\n",
       "    }\n",
       "</style>\n",
       "<table border=\"1\" class=\"dataframe\">\n",
       "  <thead>\n",
       "    <tr style=\"text-align: right;\">\n",
       "      <th></th>\n",
       "      <th>Unnamed: 0</th>\n",
       "      <th>date</th>\n",
       "      <th>mean_temperature_f</th>\n",
       "      <th>mean_wind_speed_mph</th>\n",
       "      <th>precipitation_in</th>\n",
       "      <th>events</th>\n",
       "    </tr>\n",
       "  </thead>\n",
       "  <tbody>\n",
       "    <tr>\n",
       "      <th>0</th>\n",
       "      <td>0</td>\n",
       "      <td>2014-10-13</td>\n",
       "      <td>62.0</td>\n",
       "      <td>4</td>\n",
       "      <td>0.00</td>\n",
       "      <td>Rain</td>\n",
       "    </tr>\n",
       "    <tr>\n",
       "      <th>1</th>\n",
       "      <td>1</td>\n",
       "      <td>2014-10-14</td>\n",
       "      <td>59.0</td>\n",
       "      <td>5</td>\n",
       "      <td>0.11</td>\n",
       "      <td>Rain</td>\n",
       "    </tr>\n",
       "    <tr>\n",
       "      <th>2</th>\n",
       "      <td>2</td>\n",
       "      <td>2014-10-15</td>\n",
       "      <td>58.0</td>\n",
       "      <td>7</td>\n",
       "      <td>0.45</td>\n",
       "      <td>Rain</td>\n",
       "    </tr>\n",
       "    <tr>\n",
       "      <th>3</th>\n",
       "      <td>3</td>\n",
       "      <td>2014-10-16</td>\n",
       "      <td>61.0</td>\n",
       "      <td>4</td>\n",
       "      <td>0.00</td>\n",
       "      <td>Rain</td>\n",
       "    </tr>\n",
       "    <tr>\n",
       "      <th>4</th>\n",
       "      <td>4</td>\n",
       "      <td>2014-10-17</td>\n",
       "      <td>60.0</td>\n",
       "      <td>3</td>\n",
       "      <td>0.14</td>\n",
       "      <td>Rain</td>\n",
       "    </tr>\n",
       "  </tbody>\n",
       "</table>\n",
       "</div>"
      ],
      "text/plain": [
       "   Unnamed: 0        date  mean_temperature_f  mean_wind_speed_mph  \\\n",
       "0           0  2014-10-13                62.0                    4   \n",
       "1           1  2014-10-14                59.0                    5   \n",
       "2           2  2014-10-15                58.0                    7   \n",
       "3           3  2014-10-16                61.0                    4   \n",
       "4           4  2014-10-17                60.0                    3   \n",
       "\n",
       "   precipitation_in events  \n",
       "0              0.00   Rain  \n",
       "1              0.11   Rain  \n",
       "2              0.45   Rain  \n",
       "3              0.00   Rain  \n",
       "4              0.14   Rain  "
      ]
     },
     "execution_count": 8,
     "metadata": {},
     "output_type": "execute_result"
    }
   ],
   "source": [
    "weather.head()"
   ]
  },
  {
   "cell_type": "code",
   "execution_count": 10,
   "id": "4ec27ddc",
   "metadata": {},
   "outputs": [
    {
     "data": {
      "text/plain": [
       "array(['Rain', nan, 'Rain , Snow', 'Fog', 'Fog , Rain',\n",
       "       'Rain , Thunderstorm', 'Fog-Rain', 'Snow', 'Rain-Thunderstorm',\n",
       "       'Rain-Snow'], dtype=object)"
      ]
     },
     "execution_count": 10,
     "metadata": {},
     "output_type": "execute_result"
    }
   ],
   "source": [
    "weather.events.unique()"
   ]
  },
  {
   "cell_type": "code",
   "execution_count": 7,
   "id": "ab83ba6b",
   "metadata": {},
   "outputs": [
    {
     "data": {
      "text/html": [
       "<div>\n",
       "<style scoped>\n",
       "    .dataframe tbody tr th:only-of-type {\n",
       "        vertical-align: middle;\n",
       "    }\n",
       "\n",
       "    .dataframe tbody tr th {\n",
       "        vertical-align: top;\n",
       "    }\n",
       "\n",
       "    .dataframe thead th {\n",
       "        text-align: right;\n",
       "    }\n",
       "</style>\n",
       "<table border=\"1\" class=\"dataframe\">\n",
       "  <thead>\n",
       "    <tr style=\"text-align: right;\">\n",
       "      <th></th>\n",
       "      <th>Unnamed: 0</th>\n",
       "      <th>station_id</th>\n",
       "      <th>name</th>\n",
       "    </tr>\n",
       "  </thead>\n",
       "  <tbody>\n",
       "    <tr>\n",
       "      <th>0</th>\n",
       "      <td>0</td>\n",
       "      <td>BT-01</td>\n",
       "      <td>3rd Ave &amp; Broad St</td>\n",
       "    </tr>\n",
       "    <tr>\n",
       "      <th>1</th>\n",
       "      <td>1</td>\n",
       "      <td>BT-03</td>\n",
       "      <td>2nd Ave &amp; Vine St</td>\n",
       "    </tr>\n",
       "    <tr>\n",
       "      <th>2</th>\n",
       "      <td>2</td>\n",
       "      <td>BT-04</td>\n",
       "      <td>6th Ave &amp; Blanchard St</td>\n",
       "    </tr>\n",
       "    <tr>\n",
       "      <th>3</th>\n",
       "      <td>3</td>\n",
       "      <td>BT-05</td>\n",
       "      <td>2nd Ave &amp; Blanchard St</td>\n",
       "    </tr>\n",
       "    <tr>\n",
       "      <th>4</th>\n",
       "      <td>4</td>\n",
       "      <td>CBD-03</td>\n",
       "      <td>7th Ave &amp; Union St</td>\n",
       "    </tr>\n",
       "  </tbody>\n",
       "</table>\n",
       "</div>"
      ],
      "text/plain": [
       "   Unnamed: 0 station_id                    name\n",
       "0           0      BT-01      3rd Ave & Broad St\n",
       "1           1      BT-03       2nd Ave & Vine St\n",
       "2           2      BT-04  6th Ave & Blanchard St\n",
       "3           3      BT-05  2nd Ave & Blanchard St\n",
       "4           4     CBD-03      7th Ave & Union St"
      ]
     },
     "execution_count": 7,
     "metadata": {},
     "output_type": "execute_result"
    }
   ],
   "source": [
    "active_stations.head()"
   ]
  },
  {
   "cell_type": "code",
   "execution_count": 11,
   "id": "667ce502",
   "metadata": {},
   "outputs": [],
   "source": [
    "weather['event_1']=weather['events'].str.split(r'\\W+').str.get(0)\n",
    "weather['event_2']=weather['events'].str.split(r'\\W+').str.get(1)"
   ]
  },
  {
   "cell_type": "code",
   "execution_count": 12,
   "id": "36fb5298",
   "metadata": {},
   "outputs": [
    {
     "data": {
      "text/html": [
       "<div>\n",
       "<style scoped>\n",
       "    .dataframe tbody tr th:only-of-type {\n",
       "        vertical-align: middle;\n",
       "    }\n",
       "\n",
       "    .dataframe tbody tr th {\n",
       "        vertical-align: top;\n",
       "    }\n",
       "\n",
       "    .dataframe thead th {\n",
       "        text-align: right;\n",
       "    }\n",
       "</style>\n",
       "<table border=\"1\" class=\"dataframe\">\n",
       "  <thead>\n",
       "    <tr style=\"text-align: right;\">\n",
       "      <th></th>\n",
       "      <th>Unnamed: 0</th>\n",
       "      <th>date</th>\n",
       "      <th>mean_temperature_f</th>\n",
       "      <th>mean_wind_speed_mph</th>\n",
       "      <th>precipitation_in</th>\n",
       "      <th>events</th>\n",
       "      <th>event_1</th>\n",
       "      <th>event_2</th>\n",
       "    </tr>\n",
       "  </thead>\n",
       "  <tbody>\n",
       "    <tr>\n",
       "      <th>0</th>\n",
       "      <td>0</td>\n",
       "      <td>2014-10-13</td>\n",
       "      <td>62.0</td>\n",
       "      <td>4</td>\n",
       "      <td>0.00</td>\n",
       "      <td>Rain</td>\n",
       "      <td>Rain</td>\n",
       "      <td>NaN</td>\n",
       "    </tr>\n",
       "    <tr>\n",
       "      <th>1</th>\n",
       "      <td>1</td>\n",
       "      <td>2014-10-14</td>\n",
       "      <td>59.0</td>\n",
       "      <td>5</td>\n",
       "      <td>0.11</td>\n",
       "      <td>Rain</td>\n",
       "      <td>Rain</td>\n",
       "      <td>NaN</td>\n",
       "    </tr>\n",
       "    <tr>\n",
       "      <th>2</th>\n",
       "      <td>2</td>\n",
       "      <td>2014-10-15</td>\n",
       "      <td>58.0</td>\n",
       "      <td>7</td>\n",
       "      <td>0.45</td>\n",
       "      <td>Rain</td>\n",
       "      <td>Rain</td>\n",
       "      <td>NaN</td>\n",
       "    </tr>\n",
       "    <tr>\n",
       "      <th>3</th>\n",
       "      <td>3</td>\n",
       "      <td>2014-10-16</td>\n",
       "      <td>61.0</td>\n",
       "      <td>4</td>\n",
       "      <td>0.00</td>\n",
       "      <td>Rain</td>\n",
       "      <td>Rain</td>\n",
       "      <td>NaN</td>\n",
       "    </tr>\n",
       "    <tr>\n",
       "      <th>4</th>\n",
       "      <td>4</td>\n",
       "      <td>2014-10-17</td>\n",
       "      <td>60.0</td>\n",
       "      <td>3</td>\n",
       "      <td>0.14</td>\n",
       "      <td>Rain</td>\n",
       "      <td>Rain</td>\n",
       "      <td>NaN</td>\n",
       "    </tr>\n",
       "  </tbody>\n",
       "</table>\n",
       "</div>"
      ],
      "text/plain": [
       "   Unnamed: 0        date  mean_temperature_f  mean_wind_speed_mph  \\\n",
       "0           0  2014-10-13                62.0                    4   \n",
       "1           1  2014-10-14                59.0                    5   \n",
       "2           2  2014-10-15                58.0                    7   \n",
       "3           3  2014-10-16                61.0                    4   \n",
       "4           4  2014-10-17                60.0                    3   \n",
       "\n",
       "   precipitation_in events event_1 event_2  \n",
       "0              0.00   Rain    Rain     NaN  \n",
       "1              0.11   Rain    Rain     NaN  \n",
       "2              0.45   Rain    Rain     NaN  \n",
       "3              0.00   Rain    Rain     NaN  \n",
       "4              0.14   Rain    Rain     NaN  "
      ]
     },
     "execution_count": 12,
     "metadata": {},
     "output_type": "execute_result"
    }
   ],
   "source": [
    "weather.head()"
   ]
  },
  {
   "cell_type": "code",
   "execution_count": 13,
   "id": "a778ae9d",
   "metadata": {},
   "outputs": [
    {
     "name": "stdout",
     "output_type": "stream",
     "text": [
      "<class 'pandas.core.frame.DataFrame'>\n",
      "RangeIndex: 689 entries, 0 to 688\n",
      "Data columns (total 8 columns):\n",
      " #   Column               Non-Null Count  Dtype  \n",
      "---  ------               --------------  -----  \n",
      " 0   Unnamed: 0           689 non-null    int64  \n",
      " 1   date                 689 non-null    object \n",
      " 2   mean_temperature_f   688 non-null    float64\n",
      " 3   mean_wind_speed_mph  689 non-null    int64  \n",
      " 4   precipitation_in     689 non-null    float64\n",
      " 5   events               328 non-null    object \n",
      " 6   event_1              328 non-null    object \n",
      " 7   event_2              23 non-null     object \n",
      "dtypes: float64(2), int64(2), object(4)\n",
      "memory usage: 43.2+ KB\n"
     ]
    }
   ],
   "source": [
    "weather.info()"
   ]
  },
  {
   "cell_type": "code",
   "execution_count": 14,
   "id": "a63302f4",
   "metadata": {},
   "outputs": [],
   "source": [
    "weather['date'] = pd.to_datetime(weather['date'])"
   ]
  },
  {
   "cell_type": "code",
   "execution_count": 15,
   "id": "8738385a",
   "metadata": {},
   "outputs": [
    {
     "name": "stdout",
     "output_type": "stream",
     "text": [
      "<class 'pandas.core.frame.DataFrame'>\n",
      "RangeIndex: 689 entries, 0 to 688\n",
      "Data columns (total 8 columns):\n",
      " #   Column               Non-Null Count  Dtype         \n",
      "---  ------               --------------  -----         \n",
      " 0   Unnamed: 0           689 non-null    int64         \n",
      " 1   date                 689 non-null    datetime64[ns]\n",
      " 2   mean_temperature_f   688 non-null    float64       \n",
      " 3   mean_wind_speed_mph  689 non-null    int64         \n",
      " 4   precipitation_in     689 non-null    float64       \n",
      " 5   events               328 non-null    object        \n",
      " 6   event_1              328 non-null    object        \n",
      " 7   event_2              23 non-null     object        \n",
      "dtypes: datetime64[ns](1), float64(2), int64(2), object(3)\n",
      "memory usage: 43.2+ KB\n"
     ]
    }
   ],
   "source": [
    "weather.info()"
   ]
  },
  {
   "cell_type": "code",
   "execution_count": 16,
   "id": "ece4d114",
   "metadata": {},
   "outputs": [
    {
     "data": {
      "text/html": [
       "<div>\n",
       "<style scoped>\n",
       "    .dataframe tbody tr th:only-of-type {\n",
       "        vertical-align: middle;\n",
       "    }\n",
       "\n",
       "    .dataframe tbody tr th {\n",
       "        vertical-align: top;\n",
       "    }\n",
       "\n",
       "    .dataframe thead th {\n",
       "        text-align: right;\n",
       "    }\n",
       "</style>\n",
       "<table border=\"1\" class=\"dataframe\">\n",
       "  <thead>\n",
       "    <tr style=\"text-align: right;\">\n",
       "      <th></th>\n",
       "      <th>Unnamed: 0</th>\n",
       "      <th>date</th>\n",
       "      <th>mean_temperature_f</th>\n",
       "      <th>mean_wind_speed_mph</th>\n",
       "      <th>precipitation_in</th>\n",
       "      <th>events</th>\n",
       "      <th>event_1</th>\n",
       "      <th>event_2</th>\n",
       "    </tr>\n",
       "  </thead>\n",
       "  <tbody>\n",
       "    <tr>\n",
       "      <th>0</th>\n",
       "      <td>0</td>\n",
       "      <td>2014-10-13</td>\n",
       "      <td>62.0</td>\n",
       "      <td>4</td>\n",
       "      <td>0.00</td>\n",
       "      <td>Rain</td>\n",
       "      <td>Rain</td>\n",
       "      <td>NaN</td>\n",
       "    </tr>\n",
       "    <tr>\n",
       "      <th>1</th>\n",
       "      <td>1</td>\n",
       "      <td>2014-10-14</td>\n",
       "      <td>59.0</td>\n",
       "      <td>5</td>\n",
       "      <td>0.11</td>\n",
       "      <td>Rain</td>\n",
       "      <td>Rain</td>\n",
       "      <td>NaN</td>\n",
       "    </tr>\n",
       "    <tr>\n",
       "      <th>2</th>\n",
       "      <td>2</td>\n",
       "      <td>2014-10-15</td>\n",
       "      <td>58.0</td>\n",
       "      <td>7</td>\n",
       "      <td>0.45</td>\n",
       "      <td>Rain</td>\n",
       "      <td>Rain</td>\n",
       "      <td>NaN</td>\n",
       "    </tr>\n",
       "    <tr>\n",
       "      <th>3</th>\n",
       "      <td>3</td>\n",
       "      <td>2014-10-16</td>\n",
       "      <td>61.0</td>\n",
       "      <td>4</td>\n",
       "      <td>0.00</td>\n",
       "      <td>Rain</td>\n",
       "      <td>Rain</td>\n",
       "      <td>NaN</td>\n",
       "    </tr>\n",
       "    <tr>\n",
       "      <th>4</th>\n",
       "      <td>4</td>\n",
       "      <td>2014-10-17</td>\n",
       "      <td>60.0</td>\n",
       "      <td>3</td>\n",
       "      <td>0.14</td>\n",
       "      <td>Rain</td>\n",
       "      <td>Rain</td>\n",
       "      <td>NaN</td>\n",
       "    </tr>\n",
       "  </tbody>\n",
       "</table>\n",
       "</div>"
      ],
      "text/plain": [
       "   Unnamed: 0       date  mean_temperature_f  mean_wind_speed_mph  \\\n",
       "0           0 2014-10-13                62.0                    4   \n",
       "1           1 2014-10-14                59.0                    5   \n",
       "2           2 2014-10-15                58.0                    7   \n",
       "3           3 2014-10-16                61.0                    4   \n",
       "4           4 2014-10-17                60.0                    3   \n",
       "\n",
       "   precipitation_in events event_1 event_2  \n",
       "0              0.00   Rain    Rain     NaN  \n",
       "1              0.11   Rain    Rain     NaN  \n",
       "2              0.45   Rain    Rain     NaN  \n",
       "3              0.00   Rain    Rain     NaN  \n",
       "4              0.14   Rain    Rain     NaN  "
      ]
     },
     "execution_count": 16,
     "metadata": {},
     "output_type": "execute_result"
    }
   ],
   "source": [
    "weather.head()"
   ]
  },
  {
   "cell_type": "code",
   "execution_count": 17,
   "id": "66bb8bd1",
   "metadata": {},
   "outputs": [],
   "source": [
    "weather.drop(['events'], axis=1, inplace=True)"
   ]
  },
  {
   "cell_type": "code",
   "execution_count": 31,
   "id": "dc55d5fe",
   "metadata": {},
   "outputs": [],
   "source": [
    "trip_counts.drop(['Unnamed: 0'], axis=1, inplace=True)"
   ]
  },
  {
   "cell_type": "code",
   "execution_count": 33,
   "id": "f4f6da95",
   "metadata": {},
   "outputs": [],
   "source": [
    "weather.drop(['Unnamed: 0'], axis=1, inplace=True)"
   ]
  },
  {
   "cell_type": "code",
   "execution_count": 34,
   "id": "ba95f253",
   "metadata": {},
   "outputs": [
    {
     "data": {
      "text/html": [
       "<div>\n",
       "<style scoped>\n",
       "    .dataframe tbody tr th:only-of-type {\n",
       "        vertical-align: middle;\n",
       "    }\n",
       "\n",
       "    .dataframe tbody tr th {\n",
       "        vertical-align: top;\n",
       "    }\n",
       "\n",
       "    .dataframe thead th {\n",
       "        text-align: right;\n",
       "    }\n",
       "</style>\n",
       "<table border=\"1\" class=\"dataframe\">\n",
       "  <thead>\n",
       "    <tr style=\"text-align: right;\">\n",
       "      <th></th>\n",
       "      <th>date</th>\n",
       "      <th>mean_temperature_f</th>\n",
       "      <th>mean_wind_speed_mph</th>\n",
       "      <th>precipitation_in</th>\n",
       "      <th>event_1</th>\n",
       "      <th>event_2</th>\n",
       "    </tr>\n",
       "  </thead>\n",
       "  <tbody>\n",
       "    <tr>\n",
       "      <th>0</th>\n",
       "      <td>2014-10-13</td>\n",
       "      <td>62.0</td>\n",
       "      <td>4</td>\n",
       "      <td>0.00</td>\n",
       "      <td>Rain</td>\n",
       "      <td>NaN</td>\n",
       "    </tr>\n",
       "    <tr>\n",
       "      <th>1</th>\n",
       "      <td>2014-10-14</td>\n",
       "      <td>59.0</td>\n",
       "      <td>5</td>\n",
       "      <td>0.11</td>\n",
       "      <td>Rain</td>\n",
       "      <td>NaN</td>\n",
       "    </tr>\n",
       "    <tr>\n",
       "      <th>2</th>\n",
       "      <td>2014-10-15</td>\n",
       "      <td>58.0</td>\n",
       "      <td>7</td>\n",
       "      <td>0.45</td>\n",
       "      <td>Rain</td>\n",
       "      <td>NaN</td>\n",
       "    </tr>\n",
       "    <tr>\n",
       "      <th>3</th>\n",
       "      <td>2014-10-16</td>\n",
       "      <td>61.0</td>\n",
       "      <td>4</td>\n",
       "      <td>0.00</td>\n",
       "      <td>Rain</td>\n",
       "      <td>NaN</td>\n",
       "    </tr>\n",
       "    <tr>\n",
       "      <th>4</th>\n",
       "      <td>2014-10-17</td>\n",
       "      <td>60.0</td>\n",
       "      <td>3</td>\n",
       "      <td>0.14</td>\n",
       "      <td>Rain</td>\n",
       "      <td>NaN</td>\n",
       "    </tr>\n",
       "  </tbody>\n",
       "</table>\n",
       "</div>"
      ],
      "text/plain": [
       "        date  mean_temperature_f  mean_wind_speed_mph  precipitation_in  \\\n",
       "0 2014-10-13                62.0                    4              0.00   \n",
       "1 2014-10-14                59.0                    5              0.11   \n",
       "2 2014-10-15                58.0                    7              0.45   \n",
       "3 2014-10-16                61.0                    4              0.00   \n",
       "4 2014-10-17                60.0                    3              0.14   \n",
       "\n",
       "  event_1 event_2  \n",
       "0    Rain     NaN  \n",
       "1    Rain     NaN  \n",
       "2    Rain     NaN  \n",
       "3    Rain     NaN  \n",
       "4    Rain     NaN  "
      ]
     },
     "execution_count": 34,
     "metadata": {},
     "output_type": "execute_result"
    }
   ],
   "source": [
    "weather.head()"
   ]
  },
  {
   "cell_type": "code",
   "execution_count": 35,
   "id": "cd31af0f",
   "metadata": {},
   "outputs": [
    {
     "name": "stdout",
     "output_type": "stream",
     "text": [
      "<class 'pandas.core.frame.DataFrame'>\n",
      "RangeIndex: 32751 entries, 0 to 32750\n",
      "Data columns (total 3 columns):\n",
      " #   Column      Non-Null Count  Dtype         \n",
      "---  ------      --------------  -----         \n",
      " 0   date        32751 non-null  datetime64[ns]\n",
      " 1   name        32751 non-null  object        \n",
      " 2   trip_count  32751 non-null  int64         \n",
      "dtypes: datetime64[ns](1), int64(1), object(1)\n",
      "memory usage: 767.7+ KB\n"
     ]
    }
   ],
   "source": [
    "trip_counts.info()"
   ]
  },
  {
   "cell_type": "code",
   "execution_count": 36,
   "id": "3c3f1bd0",
   "metadata": {},
   "outputs": [],
   "source": [
    "trips_weather=trip_counts.merge(weather, how='outer',on='date')"
   ]
  },
  {
   "cell_type": "code",
   "execution_count": 37,
   "id": "cb1dac3e",
   "metadata": {},
   "outputs": [
    {
     "data": {
      "text/html": [
       "<div>\n",
       "<style scoped>\n",
       "    .dataframe tbody tr th:only-of-type {\n",
       "        vertical-align: middle;\n",
       "    }\n",
       "\n",
       "    .dataframe tbody tr th {\n",
       "        vertical-align: top;\n",
       "    }\n",
       "\n",
       "    .dataframe thead th {\n",
       "        text-align: right;\n",
       "    }\n",
       "</style>\n",
       "<table border=\"1\" class=\"dataframe\">\n",
       "  <thead>\n",
       "    <tr style=\"text-align: right;\">\n",
       "      <th></th>\n",
       "      <th>date</th>\n",
       "      <th>name</th>\n",
       "      <th>trip_count</th>\n",
       "      <th>mean_temperature_f</th>\n",
       "      <th>mean_wind_speed_mph</th>\n",
       "      <th>precipitation_in</th>\n",
       "      <th>event_1</th>\n",
       "      <th>event_2</th>\n",
       "    </tr>\n",
       "  </thead>\n",
       "  <tbody>\n",
       "    <tr>\n",
       "      <th>0</th>\n",
       "      <td>2014-10-13</td>\n",
       "      <td>12th Ave &amp; E Denny Way</td>\n",
       "      <td>12</td>\n",
       "      <td>62.0</td>\n",
       "      <td>4</td>\n",
       "      <td>0.0</td>\n",
       "      <td>Rain</td>\n",
       "      <td>NaN</td>\n",
       "    </tr>\n",
       "    <tr>\n",
       "      <th>1</th>\n",
       "      <td>2014-10-13</td>\n",
       "      <td>12th Ave &amp; E Mercer St</td>\n",
       "      <td>10</td>\n",
       "      <td>62.0</td>\n",
       "      <td>4</td>\n",
       "      <td>0.0</td>\n",
       "      <td>Rain</td>\n",
       "      <td>NaN</td>\n",
       "    </tr>\n",
       "    <tr>\n",
       "      <th>2</th>\n",
       "      <td>2014-10-13</td>\n",
       "      <td>12th Ave &amp; NE Campus Pkwy</td>\n",
       "      <td>12</td>\n",
       "      <td>62.0</td>\n",
       "      <td>4</td>\n",
       "      <td>0.0</td>\n",
       "      <td>Rain</td>\n",
       "      <td>NaN</td>\n",
       "    </tr>\n",
       "    <tr>\n",
       "      <th>3</th>\n",
       "      <td>2014-10-13</td>\n",
       "      <td>15th Ave E &amp; E Thomas St</td>\n",
       "      <td>22</td>\n",
       "      <td>62.0</td>\n",
       "      <td>4</td>\n",
       "      <td>0.0</td>\n",
       "      <td>Rain</td>\n",
       "      <td>NaN</td>\n",
       "    </tr>\n",
       "    <tr>\n",
       "      <th>4</th>\n",
       "      <td>2014-10-13</td>\n",
       "      <td>15th Ave NE &amp; NE 40th St</td>\n",
       "      <td>6</td>\n",
       "      <td>62.0</td>\n",
       "      <td>4</td>\n",
       "      <td>0.0</td>\n",
       "      <td>Rain</td>\n",
       "      <td>NaN</td>\n",
       "    </tr>\n",
       "    <tr>\n",
       "      <th>...</th>\n",
       "      <td>...</td>\n",
       "      <td>...</td>\n",
       "      <td>...</td>\n",
       "      <td>...</td>\n",
       "      <td>...</td>\n",
       "      <td>...</td>\n",
       "      <td>...</td>\n",
       "      <td>...</td>\n",
       "    </tr>\n",
       "    <tr>\n",
       "      <th>32746</th>\n",
       "      <td>2016-08-31</td>\n",
       "      <td>Summit Ave E &amp; E Republican St</td>\n",
       "      <td>11</td>\n",
       "      <td>65.0</td>\n",
       "      <td>8</td>\n",
       "      <td>0.0</td>\n",
       "      <td>Rain</td>\n",
       "      <td>NaN</td>\n",
       "    </tr>\n",
       "    <tr>\n",
       "      <th>32747</th>\n",
       "      <td>2016-08-31</td>\n",
       "      <td>Terry Ave &amp; Stewart St</td>\n",
       "      <td>5</td>\n",
       "      <td>65.0</td>\n",
       "      <td>8</td>\n",
       "      <td>0.0</td>\n",
       "      <td>Rain</td>\n",
       "      <td>NaN</td>\n",
       "    </tr>\n",
       "    <tr>\n",
       "      <th>32748</th>\n",
       "      <td>2016-08-31</td>\n",
       "      <td>Thomas St &amp; 5th Ave N</td>\n",
       "      <td>5</td>\n",
       "      <td>65.0</td>\n",
       "      <td>8</td>\n",
       "      <td>0.0</td>\n",
       "      <td>Rain</td>\n",
       "      <td>NaN</td>\n",
       "    </tr>\n",
       "    <tr>\n",
       "      <th>32749</th>\n",
       "      <td>2016-08-31</td>\n",
       "      <td>Union St &amp; 4th Ave</td>\n",
       "      <td>5</td>\n",
       "      <td>65.0</td>\n",
       "      <td>8</td>\n",
       "      <td>0.0</td>\n",
       "      <td>Rain</td>\n",
       "      <td>NaN</td>\n",
       "    </tr>\n",
       "    <tr>\n",
       "      <th>32750</th>\n",
       "      <td>2016-08-31</td>\n",
       "      <td>Westlake Ave &amp; 6th Ave</td>\n",
       "      <td>9</td>\n",
       "      <td>65.0</td>\n",
       "      <td>8</td>\n",
       "      <td>0.0</td>\n",
       "      <td>Rain</td>\n",
       "      <td>NaN</td>\n",
       "    </tr>\n",
       "  </tbody>\n",
       "</table>\n",
       "<p>32751 rows × 8 columns</p>\n",
       "</div>"
      ],
      "text/plain": [
       "            date                            name  trip_count  \\\n",
       "0     2014-10-13          12th Ave & E Denny Way          12   \n",
       "1     2014-10-13          12th Ave & E Mercer St          10   \n",
       "2     2014-10-13       12th Ave & NE Campus Pkwy          12   \n",
       "3     2014-10-13        15th Ave E & E Thomas St          22   \n",
       "4     2014-10-13        15th Ave NE & NE 40th St           6   \n",
       "...          ...                             ...         ...   \n",
       "32746 2016-08-31  Summit Ave E & E Republican St          11   \n",
       "32747 2016-08-31          Terry Ave & Stewart St           5   \n",
       "32748 2016-08-31           Thomas St & 5th Ave N           5   \n",
       "32749 2016-08-31              Union St & 4th Ave           5   \n",
       "32750 2016-08-31          Westlake Ave & 6th Ave           9   \n",
       "\n",
       "       mean_temperature_f  mean_wind_speed_mph  precipitation_in event_1  \\\n",
       "0                    62.0                    4               0.0    Rain   \n",
       "1                    62.0                    4               0.0    Rain   \n",
       "2                    62.0                    4               0.0    Rain   \n",
       "3                    62.0                    4               0.0    Rain   \n",
       "4                    62.0                    4               0.0    Rain   \n",
       "...                   ...                  ...               ...     ...   \n",
       "32746                65.0                    8               0.0    Rain   \n",
       "32747                65.0                    8               0.0    Rain   \n",
       "32748                65.0                    8               0.0    Rain   \n",
       "32749                65.0                    8               0.0    Rain   \n",
       "32750                65.0                    8               0.0    Rain   \n",
       "\n",
       "      event_2  \n",
       "0         NaN  \n",
       "1         NaN  \n",
       "2         NaN  \n",
       "3         NaN  \n",
       "4         NaN  \n",
       "...       ...  \n",
       "32746     NaN  \n",
       "32747     NaN  \n",
       "32748     NaN  \n",
       "32749     NaN  \n",
       "32750     NaN  \n",
       "\n",
       "[32751 rows x 8 columns]"
      ]
     },
     "execution_count": 37,
     "metadata": {},
     "output_type": "execute_result"
    }
   ],
   "source": [
    "trips_weather"
   ]
  },
  {
   "cell_type": "code",
   "execution_count": 40,
   "id": "253d0930",
   "metadata": {},
   "outputs": [],
   "source": [
    "\n",
    "trips_weather = pd.get_dummies(trips_weather, columns=['name', 'event_1', 'event_2'])"
   ]
  },
  {
   "cell_type": "code",
   "execution_count": 64,
   "id": "57b23ab1",
   "metadata": {},
   "outputs": [],
   "source": [
    "trips_weather.fillna(0, inplace=True)"
   ]
  },
  {
   "cell_type": "code",
   "execution_count": 65,
   "id": "07ac3cc8",
   "metadata": {},
   "outputs": [
    {
     "name": "stdout",
     "output_type": "stream",
     "text": [
      "<class 'pandas.core.frame.DataFrame'>\n",
      "Int64Index: 32751 entries, 0 to 32750\n",
      "Data columns (total 72 columns):\n",
      " #   Column                                                                       Non-Null Count  Dtype         \n",
      "---  ------                                                                       --------------  -----         \n",
      " 0   date                                                                         32751 non-null  datetime64[ns]\n",
      " 1   trip_count                                                                   32751 non-null  int64         \n",
      " 2   mean_temperature_f                                                           32751 non-null  float64       \n",
      " 3   mean_wind_speed_mph                                                          32751 non-null  int64         \n",
      " 4   precipitation_in                                                             32751 non-null  float64       \n",
      " 5   name_12th Ave & E Denny Way                                                  32751 non-null  uint8         \n",
      " 6   name_12th Ave & E Mercer St                                                  32751 non-null  uint8         \n",
      " 7   name_12th Ave & E Yesler Way                                                 32751 non-null  uint8         \n",
      " 8   name_12th Ave & NE Campus Pkwy                                               32751 non-null  uint8         \n",
      " 9   name_15th Ave E & E Thomas St                                                32751 non-null  uint8         \n",
      " 10  name_15th Ave NE & NE 40th St                                                32751 non-null  uint8         \n",
      " 11  name_1st Ave & Marion St                                                     32751 non-null  uint8         \n",
      " 12  name_2nd Ave & Blanchard St                                                  32751 non-null  uint8         \n",
      " 13  name_2nd Ave & Pine St                                                       32751 non-null  uint8         \n",
      " 14  name_2nd Ave & Spring St                                                     32751 non-null  uint8         \n",
      " 15  name_2nd Ave & Vine St                                                       32751 non-null  uint8         \n",
      " 16  name_3rd Ave & Broad St                                                      32751 non-null  uint8         \n",
      " 17  name_6th Ave & Blanchard St                                                  32751 non-null  uint8         \n",
      " 18  name_6th Ave S & S King St                                                   32751 non-null  uint8         \n",
      " 19  name_7th Ave & Union St                                                      32751 non-null  uint8         \n",
      " 20  name_8D OPS 02                                                               32751 non-null  uint8         \n",
      " 21  name_9th Ave N & Mercer St                                                   32751 non-null  uint8         \n",
      " 22  name_Bellevue Ave & E Pine St                                                32751 non-null  uint8         \n",
      " 23  name_Broadway and E Denny Way                                                32751 non-null  uint8         \n",
      " 24  name_Burke Museum / E Stevens Way NE & Memorial Way NE                       32751 non-null  uint8         \n",
      " 25  name_Burke-Gilman Trail / NE Blakeley St & 24th Ave NE                       32751 non-null  uint8         \n",
      " 26  name_Cal Anderson Park / 11th Ave & Pine St                                  32751 non-null  uint8         \n",
      " 27  name_Children's Hospital / Sandpoint Way NE & 40th Ave NE                    32751 non-null  uint8         \n",
      " 28  name_City Hall / 4th Ave & James St                                          32751 non-null  uint8         \n",
      " 29  name_Dexter Ave & Denny Way                                                  32751 non-null  uint8         \n",
      " 30  name_Dexter Ave N & Aloha St                                                 32751 non-null  uint8         \n",
      " 31  name_E Blaine St & Fairview Ave E                                            32751 non-null  uint8         \n",
      " 32  name_E Harrison St & Broadway Ave E                                          32751 non-null  uint8         \n",
      " 33  name_E Pine St & 16th Ave                                                    32751 non-null  uint8         \n",
      " 34  name_Eastlake Ave E & E Allison St                                           32751 non-null  uint8         \n",
      " 35  name_Fred Hutchinson Cancer Research Center / Fairview Ave N & Ward St       32751 non-null  uint8         \n",
      " 36  name_Frye Art Museum / Terry Ave & Columbia St                               32751 non-null  uint8         \n",
      " 37  name_Harvard Ave & E Pine St                                                 32751 non-null  uint8         \n",
      " 38  name_Key Arena / 1st Ave N & Harrison St                                     32751 non-null  uint8         \n",
      " 39  name_King Street Station Plaza / 2nd Ave Extension S & S Jackson St          32751 non-null  uint8         \n",
      " 40  name_Lake Union Park / Valley St & Boren Ave N                               32751 non-null  uint8         \n",
      " 41  name_Mercer St & 9th Ave N                                                   32751 non-null  uint8         \n",
      " 42  name_NE 42nd St & University Way NE                                          32751 non-null  uint8         \n",
      " 43  name_NE 47th St & 12th Ave NE                                                32751 non-null  uint8         \n",
      " 44  name_NE Pacific St/UW Medical Center                                         32751 non-null  uint8         \n",
      " 45  name_Occidental Park / Occidental Ave S & S Washington St                    32751 non-null  uint8         \n",
      " 46  name_PATH / 9th Ave & Westlake Ave                                           32751 non-null  uint8         \n",
      " 47  name_Pier 66 / Alaskan Way & Bell St                                         32751 non-null  uint8         \n",
      " 48  name_Pier 69 / Alaskan Way & Clay St                                         32751 non-null  uint8         \n",
      " 49  name_Pine St & 9th Ave                                                       32751 non-null  uint8         \n",
      " 50  name_Pronto shop                                                             32751 non-null  uint8         \n",
      " 51  name_Pronto shop 2                                                           32751 non-null  uint8         \n",
      " 52  name_REI / Yale Ave N & John St                                              32751 non-null  uint8         \n",
      " 53  name_Republican St & Westlake Ave N                                          32751 non-null  uint8         \n",
      " 54  name_Seattle Aquarium / Alaskan Way S & Elliott Bay Trail                    32751 non-null  uint8         \n",
      " 55  name_Seattle University / E Columbia St & 12th Ave                           32751 non-null  uint8         \n",
      " 56  name_Summit Ave & E Denny Way                                                32751 non-null  uint8         \n",
      " 57  name_Summit Ave E & E Republican St                                          32751 non-null  uint8         \n",
      " 58  name_Terry Ave & Stewart St                                                  32751 non-null  uint8         \n",
      " 59  name_Thomas St & 5th Ave N                                                   32751 non-null  uint8         \n",
      " 60  name_UW Engineering Library / E Stevens Way NE & Jefferson Rd                32751 non-null  uint8         \n",
      " 61  name_UW Intramural Activities Building                                       32751 non-null  uint8         \n",
      " 62  name_UW Magnuson Health Sciences Center Rotunda / Columbia Rd & San Juan Rd  32751 non-null  uint8         \n",
      " 63  name_UW McCarty Hall / Whitman Ct                                            32751 non-null  uint8         \n",
      " 64  name_Union St & 4th Ave                                                      32751 non-null  uint8         \n",
      " 65  name_Westlake Ave & 6th Ave                                                  32751 non-null  uint8         \n",
      " 66  event_1_Fog                                                                  32751 non-null  uint8         \n",
      " 67  event_1_Rain                                                                 32751 non-null  uint8         \n",
      " 68  event_1_Snow                                                                 32751 non-null  uint8         \n",
      " 69  event_2_Rain                                                                 32751 non-null  uint8         \n",
      " 70  event_2_Snow                                                                 32751 non-null  uint8         \n",
      " 71  event_2_Thunderstorm                                                         32751 non-null  uint8         \n",
      "dtypes: datetime64[ns](1), float64(2), int64(2), uint8(67)\n",
      "memory usage: 3.6 MB\n"
     ]
    }
   ],
   "source": [
    "trips_weather.info()"
   ]
  },
  {
   "cell_type": "code",
   "execution_count": 66,
   "id": "ece39d0c",
   "metadata": {},
   "outputs": [
    {
     "data": {
      "text/plain": [
       "Index(['date', 'trip_count', 'mean_temperature_f', 'mean_wind_speed_mph',\n",
       "       'precipitation_in', 'name_12th Ave & E Denny Way',\n",
       "       'name_12th Ave & E Mercer St', 'name_12th Ave & E Yesler Way',\n",
       "       'name_12th Ave & NE Campus Pkwy', 'name_15th Ave E & E Thomas St',\n",
       "       'name_15th Ave NE & NE 40th St', 'name_1st Ave & Marion St',\n",
       "       'name_2nd Ave & Blanchard St', 'name_2nd Ave & Pine St',\n",
       "       'name_2nd Ave & Spring St', 'name_2nd Ave & Vine St',\n",
       "       'name_3rd Ave & Broad St', 'name_6th Ave & Blanchard St',\n",
       "       'name_6th Ave S & S King St', 'name_7th Ave & Union St',\n",
       "       'name_8D OPS 02', 'name_9th Ave N & Mercer St',\n",
       "       'name_Bellevue Ave & E Pine St', 'name_Broadway and E Denny Way',\n",
       "       'name_Burke Museum / E Stevens Way NE & Memorial Way NE',\n",
       "       'name_Burke-Gilman Trail / NE Blakeley St & 24th Ave NE',\n",
       "       'name_Cal Anderson Park / 11th Ave & Pine St',\n",
       "       'name_Children's Hospital / Sandpoint Way NE & 40th Ave NE',\n",
       "       'name_City Hall / 4th Ave & James St', 'name_Dexter Ave & Denny Way',\n",
       "       'name_Dexter Ave N & Aloha St', 'name_E Blaine St & Fairview Ave E',\n",
       "       'name_E Harrison St & Broadway Ave E', 'name_E Pine St & 16th Ave',\n",
       "       'name_Eastlake Ave E & E Allison St',\n",
       "       'name_Fred Hutchinson Cancer Research Center / Fairview Ave N & Ward St',\n",
       "       'name_Frye Art Museum / Terry Ave & Columbia St',\n",
       "       'name_Harvard Ave & E Pine St',\n",
       "       'name_Key Arena / 1st Ave N & Harrison St',\n",
       "       'name_King Street Station Plaza / 2nd Ave Extension S & S Jackson St',\n",
       "       'name_Lake Union Park / Valley St & Boren Ave N',\n",
       "       'name_Mercer St & 9th Ave N', 'name_NE 42nd St & University Way NE',\n",
       "       'name_NE 47th St & 12th Ave NE', 'name_NE Pacific St/UW Medical Center',\n",
       "       'name_Occidental Park / Occidental Ave S & S Washington St',\n",
       "       'name_PATH / 9th Ave & Westlake Ave',\n",
       "       'name_Pier 66 / Alaskan Way & Bell St',\n",
       "       'name_Pier 69 / Alaskan Way & Clay St', 'name_Pine St & 9th Ave',\n",
       "       'name_Pronto shop', 'name_Pronto shop 2',\n",
       "       'name_REI / Yale Ave N & John St',\n",
       "       'name_Republican St & Westlake Ave N',\n",
       "       'name_Seattle Aquarium / Alaskan Way S & Elliott Bay Trail',\n",
       "       'name_Seattle University / E Columbia St & 12th Ave',\n",
       "       'name_Summit Ave & E Denny Way', 'name_Summit Ave E & E Republican St',\n",
       "       'name_Terry Ave & Stewart St', 'name_Thomas St & 5th Ave N',\n",
       "       'name_UW Engineering Library / E Stevens Way NE & Jefferson Rd',\n",
       "       'name_UW Intramural Activities Building',\n",
       "       'name_UW Magnuson Health Sciences Center Rotunda / Columbia Rd & San Juan Rd',\n",
       "       'name_UW McCarty Hall / Whitman Ct', 'name_Union St & 4th Ave',\n",
       "       'name_Westlake Ave & 6th Ave', 'event_1_Fog', 'event_1_Rain',\n",
       "       'event_1_Snow', 'event_2_Rain', 'event_2_Snow', 'event_2_Thunderstorm'],\n",
       "      dtype='object')"
      ]
     },
     "execution_count": 66,
     "metadata": {},
     "output_type": "execute_result"
    }
   ],
   "source": [
    "trips_weather.columns\n",
    "\n"
   ]
  },
  {
   "cell_type": "code",
   "execution_count": 138,
   "id": "40e852b4",
   "metadata": {},
   "outputs": [],
   "source": [
    "cols=[ 'mean_temperature_f', 'mean_wind_speed_mph',\n",
    "       'precipitation_in', 'name_12th Ave & E Denny Way',\n",
    "       'name_12th Ave & E Mercer St', 'name_12th Ave & E Yesler Way',\n",
    "       'name_12th Ave & NE Campus Pkwy', 'name_15th Ave E & E Thomas St',\n",
    "       'name_15th Ave NE & NE 40th St', 'name_1st Ave & Marion St',\n",
    "       'name_2nd Ave & Blanchard St', 'name_2nd Ave & Pine St',\n",
    "       'name_2nd Ave & Spring St', 'name_2nd Ave & Vine St',\n",
    "       'name_3rd Ave & Broad St', 'name_6th Ave & Blanchard St',\n",
    "       'name_6th Ave S & S King St', 'name_7th Ave & Union St',\n",
    "       'name_8D OPS 02', 'name_9th Ave N & Mercer St',\n",
    "       'name_Bellevue Ave & E Pine St', 'name_Broadway and E Denny Way',\n",
    "       'name_Burke Museum / E Stevens Way NE & Memorial Way NE',\n",
    "       'name_Burke-Gilman Trail / NE Blakeley St & 24th Ave NE',\n",
    "       'name_Cal Anderson Park / 11th Ave & Pine St',\n",
    "       \"name_Children's Hospital / Sandpoint Way NE & 40th Ave NE\",\n",
    "       'name_City Hall / 4th Ave & James St', 'name_Dexter Ave & Denny Way',\n",
    "       'name_Dexter Ave N & Aloha St', 'name_E Blaine St & Fairview Ave E',\n",
    "       'name_E Harrison St & Broadway Ave E', 'name_E Pine St & 16th Ave',\n",
    "       'name_Eastlake Ave E & E Allison St',\n",
    "       'name_Fred Hutchinson Cancer Research Center / Fairview Ave N & Ward St',\n",
    "       'name_Frye Art Museum / Terry Ave & Columbia St',\n",
    "       'name_Harvard Ave & E Pine St',\n",
    "       'name_Key Arena / 1st Ave N & Harrison St',\n",
    "       'name_King Street Station Plaza / 2nd Ave Extension S & S Jackson St',\n",
    "       'name_Lake Union Park / Valley St & Boren Ave N',\n",
    "       'name_Mercer St & 9th Ave N', 'name_NE 42nd St & University Way NE',\n",
    "       'name_NE 47th St & 12th Ave NE', 'name_NE Pacific St/UW Medical Center',\n",
    "       'name_Occidental Park / Occidental Ave S & S Washington St',\n",
    "       'name_PATH / 9th Ave & Westlake Ave',\n",
    "       'name_Pier 66 / Alaskan Way & Bell St',\n",
    "       'name_Pier 69 / Alaskan Way & Clay St', 'name_Pine St & 9th Ave',\n",
    "       'name_Pronto shop', 'name_Pronto shop 2',\n",
    "       'name_REI / Yale Ave N & John St',\n",
    "       'name_Republican St & Westlake Ave N',\n",
    "       'name_Seattle Aquarium / Alaskan Way S & Elliott Bay Trail',\n",
    "       'name_Seattle University / E Columbia St & 12th Ave',\n",
    "       'name_Summit Ave & E Denny Way', 'name_Summit Ave E & E Republican St',\n",
    "       'name_Terry Ave & Stewart St', 'name_Thomas St & 5th Ave N',\n",
    "       'name_UW Engineering Library / E Stevens Way NE & Jefferson Rd',\n",
    "       'name_UW Intramural Activities Building',\n",
    "       'name_UW Magnuson Health Sciences Center Rotunda / Columbia Rd & San Juan Rd',\n",
    "       'name_UW McCarty Hall / Whitman Ct', 'name_Union St & 4th Ave',\n",
    "       'name_Westlake Ave & 6th Ave', 'event_1_Fog', 'event_1_Rain',\n",
    "       'event_1_Snow', 'event_2_Rain', 'event_2_Snow', 'event_2_Thunderstorm']"
   ]
  },
  {
   "cell_type": "code",
   "execution_count": 139,
   "id": "7e68d26e",
   "metadata": {},
   "outputs": [],
   "source": [
    "X_train, X_test, y_train, y_test = train_test_split(trips_weather[cols],\n",
    "                                                    trips_weather['trip_count'],\n",
    "                                                    test_size=0.30,\n",
    "                                                    random_state =42)"
   ]
  },
  {
   "cell_type": "code",
   "execution_count": 140,
   "id": "8cb5017c",
   "metadata": {},
   "outputs": [],
   "source": [
    "model=LinearRegression()"
   ]
  },
  {
   "cell_type": "code",
   "execution_count": 141,
   "id": "7280214f",
   "metadata": {},
   "outputs": [
    {
     "data": {
      "text/html": [
       "<style>#sk-container-id-6 {color: black;background-color: white;}#sk-container-id-6 pre{padding: 0;}#sk-container-id-6 div.sk-toggleable {background-color: white;}#sk-container-id-6 label.sk-toggleable__label {cursor: pointer;display: block;width: 100%;margin-bottom: 0;padding: 0.3em;box-sizing: border-box;text-align: center;}#sk-container-id-6 label.sk-toggleable__label-arrow:before {content: \"▸\";float: left;margin-right: 0.25em;color: #696969;}#sk-container-id-6 label.sk-toggleable__label-arrow:hover:before {color: black;}#sk-container-id-6 div.sk-estimator:hover label.sk-toggleable__label-arrow:before {color: black;}#sk-container-id-6 div.sk-toggleable__content {max-height: 0;max-width: 0;overflow: hidden;text-align: left;background-color: #f0f8ff;}#sk-container-id-6 div.sk-toggleable__content pre {margin: 0.2em;color: black;border-radius: 0.25em;background-color: #f0f8ff;}#sk-container-id-6 input.sk-toggleable__control:checked~div.sk-toggleable__content {max-height: 200px;max-width: 100%;overflow: auto;}#sk-container-id-6 input.sk-toggleable__control:checked~label.sk-toggleable__label-arrow:before {content: \"▾\";}#sk-container-id-6 div.sk-estimator input.sk-toggleable__control:checked~label.sk-toggleable__label {background-color: #d4ebff;}#sk-container-id-6 div.sk-label input.sk-toggleable__control:checked~label.sk-toggleable__label {background-color: #d4ebff;}#sk-container-id-6 input.sk-hidden--visually {border: 0;clip: rect(1px 1px 1px 1px);clip: rect(1px, 1px, 1px, 1px);height: 1px;margin: -1px;overflow: hidden;padding: 0;position: absolute;width: 1px;}#sk-container-id-6 div.sk-estimator {font-family: monospace;background-color: #f0f8ff;border: 1px dotted black;border-radius: 0.25em;box-sizing: border-box;margin-bottom: 0.5em;}#sk-container-id-6 div.sk-estimator:hover {background-color: #d4ebff;}#sk-container-id-6 div.sk-parallel-item::after {content: \"\";width: 100%;border-bottom: 1px solid gray;flex-grow: 1;}#sk-container-id-6 div.sk-label:hover label.sk-toggleable__label {background-color: #d4ebff;}#sk-container-id-6 div.sk-serial::before {content: \"\";position: absolute;border-left: 1px solid gray;box-sizing: border-box;top: 0;bottom: 0;left: 50%;z-index: 0;}#sk-container-id-6 div.sk-serial {display: flex;flex-direction: column;align-items: center;background-color: white;padding-right: 0.2em;padding-left: 0.2em;position: relative;}#sk-container-id-6 div.sk-item {position: relative;z-index: 1;}#sk-container-id-6 div.sk-parallel {display: flex;align-items: stretch;justify-content: center;background-color: white;position: relative;}#sk-container-id-6 div.sk-item::before, #sk-container-id-6 div.sk-parallel-item::before {content: \"\";position: absolute;border-left: 1px solid gray;box-sizing: border-box;top: 0;bottom: 0;left: 50%;z-index: -1;}#sk-container-id-6 div.sk-parallel-item {display: flex;flex-direction: column;z-index: 1;position: relative;background-color: white;}#sk-container-id-6 div.sk-parallel-item:first-child::after {align-self: flex-end;width: 50%;}#sk-container-id-6 div.sk-parallel-item:last-child::after {align-self: flex-start;width: 50%;}#sk-container-id-6 div.sk-parallel-item:only-child::after {width: 0;}#sk-container-id-6 div.sk-dashed-wrapped {border: 1px dashed gray;margin: 0 0.4em 0.5em 0.4em;box-sizing: border-box;padding-bottom: 0.4em;background-color: white;}#sk-container-id-6 div.sk-label label {font-family: monospace;font-weight: bold;display: inline-block;line-height: 1.2em;}#sk-container-id-6 div.sk-label-container {text-align: center;}#sk-container-id-6 div.sk-container {/* jupyter's `normalize.less` sets `[hidden] { display: none; }` but bootstrap.min.css set `[hidden] { display: none !important; }` so we also need the `!important` here to be able to override the default hidden behavior on the sphinx rendered scikit-learn.org. See: https://github.com/scikit-learn/scikit-learn/issues/21755 */display: inline-block !important;position: relative;}#sk-container-id-6 div.sk-text-repr-fallback {display: none;}</style><div id=\"sk-container-id-6\" class=\"sk-top-container\"><div class=\"sk-text-repr-fallback\"><pre>LinearRegression()</pre><b>In a Jupyter environment, please rerun this cell to show the HTML representation or trust the notebook. <br />On GitHub, the HTML representation is unable to render, please try loading this page with nbviewer.org.</b></div><div class=\"sk-container\" hidden><div class=\"sk-item\"><div class=\"sk-estimator sk-toggleable\"><input class=\"sk-toggleable__control sk-hidden--visually\" id=\"sk-estimator-id-6\" type=\"checkbox\" checked><label for=\"sk-estimator-id-6\" class=\"sk-toggleable__label sk-toggleable__label-arrow\">LinearRegression</label><div class=\"sk-toggleable__content\"><pre>LinearRegression()</pre></div></div></div></div></div>"
      ],
      "text/plain": [
       "LinearRegression()"
      ]
     },
     "execution_count": 141,
     "metadata": {},
     "output_type": "execute_result"
    }
   ],
   "source": [
    "model.fit(X_train, y_train)"
   ]
  },
  {
   "cell_type": "code",
   "execution_count": 142,
   "id": "78d7f87c",
   "metadata": {},
   "outputs": [],
   "source": [
    "y_pred=model.predict(X_test)"
   ]
  },
  {
   "cell_type": "code",
   "execution_count": 143,
   "id": "17234bd0",
   "metadata": {},
   "outputs": [
    {
     "name": "stdout",
     "output_type": "stream",
     "text": [
      "Coefficients: [ 9.76449348e-02 -2.45062264e-01 -4.17663313e+00 -1.37776446e+11\n",
      " -1.37776446e+11 -1.37776446e+11 -1.37776446e+11 -1.37776446e+11\n",
      " -1.37776446e+11 -1.37776446e+11 -1.37776446e+11 -1.37776446e+11\n",
      " -1.37776446e+11 -1.37776446e+11 -1.37776446e+11 -1.37776446e+11\n",
      " -1.37776446e+11 -1.37776446e+11 -1.63479799e+08 -1.37776446e+11\n",
      " -1.37776446e+11 -1.37776446e+11 -1.37776446e+11 -1.37776446e+11\n",
      " -1.37776446e+11 -1.37776446e+11 -1.37776446e+11 -1.37776446e+11\n",
      " -1.37776446e+11 -1.37776446e+11 -1.37776446e+11 -1.37776446e+11\n",
      " -1.37776446e+11 -1.37776446e+11 -1.37776446e+11 -1.37776446e+11\n",
      " -1.37776446e+11 -1.37776446e+11 -1.37776446e+11 -1.37776446e+11\n",
      " -1.37776446e+11 -1.37776446e+11 -1.37776446e+11 -1.37776446e+11\n",
      " -1.37776446e+11 -1.37776446e+11 -1.37776446e+11 -1.37776446e+11\n",
      " -7.84410276e-05  3.36175296e-06 -1.37776446e+11 -1.37776446e+11\n",
      " -1.37776446e+11 -1.37776446e+11 -1.37776446e+11 -1.37776446e+11\n",
      " -1.37776446e+11 -1.37776446e+11 -1.37776446e+11 -1.37776446e+11\n",
      " -1.37776446e+11 -1.37776446e+11 -1.37776446e+11 -1.37776446e+11\n",
      " -2.82836914e-01  2.90283203e-01 -3.03814697e+00  2.13760376e-01\n",
      " -4.26665497e+00 -8.59420776e-01]\n"
     ]
    }
   ],
   "source": [
    "print(\"Coefficients:\", model.coef_)"
   ]
  },
  {
   "cell_type": "code",
   "execution_count": 144,
   "id": "c24c170b",
   "metadata": {},
   "outputs": [
    {
     "name": "stdout",
     "output_type": "stream",
     "text": [
      "Intercept: 137776445692.9868\n"
     ]
    }
   ],
   "source": [
    "print(\"Intercept:\", model.intercept_)"
   ]
  },
  {
   "cell_type": "code",
   "execution_count": 145,
   "id": "39e1eb3a",
   "metadata": {},
   "outputs": [],
   "source": [
    "mse=mean_squared_error(y_test, y_pred)"
   ]
  },
  {
   "cell_type": "code",
   "execution_count": 146,
   "id": "827d193a",
   "metadata": {},
   "outputs": [
    {
     "name": "stdout",
     "output_type": "stream",
     "text": [
      "Mean Squared Error: 5.790965434624159e+18\n"
     ]
    }
   ],
   "source": [
    "print(\"Mean Squared Error:\", mse)"
   ]
  },
  {
   "cell_type": "code",
   "execution_count": 147,
   "id": "1a075f60",
   "metadata": {},
   "outputs": [
    {
     "data": {
      "text/plain": [
       "array([1.])"
      ]
     },
     "execution_count": 147,
     "metadata": {},
     "output_type": "execute_result"
    }
   ],
   "source": [
    "regressor.coef_"
   ]
  },
  {
   "cell_type": "code",
   "execution_count": 148,
   "id": "dac9bb55",
   "metadata": {},
   "outputs": [
    {
     "data": {
      "text/plain": [
       "0.0"
      ]
     },
     "execution_count": 148,
     "metadata": {},
     "output_type": "execute_result"
    }
   ],
   "source": [
    "regressor.intercept_"
   ]
  },
  {
   "cell_type": "code",
   "execution_count": 149,
   "id": "4c33a9ee",
   "metadata": {},
   "outputs": [
    {
     "data": {
      "text/plain": [
       "<matplotlib.collections.PathCollection at 0x2ab831fbf10>"
      ]
     },
     "execution_count": 149,
     "metadata": {},
     "output_type": "execute_result"
    },
    {
     "data": {
      "image/png": "[encoded data removed]",
      "text/plain": [
       "<Figure size 640x480 with 1 Axes>"
      ]
     },
     "metadata": {},
     "output_type": "display_data"
    }
   ],
   "source": [
    "plt.scatter(x=X_test['precipitation_in'], y=y_pred)"
   ]
  },
  {
   "cell_type": "code",
   "execution_count": 150,
   "id": "65c0ee2b",
   "metadata": {},
   "outputs": [
    {
     "data": {
      "text/plain": [
       "<matplotlib.collections.PathCollection at 0x2ab884289a0>"
      ]
     },
     "execution_count": 150,
     "metadata": {},
     "output_type": "execute_result"
    },
    {
     "data": {
      "image/png": "[encoded data removed]",
      "text/plain": [
       "<Figure size 640x480 with 1 Axes>"
      ]
     },
     "metadata": {},
     "output_type": "display_data"
    }
   ],
   "source": [
    "plt.scatter(x=X_test['event_1_Fog'], y=y_pred)"
   ]
  },
  {
   "cell_type": "code",
   "execution_count": 151,
   "id": "21c4eb65",
   "metadata": {},
   "outputs": [
    {
     "data": {
      "text/plain": [
       "<matplotlib.collections.PathCollection at 0x2ab8842aef0>"
      ]
     },
     "execution_count": 151,
     "metadata": {},
     "output_type": "execute_result"
    },
    {
     "data": {
      "image/png": "[encoded data removed]",
      "text/plain": [
       "<Figure size 640x480 with 1 Axes>"
      ]
     },
     "metadata": {},
     "output_type": "display_data"
    }
   ],
   "source": [
    "plt.scatter(x=X_test['mean_wind_speed_mph'], y=y_pred)"
   ]
  },
  {
   "cell_type": "code",
   "execution_count": 152,
   "id": "ddd0f700",
   "metadata": {},
   "outputs": [
    {
     "data": {
      "text/plain": [
       "<matplotlib.collections.PathCollection at 0x2ab87cb1540>"
      ]
     },
     "execution_count": 152,
     "metadata": {},
     "output_type": "execute_result"
    },
    {
     "data": {
      "image/png": "[encoded data removed]",
      "text/plain": [
       "<Figure size 640x480 with 1 Axes>"
      ]
     },
     "metadata": {},
     "output_type": "display_data"
    }
   ],
   "source": [
    "plt.scatter(x=X_test['name_3rd Ave & Broad St'], y=y_pred)"
   ]
  },
  {
   "cell_type": "code",
   "execution_count": 153,
   "id": "a43eff3a",
   "metadata": {},
   "outputs": [
    {
     "ename": "SyntaxError",
     "evalue": "invalid syntax. Perhaps you forgot a comma? (4291163679.py, line 1)",
     "output_type": "error",
     "traceback": [
      "\u001b[1;36m  Cell \u001b[1;32mIn[153], line 1\u001b[1;36m\u001b[0m\n\u001b[1;33m    plt.scatter(x=X_test['event_1_Fog'] y=y_pred)\u001b[0m\n\u001b[1;37m                  ^\u001b[0m\n\u001b[1;31mSyntaxError\u001b[0m\u001b[1;31m:\u001b[0m invalid syntax. Perhaps you forgot a comma?\n"
     ]
    }
   ],
   "source": [
    "plt.scatter(x=X_test['event_1_Fog'] y=y_pred)"
   ]
  },
  {
   "cell_type": "code",
   "execution_count": 154,
   "id": "2872760a",
   "metadata": {},
   "outputs": [
    {
     "data": {
      "text/plain": [
       "<matplotlib.collections.PathCollection at 0x2ab88254a30>"
      ]
     },
     "execution_count": 154,
     "metadata": {},
     "output_type": "execute_result"
    },
    {
     "data": {
      "image/png": "[encoded data removed]",
      "text/plain": [
       "<Figure size 640x480 with 1 Axes>"
      ]
     },
     "metadata": {},
     "output_type": "display_data"
    }
   ],
   "source": [
    "plt.scatter(x=X_test['mean_wind_speed_mph'], y=y_pred)"
   ]
  },
  {
   "cell_type": "code",
   "execution_count": 155,
   "id": "901d9838",
   "metadata": {},
   "outputs": [],
   "source": [
    "import joblib"
   ]
  },
  {
   "cell_type": "code",
   "execution_count": 126,
   "id": "2c9ec89a",
   "metadata": {},
   "outputs": [],
   "source": [
    "from sklearn.linear_model import LinearRegression"
   ]
  },
  {
   "cell_type": "code",
   "execution_count": 127,
   "id": "e2f1289c",
   "metadata": {},
   "outputs": [
    {
     "data": {
      "text/plain": [
       "['linear_regression_model.pkl']"
      ]
     },
     "execution_count": 127,
     "metadata": {},
     "output_type": "execute_result"
    }
   ],
   "source": [
    "joblib.dump(model, 'linear_regression_model.pkl')"
   ]
  },
  {
   "cell_type": "code",
   "execution_count": 156,
   "id": "2dc61c82",
   "metadata": {},
   "outputs": [
    {
     "data": {
      "text/plain": [
       "array([ 8.27005005,  7.80935669, 10.47073364, ...,  5.18557739,\n",
       "        3.3835144 ,  4.33538818])"
      ]
     },
     "execution_count": 156,
     "metadata": {},
     "output_type": "execute_result"
    }
   ],
   "source": [
    "y_pred"
   ]
  },
  {
   "cell_type": "code",
   "execution_count": 157,
   "id": "5f4b8d71",
   "metadata": {},
   "outputs": [
    {
     "data": {
      "text/html": [
       "<div>\n",
       "<style scoped>\n",
       "    .dataframe tbody tr th:only-of-type {\n",
       "        vertical-align: middle;\n",
       "    }\n",
       "\n",
       "    .dataframe tbody tr th {\n",
       "        vertical-align: top;\n",
       "    }\n",
       "\n",
       "    .dataframe thead th {\n",
       "        text-align: right;\n",
       "    }\n",
       "</style>\n",
       "<table border=\"1\" class=\"dataframe\">\n",
       "  <thead>\n",
       "    <tr style=\"text-align: right;\">\n",
       "      <th></th>\n",
       "      <th>mean_temperature_f</th>\n",
       "      <th>mean_wind_speed_mph</th>\n",
       "      <th>precipitation_in</th>\n",
       "      <th>name_12th Ave &amp; E Denny Way</th>\n",
       "      <th>name_12th Ave &amp; E Mercer St</th>\n",
       "      <th>name_12th Ave &amp; E Yesler Way</th>\n",
       "      <th>name_12th Ave &amp; NE Campus Pkwy</th>\n",
       "      <th>name_15th Ave E &amp; E Thomas St</th>\n",
       "      <th>name_15th Ave NE &amp; NE 40th St</th>\n",
       "      <th>name_1st Ave &amp; Marion St</th>\n",
       "      <th>...</th>\n",
       "      <th>name_UW Magnuson Health Sciences Center Rotunda / Columbia Rd &amp; San Juan Rd</th>\n",
       "      <th>name_UW McCarty Hall / Whitman Ct</th>\n",
       "      <th>name_Union St &amp; 4th Ave</th>\n",
       "      <th>name_Westlake Ave &amp; 6th Ave</th>\n",
       "      <th>event_1_Fog</th>\n",
       "      <th>event_1_Rain</th>\n",
       "      <th>event_1_Snow</th>\n",
       "      <th>event_2_Rain</th>\n",
       "      <th>event_2_Snow</th>\n",
       "      <th>event_2_Thunderstorm</th>\n",
       "    </tr>\n",
       "  </thead>\n",
       "  <tbody>\n",
       "    <tr>\n",
       "      <th>29791</th>\n",
       "      <td>66.0</td>\n",
       "      <td>3</td>\n",
       "      <td>0.00</td>\n",
       "      <td>0</td>\n",
       "      <td>0</td>\n",
       "      <td>0</td>\n",
       "      <td>0</td>\n",
       "      <td>0</td>\n",
       "      <td>0</td>\n",
       "      <td>0</td>\n",
       "      <td>...</td>\n",
       "      <td>0</td>\n",
       "      <td>0</td>\n",
       "      <td>0</td>\n",
       "      <td>0</td>\n",
       "      <td>0</td>\n",
       "      <td>0</td>\n",
       "      <td>0</td>\n",
       "      <td>0</td>\n",
       "      <td>0</td>\n",
       "      <td>0</td>\n",
       "    </tr>\n",
       "    <tr>\n",
       "      <th>4182</th>\n",
       "      <td>41.0</td>\n",
       "      <td>3</td>\n",
       "      <td>0.43</td>\n",
       "      <td>0</td>\n",
       "      <td>0</td>\n",
       "      <td>0</td>\n",
       "      <td>0</td>\n",
       "      <td>1</td>\n",
       "      <td>0</td>\n",
       "      <td>0</td>\n",
       "      <td>...</td>\n",
       "      <td>0</td>\n",
       "      <td>0</td>\n",
       "      <td>0</td>\n",
       "      <td>0</td>\n",
       "      <td>0</td>\n",
       "      <td>1</td>\n",
       "      <td>0</td>\n",
       "      <td>0</td>\n",
       "      <td>0</td>\n",
       "      <td>0</td>\n",
       "    </tr>\n",
       "    <tr>\n",
       "      <th>20964</th>\n",
       "      <td>38.0</td>\n",
       "      <td>1</td>\n",
       "      <td>0.07</td>\n",
       "      <td>1</td>\n",
       "      <td>0</td>\n",
       "      <td>0</td>\n",
       "      <td>0</td>\n",
       "      <td>0</td>\n",
       "      <td>0</td>\n",
       "      <td>0</td>\n",
       "      <td>...</td>\n",
       "      <td>0</td>\n",
       "      <td>0</td>\n",
       "      <td>0</td>\n",
       "      <td>0</td>\n",
       "      <td>0</td>\n",
       "      <td>1</td>\n",
       "      <td>0</td>\n",
       "      <td>0</td>\n",
       "      <td>0</td>\n",
       "      <td>0</td>\n",
       "    </tr>\n",
       "    <tr>\n",
       "      <th>22541</th>\n",
       "      <td>48.0</td>\n",
       "      <td>2</td>\n",
       "      <td>0.00</td>\n",
       "      <td>0</td>\n",
       "      <td>0</td>\n",
       "      <td>0</td>\n",
       "      <td>0</td>\n",
       "      <td>0</td>\n",
       "      <td>0</td>\n",
       "      <td>0</td>\n",
       "      <td>...</td>\n",
       "      <td>0</td>\n",
       "      <td>0</td>\n",
       "      <td>0</td>\n",
       "      <td>0</td>\n",
       "      <td>0</td>\n",
       "      <td>0</td>\n",
       "      <td>0</td>\n",
       "      <td>0</td>\n",
       "      <td>0</td>\n",
       "      <td>0</td>\n",
       "    </tr>\n",
       "    <tr>\n",
       "      <th>22941</th>\n",
       "      <td>49.0</td>\n",
       "      <td>8</td>\n",
       "      <td>0.12</td>\n",
       "      <td>1</td>\n",
       "      <td>0</td>\n",
       "      <td>0</td>\n",
       "      <td>0</td>\n",
       "      <td>0</td>\n",
       "      <td>0</td>\n",
       "      <td>0</td>\n",
       "      <td>...</td>\n",
       "      <td>0</td>\n",
       "      <td>0</td>\n",
       "      <td>0</td>\n",
       "      <td>0</td>\n",
       "      <td>0</td>\n",
       "      <td>1</td>\n",
       "      <td>0</td>\n",
       "      <td>0</td>\n",
       "      <td>0</td>\n",
       "      <td>0</td>\n",
       "    </tr>\n",
       "  </tbody>\n",
       "</table>\n",
       "<p>5 rows × 70 columns</p>\n",
       "</div>"
      ],
      "text/plain": [
       "       mean_temperature_f  mean_wind_speed_mph  precipitation_in  \\\n",
       "29791                66.0                    3              0.00   \n",
       "4182                 41.0                    3              0.43   \n",
       "20964                38.0                    1              0.07   \n",
       "22541                48.0                    2              0.00   \n",
       "22941                49.0                    8              0.12   \n",
       "\n",
       "       name_12th Ave & E Denny Way  name_12th Ave & E Mercer St  \\\n",
       "29791                            0                            0   \n",
       "4182                             0                            0   \n",
       "20964                            1                            0   \n",
       "22541                            0                            0   \n",
       "22941                            1                            0   \n",
       "\n",
       "       name_12th Ave & E Yesler Way  name_12th Ave & NE Campus Pkwy  \\\n",
       "29791                             0                               0   \n",
       "4182                              0                               0   \n",
       "20964                             0                               0   \n",
       "22541                             0                               0   \n",
       "22941                             0                               0   \n",
       "\n",
       "       name_15th Ave E & E Thomas St  name_15th Ave NE & NE 40th St  \\\n",
       "29791                              0                              0   \n",
       "4182                               1                              0   \n",
       "20964                              0                              0   \n",
       "22541                              0                              0   \n",
       "22941                              0                              0   \n",
       "\n",
       "       name_1st Ave & Marion St  ...  \\\n",
       "29791                         0  ...   \n",
       "4182                          0  ...   \n",
       "20964                         0  ...   \n",
       "22541                         0  ...   \n",
       "22941                         0  ...   \n",
       "\n",
       "       name_UW Magnuson Health Sciences Center Rotunda / Columbia Rd & San Juan Rd  \\\n",
       "29791                                                  0                             \n",
       "4182                                                   0                             \n",
       "20964                                                  0                             \n",
       "22541                                                  0                             \n",
       "22941                                                  0                             \n",
       "\n",
       "       name_UW McCarty Hall / Whitman Ct  name_Union St & 4th Ave  \\\n",
       "29791                                  0                        0   \n",
       "4182                                   0                        0   \n",
       "20964                                  0                        0   \n",
       "22541                                  0                        0   \n",
       "22941                                  0                        0   \n",
       "\n",
       "       name_Westlake Ave & 6th Ave  event_1_Fog  event_1_Rain  event_1_Snow  \\\n",
       "29791                            0            0             0             0   \n",
       "4182                             0            0             1             0   \n",
       "20964                            0            0             1             0   \n",
       "22541                            0            0             0             0   \n",
       "22941                            0            0             1             0   \n",
       "\n",
       "       event_2_Rain  event_2_Snow  event_2_Thunderstorm  \n",
       "29791             0             0                     0  \n",
       "4182              0             0                     0  \n",
       "20964             0             0                     0  \n",
       "22541             0             0                     0  \n",
       "22941             0             0                     0  \n",
       "\n",
       "[5 rows x 70 columns]"
      ]
     },
     "execution_count": 157,
     "metadata": {},
     "output_type": "execute_result"
    }
   ],
   "source": [
    "X_test.tail()"
   ]
  },
  {
   "cell_type": "code",
   "execution_count": 159,
   "id": "30f1cece",
   "metadata": {},
   "outputs": [],
   "source": [
    "trips_weather.to_csv(\"trips_weather.csv\")"
   ]
  },
  {
   "cell_type": "code",
   "execution_count": null,
   "id": "0eeb7c8b",
   "metadata": {},
   "outputs": [],
   "source": []
  }
 ],
 "metadata": {
  "kernelspec": {
   "display_name": "Python 3 (ipykernel)",
   "language": "python",
   "name": "python3"
  },
  "language_info": {
   "codemirror_mode": {
    "name": "ipython",
    "version": 3
   },
   "file_extension": ".py",
   "mimetype": "text/x-python",
   "name": "python",
   "nbconvert_exporter": "python",
   "pygments_lexer": "ipython3",
   "version": "3.10.9"
  }
 },
 "nbformat": 4,
 "nbformat_minor": 5
}
