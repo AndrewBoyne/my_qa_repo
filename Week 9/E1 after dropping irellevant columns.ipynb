{
 "cells": [
  {
   "cell_type": "code",
   "execution_count": 1,
   "id": "7eed36a8",
   "metadata": {},
   "outputs": [],
   "source": [
    "import pandas as pd\n",
    "\n"
   ]
  },
  {
   "cell_type": "code",
   "execution_count": 2,
   "id": "8e0326ba",
   "metadata": {},
   "outputs": [
    {
     "name": "stderr",
     "output_type": "stream",
     "text": [
      "C:\\Users\\Admin\\AppData\\Local\\Temp\\ipykernel_2060\\3025706063.py:1: DtypeWarning: Columns (11) have mixed types. Specify dtype option on import or set low_memory=False.\n",
      "  trips = pd.read_csv(\"Seattle_cycles_trip.csv\")\n"
     ]
    }
   ],
   "source": [
    "trips = pd.read_csv(\"Seattle_cycles_trip.csv\")\n",
    "stations = pd.read_csv(\"Seattle_cycles_station.csv\")\n",
    "weather = pd.read_csv(\"Seattle_weather_daily.csv\")"
   ]
  },
  {
   "cell_type": "code",
   "execution_count": 3,
   "id": "e238cc1f",
   "metadata": {},
   "outputs": [
    {
     "name": "stdout",
     "output_type": "stream",
     "text": [
      "<class 'pandas.core.frame.DataFrame'>\n",
      "RangeIndex: 286858 entries, 0 to 286857\n",
      "Data columns (total 12 columns):\n",
      " #   Column             Non-Null Count   Dtype  \n",
      "---  ------             --------------   -----  \n",
      " 0   trip_id            286858 non-null  int64  \n",
      " 1   starttime          286858 non-null  object \n",
      " 2   stoptime           286858 non-null  object \n",
      " 3   bikeid             286858 non-null  object \n",
      " 4   tripduration       286858 non-null  float64\n",
      " 5   from_station_name  286858 non-null  object \n",
      " 6   to_station_name    286858 non-null  object \n",
      " 7   from_station_id    286858 non-null  object \n",
      " 8   to_station_id      286858 non-null  object \n",
      " 9   usertype           286858 non-null  object \n",
      " 10  gender             181558 non-null  object \n",
      " 11  birthyear          181554 non-null  object \n",
      "dtypes: float64(1), int64(1), object(10)\n",
      "memory usage: 26.3+ MB\n"
     ]
    }
   ],
   "source": [
    "trips.info()"
   ]
  },
  {
   "cell_type": "code",
   "execution_count": 4,
   "id": "99afd861",
   "metadata": {},
   "outputs": [],
   "source": [
    "trips['starttime'] = pd.to_datetime(trips['starttime'])"
   ]
  },
  {
   "cell_type": "code",
   "execution_count": 5,
   "id": "47c62783",
   "metadata": {},
   "outputs": [
    {
     "name": "stdout",
     "output_type": "stream",
     "text": [
      "<class 'pandas.core.frame.DataFrame'>\n",
      "RangeIndex: 286858 entries, 0 to 286857\n",
      "Data columns (total 12 columns):\n",
      " #   Column             Non-Null Count   Dtype         \n",
      "---  ------             --------------   -----         \n",
      " 0   trip_id            286858 non-null  int64         \n",
      " 1   starttime          286858 non-null  datetime64[ns]\n",
      " 2   stoptime           286858 non-null  object        \n",
      " 3   bikeid             286858 non-null  object        \n",
      " 4   tripduration       286858 non-null  float64       \n",
      " 5   from_station_name  286858 non-null  object        \n",
      " 6   to_station_name    286858 non-null  object        \n",
      " 7   from_station_id    286858 non-null  object        \n",
      " 8   to_station_id      286858 non-null  object        \n",
      " 9   usertype           286858 non-null  object        \n",
      " 10  gender             181558 non-null  object        \n",
      " 11  birthyear          181554 non-null  object        \n",
      "dtypes: datetime64[ns](1), float64(1), int64(1), object(9)\n",
      "memory usage: 26.3+ MB\n"
     ]
    }
   ],
   "source": [
    "trips.info()"
   ]
  },
  {
   "cell_type": "code",
   "execution_count": 6,
   "id": "f1f607a8",
   "metadata": {},
   "outputs": [],
   "source": [
    "trips.drop(['stoptime', 'bikeid', 'tripduration', 'to_station_name', 'from_station_id', 'usertype', 'gender', 'birthyear'], axis=1, inplace=True)"
   ]
  },
  {
   "cell_type": "code",
   "execution_count": 7,
   "id": "2cd6562f",
   "metadata": {},
   "outputs": [],
   "source": [
    "trips['date']=trips['starttime'].dt.date"
   ]
  },
  {
   "cell_type": "code",
   "execution_count": 8,
   "id": "5c52a9b2",
   "metadata": {},
   "outputs": [
    {
     "data": {
      "text/html": [
       "<div>\n",
       "<style scoped>\n",
       "    .dataframe tbody tr th:only-of-type {\n",
       "        vertical-align: middle;\n",
       "    }\n",
       "\n",
       "    .dataframe tbody tr th {\n",
       "        vertical-align: top;\n",
       "    }\n",
       "\n",
       "    .dataframe thead th {\n",
       "        text-align: right;\n",
       "    }\n",
       "</style>\n",
       "<table border=\"1\" class=\"dataframe\">\n",
       "  <thead>\n",
       "    <tr style=\"text-align: right;\">\n",
       "      <th></th>\n",
       "      <th>trip_id</th>\n",
       "      <th>starttime</th>\n",
       "      <th>from_station_name</th>\n",
       "      <th>to_station_id</th>\n",
       "      <th>date</th>\n",
       "    </tr>\n",
       "  </thead>\n",
       "  <tbody>\n",
       "    <tr>\n",
       "      <th>0</th>\n",
       "      <td>431</td>\n",
       "      <td>2014-10-13 10:31:00</td>\n",
       "      <td>2nd Ave &amp; Spring St</td>\n",
       "      <td>PS-04</td>\n",
       "      <td>2014-10-13</td>\n",
       "    </tr>\n",
       "    <tr>\n",
       "      <th>1</th>\n",
       "      <td>432</td>\n",
       "      <td>2014-10-13 10:32:00</td>\n",
       "      <td>2nd Ave &amp; Spring St</td>\n",
       "      <td>PS-04</td>\n",
       "      <td>2014-10-13</td>\n",
       "    </tr>\n",
       "    <tr>\n",
       "      <th>2</th>\n",
       "      <td>433</td>\n",
       "      <td>2014-10-13 10:33:00</td>\n",
       "      <td>2nd Ave &amp; Spring St</td>\n",
       "      <td>PS-04</td>\n",
       "      <td>2014-10-13</td>\n",
       "    </tr>\n",
       "    <tr>\n",
       "      <th>3</th>\n",
       "      <td>434</td>\n",
       "      <td>2014-10-13 10:34:00</td>\n",
       "      <td>2nd Ave &amp; Spring St</td>\n",
       "      <td>PS-04</td>\n",
       "      <td>2014-10-13</td>\n",
       "    </tr>\n",
       "    <tr>\n",
       "      <th>4</th>\n",
       "      <td>435</td>\n",
       "      <td>2014-10-13 10:34:00</td>\n",
       "      <td>2nd Ave &amp; Spring St</td>\n",
       "      <td>PS-04</td>\n",
       "      <td>2014-10-13</td>\n",
       "    </tr>\n",
       "  </tbody>\n",
       "</table>\n",
       "</div>"
      ],
      "text/plain": [
       "   trip_id           starttime    from_station_name to_station_id        date\n",
       "0      431 2014-10-13 10:31:00  2nd Ave & Spring St         PS-04  2014-10-13\n",
       "1      432 2014-10-13 10:32:00  2nd Ave & Spring St         PS-04  2014-10-13\n",
       "2      433 2014-10-13 10:33:00  2nd Ave & Spring St         PS-04  2014-10-13\n",
       "3      434 2014-10-13 10:34:00  2nd Ave & Spring St         PS-04  2014-10-13\n",
       "4      435 2014-10-13 10:34:00  2nd Ave & Spring St         PS-04  2014-10-13"
      ]
     },
     "execution_count": 8,
     "metadata": {},
     "output_type": "execute_result"
    }
   ],
   "source": [
    "trips.head()"
   ]
  },
  {
   "cell_type": "code",
   "execution_count": 9,
   "id": "c3642978",
   "metadata": {},
   "outputs": [
    {
     "name": "stdout",
     "output_type": "stream",
     "text": [
      "<class 'pandas.core.frame.DataFrame'>\n",
      "RangeIndex: 286858 entries, 0 to 286857\n",
      "Data columns (total 5 columns):\n",
      " #   Column             Non-Null Count   Dtype         \n",
      "---  ------             --------------   -----         \n",
      " 0   trip_id            286858 non-null  int64         \n",
      " 1   starttime          286858 non-null  datetime64[ns]\n",
      " 2   from_station_name  286858 non-null  object        \n",
      " 3   to_station_id      286858 non-null  object        \n",
      " 4   date               286858 non-null  object        \n",
      "dtypes: datetime64[ns](1), int64(1), object(3)\n",
      "memory usage: 10.9+ MB\n"
     ]
    }
   ],
   "source": [
    "trips.info()"
   ]
  },
  {
   "cell_type": "code",
   "execution_count": 10,
   "id": "423123e7",
   "metadata": {},
   "outputs": [],
   "source": [
    "trips['date'] = pd.to_datetime(trips['date'])"
   ]
  },
  {
   "cell_type": "code",
   "execution_count": 11,
   "id": "3d1b2d11",
   "metadata": {},
   "outputs": [
    {
     "name": "stdout",
     "output_type": "stream",
     "text": [
      "<class 'pandas.core.frame.DataFrame'>\n",
      "RangeIndex: 286858 entries, 0 to 286857\n",
      "Data columns (total 5 columns):\n",
      " #   Column             Non-Null Count   Dtype         \n",
      "---  ------             --------------   -----         \n",
      " 0   trip_id            286858 non-null  int64         \n",
      " 1   starttime          286858 non-null  datetime64[ns]\n",
      " 2   from_station_name  286858 non-null  object        \n",
      " 3   to_station_id      286858 non-null  object        \n",
      " 4   date               286858 non-null  datetime64[ns]\n",
      "dtypes: datetime64[ns](2), int64(1), object(2)\n",
      "memory usage: 10.9+ MB\n"
     ]
    }
   ],
   "source": [
    "trips.info()"
   ]
  },
  {
   "cell_type": "code",
   "execution_count": 12,
   "id": "4068d777",
   "metadata": {},
   "outputs": [],
   "source": [
    "trips.drop(['starttime'], axis=1, inplace=True)"
   ]
  },
  {
   "cell_type": "code",
   "execution_count": 13,
   "id": "0a7af938",
   "metadata": {},
   "outputs": [
    {
     "data": {
      "text/html": [
       "<div>\n",
       "<style scoped>\n",
       "    .dataframe tbody tr th:only-of-type {\n",
       "        vertical-align: middle;\n",
       "    }\n",
       "\n",
       "    .dataframe tbody tr th {\n",
       "        vertical-align: top;\n",
       "    }\n",
       "\n",
       "    .dataframe thead th {\n",
       "        text-align: right;\n",
       "    }\n",
       "</style>\n",
       "<table border=\"1\" class=\"dataframe\">\n",
       "  <thead>\n",
       "    <tr style=\"text-align: right;\">\n",
       "      <th></th>\n",
       "      <th>trip_id</th>\n",
       "      <th>from_station_name</th>\n",
       "      <th>to_station_id</th>\n",
       "      <th>date</th>\n",
       "    </tr>\n",
       "  </thead>\n",
       "  <tbody>\n",
       "    <tr>\n",
       "      <th>0</th>\n",
       "      <td>431</td>\n",
       "      <td>2nd Ave &amp; Spring St</td>\n",
       "      <td>PS-04</td>\n",
       "      <td>2014-10-13</td>\n",
       "    </tr>\n",
       "    <tr>\n",
       "      <th>1</th>\n",
       "      <td>432</td>\n",
       "      <td>2nd Ave &amp; Spring St</td>\n",
       "      <td>PS-04</td>\n",
       "      <td>2014-10-13</td>\n",
       "    </tr>\n",
       "    <tr>\n",
       "      <th>2</th>\n",
       "      <td>433</td>\n",
       "      <td>2nd Ave &amp; Spring St</td>\n",
       "      <td>PS-04</td>\n",
       "      <td>2014-10-13</td>\n",
       "    </tr>\n",
       "    <tr>\n",
       "      <th>3</th>\n",
       "      <td>434</td>\n",
       "      <td>2nd Ave &amp; Spring St</td>\n",
       "      <td>PS-04</td>\n",
       "      <td>2014-10-13</td>\n",
       "    </tr>\n",
       "    <tr>\n",
       "      <th>4</th>\n",
       "      <td>435</td>\n",
       "      <td>2nd Ave &amp; Spring St</td>\n",
       "      <td>PS-04</td>\n",
       "      <td>2014-10-13</td>\n",
       "    </tr>\n",
       "  </tbody>\n",
       "</table>\n",
       "</div>"
      ],
      "text/plain": [
       "   trip_id    from_station_name to_station_id       date\n",
       "0      431  2nd Ave & Spring St         PS-04 2014-10-13\n",
       "1      432  2nd Ave & Spring St         PS-04 2014-10-13\n",
       "2      433  2nd Ave & Spring St         PS-04 2014-10-13\n",
       "3      434  2nd Ave & Spring St         PS-04 2014-10-13\n",
       "4      435  2nd Ave & Spring St         PS-04 2014-10-13"
      ]
     },
     "execution_count": 13,
     "metadata": {},
     "output_type": "execute_result"
    }
   ],
   "source": [
    "trips.head()"
   ]
  },
  {
   "cell_type": "code",
   "execution_count": 14,
   "id": "19c2b16c",
   "metadata": {},
   "outputs": [
    {
     "data": {
      "text/html": [
       "<div>\n",
       "<style scoped>\n",
       "    .dataframe tbody tr th:only-of-type {\n",
       "        vertical-align: middle;\n",
       "    }\n",
       "\n",
       "    .dataframe tbody tr th {\n",
       "        vertical-align: top;\n",
       "    }\n",
       "\n",
       "    .dataframe thead th {\n",
       "        text-align: right;\n",
       "    }\n",
       "</style>\n",
       "<table border=\"1\" class=\"dataframe\">\n",
       "  <thead>\n",
       "    <tr style=\"text-align: right;\">\n",
       "      <th></th>\n",
       "      <th>station_id</th>\n",
       "      <th>name</th>\n",
       "      <th>lat</th>\n",
       "      <th>long</th>\n",
       "      <th>install_date</th>\n",
       "      <th>install_dockcount</th>\n",
       "      <th>modification_date</th>\n",
       "      <th>current_dockcount</th>\n",
       "      <th>decommission_date</th>\n",
       "    </tr>\n",
       "  </thead>\n",
       "  <tbody>\n",
       "    <tr>\n",
       "      <th>0</th>\n",
       "      <td>BT-01</td>\n",
       "      <td>3rd Ave &amp; Broad St</td>\n",
       "      <td>47.618418</td>\n",
       "      <td>-122.350964</td>\n",
       "      <td>10/13/2014</td>\n",
       "      <td>18</td>\n",
       "      <td>NaN</td>\n",
       "      <td>18</td>\n",
       "      <td>NaN</td>\n",
       "    </tr>\n",
       "    <tr>\n",
       "      <th>1</th>\n",
       "      <td>BT-03</td>\n",
       "      <td>2nd Ave &amp; Vine St</td>\n",
       "      <td>47.615829</td>\n",
       "      <td>-122.348564</td>\n",
       "      <td>10/13/2014</td>\n",
       "      <td>16</td>\n",
       "      <td>NaN</td>\n",
       "      <td>16</td>\n",
       "      <td>NaN</td>\n",
       "    </tr>\n",
       "    <tr>\n",
       "      <th>2</th>\n",
       "      <td>BT-04</td>\n",
       "      <td>6th Ave &amp; Blanchard St</td>\n",
       "      <td>47.616094</td>\n",
       "      <td>-122.341102</td>\n",
       "      <td>10/13/2014</td>\n",
       "      <td>16</td>\n",
       "      <td>NaN</td>\n",
       "      <td>16</td>\n",
       "      <td>NaN</td>\n",
       "    </tr>\n",
       "    <tr>\n",
       "      <th>3</th>\n",
       "      <td>BT-05</td>\n",
       "      <td>2nd Ave &amp; Blanchard St</td>\n",
       "      <td>47.613110</td>\n",
       "      <td>-122.344208</td>\n",
       "      <td>10/13/2014</td>\n",
       "      <td>14</td>\n",
       "      <td>NaN</td>\n",
       "      <td>14</td>\n",
       "      <td>NaN</td>\n",
       "    </tr>\n",
       "    <tr>\n",
       "      <th>4</th>\n",
       "      <td>CBD-03</td>\n",
       "      <td>7th Ave &amp; Union St</td>\n",
       "      <td>47.610731</td>\n",
       "      <td>-122.332447</td>\n",
       "      <td>10/13/2014</td>\n",
       "      <td>20</td>\n",
       "      <td>NaN</td>\n",
       "      <td>20</td>\n",
       "      <td>NaN</td>\n",
       "    </tr>\n",
       "  </tbody>\n",
       "</table>\n",
       "</div>"
      ],
      "text/plain": [
       "  station_id                    name        lat        long install_date  \\\n",
       "0      BT-01      3rd Ave & Broad St  47.618418 -122.350964   10/13/2014   \n",
       "1      BT-03       2nd Ave & Vine St  47.615829 -122.348564   10/13/2014   \n",
       "2      BT-04  6th Ave & Blanchard St  47.616094 -122.341102   10/13/2014   \n",
       "3      BT-05  2nd Ave & Blanchard St  47.613110 -122.344208   10/13/2014   \n",
       "4     CBD-03      7th Ave & Union St  47.610731 -122.332447   10/13/2014   \n",
       "\n",
       "   install_dockcount modification_date  current_dockcount decommission_date  \n",
       "0                 18               NaN                 18               NaN  \n",
       "1                 16               NaN                 16               NaN  \n",
       "2                 16               NaN                 16               NaN  \n",
       "3                 14               NaN                 14               NaN  \n",
       "4                 20               NaN                 20               NaN  "
      ]
     },
     "execution_count": 14,
     "metadata": {},
     "output_type": "execute_result"
    }
   ],
   "source": [
    "stations.head()"
   ]
  },
  {
   "cell_type": "code",
   "execution_count": 15,
   "id": "4063694c",
   "metadata": {},
   "outputs": [
    {
     "data": {
      "text/plain": [
       "array([nan, '8/9/2016', '3/18/2016', '7/2/2016', '10/29/2015'],\n",
       "      dtype=object)"
      ]
     },
     "execution_count": 15,
     "metadata": {},
     "output_type": "execute_result"
    }
   ],
   "source": [
    "stations.decommission_date.unique()"
   ]
  },
  {
   "cell_type": "code",
   "execution_count": 16,
   "id": "ef4cdbd1",
   "metadata": {},
   "outputs": [],
   "source": [
    "active_stations=stations[stations['decommission_date'].isnull()]"
   ]
  },
  {
   "cell_type": "code",
   "execution_count": 17,
   "id": "3ccccfef",
   "metadata": {},
   "outputs": [
    {
     "name": "stdout",
     "output_type": "stream",
     "text": [
      "<class 'pandas.core.frame.DataFrame'>\n",
      "Int64Index: 54 entries, 0 to 57\n",
      "Data columns (total 9 columns):\n",
      " #   Column             Non-Null Count  Dtype  \n",
      "---  ------             --------------  -----  \n",
      " 0   station_id         54 non-null     object \n",
      " 1   name               54 non-null     object \n",
      " 2   lat                54 non-null     float64\n",
      " 3   long               54 non-null     float64\n",
      " 4   install_date       54 non-null     object \n",
      " 5   install_dockcount  54 non-null     int64  \n",
      " 6   modification_date  13 non-null     object \n",
      " 7   current_dockcount  54 non-null     int64  \n",
      " 8   decommission_date  0 non-null      object \n",
      "dtypes: float64(2), int64(2), object(5)\n",
      "memory usage: 4.2+ KB\n"
     ]
    }
   ],
   "source": [
    "active_stations.info()"
   ]
  },
  {
   "cell_type": "code",
   "execution_count": 18,
   "id": "370c44f9",
   "metadata": {},
   "outputs": [
    {
     "data": {
      "text/html": [
       "<div>\n",
       "<style scoped>\n",
       "    .dataframe tbody tr th:only-of-type {\n",
       "        vertical-align: middle;\n",
       "    }\n",
       "\n",
       "    .dataframe tbody tr th {\n",
       "        vertical-align: top;\n",
       "    }\n",
       "\n",
       "    .dataframe thead th {\n",
       "        text-align: right;\n",
       "    }\n",
       "</style>\n",
       "<table border=\"1\" class=\"dataframe\">\n",
       "  <thead>\n",
       "    <tr style=\"text-align: right;\">\n",
       "      <th></th>\n",
       "      <th>station_id</th>\n",
       "      <th>name</th>\n",
       "      <th>lat</th>\n",
       "      <th>long</th>\n",
       "      <th>install_date</th>\n",
       "      <th>install_dockcount</th>\n",
       "      <th>modification_date</th>\n",
       "      <th>current_dockcount</th>\n",
       "      <th>decommission_date</th>\n",
       "    </tr>\n",
       "  </thead>\n",
       "  <tbody>\n",
       "    <tr>\n",
       "      <th>0</th>\n",
       "      <td>BT-01</td>\n",
       "      <td>3rd Ave &amp; Broad St</td>\n",
       "      <td>47.618418</td>\n",
       "      <td>-122.350964</td>\n",
       "      <td>10/13/2014</td>\n",
       "      <td>18</td>\n",
       "      <td>NaN</td>\n",
       "      <td>18</td>\n",
       "      <td>NaN</td>\n",
       "    </tr>\n",
       "    <tr>\n",
       "      <th>1</th>\n",
       "      <td>BT-03</td>\n",
       "      <td>2nd Ave &amp; Vine St</td>\n",
       "      <td>47.615829</td>\n",
       "      <td>-122.348564</td>\n",
       "      <td>10/13/2014</td>\n",
       "      <td>16</td>\n",
       "      <td>NaN</td>\n",
       "      <td>16</td>\n",
       "      <td>NaN</td>\n",
       "    </tr>\n",
       "    <tr>\n",
       "      <th>2</th>\n",
       "      <td>BT-04</td>\n",
       "      <td>6th Ave &amp; Blanchard St</td>\n",
       "      <td>47.616094</td>\n",
       "      <td>-122.341102</td>\n",
       "      <td>10/13/2014</td>\n",
       "      <td>16</td>\n",
       "      <td>NaN</td>\n",
       "      <td>16</td>\n",
       "      <td>NaN</td>\n",
       "    </tr>\n",
       "    <tr>\n",
       "      <th>3</th>\n",
       "      <td>BT-05</td>\n",
       "      <td>2nd Ave &amp; Blanchard St</td>\n",
       "      <td>47.613110</td>\n",
       "      <td>-122.344208</td>\n",
       "      <td>10/13/2014</td>\n",
       "      <td>14</td>\n",
       "      <td>NaN</td>\n",
       "      <td>14</td>\n",
       "      <td>NaN</td>\n",
       "    </tr>\n",
       "    <tr>\n",
       "      <th>4</th>\n",
       "      <td>CBD-03</td>\n",
       "      <td>7th Ave &amp; Union St</td>\n",
       "      <td>47.610731</td>\n",
       "      <td>-122.332447</td>\n",
       "      <td>10/13/2014</td>\n",
       "      <td>20</td>\n",
       "      <td>NaN</td>\n",
       "      <td>20</td>\n",
       "      <td>NaN</td>\n",
       "    </tr>\n",
       "  </tbody>\n",
       "</table>\n",
       "</div>"
      ],
      "text/plain": [
       "  station_id                    name        lat        long install_date  \\\n",
       "0      BT-01      3rd Ave & Broad St  47.618418 -122.350964   10/13/2014   \n",
       "1      BT-03       2nd Ave & Vine St  47.615829 -122.348564   10/13/2014   \n",
       "2      BT-04  6th Ave & Blanchard St  47.616094 -122.341102   10/13/2014   \n",
       "3      BT-05  2nd Ave & Blanchard St  47.613110 -122.344208   10/13/2014   \n",
       "4     CBD-03      7th Ave & Union St  47.610731 -122.332447   10/13/2014   \n",
       "\n",
       "   install_dockcount modification_date  current_dockcount decommission_date  \n",
       "0                 18               NaN                 18               NaN  \n",
       "1                 16               NaN                 16               NaN  \n",
       "2                 16               NaN                 16               NaN  \n",
       "3                 14               NaN                 14               NaN  \n",
       "4                 20               NaN                 20               NaN  "
      ]
     },
     "execution_count": 18,
     "metadata": {},
     "output_type": "execute_result"
    }
   ],
   "source": [
    "active_stations.head()"
   ]
  },
  {
   "cell_type": "code",
   "execution_count": 19,
   "id": "b7a8086f",
   "metadata": {},
   "outputs": [
    {
     "name": "stderr",
     "output_type": "stream",
     "text": [
      "C:\\Users\\Admin\\AppData\\Local\\Temp\\ipykernel_2060\\2501451880.py:1: SettingWithCopyWarning: \n",
      "A value is trying to be set on a copy of a slice from a DataFrame\n",
      "\n",
      "See the caveats in the documentation: https://pandas.pydata.org/pandas-docs/stable/user_guide/indexing.html#returning-a-view-versus-a-copy\n",
      "  active_stations.drop(['lat', 'long', 'install_date', 'install_dockcount', 'modification_date', 'current_dockcount', 'decommission_date'], axis=1, inplace=True)\n"
     ]
    }
   ],
   "source": [
    "active_stations.drop(['lat', 'long', 'install_date', 'install_dockcount', 'modification_date', 'current_dockcount', 'decommission_date'], axis=1, inplace=True)"
   ]
  },
  {
   "cell_type": "code",
   "execution_count": 20,
   "id": "004c37bf",
   "metadata": {},
   "outputs": [
    {
     "data": {
      "text/html": [
       "<div>\n",
       "<style scoped>\n",
       "    .dataframe tbody tr th:only-of-type {\n",
       "        vertical-align: middle;\n",
       "    }\n",
       "\n",
       "    .dataframe tbody tr th {\n",
       "        vertical-align: top;\n",
       "    }\n",
       "\n",
       "    .dataframe thead th {\n",
       "        text-align: right;\n",
       "    }\n",
       "</style>\n",
       "<table border=\"1\" class=\"dataframe\">\n",
       "  <thead>\n",
       "    <tr style=\"text-align: right;\">\n",
       "      <th></th>\n",
       "      <th>station_id</th>\n",
       "      <th>name</th>\n",
       "    </tr>\n",
       "  </thead>\n",
       "  <tbody>\n",
       "    <tr>\n",
       "      <th>0</th>\n",
       "      <td>BT-01</td>\n",
       "      <td>3rd Ave &amp; Broad St</td>\n",
       "    </tr>\n",
       "    <tr>\n",
       "      <th>1</th>\n",
       "      <td>BT-03</td>\n",
       "      <td>2nd Ave &amp; Vine St</td>\n",
       "    </tr>\n",
       "    <tr>\n",
       "      <th>2</th>\n",
       "      <td>BT-04</td>\n",
       "      <td>6th Ave &amp; Blanchard St</td>\n",
       "    </tr>\n",
       "    <tr>\n",
       "      <th>3</th>\n",
       "      <td>BT-05</td>\n",
       "      <td>2nd Ave &amp; Blanchard St</td>\n",
       "    </tr>\n",
       "    <tr>\n",
       "      <th>4</th>\n",
       "      <td>CBD-03</td>\n",
       "      <td>7th Ave &amp; Union St</td>\n",
       "    </tr>\n",
       "  </tbody>\n",
       "</table>\n",
       "</div>"
      ],
      "text/plain": [
       "  station_id                    name\n",
       "0      BT-01      3rd Ave & Broad St\n",
       "1      BT-03       2nd Ave & Vine St\n",
       "2      BT-04  6th Ave & Blanchard St\n",
       "3      BT-05  2nd Ave & Blanchard St\n",
       "4     CBD-03      7th Ave & Union St"
      ]
     },
     "execution_count": 20,
     "metadata": {},
     "output_type": "execute_result"
    }
   ],
   "source": [
    "active_stations.head()"
   ]
  },
  {
   "cell_type": "code",
   "execution_count": 21,
   "id": "fca79340",
   "metadata": {},
   "outputs": [
    {
     "name": "stdout",
     "output_type": "stream",
     "text": [
      "<class 'pandas.core.frame.DataFrame'>\n",
      "RangeIndex: 689 entries, 0 to 688\n",
      "Data columns (total 21 columns):\n",
      " #   Column                      Non-Null Count  Dtype  \n",
      "---  ------                      --------------  -----  \n",
      " 0   Date                        689 non-null    object \n",
      " 1   Max_Temperature_F           689 non-null    int64  \n",
      " 2   Mean_Temperature_F          688 non-null    float64\n",
      " 3   Min_TemperatureF            689 non-null    int64  \n",
      " 4   Max_Dew_Point_F             689 non-null    int64  \n",
      " 5   MeanDew_Point_F             689 non-null    int64  \n",
      " 6   Min_Dewpoint_F              689 non-null    int64  \n",
      " 7   Max_Humidity                689 non-null    int64  \n",
      " 8   Mean_Humidity               689 non-null    int64  \n",
      " 9   Min_Humidity                689 non-null    int64  \n",
      " 10  Max_Sea_Level_Pressure_In   689 non-null    float64\n",
      " 11  Mean_Sea_Level_Pressure_In  689 non-null    float64\n",
      " 12  Min_Sea_Level_Pressure_In   689 non-null    float64\n",
      " 13  Max_Visibility_Miles        689 non-null    int64  \n",
      " 14  Mean_Visibility_Miles       689 non-null    int64  \n",
      " 15  Min_Visibility_Miles        689 non-null    int64  \n",
      " 16  Max_Wind_Speed_MPH          689 non-null    int64  \n",
      " 17  Mean_Wind_Speed_MPH         689 non-null    int64  \n",
      " 18  Max_Gust_Speed_MPH          504 non-null    object \n",
      " 19  Precipitation_In            689 non-null    float64\n",
      " 20  Events                      328 non-null    object \n",
      "dtypes: float64(5), int64(13), object(3)\n",
      "memory usage: 113.2+ KB\n"
     ]
    }
   ],
   "source": [
    "weather.info()"
   ]
  },
  {
   "cell_type": "code",
   "execution_count": 22,
   "id": "20e22b7c",
   "metadata": {},
   "outputs": [
    {
     "data": {
      "text/plain": [
       "array([ 4,  3, 10,  6,  2,  5,  8,  9,  7,  0,  1], dtype=int64)"
      ]
     },
     "execution_count": 22,
     "metadata": {},
     "output_type": "execute_result"
    }
   ],
   "source": [
    "weather.Min_Visibility_Miles.unique()"
   ]
  },
  {
   "cell_type": "code",
   "execution_count": 23,
   "id": "bc392e89",
   "metadata": {},
   "outputs": [],
   "source": [
    "weather.drop(['Max_Temperature_F','Min_TemperatureF','Max_Dew_Point_F','MeanDew_Point_F','Min_Dewpoint_F','Max_Humidity','Mean_Humidity','Min_Humidity','Max_Sea_Level_Pressure_In','Mean_Sea_Level_Pressure_In','Min_Sea_Level_Pressure_In','Max_Visibility_Miles','Mean_Visibility_Miles','Min_Visibility_Miles','Min_Visibility_Miles','Max_Wind_Speed_MPH','Max_Gust_Speed_MPH'], axis=1, inplace=True)"
   ]
  },
  {
   "cell_type": "code",
   "execution_count": 24,
   "id": "d1b364ef",
   "metadata": {},
   "outputs": [
    {
     "name": "stdout",
     "output_type": "stream",
     "text": [
      "<class 'pandas.core.frame.DataFrame'>\n",
      "RangeIndex: 689 entries, 0 to 688\n",
      "Data columns (total 5 columns):\n",
      " #   Column               Non-Null Count  Dtype  \n",
      "---  ------               --------------  -----  \n",
      " 0   Date                 689 non-null    object \n",
      " 1   Mean_Temperature_F   688 non-null    float64\n",
      " 2   Mean_Wind_Speed_MPH  689 non-null    int64  \n",
      " 3   Precipitation_In     689 non-null    float64\n",
      " 4   Events               328 non-null    object \n",
      "dtypes: float64(2), int64(1), object(2)\n",
      "memory usage: 27.0+ KB\n"
     ]
    }
   ],
   "source": [
    "weather.info()"
   ]
  },
  {
   "cell_type": "code",
   "execution_count": 25,
   "id": "b9c2bbe3",
   "metadata": {},
   "outputs": [],
   "source": [
    "weather['Date'] = pd.to_datetime(weather['Date'])"
   ]
  },
  {
   "cell_type": "code",
   "execution_count": 27,
   "id": "27653f6a",
   "metadata": {},
   "outputs": [],
   "source": [
    "#weather.drop(['date'], axis=1, inplace=True)"
   ]
  },
  {
   "cell_type": "code",
   "execution_count": 28,
   "id": "07d36292",
   "metadata": {},
   "outputs": [
    {
     "data": {
      "text/html": [
       "<div>\n",
       "<style scoped>\n",
       "    .dataframe tbody tr th:only-of-type {\n",
       "        vertical-align: middle;\n",
       "    }\n",
       "\n",
       "    .dataframe tbody tr th {\n",
       "        vertical-align: top;\n",
       "    }\n",
       "\n",
       "    .dataframe thead th {\n",
       "        text-align: right;\n",
       "    }\n",
       "</style>\n",
       "<table border=\"1\" class=\"dataframe\">\n",
       "  <thead>\n",
       "    <tr style=\"text-align: right;\">\n",
       "      <th></th>\n",
       "      <th>Date</th>\n",
       "      <th>Mean_Temperature_F</th>\n",
       "      <th>Mean_Wind_Speed_MPH</th>\n",
       "      <th>Precipitation_In</th>\n",
       "      <th>Events</th>\n",
       "    </tr>\n",
       "  </thead>\n",
       "  <tbody>\n",
       "    <tr>\n",
       "      <th>0</th>\n",
       "      <td>2014-10-13</td>\n",
       "      <td>62.0</td>\n",
       "      <td>4</td>\n",
       "      <td>0.00</td>\n",
       "      <td>Rain</td>\n",
       "    </tr>\n",
       "    <tr>\n",
       "      <th>1</th>\n",
       "      <td>2014-10-14</td>\n",
       "      <td>59.0</td>\n",
       "      <td>5</td>\n",
       "      <td>0.11</td>\n",
       "      <td>Rain</td>\n",
       "    </tr>\n",
       "    <tr>\n",
       "      <th>2</th>\n",
       "      <td>2014-10-15</td>\n",
       "      <td>58.0</td>\n",
       "      <td>7</td>\n",
       "      <td>0.45</td>\n",
       "      <td>Rain</td>\n",
       "    </tr>\n",
       "    <tr>\n",
       "      <th>3</th>\n",
       "      <td>2014-10-16</td>\n",
       "      <td>61.0</td>\n",
       "      <td>4</td>\n",
       "      <td>0.00</td>\n",
       "      <td>Rain</td>\n",
       "    </tr>\n",
       "    <tr>\n",
       "      <th>4</th>\n",
       "      <td>2014-10-17</td>\n",
       "      <td>60.0</td>\n",
       "      <td>3</td>\n",
       "      <td>0.14</td>\n",
       "      <td>Rain</td>\n",
       "    </tr>\n",
       "  </tbody>\n",
       "</table>\n",
       "</div>"
      ],
      "text/plain": [
       "        Date  Mean_Temperature_F  Mean_Wind_Speed_MPH  Precipitation_In Events\n",
       "0 2014-10-13                62.0                    4              0.00   Rain\n",
       "1 2014-10-14                59.0                    5              0.11   Rain\n",
       "2 2014-10-15                58.0                    7              0.45   Rain\n",
       "3 2014-10-16                61.0                    4              0.00   Rain\n",
       "4 2014-10-17                60.0                    3              0.14   Rain"
      ]
     },
     "execution_count": 28,
     "metadata": {},
     "output_type": "execute_result"
    }
   ],
   "source": [
    "weather.head()"
   ]
  },
  {
   "cell_type": "code",
   "execution_count": 29,
   "id": "306e85fe",
   "metadata": {},
   "outputs": [],
   "source": [
    "weather.columns=weather.columns.str.lower()"
   ]
  },
  {
   "cell_type": "code",
   "execution_count": 30,
   "id": "088147f3",
   "metadata": {},
   "outputs": [],
   "source": [
    "trips.columns=trips.columns.str.lower()"
   ]
  },
  {
   "cell_type": "code",
   "execution_count": 31,
   "id": "81a535d6",
   "metadata": {},
   "outputs": [
    {
     "data": {
      "text/html": [
       "<div>\n",
       "<style scoped>\n",
       "    .dataframe tbody tr th:only-of-type {\n",
       "        vertical-align: middle;\n",
       "    }\n",
       "\n",
       "    .dataframe tbody tr th {\n",
       "        vertical-align: top;\n",
       "    }\n",
       "\n",
       "    .dataframe thead th {\n",
       "        text-align: right;\n",
       "    }\n",
       "</style>\n",
       "<table border=\"1\" class=\"dataframe\">\n",
       "  <thead>\n",
       "    <tr style=\"text-align: right;\">\n",
       "      <th></th>\n",
       "      <th>trip_id</th>\n",
       "      <th>from_station_name</th>\n",
       "      <th>to_station_id</th>\n",
       "      <th>date</th>\n",
       "    </tr>\n",
       "  </thead>\n",
       "  <tbody>\n",
       "    <tr>\n",
       "      <th>0</th>\n",
       "      <td>431</td>\n",
       "      <td>2nd Ave &amp; Spring St</td>\n",
       "      <td>PS-04</td>\n",
       "      <td>2014-10-13</td>\n",
       "    </tr>\n",
       "    <tr>\n",
       "      <th>1</th>\n",
       "      <td>432</td>\n",
       "      <td>2nd Ave &amp; Spring St</td>\n",
       "      <td>PS-04</td>\n",
       "      <td>2014-10-13</td>\n",
       "    </tr>\n",
       "    <tr>\n",
       "      <th>2</th>\n",
       "      <td>433</td>\n",
       "      <td>2nd Ave &amp; Spring St</td>\n",
       "      <td>PS-04</td>\n",
       "      <td>2014-10-13</td>\n",
       "    </tr>\n",
       "    <tr>\n",
       "      <th>3</th>\n",
       "      <td>434</td>\n",
       "      <td>2nd Ave &amp; Spring St</td>\n",
       "      <td>PS-04</td>\n",
       "      <td>2014-10-13</td>\n",
       "    </tr>\n",
       "    <tr>\n",
       "      <th>4</th>\n",
       "      <td>435</td>\n",
       "      <td>2nd Ave &amp; Spring St</td>\n",
       "      <td>PS-04</td>\n",
       "      <td>2014-10-13</td>\n",
       "    </tr>\n",
       "    <tr>\n",
       "      <th>...</th>\n",
       "      <td>...</td>\n",
       "      <td>...</td>\n",
       "      <td>...</td>\n",
       "      <td>...</td>\n",
       "    </tr>\n",
       "    <tr>\n",
       "      <th>286853</th>\n",
       "      <td>255241</td>\n",
       "      <td>Harvard Ave &amp; E Pine St</td>\n",
       "      <td>CBD-06</td>\n",
       "      <td>2016-08-31</td>\n",
       "    </tr>\n",
       "    <tr>\n",
       "      <th>286854</th>\n",
       "      <td>255242</td>\n",
       "      <td>Cal Anderson Park / 11th Ave &amp; Pine St</td>\n",
       "      <td>ID-04</td>\n",
       "      <td>2016-08-31</td>\n",
       "    </tr>\n",
       "    <tr>\n",
       "      <th>286855</th>\n",
       "      <td>255243</td>\n",
       "      <td>Cal Anderson Park / 11th Ave &amp; Pine St</td>\n",
       "      <td>ID-04</td>\n",
       "      <td>2016-08-31</td>\n",
       "    </tr>\n",
       "    <tr>\n",
       "      <th>286856</th>\n",
       "      <td>255244</td>\n",
       "      <td>Cal Anderson Park / 11th Ave &amp; Pine St</td>\n",
       "      <td>ID-04</td>\n",
       "      <td>2016-08-31</td>\n",
       "    </tr>\n",
       "    <tr>\n",
       "      <th>286857</th>\n",
       "      <td>255245</td>\n",
       "      <td>Cal Anderson Park / 11th Ave &amp; Pine St</td>\n",
       "      <td>ID-04</td>\n",
       "      <td>2016-08-31</td>\n",
       "    </tr>\n",
       "  </tbody>\n",
       "</table>\n",
       "<p>286858 rows × 4 columns</p>\n",
       "</div>"
      ],
      "text/plain": [
       "        trip_id                       from_station_name to_station_id  \\\n",
       "0           431                     2nd Ave & Spring St         PS-04   \n",
       "1           432                     2nd Ave & Spring St         PS-04   \n",
       "2           433                     2nd Ave & Spring St         PS-04   \n",
       "3           434                     2nd Ave & Spring St         PS-04   \n",
       "4           435                     2nd Ave & Spring St         PS-04   \n",
       "...         ...                                     ...           ...   \n",
       "286853   255241                 Harvard Ave & E Pine St        CBD-06   \n",
       "286854   255242  Cal Anderson Park / 11th Ave & Pine St         ID-04   \n",
       "286855   255243  Cal Anderson Park / 11th Ave & Pine St         ID-04   \n",
       "286856   255244  Cal Anderson Park / 11th Ave & Pine St         ID-04   \n",
       "286857   255245  Cal Anderson Park / 11th Ave & Pine St         ID-04   \n",
       "\n",
       "             date  \n",
       "0      2014-10-13  \n",
       "1      2014-10-13  \n",
       "2      2014-10-13  \n",
       "3      2014-10-13  \n",
       "4      2014-10-13  \n",
       "...           ...  \n",
       "286853 2016-08-31  \n",
       "286854 2016-08-31  \n",
       "286855 2016-08-31  \n",
       "286856 2016-08-31  \n",
       "286857 2016-08-31  \n",
       "\n",
       "[286858 rows x 4 columns]"
      ]
     },
     "execution_count": 31,
     "metadata": {},
     "output_type": "execute_result"
    }
   ],
   "source": [
    "trips"
   ]
  },
  {
   "cell_type": "code",
   "execution_count": null,
   "id": "9597cc26",
   "metadata": {},
   "outputs": [],
   "source": []
  },
  {
   "cell_type": "code",
   "execution_count": null,
   "id": "de86c160",
   "metadata": {},
   "outputs": [],
   "source": []
  }
 ],
 "metadata": {
  "kernelspec": {
   "display_name": "Python 3 (ipykernel)",
   "language": "python",
   "name": "python3"
  },
  "language_info": {
   "codemirror_mode": {
    "name": "ipython",
    "version": 3
   },
   "file_extension": ".py",
   "mimetype": "text/x-python",
   "name": "python",
   "nbconvert_exporter": "python",
   "pygments_lexer": "ipython3",
   "version": "3.10.9"
  }
 },
 "nbformat": 4,
 "nbformat_minor": 5
}
