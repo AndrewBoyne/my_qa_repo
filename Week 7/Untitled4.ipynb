{
 "cells": [
  {
   "cell_type": "code",
   "execution_count": null,
   "id": "8a2ec9b6",
   "metadata": {},
   "outputs": [],
   "source": [
    "#Info required\n",
    "Info required for all people who've applied and also a dubset of those who defaulted\n",
    "Credit score at time of app\n",
    "Income and expenditure\n",
    "occupation etc\n",
    "number of months payments missed and similar date at time of default\n",
    "location\n",
    "\n",
    "which of those criteria have a strong correlation with the propensity to default\n",
    "examine the subset of those loans defaulted, then the correlation of various factors to build the model\n",
    "\n",
    "Swap out criteria to arrive at the lowest failure of prediction rate (R2, MSE MAE etc)\n",
    "\n",
    "Success?  reduction or eradication in the numbe of defaults \n",
    "                                                                      \n",
    "                                                "
   ]
  }
 ],
 "metadata": {
  "kernelspec": {
   "display_name": "Python 3 (ipykernel)",
   "language": "python",
   "name": "python3"
  },
  "language_info": {
   "codemirror_mode": {
    "name": "ipython",
    "version": 3
   },
   "file_extension": ".py",
   "mimetype": "text/x-python",
   "name": "python",
   "nbconvert_exporter": "python",
   "pygments_lexer": "ipython3",
   "version": "3.10.9"
  }
 },
 "nbformat": 4,
 "nbformat_minor": 5
}
