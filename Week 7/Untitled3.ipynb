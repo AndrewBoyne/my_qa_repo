{
 "cells": [
  {
   "cell_type": "code",
   "execution_count": 2,
   "id": "9e557caf",
   "metadata": {},
   "outputs": [],
   "source": [
    "e = 'Earth'\n",
    "f = 'Fire'\n",
    "g = 'E' + 'F'\n",
    "h = 'F' * 3\n",
    "i = f * 4"
   ]
  },
  {
   "cell_type": "code",
   "execution_count": 3,
   "id": "bb6a0ae6",
   "metadata": {},
   "outputs": [
    {
     "data": {
      "text/plain": [
       "'FireFireFireFire'"
      ]
     },
     "execution_count": 3,
     "metadata": {},
     "output_type": "execute_result"
    }
   ],
   "source": [
    "i"
   ]
  },
  {
   "cell_type": "code",
   "execution_count": 4,
   "id": "c8666ebf",
   "metadata": {},
   "outputs": [
    {
     "data": {
      "text/plain": [
       "'FFF'"
      ]
     },
     "execution_count": 4,
     "metadata": {},
     "output_type": "execute_result"
    }
   ],
   "source": [
    "h"
   ]
  },
  {
   "cell_type": "code",
   "execution_count": 5,
   "id": "624a3684",
   "metadata": {},
   "outputs": [
    {
     "data": {
      "text/plain": [
       "'FireFireFireFire'"
      ]
     },
     "execution_count": 5,
     "metadata": {},
     "output_type": "execute_result"
    }
   ],
   "source": [
    "i"
   ]
  },
  {
   "cell_type": "code",
   "execution_count": 6,
   "id": "24ba6a41",
   "metadata": {},
   "outputs": [],
   "source": [
    "a = 6 + 8\n",
    "b = 14 / 2\n",
    "c = 7 % 5\n",
    "d = 14 // 4\n",
    "e = 'E'\n",
    "f = 'F'\n",
    "g = 'E' + 'F'\n",
    "h = 'F' * 3\n",
    "i = 'F' * a"
   ]
  },
  {
   "cell_type": "code",
   "execution_count": 14,
   "id": "cc011396",
   "metadata": {},
   "outputs": [
    {
     "data": {
      "text/plain": [
       "False"
      ]
     },
     "execution_count": 14,
     "metadata": {},
     "output_type": "execute_result"
    }
   ],
   "source": [
    "# Task 3\n",
    "# Using the below expressions, can you replace the question marks to produce \n",
    "# the desired boolean value?\n",
    "\n",
    "# Comparison operators: ==, !=, <, >, <=, >=\n",
    "#a == 4 + 5 # False \n",
    "#3 < c # False\n",
    "#d <= 3 # True\n",
    "? == '?' # True\n",
    "\n",
    "# Logical operators: and, or, not\n",
    "#(? == ? + ?) and (? == ? / ?) # False\n",
    "#(? == ? + ?) or (g == 'FE') # True\n",
    "#not (? == '?') # True"
   ]
  },
  {
   "cell_type": "code",
   "execution_count": 17,
   "id": "10cf1d6c",
   "metadata": {},
   "outputs": [
    {
     "name": "stdout",
     "output_type": "stream",
     "text": [
      "Object ` == '?'` not found.\n"
     ]
    }
   ],
   "source": [
    "? == '?'"
   ]
  },
  {
   "cell_type": "code",
   "execution_count": 21,
   "id": "78bcfa25",
   "metadata": {},
   "outputs": [
    {
     "data": {
      "text/plain": [
       "{1, 3, 'spam'}"
      ]
     },
     "execution_count": 21,
     "metadata": {},
     "output_type": "execute_result"
    }
   ],
   "source": [
    "{1,1,1,1,3,3,3,3,3,3,3,3,3,3,'spam','spam','spam'}"
   ]
  },
  {
   "cell_type": "code",
   "execution_count": 22,
   "id": "198acd90",
   "metadata": {},
   "outputs": [],
   "source": [
    "data_dict = {'age'       : [23, 34, 25],\n",
    "             'active'    : [True, False, True],\n",
    "             'first_name': ['Amy', 'James', 'John'],\n",
    "             'last_name' : ['Wright', 'Cook', 'Taylor']}"
   ]
  },
  {
   "cell_type": "code",
   "execution_count": 23,
   "id": "e868bc9a",
   "metadata": {},
   "outputs": [
    {
     "data": {
      "text/plain": [
       "{'age': [23, 34, 25],\n",
       " 'active': [True, False, True],\n",
       " 'first_name': ['Amy', 'James', 'John'],\n",
       " 'last_name': ['Wright', 'Cook', 'Taylor']}"
      ]
     },
     "execution_count": 23,
     "metadata": {},
     "output_type": "execute_result"
    }
   ],
   "source": [
    "data_dict"
   ]
  },
  {
   "cell_type": "code",
   "execution_count": 24,
   "id": "271283e8",
   "metadata": {},
   "outputs": [
    {
     "ename": "NameError",
     "evalue": "name 'my_dict' is not defined",
     "output_type": "error",
     "traceback": [
      "\u001b[1;31m---------------------------------------------------------------------------\u001b[0m",
      "\u001b[1;31mNameError\u001b[0m                                 Traceback (most recent call last)",
      "Cell \u001b[1;32mIn[24], line 1\u001b[0m\n\u001b[1;32m----> 1\u001b[0m \u001b[43mmy_dict\u001b[49m[\u001b[38;5;124m'\u001b[39m\u001b[38;5;124mc\u001b[39m\u001b[38;5;124m'\u001b[39m][\u001b[38;5;241m1\u001b[39m][\u001b[38;5;241m1\u001b[39m]\n",
      "\u001b[1;31mNameError\u001b[0m: name 'my_dict' is not defined"
     ]
    }
   ],
   "source": [
    "my_dict['c'][1][1]"
   ]
  },
  {
   "cell_type": "code",
   "execution_count": 25,
   "id": "00a82cb2",
   "metadata": {},
   "outputs": [
    {
     "data": {
      "text/plain": [
       "'String 0'"
      ]
     },
     "execution_count": 25,
     "metadata": {},
     "output_type": "execute_result"
    }
   ],
   "source": [
    "my_dict = {\n",
    "    'a': 'String 0',\n",
    "    'c': ['One', 'Two']\n",
    "}\n",
    "my_dict['a']"
   ]
  },
  {
   "cell_type": "code",
   "execution_count": 29,
   "id": "00842e49",
   "metadata": {},
   "outputs": [
    {
     "data": {
      "text/plain": [
       "'T'"
      ]
     },
     "execution_count": 29,
     "metadata": {},
     "output_type": "execute_result"
    }
   ],
   "source": [
    "my_dict['c'][1][0]"
   ]
  },
  {
   "cell_type": "code",
   "execution_count": 36,
   "id": "3ff80a5d",
   "metadata": {},
   "outputs": [
    {
     "name": "stdout",
     "output_type": "stream",
     "text": [
      "This 10 month old cheddar is mature\n"
     ]
    }
   ],
   "source": [
    "cheddar_age = 10\n",
    "#value = True\n",
    "\n",
    "if cheddar_age >= 18: #or value == True:\n",
    "    age_group = 'vintage'\n",
    "elif cheddar_age > 12:\n",
    "    age_group = 'extra mature' \n",
    "elif cheddar_age > 6:\n",
    "    age_group = 'mature'  \n",
    "else:\n",
    "    age_group = 'mild'   \n",
    "\n",
    "print(f'This {cheddar_age} month old cheddar is {age_group}')"
   ]
  },
  {
   "cell_type": "code",
   "execution_count": null,
   "id": "e48238e3",
   "metadata": {},
   "outputs": [],
   "source": []
  }
 ],
 "metadata": {
  "kernelspec": {
   "display_name": "Python 3 (ipykernel)",
   "language": "python",
   "name": "python3"
  },
  "language_info": {
   "codemirror_mode": {
    "name": "ipython",
    "version": 3
   },
   "file_extension": ".py",
   "mimetype": "text/x-python",
   "name": "python",
   "nbconvert_exporter": "python",
   "pygments_lexer": "ipython3",
   "version": "3.10.9"
  }
 },
 "nbformat": 4,
 "nbformat_minor": 5
}
