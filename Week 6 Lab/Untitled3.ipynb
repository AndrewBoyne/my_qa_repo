{
 "cells": [
  {
   "cell_type": "code",
   "execution_count": 2,
   "id": "b96ed9cb",
   "metadata": {},
   "outputs": [],
   "source": [
    "import pandas as pd"
   ]
  },
  {
   "cell_type": "code",
   "execution_count": null,
   "id": "fc970e2f",
   "metadata": {},
   "outputs": [],
   "source": [
    "lib_2014 = pd.read_csv(\"librarycheckouts_2014.csv\")\n",
    "lib_2014.dtypes\n",
    "lib_2014['CheckoutDateTime'] = pd.to_datetime(lib_2014['CheckoutDateTime']) # convert CheckoutDateTime to date/time\n",
    "count_by_category = lib_2014.groupby('CheckoutDateTime').size().reset_index(name='Count') # counts the number of times a \n",
    "# particular entry appears in a column.  I now need to limit the data to the day, not including the time\n",
    "count_by_category['DateOnly'] = count_by_category['CheckoutDateTime'].dt.date # converts date time to a new date only column.\n",
    "# Now need to amalgamate them\n",
    "count_by_cat = count_by_category.groupby('DateOnly').size().reset_index(name='Count') # I now have number of times an item was\n",
    "# withdrawn from the library per day in 2014.  I need this for all three years\n",
    "count_by_cat.to_csv('Lib_2014_dates_only.csv')"
   ]
  },
  {
   "cell_type": "code",
   "execution_count": 3,
   "id": "ec2035f5",
   "metadata": {},
   "outputs": [],
   "source": [
    "lib_2016 = pd.read_csv(\"librarycheckouts_2016.csv\")"
   ]
  },
  {
   "cell_type": "code",
   "execution_count": 7,
   "id": "b063f72a",
   "metadata": {},
   "outputs": [],
   "source": [
    "lib_2016['CheckoutDateTime'] = pd.to_datetime(lib_2016['CheckoutDateTime'])"
   ]
  },
  {
   "cell_type": "code",
   "execution_count": 9,
   "id": "20082b10",
   "metadata": {},
   "outputs": [],
   "source": [
    "count_by_category = lib_2016.groupby('CheckoutDateTime').size().reset_index(name='Count')"
   ]
  },
  {
   "cell_type": "code",
   "execution_count": 10,
   "id": "f2afff44",
   "metadata": {},
   "outputs": [],
   "source": [
    "count_by_category['DateOnly'] = count_by_category['CheckoutDateTime'].dt.date"
   ]
  },
  {
   "cell_type": "code",
   "execution_count": 11,
   "id": "1c9ed335",
   "metadata": {},
   "outputs": [],
   "source": [
    "count_by_cat = count_by_category.groupby('DateOnly').size().reset_index(name='Count')"
   ]
  },
  {
   "cell_type": "code",
   "execution_count": 12,
   "id": "b3a3b510",
   "metadata": {},
   "outputs": [
    {
     "data": {
      "text/html": [
       "<div>\n",
       "<style scoped>\n",
       "    .dataframe tbody tr th:only-of-type {\n",
       "        vertical-align: middle;\n",
       "    }\n",
       "\n",
       "    .dataframe tbody tr th {\n",
       "        vertical-align: top;\n",
       "    }\n",
       "\n",
       "    .dataframe thead th {\n",
       "        text-align: right;\n",
       "    }\n",
       "</style>\n",
       "<table border=\"1\" class=\"dataframe\">\n",
       "  <thead>\n",
       "    <tr style=\"text-align: right;\">\n",
       "      <th></th>\n",
       "      <th>DateOnly</th>\n",
       "      <th>Count</th>\n",
       "    </tr>\n",
       "  </thead>\n",
       "  <tbody>\n",
       "    <tr>\n",
       "      <th>0</th>\n",
       "      <td>2016-01-02</td>\n",
       "      <td>464</td>\n",
       "    </tr>\n",
       "    <tr>\n",
       "      <th>1</th>\n",
       "      <td>2016-01-03</td>\n",
       "      <td>298</td>\n",
       "    </tr>\n",
       "    <tr>\n",
       "      <th>2</th>\n",
       "      <td>2016-01-04</td>\n",
       "      <td>576</td>\n",
       "    </tr>\n",
       "    <tr>\n",
       "      <th>3</th>\n",
       "      <td>2016-01-05</td>\n",
       "      <td>562</td>\n",
       "    </tr>\n",
       "    <tr>\n",
       "      <th>4</th>\n",
       "      <td>2016-01-06</td>\n",
       "      <td>541</td>\n",
       "    </tr>\n",
       "    <tr>\n",
       "      <th>...</th>\n",
       "      <td>...</td>\n",
       "      <td>...</td>\n",
       "    </tr>\n",
       "    <tr>\n",
       "      <th>350</th>\n",
       "      <td>2016-12-27</td>\n",
       "      <td>545</td>\n",
       "    </tr>\n",
       "    <tr>\n",
       "      <th>351</th>\n",
       "      <td>2016-12-28</td>\n",
       "      <td>549</td>\n",
       "    </tr>\n",
       "    <tr>\n",
       "      <th>352</th>\n",
       "      <td>2016-12-29</td>\n",
       "      <td>514</td>\n",
       "    </tr>\n",
       "    <tr>\n",
       "      <th>353</th>\n",
       "      <td>2016-12-30</td>\n",
       "      <td>444</td>\n",
       "    </tr>\n",
       "    <tr>\n",
       "      <th>354</th>\n",
       "      <td>2016-12-31</td>\n",
       "      <td>447</td>\n",
       "    </tr>\n",
       "  </tbody>\n",
       "</table>\n",
       "<p>355 rows × 2 columns</p>\n",
       "</div>"
      ],
      "text/plain": [
       "       DateOnly  Count\n",
       "0    2016-01-02    464\n",
       "1    2016-01-03    298\n",
       "2    2016-01-04    576\n",
       "3    2016-01-05    562\n",
       "4    2016-01-06    541\n",
       "..          ...    ...\n",
       "350  2016-12-27    545\n",
       "351  2016-12-28    549\n",
       "352  2016-12-29    514\n",
       "353  2016-12-30    444\n",
       "354  2016-12-31    447\n",
       "\n",
       "[355 rows x 2 columns]"
      ]
     },
     "execution_count": 12,
     "metadata": {},
     "output_type": "execute_result"
    }
   ],
   "source": [
    "count_by_cat"
   ]
  },
  {
   "cell_type": "code",
   "execution_count": 14,
   "id": "4bbb2ba1",
   "metadata": {},
   "outputs": [],
   "source": [
    "count_by_cat.to_csv('Lib_2016_dates_only.csv')"
   ]
  },
  {
   "cell_type": "code",
   "execution_count": null,
   "id": "14a7f6c0",
   "metadata": {},
   "outputs": [],
   "source": []
  }
 ],
 "metadata": {
  "kernelspec": {
   "display_name": "Python 3 (ipykernel)",
   "language": "python",
   "name": "python3"
  },
  "language_info": {
   "codemirror_mode": {
    "name": "ipython",
    "version": 3
   },
   "file_extension": ".py",
   "mimetype": "text/x-python",
   "name": "python",
   "nbconvert_exporter": "python",
   "pygments_lexer": "ipython3",
   "version": "3.10.9"
  }
 },
 "nbformat": 4,
 "nbformat_minor": 5
}
