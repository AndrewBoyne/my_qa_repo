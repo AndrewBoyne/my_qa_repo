{
 "cells": [
  {
   "cell_type": "code",
   "execution_count": 1,
   "id": "04700773",
   "metadata": {},
   "outputs": [],
   "source": [
    "import pandas as pd\n"
   ]
  },
  {
   "cell_type": "code",
   "execution_count": 2,
   "id": "9450a59d",
   "metadata": {},
   "outputs": [
    {
     "name": "stderr",
     "output_type": "stream",
     "text": [
      "C:\\Users\\Admin\\AppData\\Local\\Temp\\ipykernel_10024\\3193588831.py:1: DtypeWarning: Columns (11) have mixed types. Specify dtype option on import or set low_memory=False.\n",
      "  trips = pd.read_csv(\"Seattle_cycles_trip.csv\")\n"
     ]
    }
   ],
   "source": [
    "trips = pd.read_csv(\"Seattle_cycles_trip.csv\")"
   ]
  },
  {
   "cell_type": "code",
   "execution_count": 4,
   "id": "745b038a",
   "metadata": {},
   "outputs": [
    {
     "data": {
      "text/html": [
       "<div>\n",
       "<style scoped>\n",
       "    .dataframe tbody tr th:only-of-type {\n",
       "        vertical-align: middle;\n",
       "    }\n",
       "\n",
       "    .dataframe tbody tr th {\n",
       "        vertical-align: top;\n",
       "    }\n",
       "\n",
       "    .dataframe thead th {\n",
       "        text-align: right;\n",
       "    }\n",
       "</style>\n",
       "<table border=\"1\" class=\"dataframe\">\n",
       "  <thead>\n",
       "    <tr style=\"text-align: right;\">\n",
       "      <th></th>\n",
       "      <th>trip_id</th>\n",
       "      <th>starttime</th>\n",
       "      <th>stoptime</th>\n",
       "      <th>bikeid</th>\n",
       "      <th>tripduration</th>\n",
       "      <th>from_station_name</th>\n",
       "      <th>to_station_name</th>\n",
       "      <th>from_station_id</th>\n",
       "      <th>to_station_id</th>\n",
       "      <th>usertype</th>\n",
       "      <th>gender</th>\n",
       "      <th>birthyear</th>\n",
       "    </tr>\n",
       "  </thead>\n",
       "  <tbody>\n",
       "    <tr>\n",
       "      <th>0</th>\n",
       "      <td>431</td>\n",
       "      <td>10/13/2014 10:31</td>\n",
       "      <td>10/13/2014 10:48</td>\n",
       "      <td>SEA00298</td>\n",
       "      <td>985.935</td>\n",
       "      <td>2nd Ave &amp; Spring St</td>\n",
       "      <td>Occidental Park / Occidental Ave S &amp; S Washing...</td>\n",
       "      <td>CBD-06</td>\n",
       "      <td>PS-04</td>\n",
       "      <td>Member</td>\n",
       "      <td>Male</td>\n",
       "      <td>1960</td>\n",
       "    </tr>\n",
       "  </tbody>\n",
       "</table>\n",
       "</div>"
      ],
      "text/plain": [
       "   trip_id         starttime          stoptime    bikeid  tripduration  \\\n",
       "0      431  10/13/2014 10:31  10/13/2014 10:48  SEA00298       985.935   \n",
       "\n",
       "     from_station_name                                    to_station_name  \\\n",
       "0  2nd Ave & Spring St  Occidental Park / Occidental Ave S & S Washing...   \n",
       "\n",
       "  from_station_id to_station_id usertype gender birthyear  \n",
       "0          CBD-06         PS-04   Member   Male      1960  "
      ]
     },
     "execution_count": 4,
     "metadata": {},
     "output_type": "execute_result"
    }
   ],
   "source": [
    "trips.head(1)"
   ]
  },
  {
   "cell_type": "code",
   "execution_count": 10,
   "id": "d01747cd",
   "metadata": {},
   "outputs": [
    {
     "name": "stdout",
     "output_type": "stream",
     "text": [
      "        trip_id         starttime          stoptime    bikeid  tripduration  \\\n",
      "0           431  10/13/2014 10:31  10/13/2014 10:48  SEA00298       985.935   \n",
      "1           432  10/13/2014 10:32  10/13/2014 10:48  SEA00195       926.375   \n",
      "2           433  10/13/2014 10:33  10/13/2014 10:48  SEA00486       883.831   \n",
      "3           434  10/13/2014 10:34  10/13/2014 10:48  SEA00333       865.937   \n",
      "4           435  10/13/2014 10:34  10/13/2014 10:49  SEA00202       923.923   \n",
      "...         ...               ...               ...       ...           ...   \n",
      "286853   255241   8/31/2016 23:34   8/31/2016 23:45  SEA00201       679.532   \n",
      "286854   255242   8/31/2016 23:48  09/01/2016 00:20  SEA00247      1965.418   \n",
      "286855   255243   8/31/2016 23:47  09/01/2016 00:20  SEA00300      1951.173   \n",
      "286856   255244   8/31/2016 23:49  09/01/2016 00:20  SEA00047      1883.299   \n",
      "286857   255245   8/31/2016 23:49  09/01/2016 00:20  SEA00442      1896.031   \n",
      "\n",
      "                             from_station_name  \\\n",
      "0                          2nd Ave & Spring St   \n",
      "1                          2nd Ave & Spring St   \n",
      "2                          2nd Ave & Spring St   \n",
      "3                          2nd Ave & Spring St   \n",
      "4                          2nd Ave & Spring St   \n",
      "...                                        ...   \n",
      "286853                 Harvard Ave & E Pine St   \n",
      "286854  Cal Anderson Park / 11th Ave & Pine St   \n",
      "286855  Cal Anderson Park / 11th Ave & Pine St   \n",
      "286856  Cal Anderson Park / 11th Ave & Pine St   \n",
      "286857  Cal Anderson Park / 11th Ave & Pine St   \n",
      "\n",
      "                                          to_station_name from_station_id  \\\n",
      "0       Occidental Park / Occidental Ave S & S Washing...          CBD-06   \n",
      "1       Occidental Park / Occidental Ave S & S Washing...          CBD-06   \n",
      "2       Occidental Park / Occidental Ave S & S Washing...          CBD-06   \n",
      "3       Occidental Park / Occidental Ave S & S Washing...          CBD-06   \n",
      "4       Occidental Park / Occidental Ave S & S Washing...          CBD-06   \n",
      "...                                                   ...             ...   \n",
      "286853                                2nd Ave & Spring St           CH-09   \n",
      "286854                              6th Ave S & S King St           CH-08   \n",
      "286855                              6th Ave S & S King St           CH-08   \n",
      "286856                              6th Ave S & S King St           CH-08   \n",
      "286857                              6th Ave S & S King St           CH-08   \n",
      "\n",
      "       to_station_id                usertype  gender birthyear  \n",
      "0              PS-04                  Member    Male      1960  \n",
      "1              PS-04                  Member    Male      1970  \n",
      "2              PS-04                  Member  Female      1988  \n",
      "3              PS-04                  Member  Female      1977  \n",
      "4              PS-04                  Member    Male      1971  \n",
      "...              ...                     ...     ...       ...  \n",
      "286853        CBD-06  Short-Term Pass Holder     NaN       NaN  \n",
      "286854         ID-04  Short-Term Pass Holder     NaN       NaN  \n",
      "286855         ID-04  Short-Term Pass Holder     NaN       NaN  \n",
      "286856         ID-04  Short-Term Pass Holder     NaN       NaN  \n",
      "286857         ID-04  Short-Term Pass Holder     NaN       NaN  \n",
      "\n",
      "[286858 rows x 12 columns]\n"
     ]
    }
   ],
   "source": [
    "print(trips)"
   ]
  },
  {
   "cell_type": "code",
   "execution_count": 11,
   "id": "25e52347",
   "metadata": {},
   "outputs": [
    {
     "name": "stdout",
     "output_type": "stream",
     "text": [
      "        trip_id         starttime          stoptime    bikeid  tripduration  \\\n",
      "0           431  10/13/2014 10:31  10/13/2014 10:48  SEA00298       985.935   \n",
      "1           432  10/13/2014 10:32  10/13/2014 10:48  SEA00195       926.375   \n",
      "2           433  10/13/2014 10:33  10/13/2014 10:48  SEA00486       883.831   \n",
      "3           434  10/13/2014 10:34  10/13/2014 10:48  SEA00333       865.937   \n",
      "4           435  10/13/2014 10:34  10/13/2014 10:49  SEA00202       923.923   \n",
      "...         ...               ...               ...       ...           ...   \n",
      "286853   255241   8/31/2016 23:34   8/31/2016 23:45  SEA00201       679.532   \n",
      "286854   255242   8/31/2016 23:48  09/01/2016 00:20  SEA00247      1965.418   \n",
      "286855   255243   8/31/2016 23:47  09/01/2016 00:20  SEA00300      1951.173   \n",
      "286856   255244   8/31/2016 23:49  09/01/2016 00:20  SEA00047      1883.299   \n",
      "286857   255245   8/31/2016 23:49  09/01/2016 00:20  SEA00442      1896.031   \n",
      "\n",
      "                             from_station_name  \\\n",
      "0                          2nd Ave & Spring St   \n",
      "1                          2nd Ave & Spring St   \n",
      "2                          2nd Ave & Spring St   \n",
      "3                          2nd Ave & Spring St   \n",
      "4                          2nd Ave & Spring St   \n",
      "...                                        ...   \n",
      "286853                 Harvard Ave & E Pine St   \n",
      "286854  Cal Anderson Park / 11th Ave & Pine St   \n",
      "286855  Cal Anderson Park / 11th Ave & Pine St   \n",
      "286856  Cal Anderson Park / 11th Ave & Pine St   \n",
      "286857  Cal Anderson Park / 11th Ave & Pine St   \n",
      "\n",
      "                                          to_station_name from_station_id  \\\n",
      "0       Occidental Park / Occidental Ave S & S Washing...          CBD-06   \n",
      "1       Occidental Park / Occidental Ave S & S Washing...          CBD-06   \n",
      "2       Occidental Park / Occidental Ave S & S Washing...          CBD-06   \n",
      "3       Occidental Park / Occidental Ave S & S Washing...          CBD-06   \n",
      "4       Occidental Park / Occidental Ave S & S Washing...          CBD-06   \n",
      "...                                                   ...             ...   \n",
      "286853                                2nd Ave & Spring St           CH-09   \n",
      "286854                              6th Ave S & S King St           CH-08   \n",
      "286855                              6th Ave S & S King St           CH-08   \n",
      "286856                              6th Ave S & S King St           CH-08   \n",
      "286857                              6th Ave S & S King St           CH-08   \n",
      "\n",
      "       to_station_id                usertype  gender birthyear  \n",
      "0              PS-04                  Member    Male      1960  \n",
      "1              PS-04                  Member    Male      1970  \n",
      "2              PS-04                  Member  Female      1988  \n",
      "3              PS-04                  Member  Female      1977  \n",
      "4              PS-04                  Member    Male      1971  \n",
      "...              ...                     ...     ...       ...  \n",
      "286853        CBD-06  Short-Term Pass Holder     NaN       NaN  \n",
      "286854         ID-04  Short-Term Pass Holder     NaN       NaN  \n",
      "286855         ID-04  Short-Term Pass Holder     NaN       NaN  \n",
      "286856         ID-04  Short-Term Pass Holder     NaN       NaN  \n",
      "286857         ID-04  Short-Term Pass Holder     NaN       NaN  \n",
      "\n",
      "[286858 rows x 12 columns]\n"
     ]
    }
   ],
   "source": [
    "print(trips)\n"
   ]
  },
  {
   "cell_type": "code",
   "execution_count": 13,
   "id": "ae996de9",
   "metadata": {},
   "outputs": [
    {
     "name": "stdout",
     "output_type": "stream",
     "text": [
      "<class 'pandas.core.frame.DataFrame'>\n",
      "RangeIndex: 286858 entries, 0 to 286857\n",
      "Data columns (total 12 columns):\n",
      " #   Column             Non-Null Count   Dtype  \n",
      "---  ------             --------------   -----  \n",
      " 0   trip_id            286858 non-null  int64  \n",
      " 1   starttime          286858 non-null  object \n",
      " 2   stoptime           286858 non-null  object \n",
      " 3   bikeid             286858 non-null  object \n",
      " 4   tripduration       286858 non-null  float64\n",
      " 5   from_station_name  286858 non-null  object \n",
      " 6   to_station_name    286858 non-null  object \n",
      " 7   from_station_id    286858 non-null  object \n",
      " 8   to_station_id      286858 non-null  object \n",
      " 9   usertype           286858 non-null  object \n",
      " 10  gender             181558 non-null  object \n",
      " 11  birthyear          181554 non-null  object \n",
      "dtypes: float64(1), int64(1), object(10)\n",
      "memory usage: 26.3+ MB\n",
      "None\n"
     ]
    }
   ],
   "source": [
    "print(trips.info())"
   ]
  },
  {
   "cell_type": "code",
   "execution_count": null,
   "id": "53baeef2",
   "metadata": {},
   "outputs": [],
   "source": []
  }
 ],
 "metadata": {
  "kernelspec": {
   "display_name": "Python 3 (ipykernel)",
   "language": "python",
   "name": "python3"
  },
  "language_info": {
   "codemirror_mode": {
    "name": "ipython",
    "version": 3
   },
   "file_extension": ".py",
   "mimetype": "text/x-python",
   "name": "python",
   "nbconvert_exporter": "python",
   "pygments_lexer": "ipython3",
   "version": "3.10.9"
  }
 },
 "nbformat": 4,
 "nbformat_minor": 5
}
