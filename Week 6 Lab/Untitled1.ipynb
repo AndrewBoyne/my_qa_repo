{
 "cells": [
  {
   "cell_type": "code",
   "execution_count": 1,
   "id": "dde66b42",
   "metadata": {},
   "outputs": [],
   "source": [
    "#Lotsof attempts to convert the column starttime into date format\n",
    "\n",
    "import pandas as pd\n"
   ]
  },
  {
   "cell_type": "code",
   "execution_count": 2,
   "id": "5cad25c7",
   "metadata": {},
   "outputs": [
    {
     "name": "stderr",
     "output_type": "stream",
     "text": [
      "C:\\Users\\Admin\\AppData\\Local\\Temp\\ipykernel_10024\\3193588831.py:1: DtypeWarning: Columns (11) have mixed types. Specify dtype option on import or set low_memory=False.\n",
      "  trips = pd.read_csv(\"Seattle_cycles_trip.csv\")\n"
     ]
    }
   ],
   "source": [
    "trips = pd.read_csv(\"Seattle_cycles_trip.csv\")"
   ]
  },
  {
   "cell_type": "code",
   "execution_count": 4,
   "id": "a95e6f69",
   "metadata": {},
   "outputs": [
    {
     "data": {
      "text/html": [
       "<div>\n",
       "<style scoped>\n",
       "    .dataframe tbody tr th:only-of-type {\n",
       "        vertical-align: middle;\n",
       "    }\n",
       "\n",
       "    .dataframe tbody tr th {\n",
       "        vertical-align: top;\n",
       "    }\n",
       "\n",
       "    .dataframe thead th {\n",
       "        text-align: right;\n",
       "    }\n",
       "</style>\n",
       "<table border=\"1\" class=\"dataframe\">\n",
       "  <thead>\n",
       "    <tr style=\"text-align: right;\">\n",
       "      <th></th>\n",
       "      <th>trip_id</th>\n",
       "      <th>starttime</th>\n",
       "      <th>stoptime</th>\n",
       "      <th>bikeid</th>\n",
       "      <th>tripduration</th>\n",
       "      <th>from_station_name</th>\n",
       "      <th>to_station_name</th>\n",
       "      <th>from_station_id</th>\n",
       "      <th>to_station_id</th>\n",
       "      <th>usertype</th>\n",
       "      <th>gender</th>\n",
       "      <th>birthyear</th>\n",
       "    </tr>\n",
       "  </thead>\n",
       "  <tbody>\n",
       "    <tr>\n",
       "      <th>0</th>\n",
       "      <td>431</td>\n",
       "      <td>10/13/2014 10:31</td>\n",
       "      <td>10/13/2014 10:48</td>\n",
       "      <td>SEA00298</td>\n",
       "      <td>985.935</td>\n",
       "      <td>2nd Ave &amp; Spring St</td>\n",
       "      <td>Occidental Park / Occidental Ave S &amp; S Washing...</td>\n",
       "      <td>CBD-06</td>\n",
       "      <td>PS-04</td>\n",
       "      <td>Member</td>\n",
       "      <td>Male</td>\n",
       "      <td>1960</td>\n",
       "    </tr>\n",
       "  </tbody>\n",
       "</table>\n",
       "</div>"
      ],
      "text/plain": [
       "   trip_id         starttime          stoptime    bikeid  tripduration  \\\n",
       "0      431  10/13/2014 10:31  10/13/2014 10:48  SEA00298       985.935   \n",
       "\n",
       "     from_station_name                                    to_station_name  \\\n",
       "0  2nd Ave & Spring St  Occidental Park / Occidental Ave S & S Washing...   \n",
       "\n",
       "  from_station_id to_station_id usertype gender birthyear  \n",
       "0          CBD-06         PS-04   Member   Male      1960  "
      ]
     },
     "execution_count": 4,
     "metadata": {},
     "output_type": "execute_result"
    }
   ],
   "source": [
    "trips.head(1)"
   ]
  },
  {
   "cell_type": "code",
   "execution_count": 10,
   "id": "afa843ab",
   "metadata": {},
   "outputs": [
    {
     "name": "stdout",
     "output_type": "stream",
     "text": [
      "        trip_id         starttime          stoptime    bikeid  tripduration  \\\n",
      "0           431  10/13/2014 10:31  10/13/2014 10:48  SEA00298       985.935   \n",
      "1           432  10/13/2014 10:32  10/13/2014 10:48  SEA00195       926.375   \n",
      "2           433  10/13/2014 10:33  10/13/2014 10:48  SEA00486       883.831   \n",
      "3           434  10/13/2014 10:34  10/13/2014 10:48  SEA00333       865.937   \n",
      "4           435  10/13/2014 10:34  10/13/2014 10:49  SEA00202       923.923   \n",
      "...         ...               ...               ...       ...           ...   \n",
      "286853   255241   8/31/2016 23:34   8/31/2016 23:45  SEA00201       679.532   \n",
      "286854   255242   8/31/2016 23:48  09/01/2016 00:20  SEA00247      1965.418   \n",
      "286855   255243   8/31/2016 23:47  09/01/2016 00:20  SEA00300      1951.173   \n",
      "286856   255244   8/31/2016 23:49  09/01/2016 00:20  SEA00047      1883.299   \n",
      "286857   255245   8/31/2016 23:49  09/01/2016 00:20  SEA00442      1896.031   \n",
      "\n",
      "                             from_station_name  \\\n",
      "0                          2nd Ave & Spring St   \n",
      "1                          2nd Ave & Spring St   \n",
      "2                          2nd Ave & Spring St   \n",
      "3                          2nd Ave & Spring St   \n",
      "4                          2nd Ave & Spring St   \n",
      "...                                        ...   \n",
      "286853                 Harvard Ave & E Pine St   \n",
      "286854  Cal Anderson Park / 11th Ave & Pine St   \n",
      "286855  Cal Anderson Park / 11th Ave & Pine St   \n",
      "286856  Cal Anderson Park / 11th Ave & Pine St   \n",
      "286857  Cal Anderson Park / 11th Ave & Pine St   \n",
      "\n",
      "                                          to_station_name from_station_id  \\\n",
      "0       Occidental Park / Occidental Ave S & S Washing...          CBD-06   \n",
      "1       Occidental Park / Occidental Ave S & S Washing...          CBD-06   \n",
      "2       Occidental Park / Occidental Ave S & S Washing...          CBD-06   \n",
      "3       Occidental Park / Occidental Ave S & S Washing...          CBD-06   \n",
      "4       Occidental Park / Occidental Ave S & S Washing...          CBD-06   \n",
      "...                                                   ...             ...   \n",
      "286853                                2nd Ave & Spring St           CH-09   \n",
      "286854                              6th Ave S & S King St           CH-08   \n",
      "286855                              6th Ave S & S King St           CH-08   \n",
      "286856                              6th Ave S & S King St           CH-08   \n",
      "286857                              6th Ave S & S King St           CH-08   \n",
      "\n",
      "       to_station_id                usertype  gender birthyear  \n",
      "0              PS-04                  Member    Male      1960  \n",
      "1              PS-04                  Member    Male      1970  \n",
      "2              PS-04                  Member  Female      1988  \n",
      "3              PS-04                  Member  Female      1977  \n",
      "4              PS-04                  Member    Male      1971  \n",
      "...              ...                     ...     ...       ...  \n",
      "286853        CBD-06  Short-Term Pass Holder     NaN       NaN  \n",
      "286854         ID-04  Short-Term Pass Holder     NaN       NaN  \n",
      "286855         ID-04  Short-Term Pass Holder     NaN       NaN  \n",
      "286856         ID-04  Short-Term Pass Holder     NaN       NaN  \n",
      "286857         ID-04  Short-Term Pass Holder     NaN       NaN  \n",
      "\n",
      "[286858 rows x 12 columns]\n"
     ]
    }
   ],
   "source": [
    "print(trips)"
   ]
  },
  {
   "cell_type": "code",
   "execution_count": 11,
   "id": "cd3c141c",
   "metadata": {},
   "outputs": [
    {
     "name": "stdout",
     "output_type": "stream",
     "text": [
      "        trip_id         starttime          stoptime    bikeid  tripduration  \\\n",
      "0           431  10/13/2014 10:31  10/13/2014 10:48  SEA00298       985.935   \n",
      "1           432  10/13/2014 10:32  10/13/2014 10:48  SEA00195       926.375   \n",
      "2           433  10/13/2014 10:33  10/13/2014 10:48  SEA00486       883.831   \n",
      "3           434  10/13/2014 10:34  10/13/2014 10:48  SEA00333       865.937   \n",
      "4           435  10/13/2014 10:34  10/13/2014 10:49  SEA00202       923.923   \n",
      "...         ...               ...               ...       ...           ...   \n",
      "286853   255241   8/31/2016 23:34   8/31/2016 23:45  SEA00201       679.532   \n",
      "286854   255242   8/31/2016 23:48  09/01/2016 00:20  SEA00247      1965.418   \n",
      "286855   255243   8/31/2016 23:47  09/01/2016 00:20  SEA00300      1951.173   \n",
      "286856   255244   8/31/2016 23:49  09/01/2016 00:20  SEA00047      1883.299   \n",
      "286857   255245   8/31/2016 23:49  09/01/2016 00:20  SEA00442      1896.031   \n",
      "\n",
      "                             from_station_name  \\\n",
      "0                          2nd Ave & Spring St   \n",
      "1                          2nd Ave & Spring St   \n",
      "2                          2nd Ave & Spring St   \n",
      "3                          2nd Ave & Spring St   \n",
      "4                          2nd Ave & Spring St   \n",
      "...                                        ...   \n",
      "286853                 Harvard Ave & E Pine St   \n",
      "286854  Cal Anderson Park / 11th Ave & Pine St   \n",
      "286855  Cal Anderson Park / 11th Ave & Pine St   \n",
      "286856  Cal Anderson Park / 11th Ave & Pine St   \n",
      "286857  Cal Anderson Park / 11th Ave & Pine St   \n",
      "\n",
      "                                          to_station_name from_station_id  \\\n",
      "0       Occidental Park / Occidental Ave S & S Washing...          CBD-06   \n",
      "1       Occidental Park / Occidental Ave S & S Washing...          CBD-06   \n",
      "2       Occidental Park / Occidental Ave S & S Washing...          CBD-06   \n",
      "3       Occidental Park / Occidental Ave S & S Washing...          CBD-06   \n",
      "4       Occidental Park / Occidental Ave S & S Washing...          CBD-06   \n",
      "...                                                   ...             ...   \n",
      "286853                                2nd Ave & Spring St           CH-09   \n",
      "286854                              6th Ave S & S King St           CH-08   \n",
      "286855                              6th Ave S & S King St           CH-08   \n",
      "286856                              6th Ave S & S King St           CH-08   \n",
      "286857                              6th Ave S & S King St           CH-08   \n",
      "\n",
      "       to_station_id                usertype  gender birthyear  \n",
      "0              PS-04                  Member    Male      1960  \n",
      "1              PS-04                  Member    Male      1970  \n",
      "2              PS-04                  Member  Female      1988  \n",
      "3              PS-04                  Member  Female      1977  \n",
      "4              PS-04                  Member    Male      1971  \n",
      "...              ...                     ...     ...       ...  \n",
      "286853        CBD-06  Short-Term Pass Holder     NaN       NaN  \n",
      "286854         ID-04  Short-Term Pass Holder     NaN       NaN  \n",
      "286855         ID-04  Short-Term Pass Holder     NaN       NaN  \n",
      "286856         ID-04  Short-Term Pass Holder     NaN       NaN  \n",
      "286857         ID-04  Short-Term Pass Holder     NaN       NaN  \n",
      "\n",
      "[286858 rows x 12 columns]\n"
     ]
    }
   ],
   "source": [
    "print(trips)\n"
   ]
  },
  {
   "cell_type": "code",
   "execution_count": 14,
   "id": "d9c4b491",
   "metadata": {},
   "outputs": [
    {
     "data": {
      "text/html": [
       "<div>\n",
       "<style scoped>\n",
       "    .dataframe tbody tr th:only-of-type {\n",
       "        vertical-align: middle;\n",
       "    }\n",
       "\n",
       "    .dataframe tbody tr th {\n",
       "        vertical-align: top;\n",
       "    }\n",
       "\n",
       "    .dataframe thead th {\n",
       "        text-align: right;\n",
       "    }\n",
       "</style>\n",
       "<table border=\"1\" class=\"dataframe\">\n",
       "  <thead>\n",
       "    <tr style=\"text-align: right;\">\n",
       "      <th></th>\n",
       "      <th>trip_id</th>\n",
       "      <th>starttime</th>\n",
       "      <th>stoptime</th>\n",
       "      <th>bikeid</th>\n",
       "      <th>tripduration</th>\n",
       "      <th>from_station_name</th>\n",
       "      <th>to_station_name</th>\n",
       "      <th>from_station_id</th>\n",
       "      <th>to_station_id</th>\n",
       "      <th>usertype</th>\n",
       "      <th>gender</th>\n",
       "      <th>birthyear</th>\n",
       "    </tr>\n",
       "  </thead>\n",
       "  <tbody>\n",
       "    <tr>\n",
       "      <th>0</th>\n",
       "      <td>431</td>\n",
       "      <td>10/13/2014 10:31</td>\n",
       "      <td>10/13/2014 10:48</td>\n",
       "      <td>SEA00298</td>\n",
       "      <td>985.935</td>\n",
       "      <td>2nd Ave &amp; Spring St</td>\n",
       "      <td>Occidental Park / Occidental Ave S &amp; S Washing...</td>\n",
       "      <td>CBD-06</td>\n",
       "      <td>PS-04</td>\n",
       "      <td>Member</td>\n",
       "      <td>Male</td>\n",
       "      <td>1960</td>\n",
       "    </tr>\n",
       "    <tr>\n",
       "      <th>1</th>\n",
       "      <td>432</td>\n",
       "      <td>10/13/2014 10:32</td>\n",
       "      <td>10/13/2014 10:48</td>\n",
       "      <td>SEA00195</td>\n",
       "      <td>926.375</td>\n",
       "      <td>2nd Ave &amp; Spring St</td>\n",
       "      <td>Occidental Park / Occidental Ave S &amp; S Washing...</td>\n",
       "      <td>CBD-06</td>\n",
       "      <td>PS-04</td>\n",
       "      <td>Member</td>\n",
       "      <td>Male</td>\n",
       "      <td>1970</td>\n",
       "    </tr>\n",
       "    <tr>\n",
       "      <th>2</th>\n",
       "      <td>433</td>\n",
       "      <td>10/13/2014 10:33</td>\n",
       "      <td>10/13/2014 10:48</td>\n",
       "      <td>SEA00486</td>\n",
       "      <td>883.831</td>\n",
       "      <td>2nd Ave &amp; Spring St</td>\n",
       "      <td>Occidental Park / Occidental Ave S &amp; S Washing...</td>\n",
       "      <td>CBD-06</td>\n",
       "      <td>PS-04</td>\n",
       "      <td>Member</td>\n",
       "      <td>Female</td>\n",
       "      <td>1988</td>\n",
       "    </tr>\n",
       "    <tr>\n",
       "      <th>3</th>\n",
       "      <td>434</td>\n",
       "      <td>10/13/2014 10:34</td>\n",
       "      <td>10/13/2014 10:48</td>\n",
       "      <td>SEA00333</td>\n",
       "      <td>865.937</td>\n",
       "      <td>2nd Ave &amp; Spring St</td>\n",
       "      <td>Occidental Park / Occidental Ave S &amp; S Washing...</td>\n",
       "      <td>CBD-06</td>\n",
       "      <td>PS-04</td>\n",
       "      <td>Member</td>\n",
       "      <td>Female</td>\n",
       "      <td>1977</td>\n",
       "    </tr>\n",
       "    <tr>\n",
       "      <th>4</th>\n",
       "      <td>435</td>\n",
       "      <td>10/13/2014 10:34</td>\n",
       "      <td>10/13/2014 10:49</td>\n",
       "      <td>SEA00202</td>\n",
       "      <td>923.923</td>\n",
       "      <td>2nd Ave &amp; Spring St</td>\n",
       "      <td>Occidental Park / Occidental Ave S &amp; S Washing...</td>\n",
       "      <td>CBD-06</td>\n",
       "      <td>PS-04</td>\n",
       "      <td>Member</td>\n",
       "      <td>Male</td>\n",
       "      <td>1971</td>\n",
       "    </tr>\n",
       "  </tbody>\n",
       "</table>\n",
       "</div>"
      ],
      "text/plain": [
       "   trip_id         starttime          stoptime    bikeid  tripduration  \\\n",
       "0      431  10/13/2014 10:31  10/13/2014 10:48  SEA00298       985.935   \n",
       "1      432  10/13/2014 10:32  10/13/2014 10:48  SEA00195       926.375   \n",
       "2      433  10/13/2014 10:33  10/13/2014 10:48  SEA00486       883.831   \n",
       "3      434  10/13/2014 10:34  10/13/2014 10:48  SEA00333       865.937   \n",
       "4      435  10/13/2014 10:34  10/13/2014 10:49  SEA00202       923.923   \n",
       "\n",
       "     from_station_name                                    to_station_name  \\\n",
       "0  2nd Ave & Spring St  Occidental Park / Occidental Ave S & S Washing...   \n",
       "1  2nd Ave & Spring St  Occidental Park / Occidental Ave S & S Washing...   \n",
       "2  2nd Ave & Spring St  Occidental Park / Occidental Ave S & S Washing...   \n",
       "3  2nd Ave & Spring St  Occidental Park / Occidental Ave S & S Washing...   \n",
       "4  2nd Ave & Spring St  Occidental Park / Occidental Ave S & S Washing...   \n",
       "\n",
       "  from_station_id to_station_id usertype  gender birthyear  \n",
       "0          CBD-06         PS-04   Member    Male      1960  \n",
       "1          CBD-06         PS-04   Member    Male      1970  \n",
       "2          CBD-06         PS-04   Member  Female      1988  \n",
       "3          CBD-06         PS-04   Member  Female      1977  \n",
       "4          CBD-06         PS-04   Member    Male      1971  "
      ]
     },
     "execution_count": 14,
     "metadata": {},
     "output_type": "execute_result"
    }
   ],
   "source": [
    "trips.head(5)"
   ]
  },
  {
   "cell_type": "code",
   "execution_count": 15,
   "id": "6176a6bd",
   "metadata": {},
   "outputs": [
    {
     "ename": "AttributeError",
     "evalue": "Can only use .dt accessor with datetimelike values",
     "output_type": "error",
     "traceback": [
      "\u001b[1;31m---------------------------------------------------------------------------\u001b[0m",
      "\u001b[1;31mAttributeError\u001b[0m                            Traceback (most recent call last)",
      "Cell \u001b[1;32mIn[15], line 1\u001b[0m\n\u001b[1;32m----> 1\u001b[0m trips[\u001b[38;5;124m'\u001b[39m\u001b[38;5;124mmonth_column\u001b[39m\u001b[38;5;124m'\u001b[39m] \u001b[38;5;241m=\u001b[39m \u001b[43mtrips\u001b[49m\u001b[43m[\u001b[49m\u001b[38;5;124;43m'\u001b[39;49m\u001b[38;5;124;43mstarttime\u001b[39;49m\u001b[38;5;124;43m'\u001b[39;49m\u001b[43m]\u001b[49m\u001b[38;5;241;43m.\u001b[39;49m\u001b[43mdt\u001b[49m\u001b[38;5;241m.\u001b[39mmonth\n",
      "File \u001b[1;32mC:\\ProgramData\\anaconda3\\lib\\site-packages\\pandas\\core\\generic.py:5902\u001b[0m, in \u001b[0;36mNDFrame.__getattr__\u001b[1;34m(self, name)\u001b[0m\n\u001b[0;32m   5895\u001b[0m \u001b[38;5;28;01mif\u001b[39;00m (\n\u001b[0;32m   5896\u001b[0m     name \u001b[38;5;129;01mnot\u001b[39;00m \u001b[38;5;129;01min\u001b[39;00m \u001b[38;5;28mself\u001b[39m\u001b[38;5;241m.\u001b[39m_internal_names_set\n\u001b[0;32m   5897\u001b[0m     \u001b[38;5;129;01mand\u001b[39;00m name \u001b[38;5;129;01mnot\u001b[39;00m \u001b[38;5;129;01min\u001b[39;00m \u001b[38;5;28mself\u001b[39m\u001b[38;5;241m.\u001b[39m_metadata\n\u001b[0;32m   5898\u001b[0m     \u001b[38;5;129;01mand\u001b[39;00m name \u001b[38;5;129;01mnot\u001b[39;00m \u001b[38;5;129;01min\u001b[39;00m \u001b[38;5;28mself\u001b[39m\u001b[38;5;241m.\u001b[39m_accessors\n\u001b[0;32m   5899\u001b[0m     \u001b[38;5;129;01mand\u001b[39;00m \u001b[38;5;28mself\u001b[39m\u001b[38;5;241m.\u001b[39m_info_axis\u001b[38;5;241m.\u001b[39m_can_hold_identifiers_and_holds_name(name)\n\u001b[0;32m   5900\u001b[0m ):\n\u001b[0;32m   5901\u001b[0m     \u001b[38;5;28;01mreturn\u001b[39;00m \u001b[38;5;28mself\u001b[39m[name]\n\u001b[1;32m-> 5902\u001b[0m \u001b[38;5;28;01mreturn\u001b[39;00m \u001b[38;5;28;43mobject\u001b[39;49m\u001b[38;5;241;43m.\u001b[39;49m\u001b[38;5;21;43m__getattribute__\u001b[39;49m\u001b[43m(\u001b[49m\u001b[38;5;28;43mself\u001b[39;49m\u001b[43m,\u001b[49m\u001b[43m \u001b[49m\u001b[43mname\u001b[49m\u001b[43m)\u001b[49m\n",
      "File \u001b[1;32mC:\\ProgramData\\anaconda3\\lib\\site-packages\\pandas\\core\\accessor.py:182\u001b[0m, in \u001b[0;36mCachedAccessor.__get__\u001b[1;34m(self, obj, cls)\u001b[0m\n\u001b[0;32m    179\u001b[0m \u001b[38;5;28;01mif\u001b[39;00m obj \u001b[38;5;129;01mis\u001b[39;00m \u001b[38;5;28;01mNone\u001b[39;00m:\n\u001b[0;32m    180\u001b[0m     \u001b[38;5;66;03m# we're accessing the attribute of the class, i.e., Dataset.geo\u001b[39;00m\n\u001b[0;32m    181\u001b[0m     \u001b[38;5;28;01mreturn\u001b[39;00m \u001b[38;5;28mself\u001b[39m\u001b[38;5;241m.\u001b[39m_accessor\n\u001b[1;32m--> 182\u001b[0m accessor_obj \u001b[38;5;241m=\u001b[39m \u001b[38;5;28;43mself\u001b[39;49m\u001b[38;5;241;43m.\u001b[39;49m\u001b[43m_accessor\u001b[49m\u001b[43m(\u001b[49m\u001b[43mobj\u001b[49m\u001b[43m)\u001b[49m\n\u001b[0;32m    183\u001b[0m \u001b[38;5;66;03m# Replace the property with the accessor object. Inspired by:\u001b[39;00m\n\u001b[0;32m    184\u001b[0m \u001b[38;5;66;03m# https://www.pydanny.com/cached-property.html\u001b[39;00m\n\u001b[0;32m    185\u001b[0m \u001b[38;5;66;03m# We need to use object.__setattr__ because we overwrite __setattr__ on\u001b[39;00m\n\u001b[0;32m    186\u001b[0m \u001b[38;5;66;03m# NDFrame\u001b[39;00m\n\u001b[0;32m    187\u001b[0m \u001b[38;5;28mobject\u001b[39m\u001b[38;5;241m.\u001b[39m\u001b[38;5;21m__setattr__\u001b[39m(obj, \u001b[38;5;28mself\u001b[39m\u001b[38;5;241m.\u001b[39m_name, accessor_obj)\n",
      "File \u001b[1;32mC:\\ProgramData\\anaconda3\\lib\\site-packages\\pandas\\core\\indexes\\accessors.py:512\u001b[0m, in \u001b[0;36mCombinedDatetimelikeProperties.__new__\u001b[1;34m(cls, data)\u001b[0m\n\u001b[0;32m    509\u001b[0m \u001b[38;5;28;01melif\u001b[39;00m is_period_dtype(data\u001b[38;5;241m.\u001b[39mdtype):\n\u001b[0;32m    510\u001b[0m     \u001b[38;5;28;01mreturn\u001b[39;00m PeriodProperties(data, orig)\n\u001b[1;32m--> 512\u001b[0m \u001b[38;5;28;01mraise\u001b[39;00m \u001b[38;5;167;01mAttributeError\u001b[39;00m(\u001b[38;5;124m\"\u001b[39m\u001b[38;5;124mCan only use .dt accessor with datetimelike values\u001b[39m\u001b[38;5;124m\"\u001b[39m)\n",
      "\u001b[1;31mAttributeError\u001b[0m: Can only use .dt accessor with datetimelike values"
     ]
    }
   ],
   "source": [
    "trips['month_column'] = trips['starttime'].dt.month"
   ]
  },
  {
   "cell_type": "code",
   "execution_count": 19,
   "id": "edae39be",
   "metadata": {},
   "outputs": [
    {
     "data": {
      "text/plain": [
       "trip_id                int64\n",
       "starttime             object\n",
       "stoptime              object\n",
       "bikeid                object\n",
       "tripduration         float64\n",
       "from_station_name     object\n",
       "to_station_name       object\n",
       "from_station_id       object\n",
       "to_station_id         object\n",
       "usertype              object\n",
       "gender                object\n",
       "birthyear             object\n",
       "dtype: object"
      ]
     },
     "execution_count": 19,
     "metadata": {},
     "output_type": "execute_result"
    }
   ],
   "source": [
    "trips.dtypes # confirming data types of starttime is object"
   ]
  },
  {
   "cell_type": "code",
   "execution_count": 20,
   "id": "5ae51719",
   "metadata": {},
   "outputs": [],
   "source": [
    "trips['starttime'] = pd.to_datetime(trips['starttime']) # convert to date format"
   ]
  },
  {
   "cell_type": "code",
   "execution_count": 21,
   "id": "dd90cd26",
   "metadata": {},
   "outputs": [
    {
     "name": "stdout",
     "output_type": "stream",
     "text": [
      "\n",
      "DataFrame after conversion:\n"
     ]
    }
   ],
   "source": [
    "print(\"\\nDataFrame after conversion:\")"
   ]
  },
  {
   "cell_type": "code",
   "execution_count": 23,
   "id": "b33e62c9",
   "metadata": {},
   "outputs": [
    {
     "data": {
      "text/plain": [
       "trip_id                       int64\n",
       "starttime            datetime64[ns]\n",
       "stoptime                     object\n",
       "bikeid                       object\n",
       "tripduration                float64\n",
       "from_station_name            object\n",
       "to_station_name              object\n",
       "from_station_id              object\n",
       "to_station_id                object\n",
       "usertype                     object\n",
       "gender                       object\n",
       "birthyear                    object\n",
       "dtype: object"
      ]
     },
     "execution_count": 23,
     "metadata": {},
     "output_type": "execute_result"
    }
   ],
   "source": [
    "trips.dtypes # confirmation the column starttime is now date format"
   ]
  },
  {
   "cell_type": "code",
   "execution_count": null,
   "id": "04c810b3",
   "metadata": {},
   "outputs": [],
   "source": [
    "#I can now save this as a new CSV to use in Power BI\n"
   ]
  }
 ],
 "metadata": {
  "kernelspec": {
   "display_name": "Python 3 (ipykernel)",
   "language": "python",
   "name": "python3"
  },
  "language_info": {
   "codemirror_mode": {
    "name": "ipython",
    "version": 3
   },
   "file_extension": ".py",
   "mimetype": "text/x-python",
   "name": "python",
   "nbconvert_exporter": "python",
   "pygments_lexer": "ipython3",
   "version": "3.10.9"
  }
 },
 "nbformat": 4,
 "nbformat_minor": 5
}
