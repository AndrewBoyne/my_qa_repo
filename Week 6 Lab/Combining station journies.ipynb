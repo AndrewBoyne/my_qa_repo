{
 "cells": [
  {
   "cell_type": "code",
   "execution_count": null,
   "id": "9fa2723a",
   "metadata": {},
   "outputs": [],
   "source": [
    "# What I'm trying to do here is to combine the two columns on the trips table\n",
    "# (from and to station name) so that I can then combine them to come up with a\n",
    "# total number of journies per station to better visualise which stations are \n",
    "# most popular"
   ]
  },
  {
   "cell_type": "code",
   "execution_count": 2,
   "id": "d777b4f0",
   "metadata": {},
   "outputs": [],
   "source": [
    "import pandas as pd"
   ]
  },
  {
   "cell_type": "code",
   "execution_count": null,
   "id": "defd62b6",
   "metadata": {},
   "outputs": [],
   "source": [
    "df = pd.read_csv(\"Seattle_cycles_trip.csv\")"
   ]
  },
  {
   "cell_type": "code",
   "execution_count": 4,
   "id": "0c91d5ba",
   "metadata": {},
   "outputs": [
    {
     "data": {
      "text/html": [
       "<div>\n",
       "<style scoped>\n",
       "    .dataframe tbody tr th:only-of-type {\n",
       "        vertical-align: middle;\n",
       "    }\n",
       "\n",
       "    .dataframe tbody tr th {\n",
       "        vertical-align: top;\n",
       "    }\n",
       "\n",
       "    .dataframe thead th {\n",
       "        text-align: right;\n",
       "    }\n",
       "</style>\n",
       "<table border=\"1\" class=\"dataframe\">\n",
       "  <thead>\n",
       "    <tr style=\"text-align: right;\">\n",
       "      <th></th>\n",
       "      <th>trip_id</th>\n",
       "      <th>starttime</th>\n",
       "      <th>stoptime</th>\n",
       "      <th>bikeid</th>\n",
       "      <th>tripduration</th>\n",
       "      <th>from_station_name</th>\n",
       "      <th>to_station_name</th>\n",
       "      <th>from_station_id</th>\n",
       "      <th>to_station_id</th>\n",
       "      <th>usertype</th>\n",
       "      <th>gender</th>\n",
       "      <th>birthyear</th>\n",
       "    </tr>\n",
       "  </thead>\n",
       "  <tbody>\n",
       "    <tr>\n",
       "      <th>0</th>\n",
       "      <td>431</td>\n",
       "      <td>10/13/2014 10:31</td>\n",
       "      <td>10/13/2014 10:48</td>\n",
       "      <td>SEA00298</td>\n",
       "      <td>985.935</td>\n",
       "      <td>2nd Ave &amp; Spring St</td>\n",
       "      <td>Occidental Park / Occidental Ave S &amp; S Washing...</td>\n",
       "      <td>CBD-06</td>\n",
       "      <td>PS-04</td>\n",
       "      <td>Member</td>\n",
       "      <td>Male</td>\n",
       "      <td>1960</td>\n",
       "    </tr>\n",
       "    <tr>\n",
       "      <th>1</th>\n",
       "      <td>432</td>\n",
       "      <td>10/13/2014 10:32</td>\n",
       "      <td>10/13/2014 10:48</td>\n",
       "      <td>SEA00195</td>\n",
       "      <td>926.375</td>\n",
       "      <td>2nd Ave &amp; Spring St</td>\n",
       "      <td>Occidental Park / Occidental Ave S &amp; S Washing...</td>\n",
       "      <td>CBD-06</td>\n",
       "      <td>PS-04</td>\n",
       "      <td>Member</td>\n",
       "      <td>Male</td>\n",
       "      <td>1970</td>\n",
       "    </tr>\n",
       "    <tr>\n",
       "      <th>2</th>\n",
       "      <td>433</td>\n",
       "      <td>10/13/2014 10:33</td>\n",
       "      <td>10/13/2014 10:48</td>\n",
       "      <td>SEA00486</td>\n",
       "      <td>883.831</td>\n",
       "      <td>2nd Ave &amp; Spring St</td>\n",
       "      <td>Occidental Park / Occidental Ave S &amp; S Washing...</td>\n",
       "      <td>CBD-06</td>\n",
       "      <td>PS-04</td>\n",
       "      <td>Member</td>\n",
       "      <td>Female</td>\n",
       "      <td>1988</td>\n",
       "    </tr>\n",
       "    <tr>\n",
       "      <th>3</th>\n",
       "      <td>434</td>\n",
       "      <td>10/13/2014 10:34</td>\n",
       "      <td>10/13/2014 10:48</td>\n",
       "      <td>SEA00333</td>\n",
       "      <td>865.937</td>\n",
       "      <td>2nd Ave &amp; Spring St</td>\n",
       "      <td>Occidental Park / Occidental Ave S &amp; S Washing...</td>\n",
       "      <td>CBD-06</td>\n",
       "      <td>PS-04</td>\n",
       "      <td>Member</td>\n",
       "      <td>Female</td>\n",
       "      <td>1977</td>\n",
       "    </tr>\n",
       "    <tr>\n",
       "      <th>4</th>\n",
       "      <td>435</td>\n",
       "      <td>10/13/2014 10:34</td>\n",
       "      <td>10/13/2014 10:49</td>\n",
       "      <td>SEA00202</td>\n",
       "      <td>923.923</td>\n",
       "      <td>2nd Ave &amp; Spring St</td>\n",
       "      <td>Occidental Park / Occidental Ave S &amp; S Washing...</td>\n",
       "      <td>CBD-06</td>\n",
       "      <td>PS-04</td>\n",
       "      <td>Member</td>\n",
       "      <td>Male</td>\n",
       "      <td>1971</td>\n",
       "    </tr>\n",
       "  </tbody>\n",
       "</table>\n",
       "</div>"
      ],
      "text/plain": [
       "   trip_id         starttime          stoptime    bikeid  tripduration  \\\n",
       "0      431  10/13/2014 10:31  10/13/2014 10:48  SEA00298       985.935   \n",
       "1      432  10/13/2014 10:32  10/13/2014 10:48  SEA00195       926.375   \n",
       "2      433  10/13/2014 10:33  10/13/2014 10:48  SEA00486       883.831   \n",
       "3      434  10/13/2014 10:34  10/13/2014 10:48  SEA00333       865.937   \n",
       "4      435  10/13/2014 10:34  10/13/2014 10:49  SEA00202       923.923   \n",
       "\n",
       "     from_station_name                                    to_station_name  \\\n",
       "0  2nd Ave & Spring St  Occidental Park / Occidental Ave S & S Washing...   \n",
       "1  2nd Ave & Spring St  Occidental Park / Occidental Ave S & S Washing...   \n",
       "2  2nd Ave & Spring St  Occidental Park / Occidental Ave S & S Washing...   \n",
       "3  2nd Ave & Spring St  Occidental Park / Occidental Ave S & S Washing...   \n",
       "4  2nd Ave & Spring St  Occidental Park / Occidental Ave S & S Washing...   \n",
       "\n",
       "  from_station_id to_station_id usertype  gender birthyear  \n",
       "0          CBD-06         PS-04   Member    Male      1960  \n",
       "1          CBD-06         PS-04   Member    Male      1970  \n",
       "2          CBD-06         PS-04   Member  Female      1988  \n",
       "3          CBD-06         PS-04   Member  Female      1977  \n",
       "4          CBD-06         PS-04   Member    Male      1971  "
      ]
     },
     "execution_count": 4,
     "metadata": {},
     "output_type": "execute_result"
    }
   ],
   "source": [
    "df.head(5) # to get an idea of what's on the table"
   ]
  },
  {
   "cell_type": "code",
   "execution_count": 7,
   "id": "4f08252a",
   "metadata": {},
   "outputs": [
    {
     "data": {
      "text/html": [
       "<div>\n",
       "<style scoped>\n",
       "    .dataframe tbody tr th:only-of-type {\n",
       "        vertical-align: middle;\n",
       "    }\n",
       "\n",
       "    .dataframe tbody tr th {\n",
       "        vertical-align: top;\n",
       "    }\n",
       "\n",
       "    .dataframe thead th {\n",
       "        text-align: right;\n",
       "    }\n",
       "</style>\n",
       "<table border=\"1\" class=\"dataframe\">\n",
       "  <thead>\n",
       "    <tr style=\"text-align: right;\">\n",
       "      <th></th>\n",
       "      <th>from_station_name</th>\n",
       "      <th>to_station_name</th>\n",
       "    </tr>\n",
       "  </thead>\n",
       "  <tbody>\n",
       "    <tr>\n",
       "      <th>12th Ave &amp; E Denny Way</th>\n",
       "      <td>3837</td>\n",
       "      <td>1234</td>\n",
       "    </tr>\n",
       "    <tr>\n",
       "      <th>12th Ave &amp; E Mercer St</th>\n",
       "      <td>6322</td>\n",
       "      <td>2419</td>\n",
       "    </tr>\n",
       "    <tr>\n",
       "      <th>12th Ave &amp; E Yesler Way</th>\n",
       "      <td>958</td>\n",
       "      <td>868</td>\n",
       "    </tr>\n",
       "    <tr>\n",
       "      <th>12th Ave &amp; NE Campus Pkwy</th>\n",
       "      <td>3630</td>\n",
       "      <td>4807</td>\n",
       "    </tr>\n",
       "    <tr>\n",
       "      <th>15th Ave E &amp; E Thomas St</th>\n",
       "      <td>7680</td>\n",
       "      <td>2391</td>\n",
       "    </tr>\n",
       "    <tr>\n",
       "      <th>...</th>\n",
       "      <td>...</td>\n",
       "      <td>...</td>\n",
       "    </tr>\n",
       "    <tr>\n",
       "      <th>UW Intramural Activities Building</th>\n",
       "      <td>1848</td>\n",
       "      <td>2050</td>\n",
       "    </tr>\n",
       "    <tr>\n",
       "      <th>UW Magnuson Health Sciences Center Rotunda / Columbia Rd &amp; San Juan Rd</th>\n",
       "      <td>1398</td>\n",
       "      <td>1956</td>\n",
       "    </tr>\n",
       "    <tr>\n",
       "      <th>UW McCarty Hall / Whitman Ct</th>\n",
       "      <td>752</td>\n",
       "      <td>644</td>\n",
       "    </tr>\n",
       "    <tr>\n",
       "      <th>Union St &amp; 4th Ave</th>\n",
       "      <td>2693</td>\n",
       "      <td>2819</td>\n",
       "    </tr>\n",
       "    <tr>\n",
       "      <th>Westlake Ave &amp; 6th Ave</th>\n",
       "      <td>9994</td>\n",
       "      <td>10962</td>\n",
       "    </tr>\n",
       "  </tbody>\n",
       "</table>\n",
       "<p>61 rows × 2 columns</p>\n",
       "</div>"
      ],
      "text/plain": [
       "                                                    from_station_name  \\\n",
       "12th Ave & E Denny Way                                           3837   \n",
       "12th Ave & E Mercer St                                           6322   \n",
       "12th Ave & E Yesler Way                                           958   \n",
       "12th Ave & NE Campus Pkwy                                        3630   \n",
       "15th Ave E & E Thomas St                                         7680   \n",
       "...                                                               ...   \n",
       "UW Intramural Activities Building                                1848   \n",
       "UW Magnuson Health Sciences Center Rotunda / Co...               1398   \n",
       "UW McCarty Hall / Whitman Ct                                      752   \n",
       "Union St & 4th Ave                                               2693   \n",
       "Westlake Ave & 6th Ave                                           9994   \n",
       "\n",
       "                                                    to_station_name  \n",
       "12th Ave & E Denny Way                                         1234  \n",
       "12th Ave & E Mercer St                                         2419  \n",
       "12th Ave & E Yesler Way                                         868  \n",
       "12th Ave & NE Campus Pkwy                                      4807  \n",
       "15th Ave E & E Thomas St                                       2391  \n",
       "...                                                             ...  \n",
       "UW Intramural Activities Building                              2050  \n",
       "UW Magnuson Health Sciences Center Rotunda / Co...             1956  \n",
       "UW McCarty Hall / Whitman Ct                                    644  \n",
       "Union St & 4th Ave                                             2819  \n",
       "Westlake Ave & 6th Ave                                        10962  \n",
       "\n",
       "[61 rows x 2 columns]"
      ]
     },
     "execution_count": 7,
     "metadata": {},
     "output_type": "execute_result"
    }
   ],
   "source": [
    "df [['from_station_name', 'to_station_name']].apply(pd.value_counts) # isolates \n",
    "# the from and to columns and then counts the number of trips per column"
   ]
  },
  {
   "cell_type": "code",
   "execution_count": 9,
   "id": "30569ad7",
   "metadata": {},
   "outputs": [
    {
     "data": {
      "text/plain": [
       "<bound method NDFrame._add_numeric_operations.<locals>.sum of                                                     from_station_name  \\\n",
       "12th Ave & E Denny Way                                           3837   \n",
       "12th Ave & E Mercer St                                           6322   \n",
       "12th Ave & E Yesler Way                                           958   \n",
       "12th Ave & NE Campus Pkwy                                        3630   \n",
       "15th Ave E & E Thomas St                                         7680   \n",
       "...                                                               ...   \n",
       "UW Intramural Activities Building                                1848   \n",
       "UW Magnuson Health Sciences Center Rotunda / Co...               1398   \n",
       "UW McCarty Hall / Whitman Ct                                      752   \n",
       "Union St & 4th Ave                                               2693   \n",
       "Westlake Ave & 6th Ave                                           9994   \n",
       "\n",
       "                                                    to_station_name  \n",
       "12th Ave & E Denny Way                                         1234  \n",
       "12th Ave & E Mercer St                                         2419  \n",
       "12th Ave & E Yesler Way                                         868  \n",
       "12th Ave & NE Campus Pkwy                                      4807  \n",
       "15th Ave E & E Thomas St                                       2391  \n",
       "...                                                             ...  \n",
       "UW Intramural Activities Building                              2050  \n",
       "UW Magnuson Health Sciences Center Rotunda / Co...             1956  \n",
       "UW McCarty Hall / Whitman Ct                                    644  \n",
       "Union St & 4th Ave                                             2819  \n",
       "Westlake Ave & 6th Ave                                        10962  \n",
       "\n",
       "[61 rows x 2 columns]>"
      ]
     },
     "execution_count": 9,
     "metadata": {},
     "output_type": "execute_result"
    }
   ],
   "source": [
    "df [['from_station_name', 'to_station_name']].apply(pd.value_counts).sum # this\n",
    "# now adds them together but the data is not nice to read."
   ]
  },
  {
   "cell_type": "code",
   "execution_count": 15,
   "id": "494cd887",
   "metadata": {},
   "outputs": [
    {
     "data": {
      "text/plain": [
       "12th Ave & E Denny Way                                                     5071\n",
       "12th Ave & E Mercer St                                                     8741\n",
       "12th Ave & E Yesler Way                                                    1826\n",
       "12th Ave & NE Campus Pkwy                                                  8437\n",
       "15th Ave E & E Thomas St                                                  10071\n",
       "                                                                          ...  \n",
       "UW Intramural Activities Building                                          3898\n",
       "UW Magnuson Health Sciences Center Rotunda / Columbia Rd & San Juan Rd     3354\n",
       "UW McCarty Hall / Whitman Ct                                               1396\n",
       "Union St & 4th Ave                                                         5512\n",
       "Westlake Ave & 6th Ave                                                    20956\n",
       "Length: 61, dtype: int64"
      ]
     },
     "execution_count": 15,
     "metadata": {},
     "output_type": "execute_result"
    }
   ],
   "source": [
    "df [['from_station_name', 'to_station_name']].apply(pd.value_counts).sum(axis=1)"
   ]
  },
  {
   "cell_type": "code",
   "execution_count": 16,
   "id": "e149b7a2",
   "metadata": {},
   "outputs": [
    {
     "data": {
      "text/plain": [
       "<pandas.plotting._core.PlotAccessor object at 0x0000025643896CE0>"
      ]
     },
     "execution_count": 16,
     "metadata": {},
     "output_type": "execute_result"
    }
   ],
   "source": [
    "df [['from_station_name', 'to_station_name']].apply(pd.value_counts).sum(axis=1).plot"
   ]
  },
  {
   "cell_type": "code",
   "execution_count": 17,
   "id": "e949ebe8",
   "metadata": {},
   "outputs": [],
   "source": [
    "totaljournies = df[['from_station_name', 'to_station_name']].apply(pd.value_counts).sum(axis=1)"
   ]
  },
  {
   "cell_type": "code",
   "execution_count": 30,
   "id": "ed701a97",
   "metadata": {},
   "outputs": [
    {
     "data": {
      "text/plain": [
       "12th Ave & E Denny Way                                                5071\n",
       "12th Ave & E Mercer St                                                8741\n",
       "12th Ave & E Yesler Way                                               1826\n",
       "12th Ave & NE Campus Pkwy                                             8437\n",
       "15th Ave E & E Thomas St                                             10071\n",
       "15th Ave NE & NE 40th St                                              5953\n",
       "1st Ave & Marion St                                                  14339\n",
       "2nd Ave & Blanchard St                                               12637\n",
       "2nd Ave & Pine St                                                    23833\n",
       "2nd Ave & Spring St                                                  14003\n",
       "2nd Ave & Vine St                                                    14625\n",
       "3rd Ave & Broad St                                                   21671\n",
       "6th Ave & Blanchard St                                                8750\n",
       "6th Ave S & S King St                                                 7344\n",
       "7th Ave & Union St                                                   12823\n",
       "8D OPS 02                                                                4\n",
       "9th Ave N & Mercer St                                                12129\n",
       "Bellevue Ave & E Pine St                                              9549\n",
       "Broadway and E Denny Way                                              1930\n",
       "Burke Museum / E Stevens Way NE & Memorial Way NE                     3415\n",
       "Burke-Gilman Trail / NE Blakeley St & 24th Ave NE                     8093\n",
       "Cal Anderson Park / 11th Ave & Pine St                               15664\n",
       "Children's Hospital / Sandpoint Way NE & 40th Ave NE                  3210\n",
       "City Hall / 4th Ave & James St                                        7591\n",
       "Dexter Ave & Denny Way                                                8074\n",
       "Dexter Ave N & Aloha St                                              14434\n",
       "E Blaine St & Fairview Ave E                                         13021\n",
       "E Harrison St & Broadway Ave E                                       15486\n",
       "E Pine St & 16th Ave                                                 14800\n",
       "Eastlake Ave E & E Allison St                                         8359\n",
       "Fred Hutchinson Cancer Research Center / Fairview Ave N & Ward St     7641\n",
       "Frye Art Museum / Terry Ave & Columbia St                             4552\n",
       "Harvard Ave & E Pine St                                               9441\n",
       "Key Arena / 1st Ave N & Harrison St                                  15553\n",
       "King Street Station Plaza / 2nd Ave Extension S & S Jackson St       10612\n",
       "Lake Union Park / Valley St & Boren Ave N                            11786\n",
       "Mercer St & 9th Ave N                                                 2010\n",
       "NE 42nd St & University Way NE                                        2898\n",
       "NE 47th St & 12th Ave NE                                              4361\n",
       "NE Pacific St/UW Medical Center                                       2101\n",
       "dtype: int64"
      ]
     },
     "execution_count": 30,
     "metadata": {},
     "output_type": "execute_result"
    }
   ],
   "source": [
    "totaljournies.head(40)"
   ]
  },
  {
   "cell_type": "code",
   "execution_count": 36,
   "id": "617c12e4",
   "metadata": {},
   "outputs": [
    {
     "data": {
      "text/plain": [
       "12th Ave & E Denny Way        5071\n",
       "12th Ave & E Mercer St        8741\n",
       "12th Ave & E Yesler Way       1826\n",
       "12th Ave & NE Campus Pkwy     8437\n",
       "15th Ave E & E Thomas St     10071\n",
       "dtype: int64"
      ]
     },
     "execution_count": 36,
     "metadata": {},
     "output_type": "execute_result"
    }
   ],
   "source": [
    "totaljournies.head(5)\n"
   ]
  },
  {
   "cell_type": "code",
   "execution_count": 37,
   "id": "58e49075",
   "metadata": {},
   "outputs": [],
   "source": [
    "totaljournies.to_csv('totaljournies.csv')"
   ]
  },
  {
   "cell_type": "code",
   "execution_count": 39,
   "id": "5160a62a",
   "metadata": {},
   "outputs": [
    {
     "data": {
      "text/plain": [
       "<pandas.plotting._core.PlotAccessor object at 0x000002564AC21150>"
      ]
     },
     "execution_count": 39,
     "metadata": {},
     "output_type": "execute_result"
    }
   ],
   "source": [
    "totaljournies.plot"
   ]
  },
  {
   "cell_type": "code",
   "execution_count": null,
   "id": "c758eb2c",
   "metadata": {},
   "outputs": [],
   "source": []
  }
 ],
 "metadata": {
  "kernelspec": {
   "display_name": "Python 3 (ipykernel)",
   "language": "python",
   "name": "python3"
  },
  "language_info": {
   "codemirror_mode": {
    "name": "ipython",
    "version": 3
   },
   "file_extension": ".py",
   "mimetype": "text/x-python",
   "name": "python",
   "nbconvert_exporter": "python",
   "pygments_lexer": "ipython3",
   "version": "3.10.9"
  }
 },
 "nbformat": 4,
 "nbformat_minor": 5
}
