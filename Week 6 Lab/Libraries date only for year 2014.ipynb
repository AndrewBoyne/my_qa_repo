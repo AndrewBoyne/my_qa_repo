{
 "cells": [
  {
   "cell_type": "code",
   "execution_count": 1,
   "id": "59523e2c",
   "metadata": {},
   "outputs": [],
   "source": [
    "import pandas as pd"
   ]
  },
  {
   "cell_type": "code",
   "execution_count": 4,
   "id": "576289bf",
   "metadata": {},
   "outputs": [],
   "source": [
    "lib_2014 = pd.read_csv(\"librarycheckouts_2014.csv\")"
   ]
  },
  {
   "cell_type": "code",
   "execution_count": 5,
   "id": "a4daa863",
   "metadata": {},
   "outputs": [
    {
     "data": {
      "text/html": [
       "<div>\n",
       "<style scoped>\n",
       "    .dataframe tbody tr th:only-of-type {\n",
       "        vertical-align: middle;\n",
       "    }\n",
       "\n",
       "    .dataframe tbody tr th {\n",
       "        vertical-align: top;\n",
       "    }\n",
       "\n",
       "    .dataframe thead th {\n",
       "        text-align: right;\n",
       "    }\n",
       "</style>\n",
       "<table border=\"1\" class=\"dataframe\">\n",
       "  <thead>\n",
       "    <tr style=\"text-align: right;\">\n",
       "      <th></th>\n",
       "      <th>Unnamed: 0</th>\n",
       "      <th>BibNumber</th>\n",
       "      <th>ItemBarcode</th>\n",
       "      <th>ItemType</th>\n",
       "      <th>Collection</th>\n",
       "      <th>CallNumber</th>\n",
       "      <th>CheckoutDateTime</th>\n",
       "    </tr>\n",
       "  </thead>\n",
       "  <tbody>\n",
       "    <tr>\n",
       "      <th>0</th>\n",
       "      <td>0</td>\n",
       "      <td>1761418</td>\n",
       "      <td>10035956399</td>\n",
       "      <td>acbk</td>\n",
       "      <td>cafic</td>\n",
       "      <td>FIC FITZGER1995</td>\n",
       "      <td>01/19/2014 01:57:00 PM</td>\n",
       "    </tr>\n",
       "    <tr>\n",
       "      <th>1</th>\n",
       "      <td>1</td>\n",
       "      <td>2963338</td>\n",
       "      <td>10082228254</td>\n",
       "      <td>acdvd</td>\n",
       "      <td>cadvd</td>\n",
       "      <td>DVD FRUITVA</td>\n",
       "      <td>07/28/2014 07:31:00 PM</td>\n",
       "    </tr>\n",
       "    <tr>\n",
       "      <th>2</th>\n",
       "      <td>2</td>\n",
       "      <td>2747444</td>\n",
       "      <td>10073651704</td>\n",
       "      <td>acbk</td>\n",
       "      <td>nyfic</td>\n",
       "      <td>YA BERNE</td>\n",
       "      <td>12/01/2014 10:41:00 AM</td>\n",
       "    </tr>\n",
       "    <tr>\n",
       "      <th>3</th>\n",
       "      <td>3</td>\n",
       "      <td>3037991</td>\n",
       "      <td>10083975440</td>\n",
       "      <td>accd</td>\n",
       "      <td>nacd</td>\n",
       "      <td>CD 782.42166 J1807D</td>\n",
       "      <td>11/18/2014 05:59:00 PM</td>\n",
       "    </tr>\n",
       "    <tr>\n",
       "      <th>4</th>\n",
       "      <td>4</td>\n",
       "      <td>2747679</td>\n",
       "      <td>10073504804</td>\n",
       "      <td>acbk</td>\n",
       "      <td>canf</td>\n",
       "      <td>791.4302 J949i 2011</td>\n",
       "      <td>01/15/2014 11:35:00 AM</td>\n",
       "    </tr>\n",
       "  </tbody>\n",
       "</table>\n",
       "</div>"
      ],
      "text/plain": [
       "   Unnamed: 0  BibNumber  ItemBarcode ItemType Collection  \\\n",
       "0           0    1761418  10035956399     acbk      cafic   \n",
       "1           1    2963338  10082228254    acdvd      cadvd   \n",
       "2           2    2747444  10073651704     acbk      nyfic   \n",
       "3           3    3037991  10083975440     accd       nacd   \n",
       "4           4    2747679  10073504804     acbk       canf   \n",
       "\n",
       "            CallNumber        CheckoutDateTime  \n",
       "0      FIC FITZGER1995  01/19/2014 01:57:00 PM  \n",
       "1          DVD FRUITVA  07/28/2014 07:31:00 PM  \n",
       "2             YA BERNE  12/01/2014 10:41:00 AM  \n",
       "3  CD 782.42166 J1807D  11/18/2014 05:59:00 PM  \n",
       "4  791.4302 J949i 2011  01/15/2014 11:35:00 AM  "
      ]
     },
     "execution_count": 5,
     "metadata": {},
     "output_type": "execute_result"
    }
   ],
   "source": [
    "lib_2014.head(5)"
   ]
  },
  {
   "cell_type": "code",
   "execution_count": 6,
   "id": "d3bb2d8f",
   "metadata": {},
   "outputs": [
    {
     "data": {
      "text/plain": [
       "Unnamed: 0           int64\n",
       "BibNumber            int64\n",
       "ItemBarcode          int64\n",
       "ItemType            object\n",
       "Collection          object\n",
       "CallNumber          object\n",
       "CheckoutDateTime    object\n",
       "dtype: object"
      ]
     },
     "execution_count": 6,
     "metadata": {},
     "output_type": "execute_result"
    }
   ],
   "source": [
    "lib_2014.dtypes"
   ]
  },
  {
   "cell_type": "code",
   "execution_count": 7,
   "id": "b21de424",
   "metadata": {},
   "outputs": [],
   "source": [
    "lib_2014['CheckoutDateTime'] = pd.to_datetime(lib_2014['CheckoutDateTime']) # convert CheckoutDateTime to date/time"
   ]
  },
  {
   "cell_type": "code",
   "execution_count": 8,
   "id": "3c020b7c",
   "metadata": {},
   "outputs": [
    {
     "data": {
      "text/plain": [
       "Unnamed: 0                   int64\n",
       "BibNumber                    int64\n",
       "ItemBarcode                  int64\n",
       "ItemType                    object\n",
       "Collection                  object\n",
       "CallNumber                  object\n",
       "CheckoutDateTime    datetime64[ns]\n",
       "dtype: object"
      ]
     },
     "execution_count": 8,
     "metadata": {},
     "output_type": "execute_result"
    }
   ],
   "source": [
    "lib_2014.dtypes"
   ]
  },
  {
   "cell_type": "code",
   "execution_count": 9,
   "id": "7ef754a5",
   "metadata": {},
   "outputs": [],
   "source": [
    "lib_2014.to_csv('lib_2014_date_time.csv')"
   ]
  },
  {
   "cell_type": "code",
   "execution_count": 11,
   "id": "65a0261b",
   "metadata": {},
   "outputs": [
    {
     "data": {
      "text/html": [
       "<div>\n",
       "<style scoped>\n",
       "    .dataframe tbody tr th:only-of-type {\n",
       "        vertical-align: middle;\n",
       "    }\n",
       "\n",
       "    .dataframe tbody tr th {\n",
       "        vertical-align: top;\n",
       "    }\n",
       "\n",
       "    .dataframe thead th {\n",
       "        text-align: right;\n",
       "    }\n",
       "</style>\n",
       "<table border=\"1\" class=\"dataframe\">\n",
       "  <thead>\n",
       "    <tr style=\"text-align: right;\">\n",
       "      <th></th>\n",
       "      <th>Unnamed: 0</th>\n",
       "      <th>BibNumber</th>\n",
       "      <th>ItemBarcode</th>\n",
       "      <th>ItemType</th>\n",
       "      <th>Collection</th>\n",
       "      <th>CallNumber</th>\n",
       "      <th>CheckoutDateTime</th>\n",
       "    </tr>\n",
       "  </thead>\n",
       "  <tbody>\n",
       "    <tr>\n",
       "      <th>741683</th>\n",
       "      <td>741683</td>\n",
       "      <td>2946707</td>\n",
       "      <td>10081715616</td>\n",
       "      <td>acbk</td>\n",
       "      <td>nanew</td>\n",
       "      <td>641.252 Sp61K 2013</td>\n",
       "      <td>2014-06-20 13:43:00</td>\n",
       "    </tr>\n",
       "    <tr>\n",
       "      <th>741684</th>\n",
       "      <td>741684</td>\n",
       "      <td>2746747</td>\n",
       "      <td>10082090894</td>\n",
       "      <td>accd</td>\n",
       "      <td>cabocd</td>\n",
       "      <td>CD FIC ELIOT</td>\n",
       "      <td>2014-08-19 10:53:00</td>\n",
       "    </tr>\n",
       "    <tr>\n",
       "      <th>741685</th>\n",
       "      <td>741685</td>\n",
       "      <td>2970688</td>\n",
       "      <td>10081189689</td>\n",
       "      <td>accd</td>\n",
       "      <td>nacd</td>\n",
       "      <td>CD 782.42165 R5432C2</td>\n",
       "      <td>2014-07-28 14:16:00</td>\n",
       "    </tr>\n",
       "    <tr>\n",
       "      <th>741686</th>\n",
       "      <td>741686</td>\n",
       "      <td>2509763</td>\n",
       "      <td>10061848346</td>\n",
       "      <td>jcbk</td>\n",
       "      <td>ccpic</td>\n",
       "      <td>E BRUNHOF</td>\n",
       "      <td>2014-10-22 12:55:00</td>\n",
       "    </tr>\n",
       "    <tr>\n",
       "      <th>741687</th>\n",
       "      <td>741687</td>\n",
       "      <td>2802142</td>\n",
       "      <td>10076334779</td>\n",
       "      <td>jcbk</td>\n",
       "      <td>ncpic</td>\n",
       "      <td>E SMALLMA</td>\n",
       "      <td>2014-06-12 17:27:00</td>\n",
       "    </tr>\n",
       "  </tbody>\n",
       "</table>\n",
       "</div>"
      ],
      "text/plain": [
       "        Unnamed: 0  BibNumber  ItemBarcode ItemType Collection  \\\n",
       "741683      741683    2946707  10081715616     acbk      nanew   \n",
       "741684      741684    2746747  10082090894     accd     cabocd   \n",
       "741685      741685    2970688  10081189689     accd       nacd   \n",
       "741686      741686    2509763  10061848346     jcbk      ccpic   \n",
       "741687      741687    2802142  10076334779     jcbk      ncpic   \n",
       "\n",
       "                  CallNumber    CheckoutDateTime  \n",
       "741683    641.252 Sp61K 2013 2014-06-20 13:43:00  \n",
       "741684          CD FIC ELIOT 2014-08-19 10:53:00  \n",
       "741685  CD 782.42165 R5432C2 2014-07-28 14:16:00  \n",
       "741686             E BRUNHOF 2014-10-22 12:55:00  \n",
       "741687             E SMALLMA 2014-06-12 17:27:00  "
      ]
     },
     "execution_count": 11,
     "metadata": {},
     "output_type": "execute_result"
    }
   ],
   "source": [
    "lib_2014.tail(5)"
   ]
  },
  {
   "cell_type": "code",
   "execution_count": 13,
   "id": "05d1b57b",
   "metadata": {},
   "outputs": [],
   "source": [
    "unique_count = lib_2014['CheckoutDateTime'].nunique()"
   ]
  },
  {
   "cell_type": "code",
   "execution_count": 14,
   "id": "2f21bc5c",
   "metadata": {},
   "outputs": [
    {
     "data": {
      "text/plain": [
       "174020"
      ]
     },
     "execution_count": 14,
     "metadata": {},
     "output_type": "execute_result"
    }
   ],
   "source": [
    "unique_count"
   ]
  },
  {
   "cell_type": "code",
   "execution_count": 15,
   "id": "367205ca",
   "metadata": {},
   "outputs": [],
   "source": [
    "value_counts = lib_2014['CheckoutDateTime'].value_counts()"
   ]
  },
  {
   "cell_type": "code",
   "execution_count": 16,
   "id": "e38b2d87",
   "metadata": {},
   "outputs": [
    {
     "data": {
      "text/plain": [
       "2014-02-22 16:07:00    27\n",
       "2014-06-29 16:47:00    26\n",
       "2014-02-20 16:31:00    23\n",
       "2014-07-20 16:46:00    23\n",
       "2014-03-09 16:48:00    23\n",
       "                       ..\n",
       "2014-12-06 18:01:00     1\n",
       "2014-07-14 11:35:00     1\n",
       "2014-11-04 12:51:00     1\n",
       "2014-10-09 15:01:00     1\n",
       "2014-08-19 10:53:00     1\n",
       "Name: CheckoutDateTime, Length: 174020, dtype: int64"
      ]
     },
     "execution_count": 16,
     "metadata": {},
     "output_type": "execute_result"
    }
   ],
   "source": [
    "value_counts"
   ]
  },
  {
   "cell_type": "code",
   "execution_count": 19,
   "id": "1395aa32",
   "metadata": {},
   "outputs": [],
   "source": [
    "count_by_category = lib_2014.groupby('CheckoutDateTime').size().reset_index(name='Count') # counts the number of times a \n",
    "# particular entry appears in a column.  I now need to limit the data to the day, not including the time"
   ]
  },
  {
   "cell_type": "code",
   "execution_count": 20,
   "id": "c14e609b",
   "metadata": {},
   "outputs": [
    {
     "data": {
      "text/html": [
       "<div>\n",
       "<style scoped>\n",
       "    .dataframe tbody tr th:only-of-type {\n",
       "        vertical-align: middle;\n",
       "    }\n",
       "\n",
       "    .dataframe tbody tr th {\n",
       "        vertical-align: top;\n",
       "    }\n",
       "\n",
       "    .dataframe thead th {\n",
       "        text-align: right;\n",
       "    }\n",
       "</style>\n",
       "<table border=\"1\" class=\"dataframe\">\n",
       "  <thead>\n",
       "    <tr style=\"text-align: right;\">\n",
       "      <th></th>\n",
       "      <th>CheckoutDateTime</th>\n",
       "      <th>Count</th>\n",
       "    </tr>\n",
       "  </thead>\n",
       "  <tbody>\n",
       "    <tr>\n",
       "      <th>0</th>\n",
       "      <td>2014-01-02 08:30:00</td>\n",
       "      <td>6</td>\n",
       "    </tr>\n",
       "    <tr>\n",
       "      <th>1</th>\n",
       "      <td>2014-01-02 08:31:00</td>\n",
       "      <td>5</td>\n",
       "    </tr>\n",
       "    <tr>\n",
       "      <th>2</th>\n",
       "      <td>2014-01-02 09:17:00</td>\n",
       "      <td>1</td>\n",
       "    </tr>\n",
       "    <tr>\n",
       "      <th>3</th>\n",
       "      <td>2014-01-02 09:32:00</td>\n",
       "      <td>1</td>\n",
       "    </tr>\n",
       "    <tr>\n",
       "      <th>4</th>\n",
       "      <td>2014-01-02 09:33:00</td>\n",
       "      <td>4</td>\n",
       "    </tr>\n",
       "    <tr>\n",
       "      <th>...</th>\n",
       "      <td>...</td>\n",
       "      <td>...</td>\n",
       "    </tr>\n",
       "    <tr>\n",
       "      <th>174015</th>\n",
       "      <td>2014-12-31 17:56:00</td>\n",
       "      <td>7</td>\n",
       "    </tr>\n",
       "    <tr>\n",
       "      <th>174016</th>\n",
       "      <td>2014-12-31 17:57:00</td>\n",
       "      <td>1</td>\n",
       "    </tr>\n",
       "    <tr>\n",
       "      <th>174017</th>\n",
       "      <td>2014-12-31 17:58:00</td>\n",
       "      <td>2</td>\n",
       "    </tr>\n",
       "    <tr>\n",
       "      <th>174018</th>\n",
       "      <td>2014-12-31 17:59:00</td>\n",
       "      <td>1</td>\n",
       "    </tr>\n",
       "    <tr>\n",
       "      <th>174019</th>\n",
       "      <td>2014-12-31 18:01:00</td>\n",
       "      <td>1</td>\n",
       "    </tr>\n",
       "  </tbody>\n",
       "</table>\n",
       "<p>174020 rows × 2 columns</p>\n",
       "</div>"
      ],
      "text/plain": [
       "          CheckoutDateTime  Count\n",
       "0      2014-01-02 08:30:00      6\n",
       "1      2014-01-02 08:31:00      5\n",
       "2      2014-01-02 09:17:00      1\n",
       "3      2014-01-02 09:32:00      1\n",
       "4      2014-01-02 09:33:00      4\n",
       "...                    ...    ...\n",
       "174015 2014-12-31 17:56:00      7\n",
       "174016 2014-12-31 17:57:00      1\n",
       "174017 2014-12-31 17:58:00      2\n",
       "174018 2014-12-31 17:59:00      1\n",
       "174019 2014-12-31 18:01:00      1\n",
       "\n",
       "[174020 rows x 2 columns]"
      ]
     },
     "execution_count": 20,
     "metadata": {},
     "output_type": "execute_result"
    }
   ],
   "source": [
    "count_by_category"
   ]
  },
  {
   "cell_type": "code",
   "execution_count": 22,
   "id": "05e7e5d9",
   "metadata": {},
   "outputs": [],
   "source": [
    "count_by_category['DateOnly'] = count_by_category['CheckoutDateTime'].dt.date # converts date time to a new date only column.\n",
    "# Now need to amalgamate them"
   ]
  },
  {
   "cell_type": "code",
   "execution_count": 23,
   "id": "47dac83f",
   "metadata": {},
   "outputs": [
    {
     "data": {
      "text/html": [
       "<div>\n",
       "<style scoped>\n",
       "    .dataframe tbody tr th:only-of-type {\n",
       "        vertical-align: middle;\n",
       "    }\n",
       "\n",
       "    .dataframe tbody tr th {\n",
       "        vertical-align: top;\n",
       "    }\n",
       "\n",
       "    .dataframe thead th {\n",
       "        text-align: right;\n",
       "    }\n",
       "</style>\n",
       "<table border=\"1\" class=\"dataframe\">\n",
       "  <thead>\n",
       "    <tr style=\"text-align: right;\">\n",
       "      <th></th>\n",
       "      <th>CheckoutDateTime</th>\n",
       "      <th>Count</th>\n",
       "      <th>DateOnly</th>\n",
       "    </tr>\n",
       "  </thead>\n",
       "  <tbody>\n",
       "    <tr>\n",
       "      <th>0</th>\n",
       "      <td>2014-01-02 08:30:00</td>\n",
       "      <td>6</td>\n",
       "      <td>2014-01-02</td>\n",
       "    </tr>\n",
       "    <tr>\n",
       "      <th>1</th>\n",
       "      <td>2014-01-02 08:31:00</td>\n",
       "      <td>5</td>\n",
       "      <td>2014-01-02</td>\n",
       "    </tr>\n",
       "    <tr>\n",
       "      <th>2</th>\n",
       "      <td>2014-01-02 09:17:00</td>\n",
       "      <td>1</td>\n",
       "      <td>2014-01-02</td>\n",
       "    </tr>\n",
       "    <tr>\n",
       "      <th>3</th>\n",
       "      <td>2014-01-02 09:32:00</td>\n",
       "      <td>1</td>\n",
       "      <td>2014-01-02</td>\n",
       "    </tr>\n",
       "    <tr>\n",
       "      <th>4</th>\n",
       "      <td>2014-01-02 09:33:00</td>\n",
       "      <td>4</td>\n",
       "      <td>2014-01-02</td>\n",
       "    </tr>\n",
       "  </tbody>\n",
       "</table>\n",
       "</div>"
      ],
      "text/plain": [
       "     CheckoutDateTime  Count    DateOnly\n",
       "0 2014-01-02 08:30:00      6  2014-01-02\n",
       "1 2014-01-02 08:31:00      5  2014-01-02\n",
       "2 2014-01-02 09:17:00      1  2014-01-02\n",
       "3 2014-01-02 09:32:00      1  2014-01-02\n",
       "4 2014-01-02 09:33:00      4  2014-01-02"
      ]
     },
     "execution_count": 23,
     "metadata": {},
     "output_type": "execute_result"
    }
   ],
   "source": [
    "count_by_category.head(5)"
   ]
  },
  {
   "cell_type": "code",
   "execution_count": 26,
   "id": "7b1838d5",
   "metadata": {},
   "outputs": [],
   "source": [
    "count_by_cat = count_by_category.groupby('DateOnly').size().reset_index(name='Count') # I now have number of times an item was\n",
    "# withdrawn from the library per day in 2014.  I need this for all three years"
   ]
  },
  {
   "cell_type": "code",
   "execution_count": 28,
   "id": "b4f0fbfe",
   "metadata": {},
   "outputs": [
    {
     "data": {
      "text/html": [
       "<div>\n",
       "<style scoped>\n",
       "    .dataframe tbody tr th:only-of-type {\n",
       "        vertical-align: middle;\n",
       "    }\n",
       "\n",
       "    .dataframe tbody tr th {\n",
       "        vertical-align: top;\n",
       "    }\n",
       "\n",
       "    .dataframe thead th {\n",
       "        text-align: right;\n",
       "    }\n",
       "</style>\n",
       "<table border=\"1\" class=\"dataframe\">\n",
       "  <thead>\n",
       "    <tr style=\"text-align: right;\">\n",
       "      <th></th>\n",
       "      <th>DateOnly</th>\n",
       "      <th>Count</th>\n",
       "    </tr>\n",
       "  </thead>\n",
       "  <tbody>\n",
       "    <tr>\n",
       "      <th>351</th>\n",
       "      <td>2014-12-27</td>\n",
       "      <td>454</td>\n",
       "    </tr>\n",
       "    <tr>\n",
       "      <th>352</th>\n",
       "      <td>2014-12-28</td>\n",
       "      <td>275</td>\n",
       "    </tr>\n",
       "    <tr>\n",
       "      <th>353</th>\n",
       "      <td>2014-12-29</td>\n",
       "      <td>578</td>\n",
       "    </tr>\n",
       "    <tr>\n",
       "      <th>354</th>\n",
       "      <td>2014-12-30</td>\n",
       "      <td>557</td>\n",
       "    </tr>\n",
       "    <tr>\n",
       "      <th>355</th>\n",
       "      <td>2014-12-31</td>\n",
       "      <td>453</td>\n",
       "    </tr>\n",
       "  </tbody>\n",
       "</table>\n",
       "</div>"
      ],
      "text/plain": [
       "       DateOnly  Count\n",
       "351  2014-12-27    454\n",
       "352  2014-12-28    275\n",
       "353  2014-12-29    578\n",
       "354  2014-12-30    557\n",
       "355  2014-12-31    453"
      ]
     },
     "execution_count": 28,
     "metadata": {},
     "output_type": "execute_result"
    }
   ],
   "source": [
    "count_by_cat.tail(5)"
   ]
  },
  {
   "cell_type": "code",
   "execution_count": null,
   "id": "2c762aea",
   "metadata": {},
   "outputs": [],
   "source": []
  }
 ],
 "metadata": {
  "kernelspec": {
   "display_name": "Python 3 (ipykernel)",
   "language": "python",
   "name": "python3"
  },
  "language_info": {
   "codemirror_mode": {
    "name": "ipython",
    "version": 3
   },
   "file_extension": ".py",
   "mimetype": "text/x-python",
   "name": "python",
   "nbconvert_exporter": "python",
   "pygments_lexer": "ipython3",
   "version": "3.10.9"
  }
 },
 "nbformat": 4,
 "nbformat_minor": 5
}
