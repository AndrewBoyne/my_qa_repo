{
 "cells": [
  {
   "cell_type": "code",
   "execution_count": 1,
   "id": "f73c5919",
   "metadata": {},
   "outputs": [],
   "source": [
    "import pandas as pd"
   ]
  },
  {
   "cell_type": "code",
   "execution_count": 31,
   "id": "50a1345c",
   "metadata": {},
   "outputs": [],
   "source": [
    "df = pd.read_csv(\"librarycheckouts_2016.csv\")"
   ]
  },
  {
   "cell_type": "code",
   "execution_count": 32,
   "id": "5d82cb72",
   "metadata": {},
   "outputs": [
    {
     "data": {
      "text/plain": [
       "Unnamed: 0           int64\n",
       "BibNumber            int64\n",
       "ItemBarcode          int64\n",
       "ItemType            object\n",
       "Collection          object\n",
       "CallNumber          object\n",
       "CheckoutDateTime    object\n",
       "dtype: object"
      ]
     },
     "execution_count": 32,
     "metadata": {},
     "output_type": "execute_result"
    }
   ],
   "source": [
    "df.dtypes"
   ]
  },
  {
   "cell_type": "code",
   "execution_count": 33,
   "id": "a241a0e8",
   "metadata": {},
   "outputs": [],
   "source": [
    "df['CheckoutDateTime'] = pd.to_datetime(df['CheckoutDateTime'])"
   ]
  },
  {
   "cell_type": "code",
   "execution_count": 34,
   "id": "3ac51742",
   "metadata": {},
   "outputs": [],
   "source": [
    "df['DayOfTheWeek'] = df['CheckoutDateTime'].dt.strftime('%A')"
   ]
  },
  {
   "cell_type": "code",
   "execution_count": 14,
   "id": "984c118a",
   "metadata": {},
   "outputs": [
    {
     "data": {
      "text/plain": [
       "Unnamed: 0                   int64\n",
       "BibNumber                    int64\n",
       "ItemBarcode                  int64\n",
       "ItemType                    object\n",
       "Collection                  object\n",
       "CallNumber                  object\n",
       "CheckoutDateTime    datetime64[ns]\n",
       "dtype: object"
      ]
     },
     "execution_count": 14,
     "metadata": {},
     "output_type": "execute_result"
    }
   ],
   "source": [
    "#df.dtypes"
   ]
  },
  {
   "cell_type": "code",
   "execution_count": 35,
   "id": "e536d038",
   "metadata": {},
   "outputs": [
    {
     "data": {
      "text/html": [
       "<div>\n",
       "<style scoped>\n",
       "    .dataframe tbody tr th:only-of-type {\n",
       "        vertical-align: middle;\n",
       "    }\n",
       "\n",
       "    .dataframe tbody tr th {\n",
       "        vertical-align: top;\n",
       "    }\n",
       "\n",
       "    .dataframe thead th {\n",
       "        text-align: right;\n",
       "    }\n",
       "</style>\n",
       "<table border=\"1\" class=\"dataframe\">\n",
       "  <thead>\n",
       "    <tr style=\"text-align: right;\">\n",
       "      <th></th>\n",
       "      <th>Unnamed: 0</th>\n",
       "      <th>BibNumber</th>\n",
       "      <th>ItemBarcode</th>\n",
       "      <th>ItemType</th>\n",
       "      <th>Collection</th>\n",
       "      <th>CallNumber</th>\n",
       "      <th>CheckoutDateTime</th>\n",
       "      <th>DayOfTheWeek</th>\n",
       "    </tr>\n",
       "  </thead>\n",
       "  <tbody>\n",
       "    <tr>\n",
       "      <th>0</th>\n",
       "      <td>0</td>\n",
       "      <td>3167693</td>\n",
       "      <td>10087244793</td>\n",
       "      <td>acbk</td>\n",
       "      <td>canew</td>\n",
       "      <td>FIC ERENS 2016</td>\n",
       "      <td>2016-07-08 12:36:00</td>\n",
       "      <td>Friday</td>\n",
       "    </tr>\n",
       "  </tbody>\n",
       "</table>\n",
       "</div>"
      ],
      "text/plain": [
       "   Unnamed: 0  BibNumber  ItemBarcode ItemType Collection      CallNumber  \\\n",
       "0           0    3167693  10087244793     acbk      canew  FIC ERENS 2016   \n",
       "\n",
       "     CheckoutDateTime DayOfTheWeek  \n",
       "0 2016-07-08 12:36:00       Friday  "
      ]
     },
     "execution_count": 35,
     "metadata": {},
     "output_type": "execute_result"
    }
   ],
   "source": [
    "df.head(1)"
   ]
  },
  {
   "cell_type": "code",
   "execution_count": 36,
   "id": "676ae3ab",
   "metadata": {},
   "outputs": [],
   "source": [
    "df.to_csv('lib_2016_hours.csv')"
   ]
  },
  {
   "cell_type": "code",
   "execution_count": null,
   "id": "b587093b",
   "metadata": {},
   "outputs": [],
   "source": []
  }
 ],
 "metadata": {
  "kernelspec": {
   "display_name": "Python 3 (ipykernel)",
   "language": "python",
   "name": "python3"
  },
  "language_info": {
   "codemirror_mode": {
    "name": "ipython",
    "version": 3
   },
   "file_extension": ".py",
   "mimetype": "text/x-python",
   "name": "python",
   "nbconvert_exporter": "python",
   "pygments_lexer": "ipython3",
   "version": "3.10.9"
  }
 },
 "nbformat": 4,
 "nbformat_minor": 5
}
