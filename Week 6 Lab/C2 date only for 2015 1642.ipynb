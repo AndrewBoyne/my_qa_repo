{
 "cells": [
  {
   "cell_type": "code",
   "execution_count": 2,
   "id": "f576c5d9",
   "metadata": {},
   "outputs": [],
   "source": [
    "import pandas as pd"
   ]
  },
  {
   "cell_type": "code",
   "execution_count": 3,
   "id": "f562ee4e",
   "metadata": {},
   "outputs": [],
   "source": [
    "lib_2014 = pd.read_csv(\"librarycheckouts_2014.csv\")\n",
    "lib_2014.dtypes\n",
    "lib_2014['CheckoutDateTime'] = pd.to_datetime(lib_2014['CheckoutDateTime']) # convert CheckoutDateTime to date/time\n",
    "count_by_category = lib_2014.groupby('CheckoutDateTime').size().reset_index(name='Count') # counts the number of times a \n",
    "# particular entry appears in a column.  I now need to limit the data to the day, not including the time\n",
    "count_by_category['DateOnly'] = count_by_category['CheckoutDateTime'].dt.date # converts date time to a new date only column.\n",
    "# Now need to amalgamate them\n",
    "count_by_cat = count_by_category.groupby('DateOnly').size().reset_index(name='Count') # I now have number of times an item was\n",
    "# withdrawn from the library per day in 2014.  I need this for all three years\n",
    "count_by_cat.to_csv('Lib_2014_dates_only.csv')"
   ]
  },
  {
   "cell_type": "code",
   "execution_count": 4,
   "id": "85515f92",
   "metadata": {},
   "outputs": [],
   "source": [
    "lib_2015 = pd.read_csv(\"librarycheckouts_2015.csv\")"
   ]
  },
  {
   "cell_type": "code",
   "execution_count": 5,
   "id": "e4c30cfb",
   "metadata": {},
   "outputs": [
    {
     "data": {
      "text/plain": [
       "Unnamed: 0           int64\n",
       "BibNumber            int64\n",
       "ItemBarcode          int64\n",
       "ItemType            object\n",
       "Collection          object\n",
       "CallNumber          object\n",
       "CheckoutDateTime    object\n",
       "dtype: object"
      ]
     },
     "execution_count": 5,
     "metadata": {},
     "output_type": "execute_result"
    }
   ],
   "source": [
    "lib_2015.dtypes"
   ]
  },
  {
   "cell_type": "code",
   "execution_count": 6,
   "id": "f5bfa587",
   "metadata": {},
   "outputs": [],
   "source": [
    "lib_2015['CheckoutDateTime'] = pd.to_datetime(lib_2015['CheckoutDateTime'])"
   ]
  },
  {
   "cell_type": "code",
   "execution_count": 8,
   "id": "60393211",
   "metadata": {},
   "outputs": [
    {
     "data": {
      "text/html": [
       "<div>\n",
       "<style scoped>\n",
       "    .dataframe tbody tr th:only-of-type {\n",
       "        vertical-align: middle;\n",
       "    }\n",
       "\n",
       "    .dataframe tbody tr th {\n",
       "        vertical-align: top;\n",
       "    }\n",
       "\n",
       "    .dataframe thead th {\n",
       "        text-align: right;\n",
       "    }\n",
       "</style>\n",
       "<table border=\"1\" class=\"dataframe\">\n",
       "  <thead>\n",
       "    <tr style=\"text-align: right;\">\n",
       "      <th></th>\n",
       "      <th>Unnamed: 0</th>\n",
       "      <th>BibNumber</th>\n",
       "      <th>ItemBarcode</th>\n",
       "      <th>ItemType</th>\n",
       "      <th>Collection</th>\n",
       "      <th>CallNumber</th>\n",
       "      <th>CheckoutDateTime</th>\n",
       "    </tr>\n",
       "  </thead>\n",
       "  <tbody>\n",
       "    <tr>\n",
       "      <th>0</th>\n",
       "      <td>0</td>\n",
       "      <td>2968652</td>\n",
       "      <td>10081451584</td>\n",
       "      <td>acbk</td>\n",
       "      <td>namys</td>\n",
       "      <td>MYSTERY LEON 2014</td>\n",
       "      <td>2015-11-04 14:18:00</td>\n",
       "    </tr>\n",
       "  </tbody>\n",
       "</table>\n",
       "</div>"
      ],
      "text/plain": [
       "   Unnamed: 0  BibNumber  ItemBarcode ItemType Collection         CallNumber  \\\n",
       "0           0    2968652  10081451584     acbk      namys  MYSTERY LEON 2014   \n",
       "\n",
       "     CheckoutDateTime  \n",
       "0 2015-11-04 14:18:00  "
      ]
     },
     "execution_count": 8,
     "metadata": {},
     "output_type": "execute_result"
    }
   ],
   "source": [
    "lib_2015.head(1)"
   ]
  },
  {
   "cell_type": "code",
   "execution_count": 9,
   "id": "17fb26c4",
   "metadata": {},
   "outputs": [
    {
     "data": {
      "text/html": [
       "<div>\n",
       "<style scoped>\n",
       "    .dataframe tbody tr th:only-of-type {\n",
       "        vertical-align: middle;\n",
       "    }\n",
       "\n",
       "    .dataframe tbody tr th {\n",
       "        vertical-align: top;\n",
       "    }\n",
       "\n",
       "    .dataframe thead th {\n",
       "        text-align: right;\n",
       "    }\n",
       "</style>\n",
       "<table border=\"1\" class=\"dataframe\">\n",
       "  <thead>\n",
       "    <tr style=\"text-align: right;\">\n",
       "      <th></th>\n",
       "      <th>CheckoutDateTime</th>\n",
       "      <th>Count</th>\n",
       "    </tr>\n",
       "  </thead>\n",
       "  <tbody>\n",
       "    <tr>\n",
       "      <th>0</th>\n",
       "      <td>2015-01-02 09:17:00</td>\n",
       "      <td>1</td>\n",
       "    </tr>\n",
       "    <tr>\n",
       "      <th>1</th>\n",
       "      <td>2015-01-02 09:18:00</td>\n",
       "      <td>1</td>\n",
       "    </tr>\n",
       "    <tr>\n",
       "      <th>2</th>\n",
       "      <td>2015-01-02 09:19:00</td>\n",
       "      <td>1</td>\n",
       "    </tr>\n",
       "    <tr>\n",
       "      <th>3</th>\n",
       "      <td>2015-01-02 09:25:00</td>\n",
       "      <td>4</td>\n",
       "    </tr>\n",
       "    <tr>\n",
       "      <th>4</th>\n",
       "      <td>2015-01-02 09:28:00</td>\n",
       "      <td>2</td>\n",
       "    </tr>\n",
       "    <tr>\n",
       "      <th>...</th>\n",
       "      <td>...</td>\n",
       "      <td>...</td>\n",
       "    </tr>\n",
       "    <tr>\n",
       "      <th>169836</th>\n",
       "      <td>2015-12-31 17:54:00</td>\n",
       "      <td>5</td>\n",
       "    </tr>\n",
       "    <tr>\n",
       "      <th>169837</th>\n",
       "      <td>2015-12-31 17:55:00</td>\n",
       "      <td>2</td>\n",
       "    </tr>\n",
       "    <tr>\n",
       "      <th>169838</th>\n",
       "      <td>2015-12-31 17:57:00</td>\n",
       "      <td>2</td>\n",
       "    </tr>\n",
       "    <tr>\n",
       "      <th>169839</th>\n",
       "      <td>2015-12-31 17:58:00</td>\n",
       "      <td>1</td>\n",
       "    </tr>\n",
       "    <tr>\n",
       "      <th>169840</th>\n",
       "      <td>2015-12-31 17:59:00</td>\n",
       "      <td>1</td>\n",
       "    </tr>\n",
       "  </tbody>\n",
       "</table>\n",
       "<p>169841 rows × 2 columns</p>\n",
       "</div>"
      ],
      "text/plain": [
       "          CheckoutDateTime  Count\n",
       "0      2015-01-02 09:17:00      1\n",
       "1      2015-01-02 09:18:00      1\n",
       "2      2015-01-02 09:19:00      1\n",
       "3      2015-01-02 09:25:00      4\n",
       "4      2015-01-02 09:28:00      2\n",
       "...                    ...    ...\n",
       "169836 2015-12-31 17:54:00      5\n",
       "169837 2015-12-31 17:55:00      2\n",
       "169838 2015-12-31 17:57:00      2\n",
       "169839 2015-12-31 17:58:00      1\n",
       "169840 2015-12-31 17:59:00      1\n",
       "\n",
       "[169841 rows x 2 columns]"
      ]
     },
     "execution_count": 9,
     "metadata": {},
     "output_type": "execute_result"
    }
   ],
   "source": [
    "lib_2015.groupby('CheckoutDateTime').size().reset_index(name='Count')"
   ]
  },
  {
   "cell_type": "code",
   "execution_count": 12,
   "id": "8a9ad3d5",
   "metadata": {},
   "outputs": [],
   "source": [
    "count_by_category = lib_2015.groupby('CheckoutDateTime').size().reset_index(name='Count')"
   ]
  },
  {
   "cell_type": "code",
   "execution_count": 13,
   "id": "8d921b87",
   "metadata": {},
   "outputs": [],
   "source": [
    "count_by_category['DateOnly'] = count_by_category['CheckoutDateTime'].dt.date"
   ]
  },
  {
   "cell_type": "code",
   "execution_count": 14,
   "id": "e8a20352",
   "metadata": {},
   "outputs": [],
   "source": [
    "count_by_cat = count_by_category.groupby('DateOnly').size().reset_index(name='Count')"
   ]
  },
  {
   "cell_type": "code",
   "execution_count": 15,
   "id": "94e11350",
   "metadata": {},
   "outputs": [
    {
     "data": {
      "text/html": [
       "<div>\n",
       "<style scoped>\n",
       "    .dataframe tbody tr th:only-of-type {\n",
       "        vertical-align: middle;\n",
       "    }\n",
       "\n",
       "    .dataframe tbody tr th {\n",
       "        vertical-align: top;\n",
       "    }\n",
       "\n",
       "    .dataframe thead th {\n",
       "        text-align: right;\n",
       "    }\n",
       "</style>\n",
       "<table border=\"1\" class=\"dataframe\">\n",
       "  <thead>\n",
       "    <tr style=\"text-align: right;\">\n",
       "      <th></th>\n",
       "      <th>DateOnly</th>\n",
       "      <th>Count</th>\n",
       "    </tr>\n",
       "  </thead>\n",
       "  <tbody>\n",
       "    <tr>\n",
       "      <th>0</th>\n",
       "      <td>2015-01-02</td>\n",
       "      <td>474</td>\n",
       "    </tr>\n",
       "    <tr>\n",
       "      <th>1</th>\n",
       "      <td>2015-01-03</td>\n",
       "      <td>470</td>\n",
       "    </tr>\n",
       "    <tr>\n",
       "      <th>2</th>\n",
       "      <td>2015-01-04</td>\n",
       "      <td>288</td>\n",
       "    </tr>\n",
       "    <tr>\n",
       "      <th>3</th>\n",
       "      <td>2015-01-05</td>\n",
       "      <td>564</td>\n",
       "    </tr>\n",
       "    <tr>\n",
       "      <th>4</th>\n",
       "      <td>2015-01-06</td>\n",
       "      <td>557</td>\n",
       "    </tr>\n",
       "    <tr>\n",
       "      <th>...</th>\n",
       "      <td>...</td>\n",
       "      <td>...</td>\n",
       "    </tr>\n",
       "    <tr>\n",
       "      <th>346</th>\n",
       "      <td>2015-12-27</td>\n",
       "      <td>258</td>\n",
       "    </tr>\n",
       "    <tr>\n",
       "      <th>347</th>\n",
       "      <td>2015-12-28</td>\n",
       "      <td>551</td>\n",
       "    </tr>\n",
       "    <tr>\n",
       "      <th>348</th>\n",
       "      <td>2015-12-29</td>\n",
       "      <td>541</td>\n",
       "    </tr>\n",
       "    <tr>\n",
       "      <th>349</th>\n",
       "      <td>2015-12-30</td>\n",
       "      <td>555</td>\n",
       "    </tr>\n",
       "    <tr>\n",
       "      <th>350</th>\n",
       "      <td>2015-12-31</td>\n",
       "      <td>450</td>\n",
       "    </tr>\n",
       "  </tbody>\n",
       "</table>\n",
       "<p>351 rows × 2 columns</p>\n",
       "</div>"
      ],
      "text/plain": [
       "       DateOnly  Count\n",
       "0    2015-01-02    474\n",
       "1    2015-01-03    470\n",
       "2    2015-01-04    288\n",
       "3    2015-01-05    564\n",
       "4    2015-01-06    557\n",
       "..          ...    ...\n",
       "346  2015-12-27    258\n",
       "347  2015-12-28    551\n",
       "348  2015-12-29    541\n",
       "349  2015-12-30    555\n",
       "350  2015-12-31    450\n",
       "\n",
       "[351 rows x 2 columns]"
      ]
     },
     "execution_count": 15,
     "metadata": {},
     "output_type": "execute_result"
    }
   ],
   "source": [
    "count_by_cat"
   ]
  },
  {
   "cell_type": "code",
   "execution_count": 16,
   "id": "4b6351e4",
   "metadata": {},
   "outputs": [],
   "source": [
    "count_by_cat.to_csv('Lib_2015_dates_only.csv')"
   ]
  },
  {
   "cell_type": "code",
   "execution_count": null,
   "id": "0efdc270",
   "metadata": {},
   "outputs": [],
   "source": []
  }
 ],
 "metadata": {
  "kernelspec": {
   "display_name": "Python 3 (ipykernel)",
   "language": "python",
   "name": "python3"
  },
  "language_info": {
   "codemirror_mode": {
    "name": "ipython",
    "version": 3
   },
   "file_extension": ".py",
   "mimetype": "text/x-python",
   "name": "python",
   "nbconvert_exporter": "python",
   "pygments_lexer": "ipython3",
   "version": "3.10.9"
  }
 },
 "nbformat": 4,
 "nbformat_minor": 5
}
