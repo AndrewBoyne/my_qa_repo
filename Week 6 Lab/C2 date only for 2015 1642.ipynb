{
 "cells": [
  {
   "cell_type": "code",
   "execution_count": 2,
   "id": "7500271c",
   "metadata": {},
   "outputs": [],
   "source": [
    "import pandas as pd"
   ]
  },
  {
   "cell_type": "code",
   "execution_count": 3,
   "id": "9c611b87",
   "metadata": {},
   "outputs": [],
   "source": [
    "#lib_2014 = pd.read_csv(\"librarycheckouts_2014.csv\")\n",
    "#lib_2014.dtypes\n",
    "#lib_2014['CheckoutDateTime'] = pd.to_datetime(lib_2014['CheckoutDateTime']) # convert CheckoutDateTime to date/time\n",
    "#count_by_category = lib_2014.groupby('CheckoutDateTime').size().reset_index(name='Count') # counts the number of times a \n",
    "# particular entry appears in a column.  I now need to limit the data to the day, not including the time\n",
    "#count_by_category['DateOnly'] = count_by_category['CheckoutDateTime'].dt.date # converts date time to a new date only column.\n",
    "# Now need to amalgamate them\n",
    "#count_by_cat = count_by_category.groupby('DateOnly').size().reset_index(name='Count') # I now have number of times an item was\n",
    "# withdrawn from the library per day in 2014.  I need this for all three years\n",
    "#count_by_cat.to_csv('Lib_2014_dates_only.csv')"
   ]
  },
  {
   "cell_type": "code",
   "execution_count": 4,
   "id": "42db4049",
   "metadata": {},
   "outputs": [],
   "source": [
    "lib_2015 = pd.read_csv(\"librarycheckouts_2015.csv\")"
   ]
  },
  {
   "cell_type": "code",
   "execution_count": 5,
   "id": "5d2b8609",
   "metadata": {},
   "outputs": [
    {
     "data": {
      "text/plain": [
       "Unnamed: 0           int64\n",
       "BibNumber            int64\n",
       "ItemBarcode          int64\n",
       "ItemType            object\n",
       "Collection          object\n",
       "CallNumber          object\n",
       "CheckoutDateTime    object\n",
       "dtype: object"
      ]
     },
     "execution_count": 5,
     "metadata": {},
     "output_type": "execute_result"
    }
   ],
   "source": [
    "lib_2015.dtypes"
   ]
  },
  {
   "cell_type": "code",
   "execution_count": null,
   "id": "ab99cbf2",
   "metadata": {},
   "outputs": [],
   "source": []
  }
 ],
 "metadata": {
  "kernelspec": {
   "display_name": "Python 3 (ipykernel)",
   "language": "python",
   "name": "python3"
  },
  "language_info": {
   "codemirror_mode": {
    "name": "ipython",
    "version": 3
   },
   "file_extension": ".py",
   "mimetype": "text/x-python",
   "name": "python",
   "nbconvert_exporter": "python",
   "pygments_lexer": "ipython3",
   "version": "3.10.9"
  }
 },
 "nbformat": 4,
 "nbformat_minor": 5
}
